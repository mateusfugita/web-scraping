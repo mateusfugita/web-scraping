{
 "cells": [
  {
   "cell_type": "markdown",
   "metadata": {},
   "source": [
    "# <font color=green>1. MEU PRIMEIRO SCRAPING"
   ]
  },
  {
   "cell_type": "markdown",
   "metadata": {},
   "source": [
    "# 1.1. Introdução"
   ]
  },
  {
   "cell_type": "markdown",
   "metadata": {},
   "source": [
    "## *Web Scraping* é o termo utilizado para definir a prática de coletar automaticamente informações na Internet. Isto é feito, geralmente, por meio de programas que simulam a navegação humana na Web."
   ]
  },
  {
   "cell_type": "markdown",
   "metadata": {},
   "source": [
    "# 1.2. Ambiente e bibliotecas\n",
    "### Utilizaremos em nosso treinamento o navegador Google Chrome"
   ]
  },
  {
   "cell_type": "code",
   "execution_count": 1,
   "metadata": {
    "colab": {},
    "colab_type": "code",
    "id": "e9pXIMIWByAp"
   },
   "outputs": [
    {
     "output_type": "stream",
     "name": "stdout",
     "text": [
      "BeautifulSoup -> 4.9.3\nurllib -> 3.8\npandas -> 1.2.2\n"
     ]
    }
   ],
   "source": [
    "import pandas\n",
    "import bs4\n",
    "import urllib.request as urllib_request\n",
    "\n",
    "print(\"BeautifulSoup ->\", bs4.__version__)\n",
    "print(\"urllib ->\", urllib_request.__version__)\n",
    "print(\"pandas ->\", pandas.__version__)"
   ]
  },
  {
   "cell_type": "markdown",
   "metadata": {},
   "source": [
    "# 1.3. Meu primeiro scraping"
   ]
  },
  {
   "cell_type": "code",
   "execution_count": 2,
   "metadata": {
    "tags": [
     "outputPrepend"
    ]
   },
   "outputs": [
    {
     "output_type": "stream",
     "name": "stdout",
     "text": [
      "                                             <span class=\"collapse__icon\" style=\"\"></span>\n</div>\n<div class=\"collapse__info collapse-ouvidoria\">\n<p>Demandas não solucionadas nos demais Canais de Atendimento:  <strong> 0800 727 9933</strong></p>\n<span class=\"small-info\"></span>\n</div>\n</li>\n</ul>\n<a class=\"lnk lnk--pink-light js-tracking\" data-action=\"fale_conosco\" data-category=\"home\" data-event=\"interacao\" data-label=\"interacao-\" href=\"/SiteBradescard/makro\">consulte a página do parceiro Makro\n                                                        </a>\n<address>\n<strong>Banco Bradescard S.A.</strong>\n<p>Alameda Rio Negro, 585 – Edifício Bradesco – 15º andar - Alphaville – Barueri – SP – CEP 06454-000 - CNPJ 04.184.779/0001-01</p>\n</address>\n</div>\n</div>\n</div>\n</li>\n<li class=\"list-partners-contact-info__item itm-mateuscard\">\n<div class=\"contact-info\">\n<div>\n<a class=\"close-contact js-close-contact\" href=\"\">fechar</a>\n<div class=\"contact-info__brand\">\n<h5>Mateuscard</h5>\n</div>\n<div class=\"contact-info__phones itm- active\">\n<h6>Para consultas, informações e serviços transacionais:</h6>\n<span>De domingo a domingo das 08h às 22h, exceto feriados. Atendimento 24 horas por dia, 7 dias por semana para os casos de Perda e Roubo e Alerta de Fraude.</span>\n<ul class=\"cip-phone\">\n<li><strong>4004 7332</strong>Capitais</li>\n<li><strong>0800 701 7332</strong>Demais regiões</li>\n</ul>\n<ul class=\"collapse\">\n<li class=\"collapse__item\">\n<div class=\"collapse__title js-tracking js-accordion\" data-component=\"accordion\" data-show=\"collapse-sac\" style=\"\">\n                                                                    Sac\n                                                                    <span class=\"collapse__icon\" style=\"\"></span>\n</div>\n<div class=\"collapse__info collapse-sac\">\n<p>Reclamações, cancelamentos e informações gerais:\n                                                                            <strong> 0800 730 5030</strong>\n</p>\n<p>Deficiência auditiva ou de fala:\n                                                                            <strong> 0800 722 0099 </strong>\n</p>\n<span class=\"small-info\">Atendimento 24 horas, 7 dias por semana.</span>\n</div>\n</li>\n<li class=\"collapse__item\">\n<div class=\"collapse__title js-tracking js-accordion\" data-component=\"accordion\" data-show=\"collapse-ouvidoria\" style=\"\">\n                                                                        Ouvidoria\n                                                                        <span class=\"collapse__icon\" style=\"\"></span>\n</div>\n<div class=\"collapse__info collapse-ouvidoria\">\n<p>Demandas não solucionadas nos demais Canais de Atendimento:  <strong> 0800 727 9933</strong></p>\n<span class=\"small-info\"></span>\n</div>\n</li>\n</ul>\n<a class=\"lnk lnk--pink-light js-tracking\" data-action=\"fale_conosco\" data-category=\"home\" data-event=\"interacao\" data-label=\"interacao-\" href=\"/SiteBradescard/mateuscard\">consulte a página do parceiro Mateuscard\n                                                        </a>\n<address>\n<strong>Banco Bradescard S.A.</strong>\n<p>Alameda Rio Negro, 585 – Edifício Bradesco – 15º andar - Alphaville – Barueri – SP – CEP 06454-000 - CNPJ 04.184.779/0001-01</p>\n</address>\n</div>\n</div>\n</div>\n</li>\n<li class=\"list-partners-contact-info__item itm-sodimac\">\n<div class=\"contact-info\">\n<div>\n<a class=\"close-contact js-close-contact\" href=\"\">fechar</a>\n<div class=\"contact-info__brand\">\n<h5>Sodimac</h5>\n</div>\n<div class=\"contact-info__phones itm- active\">\n<h6>Para consultas, informações e serviços transacionais:</h6>\n<span>De segunda a sábado das 08h às 22h, exceto feriados. Atendimento 24 horas por dia, 7 dias por semana para os casos de Perda e Roubo e Alerta de Fraude.</span>\n<ul class=\"cip-phone\">\n<li><strong>4004 7332</strong>Capitais</li>\n<li><strong>0800 701 7332</strong>Demais regiões</li>\n</ul>\n<ul class=\"collapse\">\n<li class=\"collapse__item\">\n<div class=\"collapse__title js-tracking js-accordion\" data-component=\"accordion\" data-show=\"collapse-sac\" style=\"\">\n                                                                    Sac\n                                                                    <span class=\"collapse__icon\" style=\"\"></span>\n</div>\n<div class=\"collapse__info collapse-sac\">\n<p>Reclamações, cancelamentos e informações gerais:\n                                                                            <strong> 0800 730 5030</strong>\n</p>\n<p>Deficiência auditiva ou de fala:\n                                                                            <strong> 0800 722 0099 </strong>\n</p>\n<span class=\"small-info\">Atendimento 24 horas, 7 dias por semana.</span>\n</div>\n</li>\n<li class=\"collapse__item\">\n<div class=\"collapse__title js-tracking js-accordion\" data-component=\"accordion\" data-show=\"collapse-ouvidoria\" style=\"\">\n                                                                        Ouvidoria\n                                                                        <span class=\"collapse__icon\" style=\"\"></span>\n</div>\n<div class=\"collapse__info collapse-ouvidoria\">\n<p>Demandas não solucionadas nos demais Canais de Atendimento:  <strong> 0800 727 9933</strong></p>\n<span class=\"small-info\"></span>\n</div>\n</li>\n</ul>\n<a class=\"lnk lnk--pink-light js-tracking\" data-action=\"fale_conosco\" data-category=\"home\" data-event=\"interacao\" data-label=\"interacao-\" href=\"/SiteBradescard/sodimac\">consulte a página do parceiro Sodimac\n                                                        </a>\n<address>\n<strong>Banco Bradescard S.A.</strong>\n<p>Alameda Rio Negro, 585 – Edifício Bradesco – 15º andar - Alphaville – Barueri – SP – CEP 06454-000 - CNPJ 04.184.779/0001-01</p>\n</address>\n</div>\n</div>\n</div>\n</li>\n</ul>\n</div>\n</section>\n<p class=\"leg\">\n<strong>Não encontrou o que você procurava?</strong>\n<span>\n<a class=\"js-tracking\" data-action=\"nossos_cartoes\" data-category=\"geral\" data-event=\"interacao\" data-label=\"clique-parcerias_encerradas\" href=\"/SiteBradescard/parceriasdescontinuadas\" title=\"Parcerias encerradas\">\n                            Confira os cartões das parcerias encerradas aqui\n                        </a>.\n                    </span>\n</p>\n</div>\n</section>\n</div><div>\n<section class=\"access\" data-component=\"access\">\n<div class=\"container-tp1\">\n<h2 class=\"access__title\">Acesse seu cartão de onde estiver</h2>\n<p class=\"access__description\">Pelo Internet Banking ou pelo App Bradesco Cartões e Bradescard, você gerencia e acompanha seus gastos, acessa sua fatura, consulta seu limite e visualiza o código de barra para\npagamento do seu cartão com muito mais comodidade.</p>\n<a class=\"btns btns--pink js-tracking\" data-action=\"acesse_sua_fatura\" data-category=\"geral\" data-component=\"modal\" data-event=\"interacao\" data-label=\"clique-acesso_fatura_online\" data-target=\"open-modal\" href=\"#accesscard\" title=\"Acesse seu cartão\">\n<span class=\"btns__wrapper-text\">Acesse seu cartão</span>\n<img alt=\"Cadeado\" class=\"btns__icon\" src=\"/Bradescard/static_files/assets/img/access/lock.svg?v=MTU1OTMzOTg2NTA3NA\"/>\n</a>\n</div>\n<picture class=\"access__image\">\n<source media=\"(min-width: 801px)\" srcset=\"/Bradescard/static_files/assets/img/access/img-smartphone2-md_op02.png\" type=\"image/webp\"/>\n<source media=\"(min-width: 801px)\" srcset=\"/Bradescard/static_files/assets/img/access/img-smartphone2-md_op02.png\" type=\"image/png\"/>\n<source media=\"(min-width: 480px)\" srcset=\"/Bradescard/static_files/assets/img/access/img-smartphone2-sd_op02.png\" type=\"image/webp\"/>\n<source media=\"(min-width: 480px)\" srcset=\"/Bradescard/static_files/assets/img/access/img-smartphone2-sd_op02.png\" type=\"image/png\"/>\n<source media=\"(min-width: 201px)\" srcset=\"/Bradescard/static_files/assets/img/access/img-smartphone2-xsd_op02.png\" type=\"image/webp\"/>\n<source media=\"(min-width: 201px)\" srcset=\"/Bradescard/static_files/assets/img/access/img-smartphone2-xsd_op02.png\" type=\"image/png\"/>\n<img alt=\"Acesse seu cartão de onde estiver\" src=\"/Bradescard/static_files/assets/img/access/img-smartphone2-md_op02.png\"/>\n</picture>\n</section>\n</div></div>\n<div class=\"modal access-card\" id=\"accesscard\">\n<div class=\"overlay\"></div>\n<div class=\"wrapper-modal\">\n<div class=\"header-modal\">\n<h5>Acesse seu cartão</h5>\n</div>\n<div class=\"content-modal\">\n<a class=\"close-modal\" href=\"#\">fechar <span></span></a>\n<div class=\"access-content correntista\">\n<h7 class=\"access-content_title correntista-title\">Com a sua conta Bradesco</h7>\n<form action=\"https://www.ib12.bradesco.com.br/ibpfnovologin/identificacao.jsf\" class=\"form-correntista\" id=\"Form60\" method=\"post\" onkeydown=\"Verificar(event)\" onsubmit=\"return ValidaLogin('Form60');\">\n<div class=\"field\">\n<label for=\"AGN\">Agência</label>\n<input autocomplete=\"off\" class=\"jump-field input-agencia\" id=\"AGN\" maxlength=\"4\" name=\"AGN\" onblur=\"ValidaNextAgencia(this.value);\" onkeypress=\"return Apenas_Numeros(event, this.name);\" onkeyup=\"checa_agencia(this.name)\" placeholder=\"0000\" size=\"4\" tabindex=\"1\" type=\"text\"/>\n</div>\n<div class=\"field\">\n<label for=\"CTA\">Conta</label>\n<input autocomplete=\"off\" class=\"jump-field input-conta\" id=\"CTA\" maxlength=\"7\" name=\"CTA\" onkeypress=\"return Apenas_Numeros(event, this.name);\" onkeyup=\"checa_agencia(this.name);\" placeholder=\"0000000\" tabindex=\"2\" type=\"text\"/>\n<input autocomplete=\"off\" class=\"jump-field input-digito\" id=\"DIGCTA\" maxlength=\"1\" name=\"DIGCTA\" onkeypress=\"return Apenas_Numeros(event, this.name);\" placeholder=\"0\" size=\"1\" tabindex=\"3\" type=\"text\"/>\n</div>\n<div class=\"field\">\n<input class=\"btn-acesso\" id=\"\" onclick=\"Gravabra_iscli();\" tabindex=\"4\" title=\"Entrar\" type=\"submit\" value=\"OK\"/>\n<input name=\"EXTRAPARAMS\" type=\"hidden\" value=\"\"/>\n<input name=\"ORIGEM\" type=\"hidden\" value=\"101\"/>\n</div>\n</form>\n</div>\n<div class=\"access-content\">\n<h7 class=\"access-content_title title-ou ou\">OU</h7>\n</div>\n<div class=\"access-content naocorrentista\">\n<h7 class=\"access-content_title\">Com o seu CPF</h7>\n<p>Somente para não correntistas</p>\n<form action=\"https://www.ib12.bradesco.com.br/ibpfnaocorrentistalogin/identificacao.jsf\" autocomplete=\"off\" class=\"form-naocorrentista\" id=\"FormNaoCorrentistaModal\" method=\"post\" name=\"FormNaoCorrentistaModal\" onsubmit=\"return ValidaFormNaoCorrentista(this);\">\n<div class=\"field\">\n<label for=\"CPF\">CPF:</label>\n<input id=\"CPF\" maxlength=\"14\" name=\"CPF\" onblur=\"textInitialCPF(this, true);\" onfocus=\"textInitialCPF(this, false);\" onkeydown=\"formataCPF(this,event);\" placeholder=\"000.000.000-00\" size=\"16\" type=\"text\"/>\n<input class=\"btn-acesso\" id=\"\" type=\"submit\" value=\"OK\"/>\n</div>\n<input name=\"IDENT\" type=\"hidden\" value=\"\"/>\n<input name=\"ORIGEM\" type=\"hidden\" value=\"64\"/>\n</form>\n</div>\n<div class=\"access-content mobile\">\n<h7 class=\"access-content_title\">\n                    Faça essa transação pelo Aplicativo Bradesco Cartões e Bradescard. Se não tem o app instalado, baixe\n                    agora!\n                </h7>\n<a class=\"btn-baixarapp-access\">Baixar App</a>\n</div>\n</div>\n</div>\n</div>\n</div></main>\n<!-- End Conteudo --><!-- Begin Loader --><!-- End Loader --><!-- Begin Footer -->\n<footer class=\"footer\">\n<div class=\"wrapper-footer\">\n<div class=\"container-tp1\">\n<h1 class=\"logo\">\n<a href=\"/SiteBradescard\" target=\"\" title=\"Bradescard\">\n<img alt=\"Logotipo Bradescard\" src=\"/Bradescard/static_files/assets/img/template/logo-footer.svg\"/>\n</a>\n</h1>\n﻿\n\t<div class=\"columns\">\n<h6>Informações</h6>\n<nav>\n<ul>\n<li>\n<a class=\"js-tracking lnk-external\" data-action=\"menu_inferior\" data-category=\"geral\" data-event=\"interacao\" data-label=\"clique-informações-correspondentes_bancarios\" href=\"/Bradescard/static_files/assets/pdf/Site Bradescard 08 2020.pdf\" target=\"_blank\" title=\"Correspondentes Bancários\">\n\t\t\t\t\t\t\t\t\tCorrespondentes Bancários\n\t\t\t\t\t\t\t\t</a>\n</li>\n<li>\n<a class=\"js-tracking lnk-external\" data-action=\"menu_inferior\" data-category=\"geral\" data-event=\"interacao\" data-label=\"clique-informações-duvidas_frequentes\" href=\"/SiteBradescard/duvidas\" target=\"_blank\" title=\"Dúvidas Frequentes\">\n\t\t\t\t\t\t\t\t\tDúvidas Frequentes\n\t\t\t\t\t\t\t\t</a>\n</li>\n<li>\n<a class=\"js-tracking lnk-external\" data-action=\"menu_inferior\" data-category=\"geral\" data-event=\"interacao\" data-label=\"clique-informações-tarifas\" href=\"/Bradescard/static_files/assets/pdf/laminas_juros_geral.pdf\" target=\"_blank\" title=\"Tarifas\">\n\t\t\t\t\t\t\t\t\tTarifas\n\t\t\t\t\t\t\t\t</a>\n</li>\n<li>\n<a class=\"js-tracking\" data-action=\"menu_inferior\" data-category=\"geral\" data-event=\"interacao\" data-label=\"clique-informações-produtos_financeiros_descontinuados\" href=\"/SiteBradescard/produtosfinanceirosdescontinuados\" target=\"\" title=\"Produtos Financeiros Descontinuados\">\n\t\t\t\t\t\t\t\t\tProdutos Financeiros Descontinuados\n\t\t\t\t\t\t\t\t</a>\n</li>\n<li>\n<a class=\"js-tracking\" data-action=\"menu_inferior\" data-category=\"geral\" data-event=\"interacao\" data-label=\"clique-informações-seguros_assistencias_e_planos_nao_comercializados_mais\" href=\"/SiteBradescard/segurosdescontinuados\" target=\"\" title=\"Seguros, Assistências e Planos não comercializados mais\">\n\t\t\t\t\t\t\t\t\tSeguros, Assistências e Planos não comercializados mais\n\t\t\t\t\t\t\t\t</a>\n</li>\n</ul>\n</nav>\n</div>\n﻿\n\t<div class=\"columns\">\n<h6>Links Úteis</h6>\n<nav>\n<ul>\n<li>\n<a class=\"js-tracking lnk-external\" data-action=\"menu_inferior\" data-category=\"geral\" data-event=\"interacao\" data-label=\"clique-informações-consumidorgov\" href=\"https://www.consumidor.gov.br/pages/principal/?1500320059997\" target=\"_blank\" title=\"Consumidor.gov\">\n\t\t\t\t\t\t\t\t\tConsumidor.gov\n\t\t\t\t\t\t\t\t</a>\n</li>\n<li>\n<a class=\"js-tracking lnk-external\" data-action=\"menu_inferior\" data-category=\"geral\" data-event=\"interacao\" data-label=\"clique-informações-termos_de_uso_e_privacidade\" href=\"https://www.bradescoseguranca.com.br/html/seguranca_corporativa/pf/seguranca-informacao/privacidade.shtm\" target=\"_blank\" title=\"Termos de uso e privacidade\">\n\t\t\t\t\t\t\t\t\tTermos de uso e privacidade\n\t\t\t\t\t\t\t\t</a>\n</li>\n<li>\n<a class=\"js-tracking lnk-external\" data-action=\"menu_inferior\" data-category=\"geral\" data-event=\"interacao\" data-label=\"clique-informações-portal_do_consumidor_-_procon_da_paraiba\" href=\"http://www.procon.pb.gov.br\" id=\"link-procon-paraiba\" target=\"_blank\" title=\"Portal do Consumidor - PROCON da Paraíba\">\n\t\t\t\t\t\t \t\t\tPortal do Consumidor - PROCON da Paraíba\n\t\t\t\t\t\t \t\t</a>\n</li>\n<li>\n<a class=\"js-tracking lnk-external\" data-action=\"menu_inferior\" data-category=\"geral\" data-event=\"interacao\" data-label=\"clique-informações-portal_do_consumidor_-_procons\" href=\"http://www.procon.pr.gov.br/modules/conteudo/conteudo.php?conteudo=114\" target=\"_blank\" title=\"Portal do Consumidor - PROCONs\">\n\t\t\t\t\t\t\t\t\tPortal do Consumidor - PROCONs\n\t\t\t\t\t\t\t\t</a>\n</li>\n<li>\n<a class=\"js-tracking lnk-external\" data-action=\"menu_inferior\" data-category=\"geral\" data-event=\"interacao\" data-label=\"clique-informações-consulta_de_taxa_de_cambio\" href=\"https://banco.bradesco/html/classic/produtos-servicos/cartoes/cotacao-moeda/index.shtm\" target=\"_blank\" title=\"Consulta de Taxa de Câmbio\">\n\t\t\t\t\t\t\t\t\tConsulta de Taxa de Câmbio\n\t\t\t\t\t\t\t\t</a>\n</li>\n<li>\n<a class=\"js-tracking lnk-external\" data-action=\"menu_inferior\" data-category=\"geral\" data-event=\"interacao\" data-label=\"clique-informações-diretivas_de_privacidade\" href=\"https://www.bradescoseguranca.com.br/html/seguranca_corporativa/pf/seguranca-informacao/privacidade.shtm\" target=\"_blank\" title=\"Diretivas de Privacidade\">\n\t\t\t\t\t\t\t\t\tDiretivas de Privacidade\n\t\t\t\t\t\t\t\t</a>\n</li>\n<li>\n<a class=\"js-tracking lnk-external\" data-action=\"menu_inferior\" data-category=\"geral\" data-event=\"interacao\" data-label=\"clique-informações-lei_geral_de_proteçao_de_dados_\" href=\"https://www.bradescoseguranca.com.br/html/seguranca_corporativa/pf/lei-geral/index.shtm\" target=\"_blank\" title=\"Lei Geral de Proteção de Dados \">\n\t\t\t\t\t\t\t\t\tLei Geral de Proteção de Dados \n\t\t\t\t\t\t\t\t</a>\n</li>\n<li>\n<a class=\"js-tracking lnk-external\" data-action=\"menu_inferior\" data-category=\"geral\" data-event=\"interacao\" data-label=\"clique-informações-open_banking\" href=\"https://banco.bradesco/openbanking\" target=\"_blank\" title=\"Open Banking\">\n\t\t\t\t\t\t\t\t\tOpen Banking\n\t\t\t\t\t\t\t\t</a>\n</li>\n</ul>\n</nav>\n</div>\n</div>\n</div>\n<div class=\"box-sac-footer container-tp1\">\n<p>\n<strong>Banco Bradescard S.A.:</strong> Alameda Rio Negro, 585 - Edifício Bradesco\n\t- 15º andar - Alphaville - Barueri-SP - CEP: 06454-000 - CNPJ:\n\t 04.184.779/0001-01\n</p>\n</div>\n</footer>\n<script>\ndataLayer.push({\n    event:\"interacao\",\n    evCategory:\"home\",\n    evAction:\"aviso_cookies\",\n    evLabel:\"botao_fechar\"\n});\ndataLayer.push({\n    event:\"interacao\",\n    evCategory:\"home\",\n    evAction:\"aviso_cookies\",\n    evLabel:\"botao_aceitar\"\n});\ndataLayer.push({\n    event:\"interacao\",\n    evCategory:\"home\",\n    evAction:\"aviso_cookies\",\n    evLabel:\"botao_diretiva_de_privacidade\"\n});\n</script>\n<div class=\"cookies js-cookie\" id=\"cookies\">\n<div class=\"cookies__content\">\n<div class=\"cookies__description\">\n<p>Para nos adaptarmos a seus gostos e preferências e melhorarmos nossos serviços, analisamos seus\n                hábitos de navegação neste site por meio de cookies, conforme nossa <a href=\"https://www.bradescoseguranca.com.br/html/seguranca_corporativa/pf/seguranca-informacao/privacidade.shtm\n                \" target=\"_blank\" title=\"A proteção à privacidade e aos dados dos usuários refletem os valores da Organização Bradesco e reafirmam o seu compromisso com a melhoria contínua da eficácia do processo de proteção de dados\"><strong>Diretiva\n                        de Privacidade</strong></a>.\n            </p>\n</div>\n<div class=\"cookies__cta\">\n<a class=\"c-btn js-aceitar\" role=\"button\" title=\"Aceitar\">Aceitar</a>\n<!-- liberar 2ª fase MVP2 remover class is-hidden -->\n<a class=\"c-btn js-configurar is-hidden\" role=\"button\" title=\"Configurar cookies\">Configurar Cookies</a>\n<span class=\"cookies__closed js-fechar\" title=\"Fechar\">x</span>\n</div>\n</div>\n</div>\n<div class=\"c-overlay\" id=\"js-modal\">\n<div class=\"c-modal c-modal--radius c-modal--shadow\">\n<header class=\"c-modal__header brd-b mb-30\">\n<button class=\"c-closed\" title=\"Fechar\">X</button>\n<h2 class=\"c-modal__title\">Cookies</h2>\n<div class=\"c-logo\">\n<img alt=\"Banco Bradesco\" src=\"\"/>\n</div>\n</header>\n<div class=\"c-modal__content\">\n<ul class=\"c-ul--none\">\n<li>\n<input class=\"c-chkbox\" id=\"js-ct\" type=\"checkbox\"/>\n<label class=\"c-label\" for=\"ct\">Cookies técnicos e estritamente necessários</label>\n</li>\n<li class=\"pl-45 pb-30 brd-b\">\n                    São cookies necessários para que o site funcione adequadamente ou para fornecer o serviço\n                    solicitado pelo usuário. Desta forma, são cookies de personalização que permitem que o usuário\n                    se lembre de informações, como algumas características que podem diferenciar sua experiência da\n                    experiência de outros usuários, como o idioma ou o número de resultados a ser mostrado numa\n                    busca São considerados necessários e, portanto, não estão sujeitos a consentimento.\n                </li>\n<li>\n<input class=\"c-chkbox\" id=\"js-ca\" type=\"checkbox\"/>\n<label class=\"c-label\" for=\"ca\">Cookies Analíticos</label>\n</li>\n<li class=\"pl-45 pb-30 brd-b\">\n                    Esse tipo de cookies nos permite reconhecer e contabilizar o número de visitantes em nosso site\n                    e analisar como ele é navegado e utilizado Eles permitem a execução de perfis de navegação, mas\n                    não coletam informações pessoais Isso inclui Google Analytics um serviço de análise da web\n                    fornecido pelo Google, Inc Para mais informações sobre como o Google coleta e processa essas\n                    informações, acesse: <a class=\"c-link--blue\" href=\"\">policies google</a>\n</li>\n<li>\n                    Você pode consultar nossa política de cookies a qualquer momento <a class=\"c-link--blue\" href=\"\">aqui</a> ou no site.\n                </li>\n<li class=\"aln-right\">\n<a class=\"c-btn js-salvar\" href=\"\">Aceitar e Salvar</a>\n</li>\n</ul>\n</div>\n</div>\n</div>\n<!-- / modal -->\n<!-- End Footer --><!-- Begin Scripts -->\n<script src=\"/Bradescard/static_files/assets/js/lab.js\"></script>\n<!-- End Scripts -->\n</body>\n</html>\n"
     ]
    }
   ],
   "source": [
    "from urllib.request import urlopen\n",
    "from bs4 import BeautifulSoup\n",
    "\n",
    "url = 'https://alura-site-scraping.herokuapp.com/hello-world.php'\n",
    "\n",
    "response = urlopen(url)\n",
    "html = response.read()\n",
    "\n",
    "soup = BeautifulSoup(html, 'html.parser')\n",
    "print(soup.find('h1', id='hello-world').get_text())\n",
    "print(soup.find('p').get_text())\n",
    "soup.find('h1', {'class': 'sub-header'}).get_text()"
   ]
  },
  {
   "cell_type": "markdown",
   "metadata": {},
   "source": [
    "---\n",
    "# <font color=green>2. OBTENDO E TRATANDO O CONTEÚDO DE UM HTML"
   ]
  },
  {
   "cell_type": "markdown",
   "metadata": {},
   "source": [
    "# 2.1. Entendendo a web"
   ]
  },
  {
   "cell_type": "markdown",
   "metadata": {},
   "source": [
    "<img src=\"./web/web.png\" width=\"700\">"
   ]
  },
  {
   "cell_type": "markdown",
   "metadata": {},
   "source": [
    "# 2.2. Obtendo o conteúdo HTML de um site"
   ]
  },
  {
   "cell_type": "markdown",
   "metadata": {},
   "source": [
    "# urllib.request\n",
    "## https://docs.python.org/3/library/urllib.html"
   ]
  },
  {
   "cell_type": "code",
   "execution_count": null,
   "metadata": {
    "colab": {
     "base_uri": "https://localhost:8080/",
     "height": 54
    },
    "colab_type": "code",
    "id": "c1pKGnTpgvFU",
    "outputId": "b6b7e32d-4c3e-4f52-a8ba-0b1cbfe15ea4"
   },
   "outputs": [],
   "source": []
  },
  {
   "cell_type": "markdown",
   "metadata": {},
   "source": [
    "## https://docs.python.org/3/library/urllib.request.html#urllib.request.Request"
   ]
  },
  {
   "cell_type": "code",
   "execution_count": null,
   "metadata": {},
   "outputs": [],
   "source": []
  },
  {
   "cell_type": "markdown",
   "metadata": {},
   "source": [
    "# 2.3. Tratamento de string"
   ]
  },
  {
   "cell_type": "code",
   "execution_count": null,
   "metadata": {},
   "outputs": [],
   "source": []
  },
  {
   "cell_type": "markdown",
   "metadata": {},
   "source": [
    "### Convertando o tipo bytes para string"
   ]
  },
  {
   "cell_type": "code",
   "execution_count": null,
   "metadata": {},
   "outputs": [],
   "source": []
  },
  {
   "cell_type": "code",
   "execution_count": null,
   "metadata": {},
   "outputs": [],
   "source": []
  },
  {
   "cell_type": "code",
   "execution_count": null,
   "metadata": {},
   "outputs": [],
   "source": []
  },
  {
   "cell_type": "code",
   "execution_count": null,
   "metadata": {},
   "outputs": [],
   "source": []
  },
  {
   "cell_type": "markdown",
   "metadata": {},
   "source": [
    "### Eliminando os caracteres de tabulação, quebra de linha etc."
   ]
  },
  {
   "cell_type": "code",
   "execution_count": null,
   "metadata": {},
   "outputs": [],
   "source": []
  },
  {
   "cell_type": "code",
   "execution_count": null,
   "metadata": {
    "scrolled": true
   },
   "outputs": [],
   "source": []
  },
  {
   "cell_type": "markdown",
   "metadata": {},
   "source": [
    "### Eliminando os espaços em branco entre as TAGS"
   ]
  },
  {
   "cell_type": "code",
   "execution_count": null,
   "metadata": {
    "scrolled": true
   },
   "outputs": [],
   "source": []
  },
  {
   "cell_type": "markdown",
   "metadata": {},
   "source": [
    "### Função de tratamento de strings"
   ]
  },
  {
   "cell_type": "code",
   "execution_count": null,
   "metadata": {},
   "outputs": [],
   "source": []
  },
  {
   "cell_type": "code",
   "execution_count": null,
   "metadata": {},
   "outputs": [],
   "source": []
  },
  {
   "cell_type": "code",
   "execution_count": null,
   "metadata": {
    "scrolled": true
   },
   "outputs": [],
   "source": []
  },
  {
   "cell_type": "markdown",
   "metadata": {
    "colab": {},
    "colab_type": "code",
    "id": "BsfhL3sZFRZu"
   },
   "source": [
    "---\n",
    "# <font color=green>3. INTRODUÇÃO AO BEAUTIFULSOUP"
   ]
  },
  {
   "cell_type": "markdown",
   "metadata": {
    "colab": {},
    "colab_type": "code",
    "id": "BsfhL3sZFRZu"
   },
   "source": [
    "# 3.1. HTML da nossa página"
   ]
  },
  {
   "cell_type": "markdown",
   "metadata": {},
   "source": [
    "**HTML** (*HyperText Markup Language*) é uma linguagem de marcação composta por **tags** que deteminam o papel que cada parte do documento vai assumir. As **tags** são formadas pelo seu nome e atributos. Os atributos servem para configurar e também modificar as características padrões de uma **tag**.\n",
    "\n",
    "## Estrutura básica\n",
    "\n",
    "```html\n",
    "<html>\n",
    "    <head>\n",
    "        <meta charset=\"utf-8\" />\n",
    "        <title>Alura Motors</title>\n",
    "    </head>\n",
    "    <body>\n",
    "        <div id=\"container\">\n",
    "            <h1>Alura</h1>\n",
    "            <h2 class=\"formato\">Cursos de Tecnologia</h2>\n",
    "            <p>Você vai estudar, praticar, discutir e aprender.</p>\n",
    "            <a href=\"https://www.alura.com.br/\">Clique aqui</a>\n",
    "        </div>\n",
    "    </body>\n",
    "</html>\n",
    "```\n",
    "\n",
    "```<html>``` - determina o início do documento.\n",
    "\n",
    "```<head>``` - cabeçalho. Contém informações e configurações do documento.\n",
    "\n",
    "```<body>``` - é o corpo do documento, onde todo o conteúdo é colocado. Esta é a parte visível em um navegador.\n",
    "\n",
    "## Tags mais comuns\n",
    "\n",
    "```<div>``` - define uma divisão da página. Pode ser formatada de diversas maneiras.\n",
    "\n",
    "```<h1>, <h2>, <h3>, <h4>, <h5>, <h6>``` - marcadores de títulos.\n",
    "\n",
    "```<p>``` - marcador de parágrafo.\n",
    "\n",
    "```<a>``` - hiperlink.\n",
    "\n",
    "```<img>``` - exibição de imagens.\n",
    "\n",
    "```<table>``` - definição de tabelas.\n",
    "\n",
    "```<ul>, <li>``` - definição de listas.\n"
   ]
  },
  {
   "cell_type": "markdown",
   "metadata": {},
   "source": [
    "# 3.2. Criando um objeto BeautifulSoup"
   ]
  },
  {
   "cell_type": "markdown",
   "metadata": {},
   "source": [
    "## https://www.crummy.com/software/BeautifulSoup/\n",
    "\n",
    "### Sobre parser ver: https://www.crummy.com/software/BeautifulSoup/bs4/doc/#parser-installation"
   ]
  },
  {
   "cell_type": "code",
   "execution_count": null,
   "metadata": {
    "colab": {
     "base_uri": "https://localhost:8080/",
     "height": 316
    },
    "colab_type": "code",
    "id": "5Oxx_d0BCWGa",
    "outputId": "4d2c4e2b-57fe-413d-9521-91711e0e5fdc",
    "scrolled": true
   },
   "outputs": [],
   "source": []
  },
  {
   "cell_type": "code",
   "execution_count": null,
   "metadata": {
    "scrolled": true
   },
   "outputs": [],
   "source": []
  },
  {
   "cell_type": "markdown",
   "metadata": {},
   "source": [
    "# 3.3. Acessando tags"
   ]
  },
  {
   "cell_type": "code",
   "execution_count": null,
   "metadata": {
    "scrolled": true
   },
   "outputs": [],
   "source": []
  },
  {
   "cell_type": "code",
   "execution_count": null,
   "metadata": {
    "scrolled": true
   },
   "outputs": [],
   "source": []
  },
  {
   "cell_type": "code",
   "execution_count": null,
   "metadata": {},
   "outputs": [],
   "source": []
  },
  {
   "cell_type": "code",
   "execution_count": null,
   "metadata": {},
   "outputs": [],
   "source": []
  },
  {
   "cell_type": "code",
   "execution_count": null,
   "metadata": {},
   "outputs": [],
   "source": []
  },
  {
   "cell_type": "markdown",
   "metadata": {},
   "source": [
    "# 3.4. Acessando o conteúdo das tags"
   ]
  },
  {
   "cell_type": "code",
   "execution_count": null,
   "metadata": {},
   "outputs": [],
   "source": []
  },
  {
   "cell_type": "code",
   "execution_count": null,
   "metadata": {},
   "outputs": [],
   "source": []
  },
  {
   "cell_type": "code",
   "execution_count": null,
   "metadata": {},
   "outputs": [],
   "source": []
  },
  {
   "cell_type": "code",
   "execution_count": null,
   "metadata": {},
   "outputs": [],
   "source": []
  },
  {
   "cell_type": "code",
   "execution_count": null,
   "metadata": {},
   "outputs": [],
   "source": []
  },
  {
   "cell_type": "markdown",
   "metadata": {},
   "source": [
    "# 3.5. Acessando os atributos de uma tag"
   ]
  },
  {
   "cell_type": "code",
   "execution_count": null,
   "metadata": {},
   "outputs": [],
   "source": []
  },
  {
   "cell_type": "code",
   "execution_count": null,
   "metadata": {},
   "outputs": [],
   "source": []
  },
  {
   "cell_type": "code",
   "execution_count": null,
   "metadata": {},
   "outputs": [],
   "source": []
  },
  {
   "cell_type": "code",
   "execution_count": null,
   "metadata": {},
   "outputs": [],
   "source": []
  },
  {
   "cell_type": "code",
   "execution_count": null,
   "metadata": {},
   "outputs": [],
   "source": []
  },
  {
   "cell_type": "code",
   "execution_count": null,
   "metadata": {},
   "outputs": [],
   "source": []
  },
  {
   "cell_type": "markdown",
   "metadata": {},
   "source": [
    "---\n",
    "# <font color=green>4. PESQUISANDO COM O BEAUTIFULSOUP"
   ]
  },
  {
   "cell_type": "markdown",
   "metadata": {},
   "source": [
    "# 4.1. Os métodos *find()* e *findAll()*"
   ]
  },
  {
   "cell_type": "markdown",
   "metadata": {},
   "source": [
    "- ### *find(tag, attributes, recursive, text, **kwargs)*\n",
    "\n",
    "- ### *findAll(tag, attributes, recursive, text, limit, **kwargs)*\n",
    "\n",
    "#### https://www.crummy.com/software/BeautifulSoup/bs4/doc/#find\n",
    "#### https://www.crummy.com/software/BeautifulSoup/bs4/doc/#find-all\n",
    "\n",
    "> **Observação:**\n",
    "> - *findAll()* também pode ser utilizado como *find_all()*"
   ]
  },
  {
   "cell_type": "markdown",
   "metadata": {},
   "source": [
    "### Método *find()*"
   ]
  },
  {
   "cell_type": "code",
   "execution_count": null,
   "metadata": {},
   "outputs": [],
   "source": []
  },
  {
   "cell_type": "code",
   "execution_count": null,
   "metadata": {},
   "outputs": [],
   "source": []
  },
  {
   "cell_type": "markdown",
   "metadata": {},
   "source": [
    "### Método *findAll()*"
   ]
  },
  {
   "cell_type": "code",
   "execution_count": null,
   "metadata": {},
   "outputs": [],
   "source": []
  },
  {
   "cell_type": "markdown",
   "metadata": {},
   "source": [
    "### Comando equivalente ao método *find()*"
   ]
  },
  {
   "cell_type": "code",
   "execution_count": null,
   "metadata": {},
   "outputs": [],
   "source": []
  },
  {
   "cell_type": "markdown",
   "metadata": {},
   "source": [
    "### Atalho para o método *findAll()*"
   ]
  },
  {
   "cell_type": "code",
   "execution_count": null,
   "metadata": {},
   "outputs": [],
   "source": []
  },
  {
   "cell_type": "markdown",
   "metadata": {},
   "source": [
    "### Passando listas de TAGs"
   ]
  },
  {
   "cell_type": "code",
   "execution_count": null,
   "metadata": {},
   "outputs": [],
   "source": []
  },
  {
   "cell_type": "markdown",
   "metadata": {},
   "source": [
    "### Utilizando o argumento *attributes*"
   ]
  },
  {
   "cell_type": "code",
   "execution_count": null,
   "metadata": {
    "scrolled": true
   },
   "outputs": [],
   "source": []
  },
  {
   "cell_type": "markdown",
   "metadata": {},
   "source": [
    "### Buscando por conteúdo de uma TAG"
   ]
  },
  {
   "cell_type": "code",
   "execution_count": null,
   "metadata": {},
   "outputs": [],
   "source": []
  },
  {
   "cell_type": "markdown",
   "metadata": {},
   "source": [
    "### Utilizando diretamente os atributos"
   ]
  },
  {
   "cell_type": "code",
   "execution_count": null,
   "metadata": {},
   "outputs": [],
   "source": []
  },
  {
   "cell_type": "code",
   "execution_count": null,
   "metadata": {},
   "outputs": [],
   "source": []
  },
  {
   "cell_type": "markdown",
   "metadata": {},
   "source": [
    "### Cuidado com o atributo \"class\""
   ]
  },
  {
   "cell_type": "code",
   "execution_count": null,
   "metadata": {},
   "outputs": [],
   "source": []
  },
  {
   "cell_type": "markdown",
   "metadata": {},
   "source": [
    "### Obtendo todo o conteúdo de texto de uma página"
   ]
  },
  {
   "cell_type": "code",
   "execution_count": null,
   "metadata": {},
   "outputs": [],
   "source": []
  },
  {
   "cell_type": "markdown",
   "metadata": {},
   "source": [
    "# 4.2. Outros métodos de pesquisa"
   ]
  },
  {
   "cell_type": "markdown",
   "metadata": {},
   "source": [
    "- ### *findParent(tag, attributes, text, **kwargs)*\n",
    "\n",
    "- ### *findParents(tag, attributes, text, limit, **kwargs)*\n",
    "\n",
    "#### https://www.crummy.com/software/BeautifulSoup/bs4/doc/#find-parents-and-find-parent\n",
    "\n",
    "> **Observação:**\n",
    "> - *findParent()* e *findParents()* também podem ser utilizados como *find_parent()* e *find_parents()*, respectivamente.\n",
    "---\n",
    "- ### *findNextSibling(tag, attributes, text, **kwargs)*\n",
    "\n",
    "- ### *findNextSiblings(tag, attributes, text, limit, **kwargs)*\n",
    "\n",
    "- ### *findPreviousSibling(tag, attributes, text, **kwargs)*\n",
    "\n",
    "- ### *findPreviousSiblings(tag, attributes, text, limit, **kwargs)*\n",
    "\n",
    "#### https://www.crummy.com/software/BeautifulSoup/bs4/doc/#find-next-siblings-and-find-next-sibling\n",
    "#### https://www.crummy.com/software/BeautifulSoup/bs4/doc/#find-previous-siblings-and-find-previous-sibling\n",
    "\n",
    "> **Observação:**\n",
    "> - *findNextSibling()*, *findNextSiblings()*, *findPreviousSibling()* e *findPreviousSiblings()* também podem ser utilizados como *find_next_sibling()*, *find_next_siblings()*, *find_previous_sibling()* e *find_previous_siblings()*, respectivamente.\n",
    "---\n",
    "- ### *findNext(tag, attributes, text, **kwargs)*\n",
    "\n",
    "- ### *findAllNext(tag, attributes, text, limit, **kwargs)*\n",
    "\n",
    "- ### *findPrevious(tag, attributes, text, **kwargs)*\n",
    "\n",
    "- ### *findAllPrevious(tag, attributes, text, limit, **kwargs)*\n",
    "\n",
    "#### https://www.crummy.com/software/BeautifulSoup/bs4/doc/#find-all-next-and-find-next\n",
    "#### https://www.crummy.com/software/BeautifulSoup/bs4/doc/#find-all-previous-and-find-previous\n",
    "\n",
    "> **Observação:**\n",
    "> - *findNext()*, *findAllNext()*, *findPrevious* e *findAllPrevious* também podem ser utilizados como *find_next()*, *find_all_next()*, *find_previous()* e *find_all_previous()*, respectivamente."
   ]
  },
  {
   "cell_type": "markdown",
   "metadata": {},
   "source": [
    "## HTML de exemplo para ilustrar a utilização dos métodos de pesquisa do BeautifulSoup"
   ]
  },
  {
   "cell_type": "markdown",
   "metadata": {},
   "source": [
    "<img src=\"https://caelum-online-public.s3.amazonaws.com/1381-scraping/01/BeautifulSoup-method.png\" width=80%>"
   ]
  },
  {
   "cell_type": "markdown",
   "metadata": {},
   "source": [
    "---\n",
    "## Resultado"
   ]
  },
  {
   "cell_type": "markdown",
   "metadata": {},
   "source": [
    "<html>\n",
    "    <body>\n",
    "        <div id=“container-a”>\n",
    "            <h1>Título A</h1>\n",
    "            <h2 class=\"ref-a\">Sub título A</h2>\n",
    "            <p>Texto de conteúdo A</p>\n",
    "        </div>\n",
    "        <div id=“container-b”>\n",
    "            <h1>Título B</h1>\n",
    "            <h2 class=\"ref-b\">Sub título B</h2>\n",
    "            <p>Texto de conteúdo B</p>\n",
    "        </div>\n",
    "    </body>\n",
    "</html>"
   ]
  },
  {
   "cell_type": "code",
   "execution_count": null,
   "metadata": {},
   "outputs": [],
   "source": []
  },
  {
   "cell_type": "markdown",
   "metadata": {},
   "source": [
    "### Tratamentos para a string HTML"
   ]
  },
  {
   "cell_type": "code",
   "execution_count": null,
   "metadata": {},
   "outputs": [],
   "source": []
  },
  {
   "cell_type": "code",
   "execution_count": null,
   "metadata": {},
   "outputs": [],
   "source": []
  },
  {
   "cell_type": "markdown",
   "metadata": {},
   "source": [
    "### Criando o objeto BeautifulSoup"
   ]
  },
  {
   "cell_type": "code",
   "execution_count": null,
   "metadata": {
    "scrolled": true
   },
   "outputs": [],
   "source": []
  },
  {
   "cell_type": "markdown",
   "metadata": {},
   "source": [
    "### Parents"
   ]
  },
  {
   "cell_type": "code",
   "execution_count": null,
   "metadata": {},
   "outputs": [],
   "source": []
  },
  {
   "cell_type": "code",
   "execution_count": null,
   "metadata": {},
   "outputs": [],
   "source": []
  },
  {
   "cell_type": "code",
   "execution_count": null,
   "metadata": {},
   "outputs": [],
   "source": []
  },
  {
   "cell_type": "code",
   "execution_count": null,
   "metadata": {},
   "outputs": [],
   "source": []
  },
  {
   "cell_type": "code",
   "execution_count": null,
   "metadata": {},
   "outputs": [],
   "source": []
  },
  {
   "cell_type": "markdown",
   "metadata": {},
   "source": [
    "## Siblings"
   ]
  },
  {
   "cell_type": "code",
   "execution_count": null,
   "metadata": {},
   "outputs": [],
   "source": []
  },
  {
   "cell_type": "code",
   "execution_count": null,
   "metadata": {},
   "outputs": [],
   "source": []
  },
  {
   "cell_type": "code",
   "execution_count": null,
   "metadata": {},
   "outputs": [],
   "source": []
  },
  {
   "cell_type": "markdown",
   "metadata": {},
   "source": [
    "## Next e Previous"
   ]
  },
  {
   "cell_type": "code",
   "execution_count": null,
   "metadata": {},
   "outputs": [],
   "source": []
  },
  {
   "cell_type": "code",
   "execution_count": null,
   "metadata": {},
   "outputs": [],
   "source": []
  },
  {
   "cell_type": "code",
   "execution_count": null,
   "metadata": {},
   "outputs": [],
   "source": []
  },
  {
   "cell_type": "markdown",
   "metadata": {},
   "source": [
    "# <font color=green>5. WEB SCRAPING DO SITE ALURA MOTORS - OBTENDO OS DADOS DE UM ANÚNCIO"
   ]
  },
  {
   "cell_type": "markdown",
   "metadata": {},
   "source": [
    "# 5.1. Identificando e selecionando os dados no HTML"
   ]
  },
  {
   "cell_type": "markdown",
   "metadata": {},
   "source": [
    "### Obtendo o HTML e criando o objeto BeautifulSoup"
   ]
  },
  {
   "cell_type": "code",
   "execution_count": null,
   "metadata": {},
   "outputs": [],
   "source": []
  },
  {
   "cell_type": "markdown",
   "metadata": {},
   "source": [
    "### Criando variávels para armazenar informações"
   ]
  },
  {
   "cell_type": "code",
   "execution_count": null,
   "metadata": {},
   "outputs": [],
   "source": []
  },
  {
   "cell_type": "markdown",
   "metadata": {},
   "source": [
    "### Obtendo os dados do primeiro CARD"
   ]
  },
  {
   "cell_type": "code",
   "execution_count": null,
   "metadata": {
    "scrolled": false
   },
   "outputs": [],
   "source": []
  },
  {
   "cell_type": "markdown",
   "metadata": {},
   "source": [
    "# 5.2. Obtendo o VALOR do veículo anunciado"
   ]
  },
  {
   "cell_type": "code",
   "execution_count": null,
   "metadata": {},
   "outputs": [],
   "source": []
  },
  {
   "cell_type": "code",
   "execution_count": null,
   "metadata": {},
   "outputs": [],
   "source": []
  },
  {
   "cell_type": "code",
   "execution_count": null,
   "metadata": {},
   "outputs": [],
   "source": []
  },
  {
   "cell_type": "code",
   "execution_count": null,
   "metadata": {},
   "outputs": [],
   "source": []
  },
  {
   "cell_type": "code",
   "execution_count": null,
   "metadata": {},
   "outputs": [],
   "source": []
  },
  {
   "cell_type": "markdown",
   "metadata": {},
   "source": [
    "### <font color=red>Resumo"
   ]
  },
  {
   "cell_type": "code",
   "execution_count": null,
   "metadata": {},
   "outputs": [],
   "source": [
    "# Valor\n"
   ]
  },
  {
   "cell_type": "markdown",
   "metadata": {},
   "source": [
    "# 5.3. Obtendo as INFORMAÇÕES sobre o veículo anunciado"
   ]
  },
  {
   "cell_type": "code",
   "execution_count": null,
   "metadata": {},
   "outputs": [],
   "source": []
  },
  {
   "cell_type": "code",
   "execution_count": null,
   "metadata": {},
   "outputs": [],
   "source": []
  },
  {
   "cell_type": "code",
   "execution_count": null,
   "metadata": {},
   "outputs": [],
   "source": []
  },
  {
   "cell_type": "code",
   "execution_count": null,
   "metadata": {},
   "outputs": [],
   "source": []
  },
  {
   "cell_type": "code",
   "execution_count": null,
   "metadata": {},
   "outputs": [],
   "source": []
  },
  {
   "cell_type": "code",
   "execution_count": null,
   "metadata": {},
   "outputs": [],
   "source": []
  },
  {
   "cell_type": "code",
   "execution_count": null,
   "metadata": {},
   "outputs": [],
   "source": []
  },
  {
   "cell_type": "code",
   "execution_count": null,
   "metadata": {},
   "outputs": [],
   "source": []
  },
  {
   "cell_type": "markdown",
   "metadata": {},
   "source": [
    "### <font color=red>Resumo"
   ]
  },
  {
   "cell_type": "code",
   "execution_count": null,
   "metadata": {},
   "outputs": [],
   "source": [
    "# Informações\n"
   ]
  },
  {
   "cell_type": "markdown",
   "metadata": {},
   "source": [
    "# 5.4. Obtendo os ACESSÓRIOS do veículo anunciado"
   ]
  },
  {
   "cell_type": "code",
   "execution_count": null,
   "metadata": {},
   "outputs": [],
   "source": []
  },
  {
   "cell_type": "code",
   "execution_count": null,
   "metadata": {},
   "outputs": [],
   "source": []
  },
  {
   "cell_type": "code",
   "execution_count": null,
   "metadata": {},
   "outputs": [],
   "source": []
  },
  {
   "cell_type": "code",
   "execution_count": null,
   "metadata": {},
   "outputs": [],
   "source": []
  },
  {
   "cell_type": "code",
   "execution_count": null,
   "metadata": {},
   "outputs": [],
   "source": []
  },
  {
   "cell_type": "code",
   "execution_count": null,
   "metadata": {},
   "outputs": [],
   "source": []
  },
  {
   "cell_type": "code",
   "execution_count": null,
   "metadata": {},
   "outputs": [],
   "source": []
  },
  {
   "cell_type": "code",
   "execution_count": null,
   "metadata": {},
   "outputs": [],
   "source": []
  },
  {
   "cell_type": "markdown",
   "metadata": {},
   "source": [
    "### <font color=red>Resumo"
   ]
  },
  {
   "cell_type": "code",
   "execution_count": 101,
   "metadata": {},
   "outputs": [],
   "source": [
    "# Acessórios\n"
   ]
  },
  {
   "cell_type": "markdown",
   "metadata": {},
   "source": [
    "# 5.5 Criando um DataFrame com os dados coletados do Alura Motors"
   ]
  },
  {
   "cell_type": "code",
   "execution_count": null,
   "metadata": {},
   "outputs": [],
   "source": []
  },
  {
   "cell_type": "code",
   "execution_count": null,
   "metadata": {},
   "outputs": [],
   "source": []
  },
  {
   "cell_type": "code",
   "execution_count": null,
   "metadata": {},
   "outputs": [],
   "source": []
  },
  {
   "cell_type": "code",
   "execution_count": null,
   "metadata": {},
   "outputs": [],
   "source": []
  },
  {
   "cell_type": "code",
   "execution_count": null,
   "metadata": {},
   "outputs": [],
   "source": []
  },
  {
   "cell_type": "code",
   "execution_count": null,
   "metadata": {},
   "outputs": [],
   "source": []
  },
  {
   "cell_type": "code",
   "execution_count": null,
   "metadata": {},
   "outputs": [],
   "source": []
  },
  {
   "cell_type": "code",
   "execution_count": null,
   "metadata": {},
   "outputs": [],
   "source": []
  },
  {
   "cell_type": "markdown",
   "metadata": {},
   "source": [
    "# 5.6. Obtendo a FOTO do anúncio"
   ]
  },
  {
   "cell_type": "code",
   "execution_count": null,
   "metadata": {},
   "outputs": [],
   "source": []
  },
  {
   "cell_type": "code",
   "execution_count": null,
   "metadata": {},
   "outputs": [],
   "source": []
  },
  {
   "cell_type": "code",
   "execution_count": null,
   "metadata": {},
   "outputs": [],
   "source": []
  },
  {
   "cell_type": "markdown",
   "metadata": {},
   "source": [
    "### Visualizando a FOTO no notebook (extra)"
   ]
  },
  {
   "cell_type": "code",
   "execution_count": null,
   "metadata": {},
   "outputs": [],
   "source": []
  },
  {
   "cell_type": "code",
   "execution_count": null,
   "metadata": {},
   "outputs": [],
   "source": []
  },
  {
   "cell_type": "markdown",
   "metadata": {},
   "source": [
    "### Rotina para acessar e salvar a FOTO do anúncio"
   ]
  },
  {
   "cell_type": "markdown",
   "metadata": {},
   "source": [
    "## https://docs.python.org/3/library/urllib.request.html#urllib.request.urlretrieve"
   ]
  },
  {
   "cell_type": "code",
   "execution_count": null,
   "metadata": {},
   "outputs": [],
   "source": []
  },
  {
   "cell_type": "code",
   "execution_count": null,
   "metadata": {},
   "outputs": [],
   "source": []
  },
  {
   "cell_type": "markdown",
   "metadata": {},
   "source": [
    "### <font color=red>Resumo"
   ]
  },
  {
   "cell_type": "code",
   "execution_count": null,
   "metadata": {},
   "outputs": [],
   "source": []
  },
  {
   "cell_type": "markdown",
   "metadata": {},
   "source": [
    "# <font color=green>6. WEB SCRAPING DO SITE ALURA MOTORS - OBTENDO OS DADOS DE TODOS OS ANÚNCIOS DE UMA PÁGINA"
   ]
  },
  {
   "cell_type": "markdown",
   "metadata": {},
   "source": [
    "# 6.1. Identificando as informações no HTML"
   ]
  },
  {
   "cell_type": "code",
   "execution_count": null,
   "metadata": {
    "scrolled": true
   },
   "outputs": [],
   "source": []
  },
  {
   "cell_type": "code",
   "execution_count": null,
   "metadata": {
    "scrolled": true
   },
   "outputs": [],
   "source": []
  },
  {
   "cell_type": "code",
   "execution_count": null,
   "metadata": {
    "scrolled": true
   },
   "outputs": [],
   "source": []
  },
  {
   "cell_type": "markdown",
   "metadata": {},
   "source": [
    "# 6.2. Criando uma rotina de scraping"
   ]
  },
  {
   "cell_type": "code",
   "execution_count": null,
   "metadata": {},
   "outputs": [],
   "source": []
  },
  {
   "cell_type": "code",
   "execution_count": null,
   "metadata": {},
   "outputs": [],
   "source": []
  },
  {
   "cell_type": "markdown",
   "metadata": {},
   "source": [
    "# <font color=green>7. WEB SCRAPING DO SITE ALURA MOTORS - OBTENDO OS DADOS DE TODOS OS ANÚNCIOS DO SITE"
   ]
  },
  {
   "cell_type": "markdown",
   "metadata": {},
   "source": [
    "# 7.1. Identificando as informações no HTML"
   ]
  },
  {
   "cell_type": "code",
   "execution_count": null,
   "metadata": {},
   "outputs": [],
   "source": []
  },
  {
   "cell_type": "code",
   "execution_count": null,
   "metadata": {
    "scrolled": true
   },
   "outputs": [],
   "source": []
  },
  {
   "cell_type": "code",
   "execution_count": null,
   "metadata": {},
   "outputs": [],
   "source": []
  },
  {
   "cell_type": "code",
   "execution_count": null,
   "metadata": {},
   "outputs": [],
   "source": []
  },
  {
   "cell_type": "code",
   "execution_count": null,
   "metadata": {},
   "outputs": [],
   "source": []
  },
  {
   "cell_type": "markdown",
   "metadata": {},
   "source": [
    "# 7.2. Criando uma rotina de scraping"
   ]
  },
  {
   "cell_type": "code",
   "execution_count": null,
   "metadata": {
    "scrolled": true
   },
   "outputs": [],
   "source": []
  },
  {
   "cell_type": "code",
   "execution_count": null,
   "metadata": {},
   "outputs": [],
   "source": []
  },
  {
   "cell_type": "code",
   "execution_count": null,
   "metadata": {},
   "outputs": [],
   "source": []
  },
  {
   "cell_type": "code",
   "execution_count": null,
   "metadata": {},
   "outputs": [],
   "source": []
  }
 ],
 "metadata": {
  "colab": {
   "name": "Untitled12.ipynb",
   "provenance": [],
   "version": "0.3.2"
  },
  "kernelspec": {
   "name": "python3",
   "display_name": "Python 3.8.6 64-bit",
   "metadata": {
    "interpreter": {
     "hash": "e1d508e48e31af759b57436b38919e33190b73d389dc6af8edca6da70d9423aa"
    }
   }
  },
  "language_info": {
   "codemirror_mode": {
    "name": "ipython",
    "version": 3
   },
   "file_extension": ".py",
   "mimetype": "text/x-python",
   "name": "python",
   "nbconvert_exporter": "python",
   "pygments_lexer": "ipython3",
   "version": "3.8.6-candidate"
  }
 },
 "nbformat": 4,
 "nbformat_minor": 1
}