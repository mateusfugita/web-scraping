{
 "cells": [
  {
   "cell_type": "markdown",
   "metadata": {},
   "source": [
    "# <font color=green>1. MEU PRIMEIRO SCRAPING"
   ]
  },
  {
   "cell_type": "markdown",
   "metadata": {},
   "source": [
    "# 1.1. Introdução"
   ]
  },
  {
   "cell_type": "markdown",
   "metadata": {},
   "source": [
    "## *Web Scraping* é o termo utilizado para definir a prática de coletar automaticamente informações na Internet. Isto é feito, geralmente, por meio de programas que simulam a navegação humana na Web."
   ]
  },
  {
   "cell_type": "markdown",
   "metadata": {},
   "source": [
    "# 1.2. Ambiente e bibliotecas\n",
    "### Utilizaremos em nosso treinamento o navegador Google Chrome"
   ]
  },
  {
   "cell_type": "code",
   "execution_count": 1,
   "metadata": {
    "colab": {},
    "colab_type": "code",
    "id": "e9pXIMIWByAp"
   },
   "outputs": [
    {
     "output_type": "stream",
     "name": "stdout",
     "text": [
      "BeautifulSoup -> 4.9.3\nurllib -> 3.8\npandas -> 1.2.2\n"
     ]
    }
   ],
   "source": [
    "import pandas\n",
    "import bs4\n",
    "import urllib.request as urllib_request\n",
    "\n",
    "print(\"BeautifulSoup ->\", bs4.__version__)\n",
    "print(\"urllib ->\", urllib_request.__version__)\n",
    "print(\"pandas ->\", pandas.__version__)"
   ]
  },
  {
   "cell_type": "markdown",
   "metadata": {},
   "source": [
    "# 1.3. Meu primeiro scraping"
   ]
  },
  {
   "cell_type": "code",
   "execution_count": 1,
   "metadata": {
    "tags": []
   },
   "outputs": [
    {
     "output_type": "stream",
     "name": "stdout",
     "text": [
      "Hello World!!!\nWeb Scraping é o termo utilizado para definir a prática de coletar automaticamente informações na Internet. Isto é feito, geralmente, por meio de programas que simulam a navegação humana na Web.\n"
     ]
    },
    {
     "output_type": "execute_result",
     "data": {
      "text/plain": [
       "'Curso de Web Scraping'"
      ]
     },
     "metadata": {},
     "execution_count": 1
    }
   ],
   "source": [
    "from urllib.request import urlopen\n",
    "from bs4 import BeautifulSoup\n",
    "\n",
    "url = 'https://alura-site-scraping.herokuapp.com/hello-world.php'\n",
    "\n",
    "response = urlopen(url)\n",
    "html = response.read()\n",
    "\n",
    "soup = BeautifulSoup(html, 'html.parser')\n",
    "print(soup.find('h1', id='hello-world').get_text())\n",
    "print(soup.find('p').get_text())\n",
    "soup.find('h1', {'class': 'sub-header'}).get_text()"
   ]
  },
  {
   "cell_type": "markdown",
   "metadata": {},
   "source": [
    "---\n",
    "# <font color=green>2. OBTENDO E TRATANDO O CONTEÚDO DE UM HTML"
   ]
  },
  {
   "cell_type": "markdown",
   "metadata": {},
   "source": [
    "# 2.1. Entendendo a web"
   ]
  },
  {
   "cell_type": "markdown",
   "metadata": {},
   "source": [
    "<img src=\"./web/web.png\" width=\"700\">"
   ]
  },
  {
   "cell_type": "markdown",
   "metadata": {},
   "source": [
    "# 2.2. Obtendo o conteúdo HTML de um site"
   ]
  },
  {
   "cell_type": "markdown",
   "metadata": {},
   "source": [
    "# urllib.request\n",
    "## https://docs.python.org/3/library/urllib.html"
   ]
  },
  {
   "cell_type": "code",
   "execution_count": 3,
   "metadata": {
    "colab": {
     "base_uri": "https://localhost:8080/",
     "height": 54
    },
    "colab_type": "code",
    "id": "c1pKGnTpgvFU",
    "outputId": "b6b7e32d-4c3e-4f52-a8ba-0b1cbfe15ea4"
   },
   "outputs": [
    {
     "output_type": "execute_result",
     "data": {
      "text/plain": [
       "<link rel=\"stylesheet\" href=\"https://maxcdn.bootstrapcdn.com/bootstrap/3.3.7/css/bootstrap.min.css\" integrity=\"sha384-BVYiiSIFeK1dGmJRAkycuHAHRg32OmUcww7on3RYdg4Va+PmSTsz/K68vbdEjh4u\" crossorigin=\"anonymous\">\\r\\n\\t<link rel=\"stylesheet\" href=\"css/styles.css\" media=\"all\">\\r\\n\\r\\n\\t<script src=\"https://code.jquery.com/jquery-1.12.4.js\"></script>\\r\\n\\t<script src=\"https://maxcdn.bootstrapcdn.com/bootstrap/3.3.7/js/bootstrap.min.js\" integrity=\"sha384-Tc5IQib027qvyjSMfHjOMaLkfuWVxZxUPnCJA7l2mCWNIpG9mGCD8wGNIcPD7Txa\" crossorigin=\"anonymous\"></script>\\r\\n\\t<script type=\"text/javascript\" src=\"js/index.js\"></script>\\r\\n\\t<script>\\r\\n\\t\\trequisitar(\"https://alura-scraping.herokuapp.com/produtos?_page=\"+1+\"&_limit=10\")\\r\\n\\t</script>\\r\\n\\r\\n</head>\\r\\n<body cz-shortcut-listen=\"true\">\\r\\n    <noscript>You need to enable JavaScript to run this app.</noscript>\\r\\n\\r\\n\\t<div class=\"modal fade\" data-backdrop=\"static\" id=\"loadingModal\" tabindex=\"-1\" role=\"dialog\" aria-labelledby=\"loadingModal_label\">\\r\\n\\t\\t<div class=\"modal-dialog\" role=\"document\">\\r\\n\\t\\t\\t<div class=\"modal-content\">\\r\\n\\t\\t\\t\\t<div class=\"modal-header\">\\r\\n\\t\\t\\t\\t\\t<h5 class=\"modal-title\" id=\"loadingModal_label\">\\r\\n\\t\\t\\t\\t\\t\\t<span class=\"glyphicon glyphicon-refresh\"></span>Aguarde...\\r\\n\\t\\t\\t\\t\\t</h5>\\r\\n\\t\\t\\t\\t</div>\\r\\n\\t\\t\\t\\t<div class=\"modal-body\">\\r\\n\\t\\t\\t\\t\\t<div class=\\'alert\\' role=\\'alert\\'>\\r\\n\\t\\t\\t\\t\\t\\t<center>\\r\\n\\t\\t\\t\\t\\t\\t\\t<div class=\"loader\" id=\"loader\"></div><br>\\r\\n\\t\\t\\t\\t\\t\\t\\t<h4><b id=\"loadingModal_content\"></b></h4>\\r\\n\\t\\t\\t\\t\\t\\t</center>\\r\\n\\t\\t\\t\\t\\t</div>\\r\\n\\t\\t\\t\\t</div>\\r\\n\\t\\t\\t</div>\\r\\n\\t\\t</div>\\r\\n\\t</div>\\r\\n\\r\\n    <div id=\"root\">\\r\\n\\t\\t<header>\\r\\n\\t\\t\\t<nav class=\"navbar navbar-inverse\" style=\"margin-bottom: 0;\">\\r\\n\\t\\t\\t\\t<div class=\"container\" style=\"margin-bottom: -20px;\">\\r\\n\\t\\t\\t\\t\\t<div class=\"navbar\">\\r\\n\\t\\t\\t\\t\\t\\t<a href=\"./index.php\" class=\"navbar-brand\" title=\"Alura Motors\">\\r\\n\\t\\t\\t\\t\\t\\t\\t<img src=\"img/alura-logo.svg\" class=\"d-inline-block align-top\" alt=\"Alura\">Motors\\r\\n\\t\\t\\t\\t\\t\\t</a>\\r\\n\\t\\t\\t\\t\\t\\t<ul class=\"nav navbar-nav\" style=\"margin-top: 35px;\">\\r\\n\\t\\t\\t\\t\\t\\t\\t<li><a href=\"./hello-world.php\">Hello World</a></li>\\r\\n\\t\\t\\t\\t\\t\\t\\t<li><a href=\"./index.php\">An\\xc3\\xbancios</a></li>\\r\\n\\t\\t\\t\\t\\t\\t</ul>\\r\\n\\t\\t\\t\\t\\t</div>\\r\\n\\t\\t\\t\\t</div>\\r\\n\\t\\t\\t</nav>\\r\\n\\t\\t</header>\\r\\n\\r\\n\\t\\t<div class=\"container\">\\r\\n\\t\\t\\t<h1 class=\"sub-header\">Ve\\xc3\\xadculos de Luxo Novos e Usados - Todas as Marcas</h1>\\r\\n\\t\\t\\t<div class=\"row\">\\r\\n\\t\\t\\t\\t<div class=\"col-md-12\">\\r\\n\\t\\t\\t\\t\\t<div class=\"container\" style=\"width: 100%\">\\r\\n\\t\\t\\t\\t\\t\\t<div class=\"type-select\">246 ve\\xc3\\xadculos encontrados</div>\\r\\n\\t\\t\\t\\t\\t\\t\\t<div class=\"container-pagination\" style=\"float: right\">\\r\\n\\t\\t\\t\\t\\t\\t\\t\\t<span class=\"info-pages\">P\\xc3\\xa1gina 1 de 25</span>\\r\\n\\t\\t\\t\\t\\t\\t\\t</div>\\r\\n\\t\\t\\t\\t\\t\\t</div>\\r\\n\\t\\t\\t\\t\\t\\t<div id=\"container-cards\" style=\"height: 100%\">\\r\\n\\t\\t\\t\\t\\t\\t\\t\\r\\n                <div class=\"well card\">\\r\\n                    <div class=\"col-md-3 image-card\">\\r\\n                        <img width=\"220\" height=\"155\" alt=\"Foto\" src=\"https://caelum-online-public.s3.amazonaws.com/1381-scraping/01/img-cars/lamborghini-aventador/lamborghini-aventador-2932196__340.jpg\">\\r\\n                    </div>\\r\\n                    <div class=\"col-md-6 body-card\">\\r\\n                        <p class=\"txt-name inline\">LAMBORGHINI AVENTADOR</p>\\r\\n                            <p class=\"txt-category badge badge-secondary inline\">USADO</p>\\r\\n                            \\r\\n                        <p class=\"txt-motor\">Motor 1.8 16v</p>\\r\\n                        <p class=\"txt-description\">Ano 1993 - 55.286 km</p>\\r\\n                        <ul class=\"lst-items\">\\r\\n                            <li class=\"txt-items\">\\xe2\\x96\\xba 4 X 4</li>\\r\\n                            <li class=\"txt-items\">\\xe2\\x96\\xba C\\xc3\\xa2mera de estacionamento</li>\\r\\n                            <li class=\"txt-items\">\\xe2\\x96\\xba Controle de tra\\xc3\\xa7\\xc3\\xa3o</li>\\r\\n                            <li class=\"txt-items\">\\xe2\\x96\\xba Sensor de estacionamento</li>\\r\\n                            <li class=\"txt-items\">...</li>\\r\\n                        </ul>\\r\\n                        <p class=\"txt-location\">Belo Horizonte - MG</p>\\r\\n                    </div>\\r\\n                    <div class=\"col-md-3 value-card\">\\r\\n                        <div class=\"value\">\\r\\n                            <p class=\"txt-value\">R$ 338.000</p>\\r\\n                        </div>\\r\\n                    </div>\\r\\n                </div>\\r\\n                <div class=\"well card\">\\r\\n                    <div class=\"col-md-3 image-card\">\\r\\n                        <img width=\"220\" height=\"155\" alt=\"Foto\" src=\"https://caelum-online-public.s3.amazonaws.com/1381-scraping/01/img-cars/bmw-m2/bmw-m2-2970882__340.jpg\">\\r\\n                    </div>\\r\\n                    <div class=\"col-md-6 body-card\">\\r\\n                        <p class=\"txt-name inline\">BMW M2</p>\\r\\n                            <p class=\"txt-category badge badge-secondary inline\">USADO</p>\\r\\n                            \\r\\n                        <p class=\"txt-motor\">Motor 3.0 32v</p>\\r\\n                        <p class=\"txt-description\">Ano 2018 - 83.447 km</p>\\r\\n                        <ul class=\"lst-items\">\\r\\n                            <li class=\"txt-items\">\\xe2\\x96\\xba C\\xc3\\xa2mera de estacionamento</li>\\r\\n                            <li class=\"txt-items\">\\xe2\\x96\\xba Controle de estabilidade</li>\\r\\n                            <li class=\"txt-items\">\\xe2\\x96\\xba Travas el\\xc3\\xa9tricas</li>\\r\\n                            <li class=\"txt-items\">\\xe2\\x96\\xba Freios ABS</li>\\r\\n                            <li class=\"txt-items\">...</li>\\r\\n                        </ul>\\r\\n                        <p class=\"txt-location\">Belo Horizonte - MG</p>\\r\\n                    </div>\\r\\n                    <div class=\"col-md-3 value-card\">\\r\\n                        <div class=\"value\">\\r\\n                            <p class=\"txt-value\">R$ 346.000</p>\\r\\n                        </div>\\r\\n                    </div>\\r\\n                </div>\\r\\n                <div class=\"well card\">\\r\\n                    <div class=\"col-md-3 image-card\">\\r\\n                        <img width=\"220\" height=\"155\" alt=\"Foto\" src=\"https://caelum-online-public.s3.amazonaws.com/1381-scraping/01/img-cars/alfa/alfa-1823056__340.jpg\">\\r\\n                    </div>\\r\\n                    <div class=\"col-md-6 body-card\">\\r\\n                        <p class=\"txt-name inline\">ALFA</p>\\r\\n                            <p class=\"txt-category badge badge-secondary inline\">USADO</p>\\r\\n                            \\r\\n                        <p class=\"txt-motor\">Motor 1.8 16v</p>\\r\\n                        <p class=\"txt-description\">Ano 2004 - 19.722 km</p>\\r\\n                        <ul class=\"lst-items\">\\r\\n                            <li class=\"txt-items\">\\xe2\\x96\\xba Central multim\\xc3\\xaddia</li>\\r\\n                            <li class=\"txt-items\">\\xe2\\x96\\xba Bancos de couro</li>\\r\\n                            <li class=\"txt-items\">\\xe2\\x96\\xba Rodas de liga</li>\\r\\n                            <li class=\"txt-items\">\\xe2\\x96\\xba C\\xc3\\xa2mera de estacionamento</li>\\r\\n                            <li class=\"txt-items\">...</li>\\r\\n                        </ul>\\r\\n                        <p class=\"txt-location\">Rio de Janeiro - RJ</p>\\r\\n                    </div>\\r\\n                    <div class=\"col-md-3 value-card\">\\r\\n                        <div class=\"value\">\\r\\n                            <p class=\"txt-value\">R$ 480.000</p>\\r\\n                        </div>\\r\\n                    </div>\\r\\n                </div>\\r\\n                <div class=\"well card\">\\r\\n                    <div class=\"col-md-3 image-card\">\\r\\n                        <img width=\"220\" height=\"155\" alt=\"Foto\" src=\"https://caelum-online-public.s3.amazonaws.com/1381-scraping/01/img-cars/puech/puech-4055386__340.jpg\">\\r\\n                    </div>\\r\\n                    <div class=\"col-md-6 body-card\">\\r\\n                        <p class=\"txt-name inline\">PUECH</p>\\r\\n                            <p class=\"txt-category badge badge-secondary inline\">USADO</p>\\r\\n                            \\r\\n                        <p class=\"txt-motor\">Motor Diesel V8</p>\\r\\n                        <p class=\"txt-description\">Ano 1992 - 34.335 km</p>\\r\\n                        <ul class=\"lst-items\">\\r\\n                            <li class=\"txt-items\">\\xe2\\x96\\xba Bancos de couro</li>\\r\\n                            <li class=\"txt-items\">\\xe2\\x96\\xba Freios ABS</li>\\r\\n                            <li class=\"txt-items\">\\xe2\\x96\\xba Rodas de liga</li>\\r\\n                            <li class=\"txt-items\">\\xe2\\x96\\xba C\\xc3\\xa2mbio autom\\xc3\\xa1tico</li>\\r\\n                            <li class=\"txt-items\">...</li>\\r\\n                        </ul>\\r\\n                        <p class=\"txt-location\">S\\xc3\\xa3o Paulo - SP</p>\\r\\n                    </div>\\r\\n                    <div class=\"col-md-3 value-card\">\\r\\n                        <div class=\"value\">\\r\\n                            <p class=\"txt-value\">R$ 133.000</p>\\r\\n                        </div>\\r\\n                    </div>\\r\\n                </div>\\r\\n                <div class=\"well card\">\\r\\n                    <div class=\"col-md-3 image-card\">\\r\\n                        <img width=\"220\" height=\"155\" alt=\"Foto\" src=\"https://caelum-online-public.s3.amazonaws.com/1381-scraping/01/img-cars/lamborghini-murcielago/lamborghini-murcielago-2872974__340.jpg\">\\r\\n                    </div>\\r\\n                    <div class=\"col-md-6 body-card\">\\r\\n                        <p class=\"txt-name inline\">LAMBORGHINI MURCIELAGO</p>\\r\\n                            <p class=\"txt-category badge badge-secondary inline\">USADO</p>\\r\\n                            \\r\\n                        <p class=\"txt-motor\">Motor 1.0 8v</p>\\r\\n                        <p class=\"txt-description\">Ano 1991 - 464 km</p>\\r\\n                        <ul class=\"lst-items\">\\r\\n                            <li class=\"txt-items\">\\xe2\\x96\\xba Central multim\\xc3\\xaddia</li>\\r\\n                            <li class=\"txt-items\">\\xe2\\x96\\xba Teto panor\\xc3\\xa2mico</li>\\r\\n                            <li class=\"txt-items\">\\xe2\\x96\\xba Sensor crepuscular</li>\\r\\n                            <li class=\"txt-items\">\\xe2\\x96\\xba Piloto autom\\xc3\\xa1tico</li>\\r\\n                            <li class=\"txt-items\">...</li>\\r\\n                        </ul>\\r\\n                        <p class=\"txt-location\">Belo Horizonte - MG</p>\\r\\n                    </div>\\r\\n                    <div class=\"col-md-3 value-card\">\\r\\n                        <div class=\"value\">\\r\\n                            <p class=\"txt-value\">R$ 175.000</p>\\r\\n                        </div>\\r\\n                    </div>\\r\\n                </div>\\r\\n                <div class=\"well card\">\\r\\n                    <div class=\"col-md-3 image-card\">\\r\\n                        <img width=\"220\" height=\"155\" alt=\"Foto\" src=\"https://caelum-online-public.s3.amazonaws.com/1381-scraping/01/img-cars/aston-martin/aston-martin-2977916__340.jpg\">\\r\\n                    </div>\\r\\n                    <div class=\"col-md-6 body-card\">\\r\\n                        <p class=\"txt-name inline\">ASTON MARTIN</p>\\r\\n                            <p class=\"txt-category badge badge-secondary inline\">USADO</p>\\r\\n                            <p class=\"txt-opportunity badge badge-danger inline\">OPORTUNIDADE</p>\\r\\n                        <p class=\"txt-motor\">Motor Diesel V6</p>\\r\\n                        <p class=\"txt-description\">Ano 2004 - 50.189 km</p>\\r\\n                        <ul class=\"lst-items\">\\r\\n                            <li class=\"txt-items\">\\xe2\\x96\\xba Painel digital</li>\\r\\n                            <li class=\"txt-items\">\\xe2\\x96\\xba Controle de tra\\xc3\\xa7\\xc3\\xa3o</li>\\r\\n                            <li class=\"txt-items\">\\xe2\\x96\\xba Teto panor\\xc3\\xa2mico</li>\\r\\n                            <li class=\"txt-items\">\\xe2\\x96\\xba Central multim\\xc3\\xaddia</li>\\r\\n                            <li class=\"txt-items\">...</li>\\r\\n                        </ul>\\r\\n                        <p class=\"txt-location\">Belo Horizonte - MG</p>\\r\\n                    </div>\\r\\n                    <div class=\"col-md-3 value-card\">\\r\\n                        <div class=\"value\">\\r\\n                            <p class=\"txt-value\">R$ 239.000</p>\\r\\n                        </div>\\r\\n                    </div>\\r\\n                </div>\\r\\n                <div class=\"well card\">\\r\\n                    <div class=\"col-md-3 image-card\">\\r\\n                        <img width=\"220\" height=\"155\" alt=\"Foto\" src=\"https://caelum-online-public.s3.amazonaws.com/1381-scraping/01/img-cars/tvr/tvr-2943925__340.jpg\">\\r\\n                    </div>\\r\\n                    <div class=\"col-md-6 body-card\">\\r\\n                        <p class=\"txt-name inline\">TVR</p>\\r\\n                            <p class=\"txt-category badge badge-secondary inline\">USADO</p>\\r\\n                            \\r\\n                        <p class=\"txt-motor\">Motor 4.0 Turbo</p>\\r\\n                        <p class=\"txt-description\">Ano 2014 - 17.778 km</p>\\r\\n                        <ul class=\"lst-items\">\\r\\n                            <li class=\"txt-items\">\\xe2\\x96\\xba 4 X 4</li>\\r\\n                            <li class=\"txt-items\">\\xe2\\x96\\xba Teto panor\\xc3\\xa2mico</li>\\r\\n                            <li class=\"txt-items\">\\xe2\\x96\\xba Central multim\\xc3\\xaddia</li>\\r\\n                            <li class=\"txt-items\">\\xe2\\x96\\xba Controle de estabilidade</li>\\r\\n                            <li class=\"txt-items\">...</li>\\r\\n                        </ul>\\r\\n                        <p class=\"txt-location\">Belo Horizonte - MG</p>\\r\\n                    </div>\\r\\n                    <div class=\"col-md-3 value-card\">\\r\\n                        <div class=\"value\">\\r\\n                            <p class=\"txt-value\">R$ 115.000</p>\\r\\n                        </div>\\r\\n                    </div>\\r\\n                </div>\\r\\n                <div class=\"well card\">\\r\\n                    <div class=\"col-md-3 image-card\">\\r\\n                        <img width=\"220\" height=\"155\" alt=\"Foto\" src=\"https://caelum-online-public.s3.amazonaws.com/1381-scraping/01/img-cars/excalibur/excalibur-2916730__340.jpg\">\\r\\n                    </div>\\r\\n                    <div class=\"col-md-6 body-card\">\\r\\n                        <p class=\"txt-name inline\">EXCALIBUR</p>\\r\\n                            <p class=\"txt-category badge badge-secondary inline\">USADO</p>\\r\\n                            \\r\\n                        <p class=\"txt-motor\">Motor 3.0 32v</p>\\r\\n                        <p class=\"txt-description\">Ano 2009 - 81.251 km</p>\\r\\n                        <ul class=\"lst-items\">\\r\\n                            <li class=\"txt-items\">\\xe2\\x96\\xba Painel digital</li>\\r\\n                            <li class=\"txt-items\">\\xe2\\x96\\xba C\\xc3\\xa2mbio autom\\xc3\\xa1tico</li>\\r\\n                            <li class=\"txt-items\">\\xe2\\x96\\xba Sensor de chuva</li>\\r\\n                            <li class=\"txt-items\">\\xe2\\x96\\xba Travas el\\xc3\\xa9tricas</li>\\r\\n                            <li class=\"txt-items\">...</li>\\r\\n                        </ul>\\r\\n                        <p class=\"txt-location\">Rio de Janeiro - RJ</p>\\r\\n                    </div>\\r\\n                    <div class=\"col-md-3 value-card\">\\r\\n                        <div class=\"value\">\\r\\n                            <p class=\"txt-value\">R$ 114.000</p>\\r\\n                        </div>\\r\\n                    </div>\\r\\n                </div>\\r\\n                <div class=\"well card\">\\r\\n                    <div class=\"col-md-3 image-card\">\\r\\n                        <img width=\"220\" height=\"155\" alt=\"Foto\" src=\"https://caelum-online-public.s3.amazonaws.com/1381-scraping/01/img-cars/mclaren/mclaren-2855240__340.jpg\">\\r\\n                    </div>\\r\\n                    <div class=\"col-md-6 body-card\">\\r\\n                        <p class=\"txt-name inline\">MCLAREN</p>\\r\\n                            <p class=\"txt-category badge badge-secondary inline\">NOVO</p>\\r\\n                            \\r\\n                        <p class=\"txt-motor\">Motor Diesel</p>\\r\\n                        <p class=\"txt-description\">Ano 2019 - 0 km</p>\\r\\n                        <ul class=\"lst-items\">\\r\\n                            <li class=\"txt-items\">\\xe2\\x96\\xba Central multim\\xc3\\xaddia</li>\\r\\n                            <li class=\"txt-items\">\\xe2\\x96\\xba C\\xc3\\xa2mera de estacionamento</li>\\r\\n                            <li class=\"txt-items\">\\xe2\\x96\\xba C\\xc3\\xa2mbio autom\\xc3\\xa1tico</li>\\r\\n                            <li class=\"txt-items\">\\xe2\\x96\\xba Ar condicionado</li>\\r\\n                            <li class=\"txt-items\">...</li>\\r\\n                        </ul>\\r\\n                        <p class=\"txt-location\">S\\xc3\\xa3o Paulo - SP</p>\\r\\n                    </div>\\r\\n                    <div class=\"col-md-3 value-card\">\\r\\n                        <div class=\"value\">\\r\\n                            <p class=\"txt-value\">R$ 75.000</p>\\r\\n                        </div>\\r\\n                    </div>\\r\\n                </div>\\r\\n                <div class=\"well card\">\\r\\n                    <div class=\"col-md-3 image-card\">\\r\\n                        <img width=\"220\" height=\"155\" alt=\"Foto\" src=\"https://caelum-online-public.s3.amazonaws.com/1381-scraping/01/img-cars/toyota/toyota-3245397__340.jpg\">\\r\\n                    </div>\\r\\n                    <div class=\"col-md-6 body-card\">\\r\\n                        <p class=\"txt-name inline\">TOYOTA</p>\\r\\n                            <p class=\"txt-category badge badge-secondary inline\">USADO</p>\\r\\n                            <p class=\"txt-opportunity badge badge-danger inline\">OPORTUNIDADE</p>\\r\\n                        <p class=\"txt-motor\">Motor 4.0 Turbo</p>\\r\\n                        <p class=\"txt-description\">Ano 1999 - 12.536 km</p>\\r\\n                        <ul class=\"lst-items\">\\r\\n                            <li class=\"txt-items\">\\xe2\\x96\\xba Bancos de couro</li>\\r\\n                            <li class=\"txt-items\">\\xe2\\x96\\xba Freios ABS</li>\\r\\n                            <li class=\"txt-items\">\\xe2\\x96\\xba Piloto autom\\xc3\\xa1tico</li>\\r\\n                            <li class=\"txt-items\">\\xe2\\x96\\xba Controle de estabilidade</li>\\r\\n                            <li class=\"txt-items\">...</li>\\r\\n                        </ul>\\r\\n                        <p class=\"txt-location\">S\\xc3\\xa3o Paulo - SP</p>\\r\\n                    </div>\\r\\n                    <div class=\"col-md-3 value-card\">\\r\\n                        <div class=\"value\">\\r\\n                            <p class=\"txt-value\">R$ 117.000</p>\\r\\n                        </div>\\r\\n                    </div>\\r\\n                </div>\\t\\t\\t\\t\\t\\t</div>\\r\\n\\t\\t\\t\\t\\t\\t<div class=\"type-select\">246 ve\\xc3\\xadculos encontrados</div>\\r\\n\\t\\t\\t\\t\\t\\t\\t<div class=\"container-pagination\" style=\"float: right\">\\r\\n\\t\\t\\t\\t\\t\\t\\t\\t<span class=\"info-pages\">P\\xc3\\xa1gina 1 de 25</span>\\r\\n\\t\\t\\t\\t\\t\\t\\t</div>\\r\\n\\t\\t\\t\\t\\t\\t</div>\\r\\n\\t\\t\\t\\t\\t</div>\\r\\n\\t\\t\\t\\t</div>\\r\\n\\t\\t\\t</div>\\r\\n\\t\\t</div>\\r\\n\\r\\n\\t\\t<footer>\\r\\n\\t\\t\\t<nav class=\"navbar navbar-inverse\">\\r\\n\\t\\t\\t\\t<div class=\"container\" style=\"margin-bottom: 10px;\">\\r\\n\\t\\t\\t\\t\\t<div class=\"navbar\">\\r\\n\\t\\t\\t\\t\\t\\t<a href=\"./index.php\" class=\"navbar-brand\" title=\"Alura Motors\">\\r\\n\\t\\t\\t\\t\\t\\t\\t<img src=\"img/alura-logo.svg\" class=\"d-inline-block align-top\" alt=\"Alura\">Motors\\r\\n\\t\\t\\t\\t\\t\\t</a>\\r\\n\\t\\t\\t\\t\\t\\t<p style=\"color: #fff; text-align: center; margin-top: 40px;\">Aplica\\xc3\\xa7\\xc3\\xa3o para treinamento de web scraping</p>\\r\\n\\t\\t\\t\\t\\t</div>\\r\\n\\t\\t\\t\\t</div>\\r\\n\\t\\t\\t</nav>\\r\\n\\t\\t</footer>\\r\\n\\r\\n\\t</div>\\r\\n\\r\\n</body>\\r\\n</html>\\r\\n'"
      ]
     },
     "metadata": {},
     "execution_count": 3
    }
   ],
   "source": [
    "from urllib.request import urlopen\n",
    "\n",
    "url = 'https://alura-site-scraping.herokuapp.com/index.php'\n",
    "\n",
    "response = urlopen(url)\n",
    "html = response.read()\n",
    "html"
   ]
  },
  {
   "cell_type": "markdown",
   "metadata": {},
   "source": [
    "## https://docs.python.org/3/library/urllib.request.html#urllib.request.Request"
   ]
  },
  {
   "cell_type": "code",
   "execution_count": 3,
   "metadata": {
    "tags": [
     "outputPrepend"
    ]
   },
   "outputs": [
    {
     "output_type": "stream",
     "name": "stdout",
     "text": [
      "f=\"/depoimentos\" gtm-data=\"footer_primeira_secao_069\">Depoimentos</a></li><li\\nclass=\"footer-navegue-lista-link\"><a\\nhref=\"/instrutores\" gtm-data=\"footer_primeira_secao_061\">Nossos Instrutores</a></li></ul><h2 class=\"footer-navegacao-titulo\">Parceiros</h2><ul\\nclass=\"footer-navegue-lista\"><li\\nclass=\"footer-navegue-lista-link alura-empresas\">\\n<img\\nsrc=\"/assets/img/footer/scale-up-endeavor.1617662393.png\" alt=\"Programa de acelera\\xc3\\xa7\\xc3\\xa3o Scale-Up Endeavor\" class=\"footer-navegue-lista__image\"></li><li\\nclass=\"footer-navegue-lista-link alura-empresas --partners\">\\nN\\xc3\\xb3s, da Alura, somos uma das Scale-Ups selecionadas pela Endeavor, programa de acelera\\xc3\\xa7\\xc3\\xa3o das empresas que mais crescem no pa\\xc3\\xads.</li></ul></div></div><div\\nclass=\"footer-info\"><div\\nclass=\"footer-logos\">\\n<a\\nclass=\"footer-logos-home\" gtm-data=\\'footer_primeira_secao_050\\' href=\"/\">\\n<img\\nsrc=\"/assets/img/home/alura-logo.1616501197.svg\" alt=\"Alura\" class=\"footer-logo\">\\n</a></div><div\\nclass=\"footer-card-hotLinks social-desktop\"><h2 class=\"footer-card-hotLinks-titulo\">Nossas redes e apps</h2><div\\nclass=\"footer-card-hotLinks-info footer-card-redes\">\\n<a\\nhref=\"https://www.youtube.com/alura\" gtm-data=\\'footer_primeira_secao_065\\' class=\"footer-card-hotLinks-link\" target=\"_blank\" title=\"YouTube da Alura\">\\n<svg\\nclass=\"footer-card-hotLinks-icon footer-card-hotLinks-youtube\"><use\\nxlink:href=\"/svg,1617662393/footer#icon-footer-youtube\"/></svg>\\n<span>YouTube</span>\\n</a>\\n<a\\nhref=\"https://www.facebook.com/AluraCursosOnline/\" gtm-data=\\'footer_primeira_secao_066\\' class=\"footer-card-hotLinks-link\" target=\"_blank\" title=\"Facebook da Alura\">\\n<svg\\nclass=\"footer-card-hotLinks-icon footer-card-hotLinks-facebook\"><use\\nxlink:href=\"/svg,1617662393/footer#icon-footer-facebook\"/></svg>\\n<span>Facebook</span>\\n</a>\\n<a\\nhref=\"https://twitter.com/aluraonline\" gtm-data=\\'footer_primeira_secao_067\\' class=\"footer-card-hotLinks-link\" target=\"_blank\" title=\"Twitter da Alura\">\\n<svg\\nclass=\"footer-card-hotLinks-icon footer-card-hotLinks-twitter\"><use\\nxlink:href=\"/svg,1617662393/footer#icon-footer-twitter\"/></svg>\\n<span>Twitter</span>\\n</a>\\n<a\\nhref=\"https://instagram.com/aluraonline\" class=\"footer-card-hotLinks-link\" gtm-data=\\'footer_primeira_secao_073\\' target=\"_blank\" title=\"Instagram da Alura\">\\n<svg\\nclass=\"footer-card-hotLinks-icon footer-card-hotLinks-instagram\"><use\\nxlink:href=\"/svg,1617662393/footer#icon-footer-instagram\"/></svg>\\n<span>Instagram</span>\\n</a></div><div\\nclass=\"footer-card-hotLinks-info footer-card-mobile\">\\n<a\\nhref=\"https://play.google.com/store/apps/details?id=br.com.alura.mobi&hl=pt_BR\" gtm-data=\\'footer_primeira_secao_069\\' class=\"footer-card-hotLinks-link\" target=\"_blank\" title=\"Baixar na Google Play Store\">\\n<svg\\nclass=\"footer-card-hotLinks-icon footer-card-hotLinks-mobile\"><use\\nxlink:href=\"/svg,1617662393/footer#icon-footer-googleplay\"/></svg>\\n<span>Google Play Store</span>\\n</a>\\n<a\\nhref=\"https://itunes.apple.com/br/app/alura-cursos-online/id1225776635\" gtm-data=\\'footer_primeira_secao_070\\' class=\"footer-card-hotLinks-link\" target=\"_blank\" title=\"Baixar na AppStore\">\\n<svg\\nclass=\"footer-card-hotLinks-icon footer-card-hotLinks-mobile\"><use\\nxlink:href=\"/svg,1617662393/footer#icon-footer-appstore\"/></svg>\\n<span>AppStore</span>\\n</a></div></div></div></div></footer><section\\nclass=\"footer_categorias-formacoes\"><div\\nclass=\"container\"><div\\nclass=\"footer_categorias_wrapper\"><h2 class=\"footer_categorias_title\">Cursos</h2><div\\nclass=\"footer_categorias_categorias footer-navegue-lista-link\"><div\\nclass=\"footer_categorias_categoria\">\\n<a\\nhref=\"/cursos-online-mobile\">Cursos de Mobile</a><div\\nclass=\"footer_categorias_subcategorias\">\\n<a\\nhref=\"/cursos-online-mobile/multiplataforma\">\\nFlutter, React Native                                        |                                    </a>\\n<a\\nhref=\"/cursos-online-mobile/ios\">\\niOS e Swift                                        |                                    </a>\\n<a\\nhref=\"/cursos-online-mobile/android\">\\nAndroid, Kotlin                                        |                                    </a>\\n<a\\nhref=\"/cursos-online-mobile/jogos\">\\nJogos                                                                            </a></div></div><div\\nclass=\"footer_categorias_categoria\">\\n<a\\nhref=\"/cursos-online-programacao\">Cursos de Programa\\xc3\\xa7\\xc3\\xa3o</a><div\\nclass=\"footer_categorias_subcategorias\">\\n<a\\nhref=\"/cursos-online-programacao/logica\">\\nL\\xc3\\xb3gica                                        |                                    </a>\\n<a\\nhref=\"/cursos-online-programacao/python\">\\nPython                                        |                                    </a>\\n<a\\nhref=\"/cursos-online-programacao/php\">\\nPHP                                        |                                    </a>\\n<a\\nhref=\"/cursos-online-programacao/java\">\\nJava                                        |                                    </a>\\n<a\\nhref=\"/cursos-online-programacao/dotnet\">\\n.NET                                        |                                    </a>\\n<a\\nhref=\"/cursos-online-programacao/node-js\">\\nNode JS                                        |                                    </a>\\n<a\\nhref=\"/cursos-online-programacao/linguagem-c\">\\nC                                        |                                    </a>\\n<a\\nhref=\"/cursos-online-programacao/computacao\">\\nComputa\\xc3\\xa7\\xc3\\xa3o                                        |                                    </a>\\n<a\\nhref=\"/cursos-online-programacao/jogos\">\\nJogos                                                                            </a></div></div><div\\nclass=\"footer_categorias_categoria\">\\n<a\\nhref=\"/cursos-online-front-end\">Cursos de Front-end</a><div\\nclass=\"footer_categorias_subcategorias\">\\n<a\\nhref=\"/cursos-online-front-end/front-end\">\\nHTML, CSS                                        |                                    </a>\\n<a\\nhref=\"/cursos-online-front-end/reactjs\">\\nReact                                        |                                    </a>\\n<a\\nhref=\"/cursos-online-front-end/angular\">\\nAngular                                        |                                    </a>\\n<a\\nhref=\"/cursos-online-front-end/javascript\">\\nJavaScript                                        |                                    </a>\\n<a\\nhref=\"/cursos-online-front-end/jquery\">\\njQuery                                                                            </a></div></div><div\\nclass=\"footer_categorias_categoria\">\\n<a\\nhref=\"/cursos-online-devops\">Cursos de DevOps</a><div\\nclass=\"footer_categorias_subcategorias\">\\n<a\\nhref=\"/cursos-online-devops/seguranca\">\\nSeguran\\xc3\\xa7a                                        |                                    </a>\\n<a\\nhref=\"/cursos-online-devops/cloud-computing\">\\nCloud                                        |                                    </a>\\n<a\\nhref=\"/cursos-online-devops/linux-comandos-e-processos\">\\nLinux                                        |                                    </a>\\n<a\\nhref=\"/cursos-online-devops/internet-das-coisas\">\\nIoT                                        |                                    </a>\\n<a\\nhref=\"/cursos-online-devops/redes\">\\nRedes                                                                            </a></div></div><div\\nclass=\"footer_categorias_categoria\">\\n<a\\nhref=\"/cursos-online-design-ux\">Cursos de Design & UX</a><div\\nclass=\"footer_categorias_subcategorias\">\\n<a\\nhref=\"/cursos-online-design-ux/wwww\">\\nPhotoshop e Illustrator                                        |                                    </a>\\n<a\\nhref=\"/cursos-online-design-ux/ux\">\\nUsabilidade e UX                                        |                                    </a>\\n<a\\nhref=\"/cursos-online-design-ux/video\">\\nV\\xc3\\xaddeo e Motion                                        |                                    </a>\\n<a\\nhref=\"/cursos-online-design-ux/3d\">\\n3D                                                                            </a></div></div><div\\nclass=\"footer_categorias_categoria\">\\n<a\\nhref=\"/cursos-online-data-science\">Cursos de Data Science</a><div\\nclass=\"footer_categorias_subcategorias\">\\n<a\\nhref=\"/cursos-online-data-science/sql\">\\nSQL e Banco de Dados                                        |                                    </a>\\n<a\\nhref=\"/cursos-online-data-science/nosql\">\\nNoSQL                                        |                                    </a>\\n<a\\nhref=\"/cursos-online-data-science/data-science\">\\nData Science                                        |                                    </a>\\n<a\\nhref=\"/cursos-online-data-science/machine-learning\">\\nMachine Learning                                        |                                    </a>\\n<a\\nhref=\"/cursos-online-data-science/business-intelligence\">\\nBI                                        |                                    </a>\\n<a\\nhref=\"/cursos-online-data-science/estatistica\">\\nEstat\\xc3\\xadstica                                        |                                    </a>\\n<a\\nhref=\"/cursos-online-data-science/excel\">\\nExcel                                                                            </a></div></div><div\\nclass=\"footer_categorias_categoria\">\\n<a\\nhref=\"/cursos-online-inovacao-gestao\">Cursos de Inova\\xc3\\xa7\\xc3\\xa3o & Gest\\xc3\\xa3o</a><div\\nclass=\"footer_categorias_subcategorias\">\\n<a\\nhref=\"/cursos-online-inovacao-gestao/agilidade\">\\nM\\xc3\\xa9todos \\xc3\\x81geis                                        |                                    </a>\\n<a\\nhref=\"/cursos-online-inovacao-gestao/softskills-carreira\">\\nSoftskills                                        |                                    </a>\\n<a\\nhref=\"/cursos-online-inovacao-gestao/gestao-corporativa\">\\nLideran\\xc3\\xa7a e Gest\\xc3\\xa3o                                        |                                    </a>\\n<a\\nhref=\"/cursos-online-inovacao-gestao/startup-empreendedorismo\">\\nStartups                                        |                                    </a>\\n<a\\nhref=\"/cursos-online-inovacao-gestao/vendas\">\\nVendas                                                                            </a></div></div></div></div></div></section><style>@media not all and (min-width: 1000px){\\n\\t\\t.grupoCaelum{\\n\\t\\t\\tdisplay: none;\\n\\t\\t}\\n\\t}\\n\\n\\t.grupoCaelum{\\n\\t\\tbackground: #fff;\\n\\t\\theight: 240px;\\n\\t\\tborder-top: 1px solid #EBEBEE;\\n\\t}\\n\\n\\t.grupoCaelum .container{\\n\\t\\tdisplay: flex;\\n\\t\\tjustify-content: space-between;\\n\\t\\talign-items: flex-start;\\n\\t\\tpadding-top: 0;\\n\\t\\tpadding-bottom: 0;\\n\\t\\theight: 100%;\\n\\t}\\n\\n\\t\\t.grupoCaelum-list{\\n\\t\\t\\tdisplay: flex;\\n\\t\\t\\tlist-style: none;\\n\\t\\t\\twidth: 60%;\\n\\t\\t\\tjustify-content: space-between;\\n\\t\\t\\talign-items: flex-start;\\n\\t\\t\\tmargin-top: 20px;\\n\\t\\t}\\n\\n\\t\\t.grupoCaelum-title{\\n\\t\\t\\twidth: 20%;\\n\\t\\t}\\n\\n\\t\\t.grupoCaelum-column {\\n\\t\\t\\tdisplay: inline-block;\\n\\t\\t\\tpadding-left: 19px;\\n\\t\\t\\twidth: 240px;\\n\\t\\t\\theight: 210px;\\n\\t\\t\\tmin-width: 160px;\\n\\t\\t}\\n\\t\\t\\t.grupoCaelum-column-title {\\n\\t\\t\\t\\tfont-size: 10px;\\n\\t\\t\\t\\tcolor: #d7e0e5;\\n\\t\\t\\t\\ttext-transform: uppercase;\\n\\t\\t\\t\\tfont-weight: 600;\\n\\t\\t\\t\\tmargin-bottom: 19px;\\n\\t\\t\\t}\\n\\n\\t\\t\\t.grupoCaelum-column-list {\\n\\t\\t\\t\\tlist-style: none;\\n\\t\\t\\t}\\n\\n\\t\\t\\t.column-item-title {\\n\\t\\t\\t\\tfont-size: 11px;\\n\\t\\t\\t\\ttext-align: center;\\n\\t\\t\\t\\tvertical-align: middle;\\n\\t\\t\\t\\tdisplay: inline-block;\\n\\t\\t\\t\\tmargin-left: 6.5px;\\n\\t\\t\\t}\\n\\n\\t\\t.grupoCaelum-column:not(:first-child) {\\n\\t\\t\\tborder-left: solid 1px #e3e9ed;\\n\\t\\t}\\n\\n\\t\\t.grupoCaelum-title {\\n\\t\\t\\tdisplay: inline-block;\\n\\t\\t\\ttext-decoration: none;\\n\\t\\t\\tcolor: #657176;\\n\\t\\t\\tletter-spacing: normal;\\n\\t\\t\\tfont-size: 18px;\\n\\t\\t\\tmargin-top: 54px;\\n\\t\\t}\\n\\n\\t.column-item-logo {\\n\\t\\twidth: 30px;\\n\\t\\theight: 30px;\\n\\t\\tvertical-align: middle;\\n\\t\\tdisplay: inline-block;\\n\\t}\\n\\n\\t.column-item {\\n\\t\\tmargin-bottom: 17px;\\n\\t}\\n\\n\\t.column-item a{\\n\\t\\ttext-decoration: none;\\n\\t\\tcolor: #657176;\\n\\t}</style><footer\\nclass=\"caelum-footer\"><div\\nclass=\"grupoCaelum\"><div\\nclass=\"container\"><p\\nclass=\"grupoCaelum-title\">Grupo Alura</p><ul\\nclass=\"grupoCaelum-list\"><li\\nclass=\"grupoCaelum-column\"><p\\nclass=\"grupoCaelum-column-title\">Educa\\xc3\\xa7\\xc3\\xa3o</p><ul\\nclass=\"grupoCaelum-column-list\"><li\\nclass=\"column-item\">\\n<a\\ntarget=\"_blank\" href=\"https://www.caelum.com.br\"><svg\\nclass=\"column-item-logo\"><use\\nxlink:href=\"/svg,1616501197/caelumFooter#icon-caelumFooter-novo-logo-caelum\"><span\\nclass=\"column-item-title\">Caelum</span></svg>\\n</a></li><li\\nclass=\"column-item\">\\n<a\\ntarget=\"_blank\" href=\"https://www.casadocodigo.com.br\">\\n<svg\\nclass=\"column-item-logo\"><use\\nxlink:href=\"/svg,1616501197/caelumFooter#icon-caelumFooter-cdc\"><span\\nclass=\"column-item-title\">Casa do C\\xc3\\xb3digo</span></svg>\\n</a></li></ul></li><li\\nclass=\"grupoCaelum-column\"><p\\nclass=\"grupoCaelum-column-title\">Educa\\xc3\\xa7\\xc3\\xa3o Online</p><ul\\nclass=\"grupoCaelum-column-list\"><li\\nclass=\"column-item\">\\n<a\\ntarget=\"_blank\" href=\"https://www.alura.com.br\">\\n<svg\\nclass=\"column-item-logo\"><use\\nxlink:href=\"/svg,1616501197/caelumFooter#icon-caelumFooter-alura\"><span\\nclass=\"column-item-title\">Alura</span></svg>\\n</a></li><li\\nclass=\"column-item\">\\n<a\\ntarget=\"_blank\" href=\"https://www.alurastart.com.br\">\\n<svg\\nclass=\"column-item-logo\"><use\\nxlink:href=\"/svg,1616501197/caelumFooter#icon-caelumFooter-alurastart\"><span\\nclass=\"column-item-title\">Alura Start</span></svg>\\n</a></li><li\\nclass=\"column-item\">\\n<a\\ntarget=\"_blank\" href=\"https://www.musicdot.com.br\">\\n<svg\\nclass=\"column-item-logo\"><use\\nxlink:href=\"/svg,1616501197/caelumFooter#icon-caelumFooter-musicdot\"><span\\nclass=\"column-item-title\">MusicDot</span></svg>\\n</a></li><li\\nclass=\"column-item\">\\n<a\\ntarget=\"_blank\" href=\"https://www.aluralingua.com.br\">\\n<svg\\nclass=\"column-item-logo\"><use\\nxlink:href=\"/svg,1616501197/caelumFooter#icon-caelumFooter-aluralingua\"><span\\nclass=\"column-item-title\">Alura L\\xc3\\xadngua</span></svg>\\n</a></li></ul></li><li\\nclass=\"grupoCaelum-column\"><p\\nclass=\"grupoCaelum-column-title\">Comunidade</p><ul\\nclass=\"grupoCaelum-column-list\"><li\\nclass=\"column-item\">\\n<a\\ntarget=\"_blank\" href=\"https://hipsters.tech\">\\n<svg\\nclass=\"column-item-logo\"><use\\nxlink:href=\"/svg,1616501197/caelumFooter#icon-caelumFooter-hipsterstech\"><span\\nclass=\"column-item-title\">Hipsters ponto Tech</span></svg>\\n</a></li><li\\nclass=\"column-item\">\\n<a\\ntarget=\"_blank\" href=\"https://hipsters.jobs\">\\n<svg\\nclass=\"column-item-logo\"><use\\nxlink:href=\"/svg,1616501197/caelumFooter#icon-caelumFooter-hipstersjobs\"><span\\nclass=\"column-item-title\">Hipsters ponto Jobs</span></svg>\\n</a></li><li\\nclass=\"column-item\">\\n<a\\ntarget=\"_blank\" href=\"https://www.guj.com.br\">\\n<svg\\nclass=\"column-item-logo\"><use\\nxlink:href=\"/svg,1616501197/caelumFooter#icon-caelumFooter-guj\"><span\\nclass=\"column-item-title\">GUJ</span></svg>\\n</a></li></ul></li></ul></div></div></footer> <script>(function(){\\n    var match = location.pathname.match(/\\\\/(bf-|black-?friday\\\\/)([^\\\\/]+)/);\\n    if (match != null) {\\n        var links = document.querySelectorAll(\\'a[href]\\');\\n        for (var i = 0; i < links.length; i++) {\\n            var href = links[i].getAttribute(\\'href\\');\\n            if (href[0] === \\'/\\') {\\n                links[i].setAttribute(\\'href\\', \\'/bf-\\' + match[2] + href);\\n            }\\n        }\\n    }\\n})();</script> <script src=\"https://ajax.googleapis.com/ajax/libs/jquery/3.5.1/jquery.min.js\"></script> <script src=\"/assets/js/lib/svg4everybody.min.1616501197.js\" async></script> <script src=\"/assets/js/header/menu.1616501197.js\" async></script> <script src=\"/assets/js/header/busca.1616501197.js\" async></script> <script src=\"/assets/js/header/cursos.1617821052.js\" async></script> <script src=\"/assets/js/detect.1616501197.js\" async></script> <script src=\"/assets/js/video.1616501197.js\" async></script> <script src=\"/assets/js/Countdown.1616501197.js\" async></script> <script>var userId = (document.cookie.match(\\'alura.userId=([^;]+)\\')||[null,null])[1];\\n  window.ga=window.ga||function(){(ga.q=ga.q||[]).push(arguments)};ga.l=+new Date;\\n\\n  \\tga(\\'create\\', \\'UA-42101548-1\\', \\'alura.com.br\\', \\'tracker0\\', {\\'siteSpeedSampleRate\\': 50});\\n\\n\\tif (userId) ga(\\'tracker0.set\\', \\'userId\\', userId);\\n\\n\\tga(\\'tracker0.require\\', \\'displayfeatures\\');\\n\\tga(\\'tracker0.send\\', \\'pageview\\');\\n  \\tga(\\'create\\', \\'UA-42101548-9\\', \\'alura.com.br\\', \\'tracker1\\', {\\'siteSpeedSampleRate\\': 50});\\n\\n\\tif (userId) ga(\\'tracker1.set\\', \\'userId\\', userId);\\n\\n\\tga(\\'tracker1.require\\', \\'displayfeatures\\');\\n\\tga(\\'tracker1.send\\', \\'pageview\\');</script> <script async src=\\'//www.google-analytics.com/analytics.js\\'></script> <script src=\"/assets/js/footer/footer.1616501197.js\" async></script> <script src=\"//cdnjs.cloudflare.com/ajax/libs/highlight.js/10.4.0/highlight.min.js\"></script> <script>hljs.initHighlightingOnLoad();</script> <script src=\"https://static.criteo.net/js/ld/ld.js\" async></script> <script>function criteoPush(event, data){\\n\\t\\tvar isAluno = document.cookie.match(\\'alura.userId=([^;]+)\\') != null;\\n\\t\\tif(isAluno) return;\\n\\n\\t\\twindow.criteo_q = window.criteo_q || [];\\n\\t\\t\\n\\t\\tif (event == \\'viewHome\\')\\n\\t\\t\\tvar dt = { event: event}\\n\\t\\telse\\n\\t\\t\\tvar dt = { event: event, item: data};\\n\\n\\t\\twindow.criteo_q.push(\\n\\t\\t\\t{ event: \"setAccount\", account: 28037 },\\n\\t\\t\\t{ event: \"setEmail\", email: \"\" },\\n\\t\\t\\t{ event: \"setSiteType\", type: (/iPad/.test(navigator.userAgent) ? \"t\" : (/Mobile|iP(hone|od)|Android|BlackBerry|IEMobile/.test(navigator.userAgent) ? \"m\" : \"d\")) },\\n\\t\\t\\tdt\\n\\t\\t);\\t\\n\\t};\\n\\n\\t\\t\\tcriteoPush(\"viewHome\", \"\");\\n\\t\\t\\n\\t\\tvar criteoIdEl = document.querySelector(\\'[data-criteo-id]\\');\\n\\tif (criteoIdEl) {\\n        var products = JSON.parse(criteoIdEl.dataset.criteoId);\\n        var planos = document.querySelectorAll(\\'[data-payment-plan]\\');\\n\\n        planos.forEach(function (plano) {\\n            plano.addEventListener(\\'click\\', function (event) {\\n\\t\\t\\t\\tvar price = plano.dataset.paymentPlanPrice;\\n                var totalProducts = products.length;\\n\\t\\t\\t\\tvar productIds = \\'\\';\\n\\n                for(var i = 0; i < totalProducts; i++){\\n                    products[i][\\'price\\'] = price;\\n                    products[i][\\'quantity\\'] = 1;\\n\\t\\t\\t\\t\\tproductIds += \\',\\' + products[i][\\'id\\'];\\n                }\\n\\n\\t\\t\\t\\tproductIds = productIds.substr(1);\\n\\n\\t\\t\\t\\t// monta cookie pro Cart indicando quais cursos foram clicados\\n        \\t\\tdocument.cookie = \"criteo.productIds=\" + productIds + \"; path=/; domain=.alura.com.br\";\\n\\n\\t\\t\\t\\t// manda pro criteo\\n                criteoPush(\"viewBasket\", products);\\n            });\\n        });\\n\\n\\n\\t}</script> <script>(function(h,o,t,j,a,r){\\n        h.hj=h.hj||function(){(h.hj.q=h.hj.q||[]).push(arguments)};\\n        h._hjSettings={hjid:1029027,hjsv:6};\\n        a=o.getElementsByTagName(\\'head\\')[0];\\n        r=o.createElement(\\'script\\');r.async=1;\\n        r.src=t+h._hjSettings.hjid+j+h._hjSettings.hjsv;\\n        a.appendChild(r);\\n    })(window,document,\\'https://static.hotjar.com/c/hotjar-\\',\\'.js?sv=\\');</script> <script type=\"text/javascript\">_linkedin_partner_id = \"465017\";\\n\\t\\t\\twindow._linkedin_data_partner_ids = window._linkedin_data_partner_ids || [];\\n\\t\\t\\twindow._linkedin_data_partner_ids.push(_linkedin_partner_id);</script> <script type=\"text/javascript\">(function(){var s = document.getElementsByTagName(\"script\")[0];\\n\\t\\t\\tvar b = document.createElement(\"script\");\\n\\t\\t\\tb.type = \"text/javascript\";b.async = true;\\n\\t\\t\\tb.src = \"https://snap.licdn.com/li.lms-analytics/insight.min.js\";\\n\\t\\t\\ts.parentNode.insertBefore(b, s);})();</script> <noscript>\\n<img\\nheight=\"1\" width=\"1\" style=\"display:none;\" alt=\"\"\\nsrc=\"https://dc.ads.linkedin.com/collect/?pid=465017&fmt=gif\" />\\n</noscript></body></html>'\n"
     ]
    }
   ],
   "source": [
    "from urllib.request import Request, urlopen\n",
    "from urllib.error import URLError, HTTPError\n",
    "\n",
    "url = 'https://www.alura.com.br'\n",
    "headers = {'User-Agent': 'Mozilla/5.0 (Windows NT 10.0; Win64; x64; rv:87.0) Gecko/20100101 Firefox/87.0'}\n",
    "\n",
    "try:\n",
    "    req = Request(url, headers = headers)\n",
    "    response = urlopen(req)\n",
    "    print(response.read())\n",
    "\n",
    "except HTTPError as e:\n",
    "    print(e.status, e.reason)\n",
    "\n",
    "except URLError as e:\n",
    "    print(e.reason)"
   ]
  },
  {
   "cell_type": "markdown",
   "metadata": {},
   "source": [
    "# 2.3. Tratamento de string"
   ]
  },
  {
   "cell_type": "code",
   "execution_count": 9,
   "metadata": {},
   "outputs": [
    {
     "output_type": "execute_result",
     "data": {
      "text/plain": [
       "<link rel=\"stylesheet\" href=\"https://maxcdn.bootstrapcdn.com/bootstrap/3.3.7/css/bootstrap.min.css\" integrity=\"sha384-BVYiiSIFeK1dGmJRAkycuHAHRg32OmUcww7on3RYdg4Va+PmSTsz/K68vbdEjh4u\" crossorigin=\"anonymous\">\\r\\n\\t<link rel=\"stylesheet\" href=\"css/styles.css\" media=\"all\">\\r\\n\\r\\n\\t<script src=\"https://code.jquery.com/jquery-1.12.4.js\"></script>\\r\\n\\t<script src=\"https://maxcdn.bootstrapcdn.com/bootstrap/3.3.7/js/bootstrap.min.js\" integrity=\"sha384-Tc5IQib027qvyjSMfHjOMaLkfuWVxZxUPnCJA7l2mCWNIpG9mGCD8wGNIcPD7Txa\" crossorigin=\"anonymous\"></script>\\r\\n\\t<script type=\"text/javascript\" src=\"js/index.js\"></script>\\r\\n\\t<script>\\r\\n\\t\\trequisitar(\"https://alura-scraping.herokuapp.com/produtos?_page=\"+1+\"&_limit=10\")\\r\\n\\t</script>\\r\\n\\r\\n</head>\\r\\n<body cz-shortcut-listen=\"true\">\\r\\n    <noscript>You need to enable JavaScript to run this app.</noscript>\\r\\n\\r\\n\\t<div class=\"modal fade\" data-backdrop=\"static\" id=\"loadingModal\" tabindex=\"-1\" role=\"dialog\" aria-labelledby=\"loadingModal_label\">\\r\\n\\t\\t<div class=\"modal-dialog\" role=\"document\">\\r\\n\\t\\t\\t<div class=\"modal-content\">\\r\\n\\t\\t\\t\\t<div class=\"modal-header\">\\r\\n\\t\\t\\t\\t\\t<h5 class=\"modal-title\" id=\"loadingModal_label\">\\r\\n\\t\\t\\t\\t\\t\\t<span class=\"glyphicon glyphicon-refresh\"></span>Aguarde...\\r\\n\\t\\t\\t\\t\\t</h5>\\r\\n\\t\\t\\t\\t</div>\\r\\n\\t\\t\\t\\t<div class=\"modal-body\">\\r\\n\\t\\t\\t\\t\\t<div class=\\'alert\\' role=\\'alert\\'>\\r\\n\\t\\t\\t\\t\\t\\t<center>\\r\\n\\t\\t\\t\\t\\t\\t\\t<div class=\"loader\" id=\"loader\"></div><br>\\r\\n\\t\\t\\t\\t\\t\\t\\t<h4><b id=\"loadingModal_content\"></b></h4>\\r\\n\\t\\t\\t\\t\\t\\t</center>\\r\\n\\t\\t\\t\\t\\t</div>\\r\\n\\t\\t\\t\\t</div>\\r\\n\\t\\t\\t</div>\\r\\n\\t\\t</div>\\r\\n\\t</div>\\r\\n\\r\\n    <div id=\"root\">\\r\\n\\t\\t<header>\\r\\n\\t\\t\\t<nav class=\"navbar navbar-inverse\" style=\"margin-bottom: 0;\">\\r\\n\\t\\t\\t\\t<div class=\"container\" style=\"margin-bottom: -20px;\">\\r\\n\\t\\t\\t\\t\\t<div class=\"navbar\">\\r\\n\\t\\t\\t\\t\\t\\t<a href=\"./index.php\" class=\"navbar-brand\" title=\"Alura Motors\">\\r\\n\\t\\t\\t\\t\\t\\t\\t<img src=\"img/alura-logo.svg\" class=\"d-inline-block align-top\" alt=\"Alura\">Motors\\r\\n\\t\\t\\t\\t\\t\\t</a>\\r\\n\\t\\t\\t\\t\\t\\t<ul class=\"nav navbar-nav\" style=\"margin-top: 35px;\">\\r\\n\\t\\t\\t\\t\\t\\t\\t<li><a href=\"./hello-world.php\">Hello World</a></li>\\r\\n\\t\\t\\t\\t\\t\\t\\t<li><a href=\"./index.php\">An\\xc3\\xbancios</a></li>\\r\\n\\t\\t\\t\\t\\t\\t</ul>\\r\\n\\t\\t\\t\\t\\t</div>\\r\\n\\t\\t\\t\\t</div>\\r\\n\\t\\t\\t</nav>\\r\\n\\t\\t</header>\\r\\n\\r\\n\\t\\t<div class=\"container\">\\r\\n\\t\\t\\t<h1 class=\"sub-header\">Ve\\xc3\\xadculos de Luxo Novos e Usados - Todas as Marcas</h1>\\r\\n\\t\\t\\t<div class=\"row\">\\r\\n\\t\\t\\t\\t<div class=\"col-md-12\">\\r\\n\\t\\t\\t\\t\\t<div class=\"container\" style=\"width: 100%\">\\r\\n\\t\\t\\t\\t\\t\\t<div class=\"type-select\">246 ve\\xc3\\xadculos encontrados</div>\\r\\n\\t\\t\\t\\t\\t\\t\\t<div class=\"container-pagination\" style=\"float: right\">\\r\\n\\t\\t\\t\\t\\t\\t\\t\\t<span class=\"info-pages\">P\\xc3\\xa1gina 1 de 25</span>\\r\\n\\t\\t\\t\\t\\t\\t\\t</div>\\r\\n\\t\\t\\t\\t\\t\\t</div>\\r\\n\\t\\t\\t\\t\\t\\t<div id=\"container-cards\" style=\"height: 100%\">\\r\\n\\t\\t\\t\\t\\t\\t\\t\\r\\n                <div class=\"well card\">\\r\\n                    <div class=\"col-md-3 image-card\">\\r\\n                        <img width=\"220\" height=\"155\" alt=\"Foto\" src=\"https://caelum-online-public.s3.amazonaws.com/1381-scraping/01/img-cars/lamborghini-aventador/lamborghini-aventador-2932196__340.jpg\">\\r\\n                    </div>\\r\\n                    <div class=\"col-md-6 body-card\">\\r\\n                        <p class=\"txt-name inline\">LAMBORGHINI AVENTADOR</p>\\r\\n                            <p class=\"txt-category badge badge-secondary inline\">USADO</p>\\r\\n                            \\r\\n                        <p class=\"txt-motor\">Motor 1.8 16v</p>\\r\\n                        <p class=\"txt-description\">Ano 1993 - 55.286 km</p>\\r\\n                        <ul class=\"lst-items\">\\r\\n                            <li class=\"txt-items\">\\xe2\\x96\\xba 4 X 4</li>\\r\\n                            <li class=\"txt-items\">\\xe2\\x96\\xba C\\xc3\\xa2mera de estacionamento</li>\\r\\n                            <li class=\"txt-items\">\\xe2\\x96\\xba Controle de tra\\xc3\\xa7\\xc3\\xa3o</li>\\r\\n                            <li class=\"txt-items\">\\xe2\\x96\\xba Sensor de estacionamento</li>\\r\\n                            <li class=\"txt-items\">...</li>\\r\\n                        </ul>\\r\\n                        <p class=\"txt-location\">Belo Horizonte - MG</p>\\r\\n                    </div>\\r\\n                    <div class=\"col-md-3 value-card\">\\r\\n                        <div class=\"value\">\\r\\n                            <p class=\"txt-value\">R$ 338.000</p>\\r\\n                        </div>\\r\\n                    </div>\\r\\n                </div>\\r\\n                <div class=\"well card\">\\r\\n                    <div class=\"col-md-3 image-card\">\\r\\n                        <img width=\"220\" height=\"155\" alt=\"Foto\" src=\"https://caelum-online-public.s3.amazonaws.com/1381-scraping/01/img-cars/bmw-m2/bmw-m2-2970882__340.jpg\">\\r\\n                    </div>\\r\\n                    <div class=\"col-md-6 body-card\">\\r\\n                        <p class=\"txt-name inline\">BMW M2</p>\\r\\n                            <p class=\"txt-category badge badge-secondary inline\">USADO</p>\\r\\n                            \\r\\n                        <p class=\"txt-motor\">Motor 3.0 32v</p>\\r\\n                        <p class=\"txt-description\">Ano 2018 - 83.447 km</p>\\r\\n                        <ul class=\"lst-items\">\\r\\n                            <li class=\"txt-items\">\\xe2\\x96\\xba C\\xc3\\xa2mera de estacionamento</li>\\r\\n                            <li class=\"txt-items\">\\xe2\\x96\\xba Controle de estabilidade</li>\\r\\n                            <li class=\"txt-items\">\\xe2\\x96\\xba Travas el\\xc3\\xa9tricas</li>\\r\\n                            <li class=\"txt-items\">\\xe2\\x96\\xba Freios ABS</li>\\r\\n                            <li class=\"txt-items\">...</li>\\r\\n                        </ul>\\r\\n                        <p class=\"txt-location\">Belo Horizonte - MG</p>\\r\\n                    </div>\\r\\n                    <div class=\"col-md-3 value-card\">\\r\\n                        <div class=\"value\">\\r\\n                            <p class=\"txt-value\">R$ 346.000</p>\\r\\n                        </div>\\r\\n                    </div>\\r\\n                </div>\\r\\n                <div class=\"well card\">\\r\\n                    <div class=\"col-md-3 image-card\">\\r\\n                        <img width=\"220\" height=\"155\" alt=\"Foto\" src=\"https://caelum-online-public.s3.amazonaws.com/1381-scraping/01/img-cars/alfa/alfa-1823056__340.jpg\">\\r\\n                    </div>\\r\\n                    <div class=\"col-md-6 body-card\">\\r\\n                        <p class=\"txt-name inline\">ALFA</p>\\r\\n                            <p class=\"txt-category badge badge-secondary inline\">USADO</p>\\r\\n                            \\r\\n                        <p class=\"txt-motor\">Motor 1.8 16v</p>\\r\\n                        <p class=\"txt-description\">Ano 2004 - 19.722 km</p>\\r\\n                        <ul class=\"lst-items\">\\r\\n                            <li class=\"txt-items\">\\xe2\\x96\\xba Central multim\\xc3\\xaddia</li>\\r\\n                            <li class=\"txt-items\">\\xe2\\x96\\xba Bancos de couro</li>\\r\\n                            <li class=\"txt-items\">\\xe2\\x96\\xba Rodas de liga</li>\\r\\n                            <li class=\"txt-items\">\\xe2\\x96\\xba C\\xc3\\xa2mera de estacionamento</li>\\r\\n                            <li class=\"txt-items\">...</li>\\r\\n                        </ul>\\r\\n                        <p class=\"txt-location\">Rio de Janeiro - RJ</p>\\r\\n                    </div>\\r\\n                    <div class=\"col-md-3 value-card\">\\r\\n                        <div class=\"value\">\\r\\n                            <p class=\"txt-value\">R$ 480.000</p>\\r\\n                        </div>\\r\\n                    </div>\\r\\n                </div>\\r\\n                <div class=\"well card\">\\r\\n                    <div class=\"col-md-3 image-card\">\\r\\n                        <img width=\"220\" height=\"155\" alt=\"Foto\" src=\"https://caelum-online-public.s3.amazonaws.com/1381-scraping/01/img-cars/puech/puech-4055386__340.jpg\">\\r\\n                    </div>\\r\\n                    <div class=\"col-md-6 body-card\">\\r\\n                        <p class=\"txt-name inline\">PUECH</p>\\r\\n                            <p class=\"txt-category badge badge-secondary inline\">USADO</p>\\r\\n                            \\r\\n                        <p class=\"txt-motor\">Motor Diesel V8</p>\\r\\n                        <p class=\"txt-description\">Ano 1992 - 34.335 km</p>\\r\\n                        <ul class=\"lst-items\">\\r\\n                            <li class=\"txt-items\">\\xe2\\x96\\xba Bancos de couro</li>\\r\\n                            <li class=\"txt-items\">\\xe2\\x96\\xba Freios ABS</li>\\r\\n                            <li class=\"txt-items\">\\xe2\\x96\\xba Rodas de liga</li>\\r\\n                            <li class=\"txt-items\">\\xe2\\x96\\xba C\\xc3\\xa2mbio autom\\xc3\\xa1tico</li>\\r\\n                            <li class=\"txt-items\">...</li>\\r\\n                        </ul>\\r\\n                        <p class=\"txt-location\">S\\xc3\\xa3o Paulo - SP</p>\\r\\n                    </div>\\r\\n                    <div class=\"col-md-3 value-card\">\\r\\n                        <div class=\"value\">\\r\\n                            <p class=\"txt-value\">R$ 133.000</p>\\r\\n                        </div>\\r\\n                    </div>\\r\\n                </div>\\r\\n                <div class=\"well card\">\\r\\n                    <div class=\"col-md-3 image-card\">\\r\\n                        <img width=\"220\" height=\"155\" alt=\"Foto\" src=\"https://caelum-online-public.s3.amazonaws.com/1381-scraping/01/img-cars/lamborghini-murcielago/lamborghini-murcielago-2872974__340.jpg\">\\r\\n                    </div>\\r\\n                    <div class=\"col-md-6 body-card\">\\r\\n                        <p class=\"txt-name inline\">LAMBORGHINI MURCIELAGO</p>\\r\\n                            <p class=\"txt-category badge badge-secondary inline\">USADO</p>\\r\\n                            \\r\\n                        <p class=\"txt-motor\">Motor 1.0 8v</p>\\r\\n                        <p class=\"txt-description\">Ano 1991 - 464 km</p>\\r\\n                        <ul class=\"lst-items\">\\r\\n                            <li class=\"txt-items\">\\xe2\\x96\\xba Central multim\\xc3\\xaddia</li>\\r\\n                            <li class=\"txt-items\">\\xe2\\x96\\xba Teto panor\\xc3\\xa2mico</li>\\r\\n                            <li class=\"txt-items\">\\xe2\\x96\\xba Sensor crepuscular</li>\\r\\n                            <li class=\"txt-items\">\\xe2\\x96\\xba Piloto autom\\xc3\\xa1tico</li>\\r\\n                            <li class=\"txt-items\">...</li>\\r\\n                        </ul>\\r\\n                        <p class=\"txt-location\">Belo Horizonte - MG</p>\\r\\n                    </div>\\r\\n                    <div class=\"col-md-3 value-card\">\\r\\n                        <div class=\"value\">\\r\\n                            <p class=\"txt-value\">R$ 175.000</p>\\r\\n                        </div>\\r\\n                    </div>\\r\\n                </div>\\r\\n                <div class=\"well card\">\\r\\n                    <div class=\"col-md-3 image-card\">\\r\\n                        <img width=\"220\" height=\"155\" alt=\"Foto\" src=\"https://caelum-online-public.s3.amazonaws.com/1381-scraping/01/img-cars/aston-martin/aston-martin-2977916__340.jpg\">\\r\\n                    </div>\\r\\n                    <div class=\"col-md-6 body-card\">\\r\\n                        <p class=\"txt-name inline\">ASTON MARTIN</p>\\r\\n                            <p class=\"txt-category badge badge-secondary inline\">USADO</p>\\r\\n                            <p class=\"txt-opportunity badge badge-danger inline\">OPORTUNIDADE</p>\\r\\n                        <p class=\"txt-motor\">Motor Diesel V6</p>\\r\\n                        <p class=\"txt-description\">Ano 2004 - 50.189 km</p>\\r\\n                        <ul class=\"lst-items\">\\r\\n                            <li class=\"txt-items\">\\xe2\\x96\\xba Painel digital</li>\\r\\n                            <li class=\"txt-items\">\\xe2\\x96\\xba Controle de tra\\xc3\\xa7\\xc3\\xa3o</li>\\r\\n                            <li class=\"txt-items\">\\xe2\\x96\\xba Teto panor\\xc3\\xa2mico</li>\\r\\n                            <li class=\"txt-items\">\\xe2\\x96\\xba Central multim\\xc3\\xaddia</li>\\r\\n                            <li class=\"txt-items\">...</li>\\r\\n                        </ul>\\r\\n                        <p class=\"txt-location\">Belo Horizonte - MG</p>\\r\\n                    </div>\\r\\n                    <div class=\"col-md-3 value-card\">\\r\\n                        <div class=\"value\">\\r\\n                            <p class=\"txt-value\">R$ 239.000</p>\\r\\n                        </div>\\r\\n                    </div>\\r\\n                </div>\\r\\n                <div class=\"well card\">\\r\\n                    <div class=\"col-md-3 image-card\">\\r\\n                        <img width=\"220\" height=\"155\" alt=\"Foto\" src=\"https://caelum-online-public.s3.amazonaws.com/1381-scraping/01/img-cars/tvr/tvr-2943925__340.jpg\">\\r\\n                    </div>\\r\\n                    <div class=\"col-md-6 body-card\">\\r\\n                        <p class=\"txt-name inline\">TVR</p>\\r\\n                            <p class=\"txt-category badge badge-secondary inline\">USADO</p>\\r\\n                            \\r\\n                        <p class=\"txt-motor\">Motor 4.0 Turbo</p>\\r\\n                        <p class=\"txt-description\">Ano 2014 - 17.778 km</p>\\r\\n                        <ul class=\"lst-items\">\\r\\n                            <li class=\"txt-items\">\\xe2\\x96\\xba 4 X 4</li>\\r\\n                            <li class=\"txt-items\">\\xe2\\x96\\xba Teto panor\\xc3\\xa2mico</li>\\r\\n                            <li class=\"txt-items\">\\xe2\\x96\\xba Central multim\\xc3\\xaddia</li>\\r\\n                            <li class=\"txt-items\">\\xe2\\x96\\xba Controle de estabilidade</li>\\r\\n                            <li class=\"txt-items\">...</li>\\r\\n                        </ul>\\r\\n                        <p class=\"txt-location\">Belo Horizonte - MG</p>\\r\\n                    </div>\\r\\n                    <div class=\"col-md-3 value-card\">\\r\\n                        <div class=\"value\">\\r\\n                            <p class=\"txt-value\">R$ 115.000</p>\\r\\n                        </div>\\r\\n                    </div>\\r\\n                </div>\\r\\n                <div class=\"well card\">\\r\\n                    <div class=\"col-md-3 image-card\">\\r\\n                        <img width=\"220\" height=\"155\" alt=\"Foto\" src=\"https://caelum-online-public.s3.amazonaws.com/1381-scraping/01/img-cars/excalibur/excalibur-2916730__340.jpg\">\\r\\n                    </div>\\r\\n                    <div class=\"col-md-6 body-card\">\\r\\n                        <p class=\"txt-name inline\">EXCALIBUR</p>\\r\\n                            <p class=\"txt-category badge badge-secondary inline\">USADO</p>\\r\\n                            \\r\\n                        <p class=\"txt-motor\">Motor 3.0 32v</p>\\r\\n                        <p class=\"txt-description\">Ano 2009 - 81.251 km</p>\\r\\n                        <ul class=\"lst-items\">\\r\\n                            <li class=\"txt-items\">\\xe2\\x96\\xba Painel digital</li>\\r\\n                            <li class=\"txt-items\">\\xe2\\x96\\xba C\\xc3\\xa2mbio autom\\xc3\\xa1tico</li>\\r\\n                            <li class=\"txt-items\">\\xe2\\x96\\xba Sensor de chuva</li>\\r\\n                            <li class=\"txt-items\">\\xe2\\x96\\xba Travas el\\xc3\\xa9tricas</li>\\r\\n                            <li class=\"txt-items\">...</li>\\r\\n                        </ul>\\r\\n                        <p class=\"txt-location\">Rio de Janeiro - RJ</p>\\r\\n                    </div>\\r\\n                    <div class=\"col-md-3 value-card\">\\r\\n                        <div class=\"value\">\\r\\n                            <p class=\"txt-value\">R$ 114.000</p>\\r\\n                        </div>\\r\\n                    </div>\\r\\n                </div>\\r\\n                <div class=\"well card\">\\r\\n                    <div class=\"col-md-3 image-card\">\\r\\n                        <img width=\"220\" height=\"155\" alt=\"Foto\" src=\"https://caelum-online-public.s3.amazonaws.com/1381-scraping/01/img-cars/mclaren/mclaren-2855240__340.jpg\">\\r\\n                    </div>\\r\\n                    <div class=\"col-md-6 body-card\">\\r\\n                        <p class=\"txt-name inline\">MCLAREN</p>\\r\\n                            <p class=\"txt-category badge badge-secondary inline\">NOVO</p>\\r\\n                            \\r\\n                        <p class=\"txt-motor\">Motor Diesel</p>\\r\\n                        <p class=\"txt-description\">Ano 2019 - 0 km</p>\\r\\n                        <ul class=\"lst-items\">\\r\\n                            <li class=\"txt-items\">\\xe2\\x96\\xba Central multim\\xc3\\xaddia</li>\\r\\n                            <li class=\"txt-items\">\\xe2\\x96\\xba C\\xc3\\xa2mera de estacionamento</li>\\r\\n                            <li class=\"txt-items\">\\xe2\\x96\\xba C\\xc3\\xa2mbio autom\\xc3\\xa1tico</li>\\r\\n                            <li class=\"txt-items\">\\xe2\\x96\\xba Ar condicionado</li>\\r\\n                            <li class=\"txt-items\">...</li>\\r\\n                        </ul>\\r\\n                        <p class=\"txt-location\">S\\xc3\\xa3o Paulo - SP</p>\\r\\n                    </div>\\r\\n                    <div class=\"col-md-3 value-card\">\\r\\n                        <div class=\"value\">\\r\\n                            <p class=\"txt-value\">R$ 75.000</p>\\r\\n                        </div>\\r\\n                    </div>\\r\\n                </div>\\r\\n                <div class=\"well card\">\\r\\n                    <div class=\"col-md-3 image-card\">\\r\\n                        <img width=\"220\" height=\"155\" alt=\"Foto\" src=\"https://caelum-online-public.s3.amazonaws.com/1381-scraping/01/img-cars/toyota/toyota-3245397__340.jpg\">\\r\\n                    </div>\\r\\n                    <div class=\"col-md-6 body-card\">\\r\\n                        <p class=\"txt-name inline\">TOYOTA</p>\\r\\n                            <p class=\"txt-category badge badge-secondary inline\">USADO</p>\\r\\n                            <p class=\"txt-opportunity badge badge-danger inline\">OPORTUNIDADE</p>\\r\\n                        <p class=\"txt-motor\">Motor 4.0 Turbo</p>\\r\\n                        <p class=\"txt-description\">Ano 1999 - 12.536 km</p>\\r\\n                        <ul class=\"lst-items\">\\r\\n                            <li class=\"txt-items\">\\xe2\\x96\\xba Bancos de couro</li>\\r\\n                            <li class=\"txt-items\">\\xe2\\x96\\xba Freios ABS</li>\\r\\n                            <li class=\"txt-items\">\\xe2\\x96\\xba Piloto autom\\xc3\\xa1tico</li>\\r\\n                            <li class=\"txt-items\">\\xe2\\x96\\xba Controle de estabilidade</li>\\r\\n                            <li class=\"txt-items\">...</li>\\r\\n                        </ul>\\r\\n                        <p class=\"txt-location\">S\\xc3\\xa3o Paulo - SP</p>\\r\\n                    </div>\\r\\n                    <div class=\"col-md-3 value-card\">\\r\\n                        <div class=\"value\">\\r\\n                            <p class=\"txt-value\">R$ 117.000</p>\\r\\n                        </div>\\r\\n                    </div>\\r\\n                </div>\\t\\t\\t\\t\\t\\t</div>\\r\\n\\t\\t\\t\\t\\t\\t<div class=\"type-select\">246 ve\\xc3\\xadculos encontrados</div>\\r\\n\\t\\t\\t\\t\\t\\t\\t<div class=\"container-pagination\" style=\"float: right\">\\r\\n\\t\\t\\t\\t\\t\\t\\t\\t<span class=\"info-pages\">P\\xc3\\xa1gina 1 de 25</span>\\r\\n\\t\\t\\t\\t\\t\\t\\t</div>\\r\\n\\t\\t\\t\\t\\t\\t</div>\\r\\n\\t\\t\\t\\t\\t</div>\\r\\n\\t\\t\\t\\t</div>\\r\\n\\t\\t\\t</div>\\r\\n\\t\\t</div>\\r\\n\\r\\n\\t\\t<footer>\\r\\n\\t\\t\\t<nav class=\"navbar navbar-inverse\">\\r\\n\\t\\t\\t\\t<div class=\"container\" style=\"margin-bottom: 10px;\">\\r\\n\\t\\t\\t\\t\\t<div class=\"navbar\">\\r\\n\\t\\t\\t\\t\\t\\t<a href=\"./index.php\" class=\"navbar-brand\" title=\"Alura Motors\">\\r\\n\\t\\t\\t\\t\\t\\t\\t<img src=\"img/alura-logo.svg\" class=\"d-inline-block align-top\" alt=\"Alura\">Motors\\r\\n\\t\\t\\t\\t\\t\\t</a>\\r\\n\\t\\t\\t\\t\\t\\t<p style=\"color: #fff; text-align: center; margin-top: 40px;\">Aplica\\xc3\\xa7\\xc3\\xa3o para treinamento de web scraping</p>\\r\\n\\t\\t\\t\\t\\t</div>\\r\\n\\t\\t\\t\\t</div>\\r\\n\\t\\t\\t</nav>\\r\\n\\t\\t</footer>\\r\\n\\r\\n\\t</div>\\r\\n\\r\\n</body>\\r\\n</html>\\r\\n'"
      ]
     },
     "metadata": {},
     "execution_count": 9
    }
   ],
   "source": [
    "from urllib.request import urlopen\n",
    "\n",
    "url = 'https://alura-site-scraping.herokuapp.com/index.php'\n",
    "\n",
    "response = urlopen(url)\n",
    "html = response.read()\n",
    "html"
   ]
  },
  {
   "cell_type": "markdown",
   "metadata": {},
   "source": [
    "### Convertando o tipo bytes para string"
   ]
  },
  {
   "cell_type": "code",
   "execution_count": 10,
   "metadata": {},
   "outputs": [
    {
     "output_type": "execute_result",
     "data": {
      "text/plain": [
       "bytes"
      ]
     },
     "metadata": {},
     "execution_count": 10
    }
   ],
   "source": [
    "type(html)"
   ]
  },
  {
   "cell_type": "code",
   "execution_count": 11,
   "metadata": {},
   "outputs": [],
   "source": [
    "html = html.decode('utf-8')"
   ]
  },
  {
   "cell_type": "code",
   "execution_count": 12,
   "metadata": {},
   "outputs": [
    {
     "output_type": "execute_result",
     "data": {
      "text/plain": [
       "str"
      ]
     },
     "metadata": {},
     "execution_count": 12
    }
   ],
   "source": [
    "type(html)"
   ]
  },
  {
   "cell_type": "code",
   "execution_count": 13,
   "metadata": {},
   "outputs": [
    {
     "output_type": "execute_result",
     "data": {
      "text/plain": [
       "k-to-fit=no\">\\r\\n\\r\\n    <title>Alura Motors</title>\\r\\n\\r\\n\\t<style>\\r\\n\\t\\t/*Regra para a animacao*/\\r\\n\\t\\t@keyframes spin {\\r\\n\\t\\t\\t0% { transform: rotate(0deg); }\\r\\n\\t\\t\\t100% { transform: rotate(360deg); }\\r\\n\\t\\t}\\r\\n\\t\\t/*Mudando o tamanho do icone de resposta*/\\r\\n\\t\\tdiv.glyphicon {\\r\\n\\t\\t\\tcolor:#6B8E23;\\r\\n\\t\\t\\tfont-size: 38px;\\r\\n\\t\\t}\\r\\n\\t\\t/*Classe que mostra a animacao \\'spin\\'*/\\r\\n\\t\\t.loader {\\r\\n\\t\\t\\tborder: 16px solid #f3f3f3;\\r\\n\\t\\t\\tborder-radius: 50%;\\r\\n\\t\\t\\tborder-top: 16px solid #3498db;\\r\\n\\t\\t\\twidth: 80px;\\r\\n\\t\\t\\theight: 80px;\\r\\n\\t\\t\\t-webkit-animation: spin 2s linear infinite;\\r\\n\\t\\t\\tanimation: spin 2s linear infinite;\\r\\n\\t\\t}\\r\\n\\t</style>\\r\\n\\t<link rel=\"stylesheet\" href=\"https://maxcdn.bootstrapcdn.com/bootstrap/3.3.7/css/bootstrap.min.css\" integrity=\"sha384-BVYiiSIFeK1dGmJRAkycuHAHRg32OmUcww7on3RYdg4Va+PmSTsz/K68vbdEjh4u\" crossorigin=\"anonymous\">\\r\\n\\t<link rel=\"stylesheet\" href=\"css/styles.css\" media=\"all\">\\r\\n\\r\\n\\t<script src=\"https://code.jquery.com/jquery-1.12.4.js\"></script>\\r\\n\\t<script src=\"https://maxcdn.bootstrapcdn.com/bootstrap/3.3.7/js/bootstrap.min.js\" integrity=\"sha384-Tc5IQib027qvyjSMfHjOMaLkfuWVxZxUPnCJA7l2mCWNIpG9mGCD8wGNIcPD7Txa\" crossorigin=\"anonymous\"></script>\\r\\n\\t<script type=\"text/javascript\" src=\"js/index.js\"></script>\\r\\n\\t<script>\\r\\n\\t\\trequisitar(\"https://alura-scraping.herokuapp.com/produtos?_page=\"+1+\"&_limit=10\")\\r\\n\\t</script>\\r\\n\\r\\n</head>\\r\\n<body cz-shortcut-listen=\"true\">\\r\\n    <noscript>You need to enable JavaScript to run this app.</noscript>\\r\\n\\r\\n\\t<div class=\"modal fade\" data-backdrop=\"static\" id=\"loadingModal\" tabindex=\"-1\" role=\"dialog\" aria-labelledby=\"loadingModal_label\">\\r\\n\\t\\t<div class=\"modal-dialog\" role=\"document\">\\r\\n\\t\\t\\t<div class=\"modal-content\">\\r\\n\\t\\t\\t\\t<div class=\"modal-header\">\\r\\n\\t\\t\\t\\t\\t<h5 class=\"modal-title\" id=\"loadingModal_label\">\\r\\n\\t\\t\\t\\t\\t\\t<span class=\"glyphicon glyphicon-refresh\"></span>Aguarde...\\r\\n\\t\\t\\t\\t\\t</h5>\\r\\n\\t\\t\\t\\t</div>\\r\\n\\t\\t\\t\\t<div class=\"modal-body\">\\r\\n\\t\\t\\t\\t\\t<div class=\\'alert\\' role=\\'alert\\'>\\r\\n\\t\\t\\t\\t\\t\\t<center>\\r\\n\\t\\t\\t\\t\\t\\t\\t<div class=\"loader\" id=\"loader\"></div><br>\\r\\n\\t\\t\\t\\t\\t\\t\\t<h4><b id=\"loadingModal_content\"></b></h4>\\r\\n\\t\\t\\t\\t\\t\\t</center>\\r\\n\\t\\t\\t\\t\\t</div>\\r\\n\\t\\t\\t\\t</div>\\r\\n\\t\\t\\t</div>\\r\\n\\t\\t</div>\\r\\n\\t</div>\\r\\n\\r\\n    <div id=\"root\">\\r\\n\\t\\t<header>\\r\\n\\t\\t\\t<nav class=\"navbar navbar-inverse\" style=\"margin-bottom: 0;\">\\r\\n\\t\\t\\t\\t<div class=\"container\" style=\"margin-bottom: -20px;\">\\r\\n\\t\\t\\t\\t\\t<div class=\"navbar\">\\r\\n\\t\\t\\t\\t\\t\\t<a href=\"./index.php\" class=\"navbar-brand\" title=\"Alura Motors\">\\r\\n\\t\\t\\t\\t\\t\\t\\t<img src=\"img/alura-logo.svg\" class=\"d-inline-block align-top\" alt=\"Alura\">Motors\\r\\n\\t\\t\\t\\t\\t\\t</a>\\r\\n\\t\\t\\t\\t\\t\\t<ul class=\"nav navbar-nav\" style=\"margin-top: 35px;\">\\r\\n\\t\\t\\t\\t\\t\\t\\t<li><a href=\"./hello-world.php\">Hello World</a></li>\\r\\n\\t\\t\\t\\t\\t\\t\\t<li><a href=\"./index.php\">Anúncios</a></li>\\r\\n\\t\\t\\t\\t\\t\\t</ul>\\r\\n\\t\\t\\t\\t\\t</div>\\r\\n\\t\\t\\t\\t</div>\\r\\n\\t\\t\\t</nav>\\r\\n\\t\\t</header>\\r\\n\\r\\n\\t\\t<div class=\"container\">\\r\\n\\t\\t\\t<h1 class=\"sub-header\">Veículos de Luxo Novos e Usados - Todas as Marcas</h1>\\r\\n\\t\\t\\t<div class=\"row\">\\r\\n\\t\\t\\t\\t<div class=\"col-md-12\">\\r\\n\\t\\t\\t\\t\\t<div class=\"container\" style=\"width: 100%\">\\r\\n\\t\\t\\t\\t\\t\\t<div class=\"type-select\">246 veículos encontrados</div>\\r\\n\\t\\t\\t\\t\\t\\t\\t<div class=\"container-pagination\" style=\"float: right\">\\r\\n\\t\\t\\t\\t\\t\\t\\t\\t<span class=\"info-pages\">Página 1 de 25</span>\\r\\n\\t\\t\\t\\t\\t\\t\\t</div>\\r\\n\\t\\t\\t\\t\\t\\t</div>\\r\\n\\t\\t\\t\\t\\t\\t<div id=\"container-cards\" style=\"height: 100%\">\\r\\n\\t\\t\\t\\t\\t\\t\\t\\r\\n                <div class=\"well card\">\\r\\n                    <div class=\"col-md-3 image-card\">\\r\\n                        <img width=\"220\" height=\"155\" alt=\"Foto\" src=\"https://caelum-online-public.s3.amazonaws.com/1381-scraping/01/img-cars/lamborghini-aventador/lamborghini-aventador-2932196__340.jpg\">\\r\\n                    </div>\\r\\n                    <div class=\"col-md-6 body-card\">\\r\\n                        <p class=\"txt-name inline\">LAMBORGHINI AVENTADOR</p>\\r\\n                            <p class=\"txt-category badge badge-secondary inline\">USADO</p>\\r\\n                            \\r\\n                        <p class=\"txt-motor\">Motor 1.8 16v</p>\\r\\n                        <p class=\"txt-description\">Ano 1993 - 55.286 km</p>\\r\\n                        <ul class=\"lst-items\">\\r\\n                            <li class=\"txt-items\">► 4 X 4</li>\\r\\n                            <li class=\"txt-items\">► Câmera de estacionamento</li>\\r\\n                            <li class=\"txt-items\">► Controle de tração</li>\\r\\n                            <li class=\"txt-items\">► Sensor de estacionamento</li>\\r\\n                            <li class=\"txt-items\">...</li>\\r\\n                        </ul>\\r\\n                        <p class=\"txt-location\">Belo Horizonte - MG</p>\\r\\n                    </div>\\r\\n                    <div class=\"col-md-3 value-card\">\\r\\n                        <div class=\"value\">\\r\\n                            <p class=\"txt-value\">R$ 338.000</p>\\r\\n                        </div>\\r\\n                    </div>\\r\\n                </div>\\r\\n                <div class=\"well card\">\\r\\n                    <div class=\"col-md-3 image-card\">\\r\\n                        <img width=\"220\" height=\"155\" alt=\"Foto\" src=\"https://caelum-online-public.s3.amazonaws.com/1381-scraping/01/img-cars/bmw-m2/bmw-m2-2970882__340.jpg\">\\r\\n                    </div>\\r\\n                    <div class=\"col-md-6 body-card\">\\r\\n                        <p class=\"txt-name inline\">BMW M2</p>\\r\\n                            <p class=\"txt-category badge badge-secondary inline\">USADO</p>\\r\\n                            \\r\\n                        <p class=\"txt-motor\">Motor 3.0 32v</p>\\r\\n                        <p class=\"txt-description\">Ano 2018 - 83.447 km</p>\\r\\n                        <ul class=\"lst-items\">\\r\\n                            <li class=\"txt-items\">► Câmera de estacionamento</li>\\r\\n                            <li class=\"txt-items\">► Controle de estabilidade</li>\\r\\n                            <li class=\"txt-items\">► Travas elétricas</li>\\r\\n                            <li class=\"txt-items\">► Freios ABS</li>\\r\\n                            <li class=\"txt-items\">...</li>\\r\\n                        </ul>\\r\\n                        <p class=\"txt-location\">Belo Horizonte - MG</p>\\r\\n                    </div>\\r\\n                    <div class=\"col-md-3 value-card\">\\r\\n                        <div class=\"value\">\\r\\n                            <p class=\"txt-value\">R$ 346.000</p>\\r\\n                        </div>\\r\\n                    </div>\\r\\n                </div>\\r\\n                <div class=\"well card\">\\r\\n                    <div class=\"col-md-3 image-card\">\\r\\n                        <img width=\"220\" height=\"155\" alt=\"Foto\" src=\"https://caelum-online-public.s3.amazonaws.com/1381-scraping/01/img-cars/alfa/alfa-1823056__340.jpg\">\\r\\n                    </div>\\r\\n                    <div class=\"col-md-6 body-card\">\\r\\n                        <p class=\"txt-name inline\">ALFA</p>\\r\\n                            <p class=\"txt-category badge badge-secondary inline\">USADO</p>\\r\\n                            \\r\\n                        <p class=\"txt-motor\">Motor 1.8 16v</p>\\r\\n                        <p class=\"txt-description\">Ano 2004 - 19.722 km</p>\\r\\n                        <ul class=\"lst-items\">\\r\\n                            <li class=\"txt-items\">► Central multimídia</li>\\r\\n                            <li class=\"txt-items\">► Bancos de couro</li>\\r\\n                            <li class=\"txt-items\">► Rodas de liga</li>\\r\\n                            <li class=\"txt-items\">► Câmera de estacionamento</li>\\r\\n                            <li class=\"txt-items\">...</li>\\r\\n                        </ul>\\r\\n                        <p class=\"txt-location\">Rio de Janeiro - RJ</p>\\r\\n                    </div>\\r\\n                    <div class=\"col-md-3 value-card\">\\r\\n                        <div class=\"value\">\\r\\n                            <p class=\"txt-value\">R$ 480.000</p>\\r\\n                        </div>\\r\\n                    </div>\\r\\n                </div>\\r\\n                <div class=\"well card\">\\r\\n                    <div class=\"col-md-3 image-card\">\\r\\n                        <img width=\"220\" height=\"155\" alt=\"Foto\" src=\"https://caelum-online-public.s3.amazonaws.com/1381-scraping/01/img-cars/puech/puech-4055386__340.jpg\">\\r\\n                    </div>\\r\\n                    <div class=\"col-md-6 body-card\">\\r\\n                        <p class=\"txt-name inline\">PUECH</p>\\r\\n                            <p class=\"txt-category badge badge-secondary inline\">USADO</p>\\r\\n                            \\r\\n                        <p class=\"txt-motor\">Motor Diesel V8</p>\\r\\n                        <p class=\"txt-description\">Ano 1992 - 34.335 km</p>\\r\\n                        <ul class=\"lst-items\">\\r\\n                            <li class=\"txt-items\">► Bancos de couro</li>\\r\\n                            <li class=\"txt-items\">► Freios ABS</li>\\r\\n                            <li class=\"txt-items\">► Rodas de liga</li>\\r\\n                            <li class=\"txt-items\">► Câmbio automático</li>\\r\\n                            <li class=\"txt-items\">...</li>\\r\\n                        </ul>\\r\\n                        <p class=\"txt-location\">São Paulo - SP</p>\\r\\n                    </div>\\r\\n                    <div class=\"col-md-3 value-card\">\\r\\n                        <div class=\"value\">\\r\\n                            <p class=\"txt-value\">R$ 133.000</p>\\r\\n                        </div>\\r\\n                    </div>\\r\\n                </div>\\r\\n                <div class=\"well card\">\\r\\n                    <div class=\"col-md-3 image-card\">\\r\\n                        <img width=\"220\" height=\"155\" alt=\"Foto\" src=\"https://caelum-online-public.s3.amazonaws.com/1381-scraping/01/img-cars/lamborghini-murcielago/lamborghini-murcielago-2872974__340.jpg\">\\r\\n                    </div>\\r\\n                    <div class=\"col-md-6 body-card\">\\r\\n                        <p class=\"txt-name inline\">LAMBORGHINI MURCIELAGO</p>\\r\\n                            <p class=\"txt-category badge badge-secondary inline\">USADO</p>\\r\\n                            \\r\\n                        <p class=\"txt-motor\">Motor 1.0 8v</p>\\r\\n                        <p class=\"txt-description\">Ano 1991 - 464 km</p>\\r\\n                        <ul class=\"lst-items\">\\r\\n                            <li class=\"txt-items\">► Central multimídia</li>\\r\\n                            <li class=\"txt-items\">► Teto panorâmico</li>\\r\\n                            <li class=\"txt-items\">► Sensor crepuscular</li>\\r\\n                            <li class=\"txt-items\">► Piloto automático</li>\\r\\n                            <li class=\"txt-items\">...</li>\\r\\n                        </ul>\\r\\n                        <p class=\"txt-location\">Belo Horizonte - MG</p>\\r\\n                    </div>\\r\\n                    <div class=\"col-md-3 value-card\">\\r\\n                        <div class=\"value\">\\r\\n                            <p class=\"txt-value\">R$ 175.000</p>\\r\\n                        </div>\\r\\n                    </div>\\r\\n                </div>\\r\\n                <div class=\"well card\">\\r\\n                    <div class=\"col-md-3 image-card\">\\r\\n                        <img width=\"220\" height=\"155\" alt=\"Foto\" src=\"https://caelum-online-public.s3.amazonaws.com/1381-scraping/01/img-cars/aston-martin/aston-martin-2977916__340.jpg\">\\r\\n                    </div>\\r\\n                    <div class=\"col-md-6 body-card\">\\r\\n                        <p class=\"txt-name inline\">ASTON MARTIN</p>\\r\\n                            <p class=\"txt-category badge badge-secondary inline\">USADO</p>\\r\\n                            <p class=\"txt-opportunity badge badge-danger inline\">OPORTUNIDADE</p>\\r\\n                        <p class=\"txt-motor\">Motor Diesel V6</p>\\r\\n                        <p class=\"txt-description\">Ano 2004 - 50.189 km</p>\\r\\n                        <ul class=\"lst-items\">\\r\\n                            <li class=\"txt-items\">► Painel digital</li>\\r\\n                            <li class=\"txt-items\">► Controle de tração</li>\\r\\n                            <li class=\"txt-items\">► Teto panorâmico</li>\\r\\n                            <li class=\"txt-items\">► Central multimídia</li>\\r\\n                            <li class=\"txt-items\">...</li>\\r\\n                        </ul>\\r\\n                        <p class=\"txt-location\">Belo Horizonte - MG</p>\\r\\n                    </div>\\r\\n                    <div class=\"col-md-3 value-card\">\\r\\n                        <div class=\"value\">\\r\\n                            <p class=\"txt-value\">R$ 239.000</p>\\r\\n                        </div>\\r\\n                    </div>\\r\\n                </div>\\r\\n                <div class=\"well card\">\\r\\n                    <div class=\"col-md-3 image-card\">\\r\\n                        <img width=\"220\" height=\"155\" alt=\"Foto\" src=\"https://caelum-online-public.s3.amazonaws.com/1381-scraping/01/img-cars/tvr/tvr-2943925__340.jpg\">\\r\\n                    </div>\\r\\n                    <div class=\"col-md-6 body-card\">\\r\\n                        <p class=\"txt-name inline\">TVR</p>\\r\\n                            <p class=\"txt-category badge badge-secondary inline\">USADO</p>\\r\\n                            \\r\\n                        <p class=\"txt-motor\">Motor 4.0 Turbo</p>\\r\\n                        <p class=\"txt-description\">Ano 2014 - 17.778 km</p>\\r\\n                        <ul class=\"lst-items\">\\r\\n                            <li class=\"txt-items\">► 4 X 4</li>\\r\\n                            <li class=\"txt-items\">► Teto panorâmico</li>\\r\\n                            <li class=\"txt-items\">► Central multimídia</li>\\r\\n                            <li class=\"txt-items\">► Controle de estabilidade</li>\\r\\n                            <li class=\"txt-items\">...</li>\\r\\n                        </ul>\\r\\n                        <p class=\"txt-location\">Belo Horizonte - MG</p>\\r\\n                    </div>\\r\\n                    <div class=\"col-md-3 value-card\">\\r\\n                        <div class=\"value\">\\r\\n                            <p class=\"txt-value\">R$ 115.000</p>\\r\\n                        </div>\\r\\n                    </div>\\r\\n                </div>\\r\\n                <div class=\"well card\">\\r\\n                    <div class=\"col-md-3 image-card\">\\r\\n                        <img width=\"220\" height=\"155\" alt=\"Foto\" src=\"https://caelum-online-public.s3.amazonaws.com/1381-scraping/01/img-cars/excalibur/excalibur-2916730__340.jpg\">\\r\\n                    </div>\\r\\n                    <div class=\"col-md-6 body-card\">\\r\\n                        <p class=\"txt-name inline\">EXCALIBUR</p>\\r\\n                            <p class=\"txt-category badge badge-secondary inline\">USADO</p>\\r\\n                            \\r\\n                        <p class=\"txt-motor\">Motor 3.0 32v</p>\\r\\n                        <p class=\"txt-description\">Ano 2009 - 81.251 km</p>\\r\\n                        <ul class=\"lst-items\">\\r\\n                            <li class=\"txt-items\">► Painel digital</li>\\r\\n                            <li class=\"txt-items\">► Câmbio automático</li>\\r\\n                            <li class=\"txt-items\">► Sensor de chuva</li>\\r\\n                            <li class=\"txt-items\">► Travas elétricas</li>\\r\\n                            <li class=\"txt-items\">...</li>\\r\\n                        </ul>\\r\\n                        <p class=\"txt-location\">Rio de Janeiro - RJ</p>\\r\\n                    </div>\\r\\n                    <div class=\"col-md-3 value-card\">\\r\\n                        <div class=\"value\">\\r\\n                            <p class=\"txt-value\">R$ 114.000</p>\\r\\n                        </div>\\r\\n                    </div>\\r\\n                </div>\\r\\n                <div class=\"well card\">\\r\\n                    <div class=\"col-md-3 image-card\">\\r\\n                        <img width=\"220\" height=\"155\" alt=\"Foto\" src=\"https://caelum-online-public.s3.amazonaws.com/1381-scraping/01/img-cars/mclaren/mclaren-2855240__340.jpg\">\\r\\n                    </div>\\r\\n                    <div class=\"col-md-6 body-card\">\\r\\n                        <p class=\"txt-name inline\">MCLAREN</p>\\r\\n                            <p class=\"txt-category badge badge-secondary inline\">NOVO</p>\\r\\n                            \\r\\n                        <p class=\"txt-motor\">Motor Diesel</p>\\r\\n                        <p class=\"txt-description\">Ano 2019 - 0 km</p>\\r\\n                        <ul class=\"lst-items\">\\r\\n                            <li class=\"txt-items\">► Central multimídia</li>\\r\\n                            <li class=\"txt-items\">► Câmera de estacionamento</li>\\r\\n                            <li class=\"txt-items\">► Câmbio automático</li>\\r\\n                            <li class=\"txt-items\">► Ar condicionado</li>\\r\\n                            <li class=\"txt-items\">...</li>\\r\\n                        </ul>\\r\\n                        <p class=\"txt-location\">São Paulo - SP</p>\\r\\n                    </div>\\r\\n                    <div class=\"col-md-3 value-card\">\\r\\n                        <div class=\"value\">\\r\\n                            <p class=\"txt-value\">R$ 75.000</p>\\r\\n                        </div>\\r\\n                    </div>\\r\\n                </div>\\r\\n                <div class=\"well card\">\\r\\n                    <div class=\"col-md-3 image-card\">\\r\\n                        <img width=\"220\" height=\"155\" alt=\"Foto\" src=\"https://caelum-online-public.s3.amazonaws.com/1381-scraping/01/img-cars/toyota/toyota-3245397__340.jpg\">\\r\\n                    </div>\\r\\n                    <div class=\"col-md-6 body-card\">\\r\\n                        <p class=\"txt-name inline\">TOYOTA</p>\\r\\n                            <p class=\"txt-category badge badge-secondary inline\">USADO</p>\\r\\n                            <p class=\"txt-opportunity badge badge-danger inline\">OPORTUNIDADE</p>\\r\\n                        <p class=\"txt-motor\">Motor 4.0 Turbo</p>\\r\\n                        <p class=\"txt-description\">Ano 1999 - 12.536 km</p>\\r\\n                        <ul class=\"lst-items\">\\r\\n                            <li class=\"txt-items\">► Bancos de couro</li>\\r\\n                            <li class=\"txt-items\">► Freios ABS</li>\\r\\n                            <li class=\"txt-items\">► Piloto automático</li>\\r\\n                            <li class=\"txt-items\">► Controle de estabilidade</li>\\r\\n                            <li class=\"txt-items\">...</li>\\r\\n                        </ul>\\r\\n                        <p class=\"txt-location\">São Paulo - SP</p>\\r\\n                    </div>\\r\\n                    <div class=\"col-md-3 value-card\">\\r\\n                        <div class=\"value\">\\r\\n                            <p class=\"txt-value\">R$ 117.000</p>\\r\\n                        </div>\\r\\n                    </div>\\r\\n                </div>\\t\\t\\t\\t\\t\\t</div>\\r\\n\\t\\t\\t\\t\\t\\t<div class=\"type-select\">246 veículos encontrados</div>\\r\\n\\t\\t\\t\\t\\t\\t\\t<div class=\"container-pagination\" style=\"float: right\">\\r\\n\\t\\t\\t\\t\\t\\t\\t\\t<span class=\"info-pages\">Página 1 de 25</span>\\r\\n\\t\\t\\t\\t\\t\\t\\t</div>\\r\\n\\t\\t\\t\\t\\t\\t</div>\\r\\n\\t\\t\\t\\t\\t</div>\\r\\n\\t\\t\\t\\t</div>\\r\\n\\t\\t\\t</div>\\r\\n\\t\\t</div>\\r\\n\\r\\n\\t\\t<footer>\\r\\n\\t\\t\\t<nav class=\"navbar navbar-inverse\">\\r\\n\\t\\t\\t\\t<div class=\"container\" style=\"margin-bottom: 10px;\">\\r\\n\\t\\t\\t\\t\\t<div class=\"navbar\">\\r\\n\\t\\t\\t\\t\\t\\t<a href=\"./index.php\" class=\"navbar-brand\" title=\"Alura Motors\">\\r\\n\\t\\t\\t\\t\\t\\t\\t<img src=\"img/alura-logo.svg\" class=\"d-inline-block align-top\" alt=\"Alura\">Motors\\r\\n\\t\\t\\t\\t\\t\\t</a>\\r\\n\\t\\t\\t\\t\\t\\t<p style=\"color: #fff; text-align: center; margin-top: 40px;\">Aplicação para treinamento de web scraping</p>\\r\\n\\t\\t\\t\\t\\t</div>\\r\\n\\t\\t\\t\\t</div>\\r\\n\\t\\t\\t</nav>\\r\\n\\t\\t</footer>\\r\\n\\r\\n\\t</div>\\r\\n\\r\\n</body>\\r\\n</html>\\r\\n'"
      ]
     },
     "metadata": {},
     "execution_count": 13
    }
   ],
   "source": [
    "html"
   ]
  },
  {
   "cell_type": "markdown",
   "metadata": {},
   "source": [
    "### Eliminando os caracteres de tabulação, quebra de linha etc."
   ]
  },
  {
   "cell_type": "code",
   "execution_count": 14,
   "metadata": {},
   "outputs": [
    {
     "output_type": "execute_result",
     "data": {
      "text/plain": [
       "['<!DOCTYPE',\n",
       " 'html>',\n",
       " '<html',\n",
       " 'lang=\"pt-br\">',\n",
       " '<head>',\n",
       " '<meta',\n",
       " 'charset=\"utf-8\">',\n",
       " '<meta',\n",
       " 'name=\"viewport\"',\n",
       " 'content=\"width=device-width,',\n",
       " 'initial-scale=1,',\n",
       " 'shrink-to-fit=no\">',\n",
       " '<title>Alura',\n",
       " 'Motors</title>',\n",
       " '<style>',\n",
       " '/*Regra',\n",
       " 'para',\n",
       " 'a',\n",
       " 'animacao*/',\n",
       " '@keyframes',\n",
       " 'spin',\n",
       " '{',\n",
       " '0%',\n",
       " '{',\n",
       " 'transform:',\n",
       " 'rotate(0deg);',\n",
       " '}',\n",
       " '100%',\n",
       " '{',\n",
       " 'transform:',\n",
       " 'rotate(360deg);',\n",
       " '}',\n",
       " '}',\n",
       " '/*Mudando',\n",
       " 'o',\n",
       " 'tamanho',\n",
       " 'do',\n",
       " 'icone',\n",
       " 'de',\n",
       " 'resposta*/',\n",
       " 'div.glyphicon',\n",
       " '{',\n",
       " 'color:#6B8E23;',\n",
       " 'font-size:',\n",
       " '38px;',\n",
       " '}',\n",
       " '/*Classe',\n",
       " 'que',\n",
       " 'mostra',\n",
       " 'a',\n",
       " 'animacao',\n",
       " \"'spin'*/\",\n",
       " '.loader',\n",
       " '{',\n",
       " 'border:',\n",
       " '16px',\n",
       " 'solid',\n",
       " '#f3f3f3;',\n",
       " 'border-radius:',\n",
       " '50%;',\n",
       " 'border-top:',\n",
       " '16px',\n",
       " 'solid',\n",
       " '#3498db;',\n",
       " 'width:',\n",
       " '80px;',\n",
       " 'height:',\n",
       " '80px;',\n",
       " '-webkit-animation:',\n",
       " 'spin',\n",
       " '2s',\n",
       " 'linear',\n",
       " 'infinite;',\n",
       " 'animation:',\n",
       " 'spin',\n",
       " '2s',\n",
       " 'linear',\n",
       " 'infinite;',\n",
       " '}',\n",
       " '</style>',\n",
       " '<link',\n",
       " 'rel=\"stylesheet\"',\n",
       " 'href=\"https://maxcdn.bootstrapcdn.com/bootstrap/3.3.7/css/bootstrap.min.css\"',\n",
       " 'integrity=\"sha384-BVYiiSIFeK1dGmJRAkycuHAHRg32OmUcww7on3RYdg4Va+PmSTsz/K68vbdEjh4u\"',\n",
       " 'crossorigin=\"anonymous\">',\n",
       " '<link',\n",
       " 'rel=\"stylesheet\"',\n",
       " 'href=\"css/styles.css\"',\n",
       " 'media=\"all\">',\n",
       " '<script',\n",
       " 'src=\"https://code.jquery.com/jquery-1.12.4.js\"></script>',\n",
       " '<script',\n",
       " 'src=\"https://maxcdn.bootstrapcdn.com/bootstrap/3.3.7/js/bootstrap.min.js\"',\n",
       " 'integrity=\"sha384-Tc5IQib027qvyjSMfHjOMaLkfuWVxZxUPnCJA7l2mCWNIpG9mGCD8wGNIcPD7Txa\"',\n",
       " 'crossorigin=\"anonymous\"></script>',\n",
       " '<script',\n",
       " 'type=\"text/javascript\"',\n",
       " 'src=\"js/index.js\"></script>',\n",
       " '<script>',\n",
       " 'requisitar(\"https://alura-scraping.herokuapp.com/produtos?_page=\"+1+\"&_limit=10\")',\n",
       " '</script>',\n",
       " '</head>',\n",
       " '<body',\n",
       " 'cz-shortcut-listen=\"true\">',\n",
       " '<noscript>You',\n",
       " 'need',\n",
       " 'to',\n",
       " 'enable',\n",
       " 'JavaScript',\n",
       " 'to',\n",
       " 'run',\n",
       " 'this',\n",
       " 'app.</noscript>',\n",
       " '<div',\n",
       " 'class=\"modal',\n",
       " 'fade\"',\n",
       " 'data-backdrop=\"static\"',\n",
       " 'id=\"loadingModal\"',\n",
       " 'tabindex=\"-1\"',\n",
       " 'role=\"dialog\"',\n",
       " 'aria-labelledby=\"loadingModal_label\">',\n",
       " '<div',\n",
       " 'class=\"modal-dialog\"',\n",
       " 'role=\"document\">',\n",
       " '<div',\n",
       " 'class=\"modal-content\">',\n",
       " '<div',\n",
       " 'class=\"modal-header\">',\n",
       " '<h5',\n",
       " 'class=\"modal-title\"',\n",
       " 'id=\"loadingModal_label\">',\n",
       " '<span',\n",
       " 'class=\"glyphicon',\n",
       " 'glyphicon-refresh\"></span>Aguarde...',\n",
       " '</h5>',\n",
       " '</div>',\n",
       " '<div',\n",
       " 'class=\"modal-body\">',\n",
       " '<div',\n",
       " \"class='alert'\",\n",
       " \"role='alert'>\",\n",
       " '<center>',\n",
       " '<div',\n",
       " 'class=\"loader\"',\n",
       " 'id=\"loader\"></div><br>',\n",
       " '<h4><b',\n",
       " 'id=\"loadingModal_content\"></b></h4>',\n",
       " '</center>',\n",
       " '</div>',\n",
       " '</div>',\n",
       " '</div>',\n",
       " '</div>',\n",
       " '</div>',\n",
       " '<div',\n",
       " 'id=\"root\">',\n",
       " '<header>',\n",
       " '<nav',\n",
       " 'class=\"navbar',\n",
       " 'navbar-inverse\"',\n",
       " 'style=\"margin-bottom:',\n",
       " '0;\">',\n",
       " '<div',\n",
       " 'class=\"container\"',\n",
       " 'style=\"margin-bottom:',\n",
       " '-20px;\">',\n",
       " '<div',\n",
       " 'class=\"navbar\">',\n",
       " '<a',\n",
       " 'href=\"./index.php\"',\n",
       " 'class=\"navbar-brand\"',\n",
       " 'title=\"Alura',\n",
       " 'Motors\">',\n",
       " '<img',\n",
       " 'src=\"img/alura-logo.svg\"',\n",
       " 'class=\"d-inline-block',\n",
       " 'align-top\"',\n",
       " 'alt=\"Alura\">Motors',\n",
       " '</a>',\n",
       " '<ul',\n",
       " 'class=\"nav',\n",
       " 'navbar-nav\"',\n",
       " 'style=\"margin-top:',\n",
       " '35px;\">',\n",
       " '<li><a',\n",
       " 'href=\"./hello-world.php\">Hello',\n",
       " 'World</a></li>',\n",
       " '<li><a',\n",
       " 'href=\"./index.php\">Anúncios</a></li>',\n",
       " '</ul>',\n",
       " '</div>',\n",
       " '</div>',\n",
       " '</nav>',\n",
       " '</header>',\n",
       " '<div',\n",
       " 'class=\"container\">',\n",
       " '<h1',\n",
       " 'class=\"sub-header\">Veículos',\n",
       " 'de',\n",
       " 'Luxo',\n",
       " 'Novos',\n",
       " 'e',\n",
       " 'Usados',\n",
       " '-',\n",
       " 'Todas',\n",
       " 'as',\n",
       " 'Marcas</h1>',\n",
       " '<div',\n",
       " 'class=\"row\">',\n",
       " '<div',\n",
       " 'class=\"col-md-12\">',\n",
       " '<div',\n",
       " 'class=\"container\"',\n",
       " 'style=\"width:',\n",
       " '100%\">',\n",
       " '<div',\n",
       " 'class=\"type-select\">246',\n",
       " 'veículos',\n",
       " 'encontrados</div>',\n",
       " '<div',\n",
       " 'class=\"container-pagination\"',\n",
       " 'style=\"float:',\n",
       " 'right\">',\n",
       " '<span',\n",
       " 'class=\"info-pages\">Página',\n",
       " '1',\n",
       " 'de',\n",
       " '25</span>',\n",
       " '</div>',\n",
       " '</div>',\n",
       " '<div',\n",
       " 'id=\"container-cards\"',\n",
       " 'style=\"height:',\n",
       " '100%\">',\n",
       " '<div',\n",
       " 'class=\"well',\n",
       " 'card\">',\n",
       " '<div',\n",
       " 'class=\"col-md-3',\n",
       " 'image-card\">',\n",
       " '<img',\n",
       " 'width=\"220\"',\n",
       " 'height=\"155\"',\n",
       " 'alt=\"Foto\"',\n",
       " 'src=\"https://caelum-online-public.s3.amazonaws.com/1381-scraping/01/img-cars/lamborghini-aventador/lamborghini-aventador-2932196__340.jpg\">',\n",
       " '</div>',\n",
       " '<div',\n",
       " 'class=\"col-md-6',\n",
       " 'body-card\">',\n",
       " '<p',\n",
       " 'class=\"txt-name',\n",
       " 'inline\">LAMBORGHINI',\n",
       " 'AVENTADOR</p>',\n",
       " '<p',\n",
       " 'class=\"txt-category',\n",
       " 'badge',\n",
       " 'badge-secondary',\n",
       " 'inline\">USADO</p>',\n",
       " '<p',\n",
       " 'class=\"txt-motor\">Motor',\n",
       " '1.8',\n",
       " '16v</p>',\n",
       " '<p',\n",
       " 'class=\"txt-description\">Ano',\n",
       " '1993',\n",
       " '-',\n",
       " '55.286',\n",
       " 'km</p>',\n",
       " '<ul',\n",
       " 'class=\"lst-items\">',\n",
       " '<li',\n",
       " 'class=\"txt-items\">►',\n",
       " '4',\n",
       " 'X',\n",
       " '4</li>',\n",
       " '<li',\n",
       " 'class=\"txt-items\">►',\n",
       " 'Câmera',\n",
       " 'de',\n",
       " 'estacionamento</li>',\n",
       " '<li',\n",
       " 'class=\"txt-items\">►',\n",
       " 'Controle',\n",
       " 'de',\n",
       " 'tração</li>',\n",
       " '<li',\n",
       " 'class=\"txt-items\">►',\n",
       " 'Sensor',\n",
       " 'de',\n",
       " 'estacionamento</li>',\n",
       " '<li',\n",
       " 'class=\"txt-items\">...</li>',\n",
       " '</ul>',\n",
       " '<p',\n",
       " 'class=\"txt-location\">Belo',\n",
       " 'Horizonte',\n",
       " '-',\n",
       " 'MG</p>',\n",
       " '</div>',\n",
       " '<div',\n",
       " 'class=\"col-md-3',\n",
       " 'value-card\">',\n",
       " '<div',\n",
       " 'class=\"value\">',\n",
       " '<p',\n",
       " 'class=\"txt-value\">R$',\n",
       " '338.000</p>',\n",
       " '</div>',\n",
       " '</div>',\n",
       " '</div>',\n",
       " '<div',\n",
       " 'class=\"well',\n",
       " 'card\">',\n",
       " '<div',\n",
       " 'class=\"col-md-3',\n",
       " 'image-card\">',\n",
       " '<img',\n",
       " 'width=\"220\"',\n",
       " 'height=\"155\"',\n",
       " 'alt=\"Foto\"',\n",
       " 'src=\"https://caelum-online-public.s3.amazonaws.com/1381-scraping/01/img-cars/bmw-m2/bmw-m2-2970882__340.jpg\">',\n",
       " '</div>',\n",
       " '<div',\n",
       " 'class=\"col-md-6',\n",
       " 'body-card\">',\n",
       " '<p',\n",
       " 'class=\"txt-name',\n",
       " 'inline\">BMW',\n",
       " 'M2</p>',\n",
       " '<p',\n",
       " 'class=\"txt-category',\n",
       " 'badge',\n",
       " 'badge-secondary',\n",
       " 'inline\">USADO</p>',\n",
       " '<p',\n",
       " 'class=\"txt-motor\">Motor',\n",
       " '3.0',\n",
       " '32v</p>',\n",
       " '<p',\n",
       " 'class=\"txt-description\">Ano',\n",
       " '2018',\n",
       " '-',\n",
       " '83.447',\n",
       " 'km</p>',\n",
       " '<ul',\n",
       " 'class=\"lst-items\">',\n",
       " '<li',\n",
       " 'class=\"txt-items\">►',\n",
       " 'Câmera',\n",
       " 'de',\n",
       " 'estacionamento</li>',\n",
       " '<li',\n",
       " 'class=\"txt-items\">►',\n",
       " 'Controle',\n",
       " 'de',\n",
       " 'estabilidade</li>',\n",
       " '<li',\n",
       " 'class=\"txt-items\">►',\n",
       " 'Travas',\n",
       " 'elétricas</li>',\n",
       " '<li',\n",
       " 'class=\"txt-items\">►',\n",
       " 'Freios',\n",
       " 'ABS</li>',\n",
       " '<li',\n",
       " 'class=\"txt-items\">...</li>',\n",
       " '</ul>',\n",
       " '<p',\n",
       " 'class=\"txt-location\">Belo',\n",
       " 'Horizonte',\n",
       " '-',\n",
       " 'MG</p>',\n",
       " '</div>',\n",
       " '<div',\n",
       " 'class=\"col-md-3',\n",
       " 'value-card\">',\n",
       " '<div',\n",
       " 'class=\"value\">',\n",
       " '<p',\n",
       " 'class=\"txt-value\">R$',\n",
       " '346.000</p>',\n",
       " '</div>',\n",
       " '</div>',\n",
       " '</div>',\n",
       " '<div',\n",
       " 'class=\"well',\n",
       " 'card\">',\n",
       " '<div',\n",
       " 'class=\"col-md-3',\n",
       " 'image-card\">',\n",
       " '<img',\n",
       " 'width=\"220\"',\n",
       " 'height=\"155\"',\n",
       " 'alt=\"Foto\"',\n",
       " 'src=\"https://caelum-online-public.s3.amazonaws.com/1381-scraping/01/img-cars/alfa/alfa-1823056__340.jpg\">',\n",
       " '</div>',\n",
       " '<div',\n",
       " 'class=\"col-md-6',\n",
       " 'body-card\">',\n",
       " '<p',\n",
       " 'class=\"txt-name',\n",
       " 'inline\">ALFA</p>',\n",
       " '<p',\n",
       " 'class=\"txt-category',\n",
       " 'badge',\n",
       " 'badge-secondary',\n",
       " 'inline\">USADO</p>',\n",
       " '<p',\n",
       " 'class=\"txt-motor\">Motor',\n",
       " '1.8',\n",
       " '16v</p>',\n",
       " '<p',\n",
       " 'class=\"txt-description\">Ano',\n",
       " '2004',\n",
       " '-',\n",
       " '19.722',\n",
       " 'km</p>',\n",
       " '<ul',\n",
       " 'class=\"lst-items\">',\n",
       " '<li',\n",
       " 'class=\"txt-items\">►',\n",
       " 'Central',\n",
       " 'multimídia</li>',\n",
       " '<li',\n",
       " 'class=\"txt-items\">►',\n",
       " 'Bancos',\n",
       " 'de',\n",
       " 'couro</li>',\n",
       " '<li',\n",
       " 'class=\"txt-items\">►',\n",
       " 'Rodas',\n",
       " 'de',\n",
       " 'liga</li>',\n",
       " '<li',\n",
       " 'class=\"txt-items\">►',\n",
       " 'Câmera',\n",
       " 'de',\n",
       " 'estacionamento</li>',\n",
       " '<li',\n",
       " 'class=\"txt-items\">...</li>',\n",
       " '</ul>',\n",
       " '<p',\n",
       " 'class=\"txt-location\">Rio',\n",
       " 'de',\n",
       " 'Janeiro',\n",
       " '-',\n",
       " 'RJ</p>',\n",
       " '</div>',\n",
       " '<div',\n",
       " 'class=\"col-md-3',\n",
       " 'value-card\">',\n",
       " '<div',\n",
       " 'class=\"value\">',\n",
       " '<p',\n",
       " 'class=\"txt-value\">R$',\n",
       " '480.000</p>',\n",
       " '</div>',\n",
       " '</div>',\n",
       " '</div>',\n",
       " '<div',\n",
       " 'class=\"well',\n",
       " 'card\">',\n",
       " '<div',\n",
       " 'class=\"col-md-3',\n",
       " 'image-card\">',\n",
       " '<img',\n",
       " 'width=\"220\"',\n",
       " 'height=\"155\"',\n",
       " 'alt=\"Foto\"',\n",
       " 'src=\"https://caelum-online-public.s3.amazonaws.com/1381-scraping/01/img-cars/puech/puech-4055386__340.jpg\">',\n",
       " '</div>',\n",
       " '<div',\n",
       " 'class=\"col-md-6',\n",
       " 'body-card\">',\n",
       " '<p',\n",
       " 'class=\"txt-name',\n",
       " 'inline\">PUECH</p>',\n",
       " '<p',\n",
       " 'class=\"txt-category',\n",
       " 'badge',\n",
       " 'badge-secondary',\n",
       " 'inline\">USADO</p>',\n",
       " '<p',\n",
       " 'class=\"txt-motor\">Motor',\n",
       " 'Diesel',\n",
       " 'V8</p>',\n",
       " '<p',\n",
       " 'class=\"txt-description\">Ano',\n",
       " '1992',\n",
       " '-',\n",
       " '34.335',\n",
       " 'km</p>',\n",
       " '<ul',\n",
       " 'class=\"lst-items\">',\n",
       " '<li',\n",
       " 'class=\"txt-items\">►',\n",
       " 'Bancos',\n",
       " 'de',\n",
       " 'couro</li>',\n",
       " '<li',\n",
       " 'class=\"txt-items\">►',\n",
       " 'Freios',\n",
       " 'ABS</li>',\n",
       " '<li',\n",
       " 'class=\"txt-items\">►',\n",
       " 'Rodas',\n",
       " 'de',\n",
       " 'liga</li>',\n",
       " '<li',\n",
       " 'class=\"txt-items\">►',\n",
       " 'Câmbio',\n",
       " 'automático</li>',\n",
       " '<li',\n",
       " 'class=\"txt-items\">...</li>',\n",
       " '</ul>',\n",
       " '<p',\n",
       " 'class=\"txt-location\">São',\n",
       " 'Paulo',\n",
       " '-',\n",
       " 'SP</p>',\n",
       " '</div>',\n",
       " '<div',\n",
       " 'class=\"col-md-3',\n",
       " 'value-card\">',\n",
       " '<div',\n",
       " 'class=\"value\">',\n",
       " '<p',\n",
       " 'class=\"txt-value\">R$',\n",
       " '133.000</p>',\n",
       " '</div>',\n",
       " '</div>',\n",
       " '</div>',\n",
       " '<div',\n",
       " 'class=\"well',\n",
       " 'card\">',\n",
       " '<div',\n",
       " 'class=\"col-md-3',\n",
       " 'image-card\">',\n",
       " '<img',\n",
       " 'width=\"220\"',\n",
       " 'height=\"155\"',\n",
       " 'alt=\"Foto\"',\n",
       " 'src=\"https://caelum-online-public.s3.amazonaws.com/1381-scraping/01/img-cars/lamborghini-murcielago/lamborghini-murcielago-2872974__340.jpg\">',\n",
       " '</div>',\n",
       " '<div',\n",
       " 'class=\"col-md-6',\n",
       " 'body-card\">',\n",
       " '<p',\n",
       " 'class=\"txt-name',\n",
       " 'inline\">LAMBORGHINI',\n",
       " 'MURCIELAGO</p>',\n",
       " '<p',\n",
       " 'class=\"txt-category',\n",
       " 'badge',\n",
       " 'badge-secondary',\n",
       " 'inline\">USADO</p>',\n",
       " '<p',\n",
       " 'class=\"txt-motor\">Motor',\n",
       " '1.0',\n",
       " '8v</p>',\n",
       " '<p',\n",
       " 'class=\"txt-description\">Ano',\n",
       " '1991',\n",
       " '-',\n",
       " '464',\n",
       " 'km</p>',\n",
       " '<ul',\n",
       " 'class=\"lst-items\">',\n",
       " '<li',\n",
       " 'class=\"txt-items\">►',\n",
       " 'Central',\n",
       " 'multimídia</li>',\n",
       " '<li',\n",
       " 'class=\"txt-items\">►',\n",
       " 'Teto',\n",
       " 'panorâmico</li>',\n",
       " '<li',\n",
       " 'class=\"txt-items\">►',\n",
       " 'Sensor',\n",
       " 'crepuscular</li>',\n",
       " '<li',\n",
       " 'class=\"txt-items\">►',\n",
       " 'Piloto',\n",
       " 'automático</li>',\n",
       " '<li',\n",
       " 'class=\"txt-items\">...</li>',\n",
       " '</ul>',\n",
       " '<p',\n",
       " 'class=\"txt-location\">Belo',\n",
       " 'Horizonte',\n",
       " '-',\n",
       " 'MG</p>',\n",
       " '</div>',\n",
       " '<div',\n",
       " 'class=\"col-md-3',\n",
       " 'value-card\">',\n",
       " '<div',\n",
       " 'class=\"value\">',\n",
       " '<p',\n",
       " 'class=\"txt-value\">R$',\n",
       " '175.000</p>',\n",
       " '</div>',\n",
       " '</div>',\n",
       " '</div>',\n",
       " '<div',\n",
       " 'class=\"well',\n",
       " 'card\">',\n",
       " '<div',\n",
       " 'class=\"col-md-3',\n",
       " 'image-card\">',\n",
       " '<img',\n",
       " 'width=\"220\"',\n",
       " 'height=\"155\"',\n",
       " 'alt=\"Foto\"',\n",
       " 'src=\"https://caelum-online-public.s3.amazonaws.com/1381-scraping/01/img-cars/aston-martin/aston-martin-2977916__340.jpg\">',\n",
       " '</div>',\n",
       " '<div',\n",
       " 'class=\"col-md-6',\n",
       " 'body-card\">',\n",
       " '<p',\n",
       " 'class=\"txt-name',\n",
       " 'inline\">ASTON',\n",
       " 'MARTIN</p>',\n",
       " '<p',\n",
       " 'class=\"txt-category',\n",
       " 'badge',\n",
       " 'badge-secondary',\n",
       " 'inline\">USADO</p>',\n",
       " '<p',\n",
       " 'class=\"txt-opportunity',\n",
       " 'badge',\n",
       " 'badge-danger',\n",
       " 'inline\">OPORTUNIDADE</p>',\n",
       " '<p',\n",
       " 'class=\"txt-motor\">Motor',\n",
       " 'Diesel',\n",
       " 'V6</p>',\n",
       " '<p',\n",
       " 'class=\"txt-description\">Ano',\n",
       " '2004',\n",
       " '-',\n",
       " '50.189',\n",
       " 'km</p>',\n",
       " '<ul',\n",
       " 'class=\"lst-items\">',\n",
       " '<li',\n",
       " 'class=\"txt-items\">►',\n",
       " 'Painel',\n",
       " 'digital</li>',\n",
       " '<li',\n",
       " 'class=\"txt-items\">►',\n",
       " 'Controle',\n",
       " 'de',\n",
       " 'tração</li>',\n",
       " '<li',\n",
       " 'class=\"txt-items\">►',\n",
       " 'Teto',\n",
       " 'panorâmico</li>',\n",
       " '<li',\n",
       " 'class=\"txt-items\">►',\n",
       " 'Central',\n",
       " 'multimídia</li>',\n",
       " '<li',\n",
       " 'class=\"txt-items\">...</li>',\n",
       " '</ul>',\n",
       " '<p',\n",
       " 'class=\"txt-location\">Belo',\n",
       " 'Horizonte',\n",
       " '-',\n",
       " 'MG</p>',\n",
       " '</div>',\n",
       " '<div',\n",
       " 'class=\"col-md-3',\n",
       " 'value-card\">',\n",
       " '<div',\n",
       " 'class=\"value\">',\n",
       " '<p',\n",
       " 'class=\"txt-value\">R$',\n",
       " '239.000</p>',\n",
       " '</div>',\n",
       " '</div>',\n",
       " '</div>',\n",
       " '<div',\n",
       " 'class=\"well',\n",
       " 'card\">',\n",
       " '<div',\n",
       " 'class=\"col-md-3',\n",
       " 'image-card\">',\n",
       " '<img',\n",
       " 'width=\"220\"',\n",
       " 'height=\"155\"',\n",
       " 'alt=\"Foto\"',\n",
       " 'src=\"https://caelum-online-public.s3.amazonaws.com/1381-scraping/01/img-cars/tvr/tvr-2943925__340.jpg\">',\n",
       " '</div>',\n",
       " '<div',\n",
       " 'class=\"col-md-6',\n",
       " 'body-card\">',\n",
       " '<p',\n",
       " 'class=\"txt-name',\n",
       " 'inline\">TVR</p>',\n",
       " '<p',\n",
       " 'class=\"txt-category',\n",
       " 'badge',\n",
       " 'badge-secondary',\n",
       " 'inline\">USADO</p>',\n",
       " '<p',\n",
       " 'class=\"txt-motor\">Motor',\n",
       " '4.0',\n",
       " 'Turbo</p>',\n",
       " '<p',\n",
       " 'class=\"txt-description\">Ano',\n",
       " '2014',\n",
       " '-',\n",
       " '17.778',\n",
       " 'km</p>',\n",
       " '<ul',\n",
       " 'class=\"lst-items\">',\n",
       " '<li',\n",
       " 'class=\"txt-items\">►',\n",
       " '4',\n",
       " 'X',\n",
       " '4</li>',\n",
       " '<li',\n",
       " 'class=\"txt-items\">►',\n",
       " 'Teto',\n",
       " 'panorâmico</li>',\n",
       " '<li',\n",
       " 'class=\"txt-items\">►',\n",
       " 'Central',\n",
       " 'multimídia</li>',\n",
       " '<li',\n",
       " 'class=\"txt-items\">►',\n",
       " 'Controle',\n",
       " 'de',\n",
       " 'estabilidade</li>',\n",
       " '<li',\n",
       " 'class=\"txt-items\">...</li>',\n",
       " '</ul>',\n",
       " '<p',\n",
       " 'class=\"txt-location\">Belo',\n",
       " 'Horizonte',\n",
       " '-',\n",
       " 'MG</p>',\n",
       " '</div>',\n",
       " '<div',\n",
       " 'class=\"col-md-3',\n",
       " 'value-card\">',\n",
       " '<div',\n",
       " 'class=\"value\">',\n",
       " '<p',\n",
       " 'class=\"txt-value\">R$',\n",
       " '115.000</p>',\n",
       " '</div>',\n",
       " '</div>',\n",
       " '</div>',\n",
       " '<div',\n",
       " 'class=\"well',\n",
       " 'card\">',\n",
       " '<div',\n",
       " 'class=\"col-md-3',\n",
       " 'image-card\">',\n",
       " '<img',\n",
       " 'width=\"220\"',\n",
       " 'height=\"155\"',\n",
       " 'alt=\"Foto\"',\n",
       " 'src=\"https://caelum-online-public.s3.amazonaws.com/1381-scraping/01/img-cars/excalibur/excalibur-2916730__340.jpg\">',\n",
       " '</div>',\n",
       " '<div',\n",
       " 'class=\"col-md-6',\n",
       " 'body-card\">',\n",
       " '<p',\n",
       " 'class=\"txt-name',\n",
       " 'inline\">EXCALIBUR</p>',\n",
       " '<p',\n",
       " 'class=\"txt-category',\n",
       " 'badge',\n",
       " 'badge-secondary',\n",
       " 'inline\">USADO</p>',\n",
       " '<p',\n",
       " 'class=\"txt-motor\">Motor',\n",
       " '3.0',\n",
       " '32v</p>',\n",
       " '<p',\n",
       " 'class=\"txt-description\">Ano',\n",
       " '2009',\n",
       " '-',\n",
       " '81.251',\n",
       " 'km</p>',\n",
       " '<ul',\n",
       " 'class=\"lst-items\">',\n",
       " '<li',\n",
       " 'class=\"txt-items\">►',\n",
       " 'Painel',\n",
       " 'digital</li>',\n",
       " '<li',\n",
       " 'class=\"txt-items\">►',\n",
       " 'Câmbio',\n",
       " 'automático</li>',\n",
       " '<li',\n",
       " 'class=\"txt-items\">►',\n",
       " 'Sensor',\n",
       " 'de',\n",
       " 'chuva</li>',\n",
       " '<li',\n",
       " 'class=\"txt-items\">►',\n",
       " 'Travas',\n",
       " 'elétricas</li>',\n",
       " '<li',\n",
       " 'class=\"txt-items\">...</li>',\n",
       " '</ul>',\n",
       " '<p',\n",
       " 'class=\"txt-location\">Rio',\n",
       " 'de',\n",
       " 'Janeiro',\n",
       " '-',\n",
       " 'RJ</p>',\n",
       " '</div>',\n",
       " '<div',\n",
       " 'class=\"col-md-3',\n",
       " 'value-card\">',\n",
       " '<div',\n",
       " 'class=\"value\">',\n",
       " '<p',\n",
       " 'class=\"txt-value\">R$',\n",
       " '114.000</p>',\n",
       " '</div>',\n",
       " '</div>',\n",
       " '</div>',\n",
       " '<div',\n",
       " 'class=\"well',\n",
       " 'card\">',\n",
       " '<div',\n",
       " 'class=\"col-md-3',\n",
       " 'image-card\">',\n",
       " '<img',\n",
       " 'width=\"220\"',\n",
       " 'height=\"155\"',\n",
       " 'alt=\"Foto\"',\n",
       " 'src=\"https://caelum-online-public.s3.amazonaws.com/1381-scraping/01/img-cars/mclaren/mclaren-2855240__340.jpg\">',\n",
       " '</div>',\n",
       " '<div',\n",
       " 'class=\"col-md-6',\n",
       " 'body-card\">',\n",
       " '<p',\n",
       " 'class=\"txt-name',\n",
       " 'inline\">MCLAREN</p>',\n",
       " '<p',\n",
       " 'class=\"txt-category',\n",
       " 'badge',\n",
       " 'badge-secondary',\n",
       " 'inline\">NOVO</p>',\n",
       " '<p',\n",
       " 'class=\"txt-motor\">Motor',\n",
       " 'Diesel</p>',\n",
       " '<p',\n",
       " 'class=\"txt-description\">Ano',\n",
       " '2019',\n",
       " '-',\n",
       " '0',\n",
       " 'km</p>',\n",
       " '<ul',\n",
       " 'class=\"lst-items\">',\n",
       " '<li',\n",
       " 'class=\"txt-items\">►',\n",
       " 'Central',\n",
       " 'multimídia</li>',\n",
       " '<li',\n",
       " 'class=\"txt-items\">►',\n",
       " 'Câmera',\n",
       " 'de',\n",
       " 'estacionamento</li>',\n",
       " '<li',\n",
       " 'class=\"txt-items\">►',\n",
       " 'Câmbio',\n",
       " 'automático</li>',\n",
       " '<li',\n",
       " 'class=\"txt-items\">►',\n",
       " 'Ar',\n",
       " 'condicionado</li>',\n",
       " '<li',\n",
       " 'class=\"txt-items\">...</li>',\n",
       " '</ul>',\n",
       " '<p',\n",
       " 'class=\"txt-location\">São',\n",
       " 'Paulo',\n",
       " '-',\n",
       " 'SP</p>',\n",
       " '</div>',\n",
       " '<div',\n",
       " 'class=\"col-md-3',\n",
       " 'value-card\">',\n",
       " '<div',\n",
       " 'class=\"value\">',\n",
       " '<p',\n",
       " 'class=\"txt-value\">R$',\n",
       " '75.000</p>',\n",
       " '</div>',\n",
       " '</div>',\n",
       " '</div>',\n",
       " '<div',\n",
       " 'class=\"well',\n",
       " 'card\">',\n",
       " '<div',\n",
       " 'class=\"col-md-3',\n",
       " 'image-card\">',\n",
       " '<img',\n",
       " 'width=\"220\"',\n",
       " 'height=\"155\"',\n",
       " 'alt=\"Foto\"',\n",
       " 'src=\"https://caelum-online-public.s3.amazonaws.com/1381-scraping/01/img-cars/toyota/toyota-3245397__340.jpg\">',\n",
       " '</div>',\n",
       " '<div',\n",
       " 'class=\"col-md-6',\n",
       " 'body-card\">',\n",
       " '<p',\n",
       " 'class=\"txt-name',\n",
       " 'inline\">TOYOTA</p>',\n",
       " '<p',\n",
       " 'class=\"txt-category',\n",
       " 'badge',\n",
       " 'badge-secondary',\n",
       " 'inline\">USADO</p>',\n",
       " '<p',\n",
       " 'class=\"txt-opportunity',\n",
       " 'badge',\n",
       " 'badge-danger',\n",
       " 'inline\">OPORTUNIDADE</p>',\n",
       " '<p',\n",
       " 'class=\"txt-motor\">Motor',\n",
       " '4.0',\n",
       " 'Turbo</p>',\n",
       " '<p',\n",
       " 'class=\"txt-description\">Ano',\n",
       " '1999',\n",
       " '-',\n",
       " '12.536',\n",
       " 'km</p>',\n",
       " '<ul',\n",
       " 'class=\"lst-items\">',\n",
       " '<li',\n",
       " 'class=\"txt-items\">►',\n",
       " 'Bancos',\n",
       " 'de',\n",
       " 'couro</li>',\n",
       " '<li',\n",
       " 'class=\"txt-items\">►',\n",
       " 'Freios',\n",
       " 'ABS</li>',\n",
       " '<li',\n",
       " 'class=\"txt-items\">►',\n",
       " 'Piloto',\n",
       " 'automático</li>',\n",
       " '<li',\n",
       " 'class=\"txt-items\">►',\n",
       " 'Controle',\n",
       " 'de',\n",
       " 'estabilidade</li>',\n",
       " '<li',\n",
       " 'class=\"txt-items\">...</li>',\n",
       " '</ul>',\n",
       " '<p',\n",
       " 'class=\"txt-location\">São',\n",
       " 'Paulo',\n",
       " '-',\n",
       " 'SP</p>',\n",
       " '</div>',\n",
       " '<div',\n",
       " 'class=\"col-md-3',\n",
       " 'value-card\">',\n",
       " '<div',\n",
       " 'class=\"value\">',\n",
       " '<p',\n",
       " 'class=\"txt-value\">R$',\n",
       " '117.000</p>',\n",
       " '</div>',\n",
       " '</div>',\n",
       " '</div>',\n",
       " '</div>',\n",
       " '<div',\n",
       " 'class=\"type-select\">246',\n",
       " 'veículos',\n",
       " 'encontrados</div>',\n",
       " '<div',\n",
       " 'class=\"container-pagination\"',\n",
       " 'style=\"float:',\n",
       " 'right\">',\n",
       " '<span',\n",
       " 'class=\"info-pages\">Página',\n",
       " '1',\n",
       " 'de',\n",
       " '25</span>',\n",
       " '</div>',\n",
       " '</div>',\n",
       " '</div>',\n",
       " '</div>',\n",
       " '</div>',\n",
       " '</div>',\n",
       " '<footer>',\n",
       " '<nav',\n",
       " 'class=\"navbar',\n",
       " 'navbar-inverse\">',\n",
       " ...]"
      ]
     },
     "metadata": {},
     "execution_count": 14
    }
   ],
   "source": [
    "html.split()"
   ]
  },
  {
   "cell_type": "code",
   "execution_count": 15,
   "metadata": {
    "scrolled": true
   },
   "outputs": [
    {
     "output_type": "execute_result",
     "data": {
      "text/plain": [
       "'<!DOCTYPE html> <html lang=\"pt-br\"> <head> <meta charset=\"utf-8\"> <meta name=\"viewport\" content=\"width=device-width, initial-scale=1, shrink-to-fit=no\"> <title>Alura Motors</title> <style> /*Regra para a animacao*/ @keyframes spin { 0% { transform: rotate(0deg); } 100% { transform: rotate(360deg); } } /*Mudando o tamanho do icone de resposta*/ div.glyphicon { color:#6B8E23; font-size: 38px; } /*Classe que mostra a animacao \\'spin\\'*/ .loader { border: 16px solid #f3f3f3; border-radius: 50%; border-top: 16px solid #3498db; width: 80px; height: 80px; -webkit-animation: spin 2s linear infinite; animation: spin 2s linear infinite; } </style> <link rel=\"stylesheet\" href=\"https://maxcdn.bootstrapcdn.com/bootstrap/3.3.7/css/bootstrap.min.css\" integrity=\"sha384-BVYiiSIFeK1dGmJRAkycuHAHRg32OmUcww7on3RYdg4Va+PmSTsz/K68vbdEjh4u\" crossorigin=\"anonymous\"> <link rel=\"stylesheet\" href=\"css/styles.css\" media=\"all\"> <script src=\"https://code.jquery.com/jquery-1.12.4.js\"></script> <script src=\"https://maxcdn.bootstrapcdn.com/bootstrap/3.3.7/js/bootstrap.min.js\" integrity=\"sha384-Tc5IQib027qvyjSMfHjOMaLkfuWVxZxUPnCJA7l2mCWNIpG9mGCD8wGNIcPD7Txa\" crossorigin=\"anonymous\"></script> <script type=\"text/javascript\" src=\"js/index.js\"></script> <script> requisitar(\"https://alura-scraping.herokuapp.com/produtos?_page=\"+1+\"&_limit=10\") </script> </head> <body cz-shortcut-listen=\"true\"> <noscript>You need to enable JavaScript to run this app.</noscript> <div class=\"modal fade\" data-backdrop=\"static\" id=\"loadingModal\" tabindex=\"-1\" role=\"dialog\" aria-labelledby=\"loadingModal_label\"> <div class=\"modal-dialog\" role=\"document\"> <div class=\"modal-content\"> <div class=\"modal-header\"> <h5 class=\"modal-title\" id=\"loadingModal_label\"> <span class=\"glyphicon glyphicon-refresh\"></span>Aguarde... </h5> </div> <div class=\"modal-body\"> <div class=\\'alert\\' role=\\'alert\\'> <center> <div class=\"loader\" id=\"loader\"></div><br> <h4><b id=\"loadingModal_content\"></b></h4> </center> </div> </div> </div> </div> </div> <div id=\"root\"> <header> <nav class=\"navbar navbar-inverse\" style=\"margin-bottom: 0;\"> <div class=\"container\" style=\"margin-bottom: -20px;\"> <div class=\"navbar\"> <a href=\"./index.php\" class=\"navbar-brand\" title=\"Alura Motors\"> <img src=\"img/alura-logo.svg\" class=\"d-inline-block align-top\" alt=\"Alura\">Motors </a> <ul class=\"nav navbar-nav\" style=\"margin-top: 35px;\"> <li><a href=\"./hello-world.php\">Hello World</a></li> <li><a href=\"./index.php\">Anúncios</a></li> </ul> </div> </div> </nav> </header> <div class=\"container\"> <h1 class=\"sub-header\">Veículos de Luxo Novos e Usados - Todas as Marcas</h1> <div class=\"row\"> <div class=\"col-md-12\"> <div class=\"container\" style=\"width: 100%\"> <div class=\"type-select\">246 veículos encontrados</div> <div class=\"container-pagination\" style=\"float: right\"> <span class=\"info-pages\">Página 1 de 25</span> </div> </div> <div id=\"container-cards\" style=\"height: 100%\"> <div class=\"well card\"> <div class=\"col-md-3 image-card\"> <img width=\"220\" height=\"155\" alt=\"Foto\" src=\"https://caelum-online-public.s3.amazonaws.com/1381-scraping/01/img-cars/lamborghini-aventador/lamborghini-aventador-2932196__340.jpg\"> </div> <div class=\"col-md-6 body-card\"> <p class=\"txt-name inline\">LAMBORGHINI AVENTADOR</p> <p class=\"txt-category badge badge-secondary inline\">USADO</p> <p class=\"txt-motor\">Motor 1.8 16v</p> <p class=\"txt-description\">Ano 1993 - 55.286 km</p> <ul class=\"lst-items\"> <li class=\"txt-items\">► 4 X 4</li> <li class=\"txt-items\">► Câmera de estacionamento</li> <li class=\"txt-items\">► Controle de tração</li> <li class=\"txt-items\">► Sensor de estacionamento</li> <li class=\"txt-items\">...</li> </ul> <p class=\"txt-location\">Belo Horizonte - MG</p> </div> <div class=\"col-md-3 value-card\"> <div class=\"value\"> <p class=\"txt-value\">R$ 338.000</p> </div> </div> </div> <div class=\"well card\"> <div class=\"col-md-3 image-card\"> <img width=\"220\" height=\"155\" alt=\"Foto\" src=\"https://caelum-online-public.s3.amazonaws.com/1381-scraping/01/img-cars/bmw-m2/bmw-m2-2970882__340.jpg\"> </div> <div class=\"col-md-6 body-card\"> <p class=\"txt-name inline\">BMW M2</p> <p class=\"txt-category badge badge-secondary inline\">USADO</p> <p class=\"txt-motor\">Motor 3.0 32v</p> <p class=\"txt-description\">Ano 2018 - 83.447 km</p> <ul class=\"lst-items\"> <li class=\"txt-items\">► Câmera de estacionamento</li> <li class=\"txt-items\">► Controle de estabilidade</li> <li class=\"txt-items\">► Travas elétricas</li> <li class=\"txt-items\">► Freios ABS</li> <li class=\"txt-items\">...</li> </ul> <p class=\"txt-location\">Belo Horizonte - MG</p> </div> <div class=\"col-md-3 value-card\"> <div class=\"value\"> <p class=\"txt-value\">R$ 346.000</p> </div> </div> </div> <div class=\"well card\"> <div class=\"col-md-3 image-card\"> <img width=\"220\" height=\"155\" alt=\"Foto\" src=\"https://caelum-online-public.s3.amazonaws.com/1381-scraping/01/img-cars/alfa/alfa-1823056__340.jpg\"> </div> <div class=\"col-md-6 body-card\"> <p class=\"txt-name inline\">ALFA</p> <p class=\"txt-category badge badge-secondary inline\">USADO</p> <p class=\"txt-motor\">Motor 1.8 16v</p> <p class=\"txt-description\">Ano 2004 - 19.722 km</p> <ul class=\"lst-items\"> <li class=\"txt-items\">► Central multimídia</li> <li class=\"txt-items\">► Bancos de couro</li> <li class=\"txt-items\">► Rodas de liga</li> <li class=\"txt-items\">► Câmera de estacionamento</li> <li class=\"txt-items\">...</li> </ul> <p class=\"txt-location\">Rio de Janeiro - RJ</p> </div> <div class=\"col-md-3 value-card\"> <div class=\"value\"> <p class=\"txt-value\">R$ 480.000</p> </div> </div> </div> <div class=\"well card\"> <div class=\"col-md-3 image-card\"> <img width=\"220\" height=\"155\" alt=\"Foto\" src=\"https://caelum-online-public.s3.amazonaws.com/1381-scraping/01/img-cars/puech/puech-4055386__340.jpg\"> </div> <div class=\"col-md-6 body-card\"> <p class=\"txt-name inline\">PUECH</p> <p class=\"txt-category badge badge-secondary inline\">USADO</p> <p class=\"txt-motor\">Motor Diesel V8</p> <p class=\"txt-description\">Ano 1992 - 34.335 km</p> <ul class=\"lst-items\"> <li class=\"txt-items\">► Bancos de couro</li> <li class=\"txt-items\">► Freios ABS</li> <li class=\"txt-items\">► Rodas de liga</li> <li class=\"txt-items\">► Câmbio automático</li> <li class=\"txt-items\">...</li> </ul> <p class=\"txt-location\">São Paulo - SP</p> </div> <div class=\"col-md-3 value-card\"> <div class=\"value\"> <p class=\"txt-value\">R$ 133.000</p> </div> </div> </div> <div class=\"well card\"> <div class=\"col-md-3 image-card\"> <img width=\"220\" height=\"155\" alt=\"Foto\" src=\"https://caelum-online-public.s3.amazonaws.com/1381-scraping/01/img-cars/lamborghini-murcielago/lamborghini-murcielago-2872974__340.jpg\"> </div> <div class=\"col-md-6 body-card\"> <p class=\"txt-name inline\">LAMBORGHINI MURCIELAGO</p> <p class=\"txt-category badge badge-secondary inline\">USADO</p> <p class=\"txt-motor\">Motor 1.0 8v</p> <p class=\"txt-description\">Ano 1991 - 464 km</p> <ul class=\"lst-items\"> <li class=\"txt-items\">► Central multimídia</li> <li class=\"txt-items\">► Teto panorâmico</li> <li class=\"txt-items\">► Sensor crepuscular</li> <li class=\"txt-items\">► Piloto automático</li> <li class=\"txt-items\">...</li> </ul> <p class=\"txt-location\">Belo Horizonte - MG</p> </div> <div class=\"col-md-3 value-card\"> <div class=\"value\"> <p class=\"txt-value\">R$ 175.000</p> </div> </div> </div> <div class=\"well card\"> <div class=\"col-md-3 image-card\"> <img width=\"220\" height=\"155\" alt=\"Foto\" src=\"https://caelum-online-public.s3.amazonaws.com/1381-scraping/01/img-cars/aston-martin/aston-martin-2977916__340.jpg\"> </div> <div class=\"col-md-6 body-card\"> <p class=\"txt-name inline\">ASTON MARTIN</p> <p class=\"txt-category badge badge-secondary inline\">USADO</p> <p class=\"txt-opportunity badge badge-danger inline\">OPORTUNIDADE</p> <p class=\"txt-motor\">Motor Diesel V6</p> <p class=\"txt-description\">Ano 2004 - 50.189 km</p> <ul class=\"lst-items\"> <li class=\"txt-items\">► Painel digital</li> <li class=\"txt-items\">► Controle de tração</li> <li class=\"txt-items\">► Teto panorâmico</li> <li class=\"txt-items\">► Central multimídia</li> <li class=\"txt-items\">...</li> </ul> <p class=\"txt-location\">Belo Horizonte - MG</p> </div> <div class=\"col-md-3 value-card\"> <div class=\"value\"> <p class=\"txt-value\">R$ 239.000</p> </div> </div> </div> <div class=\"well card\"> <div class=\"col-md-3 image-card\"> <img width=\"220\" height=\"155\" alt=\"Foto\" src=\"https://caelum-online-public.s3.amazonaws.com/1381-scraping/01/img-cars/tvr/tvr-2943925__340.jpg\"> </div> <div class=\"col-md-6 body-card\"> <p class=\"txt-name inline\">TVR</p> <p class=\"txt-category badge badge-secondary inline\">USADO</p> <p class=\"txt-motor\">Motor 4.0 Turbo</p> <p class=\"txt-description\">Ano 2014 - 17.778 km</p> <ul class=\"lst-items\"> <li class=\"txt-items\">► 4 X 4</li> <li class=\"txt-items\">► Teto panorâmico</li> <li class=\"txt-items\">► Central multimídia</li> <li class=\"txt-items\">► Controle de estabilidade</li> <li class=\"txt-items\">...</li> </ul> <p class=\"txt-location\">Belo Horizonte - MG</p> </div> <div class=\"col-md-3 value-card\"> <div class=\"value\"> <p class=\"txt-value\">R$ 115.000</p> </div> </div> </div> <div class=\"well card\"> <div class=\"col-md-3 image-card\"> <img width=\"220\" height=\"155\" alt=\"Foto\" src=\"https://caelum-online-public.s3.amazonaws.com/1381-scraping/01/img-cars/excalibur/excalibur-2916730__340.jpg\"> </div> <div class=\"col-md-6 body-card\"> <p class=\"txt-name inline\">EXCALIBUR</p> <p class=\"txt-category badge badge-secondary inline\">USADO</p> <p class=\"txt-motor\">Motor 3.0 32v</p> <p class=\"txt-description\">Ano 2009 - 81.251 km</p> <ul class=\"lst-items\"> <li class=\"txt-items\">► Painel digital</li> <li class=\"txt-items\">► Câmbio automático</li> <li class=\"txt-items\">► Sensor de chuva</li> <li class=\"txt-items\">► Travas elétricas</li> <li class=\"txt-items\">...</li> </ul> <p class=\"txt-location\">Rio de Janeiro - RJ</p> </div> <div class=\"col-md-3 value-card\"> <div class=\"value\"> <p class=\"txt-value\">R$ 114.000</p> </div> </div> </div> <div class=\"well card\"> <div class=\"col-md-3 image-card\"> <img width=\"220\" height=\"155\" alt=\"Foto\" src=\"https://caelum-online-public.s3.amazonaws.com/1381-scraping/01/img-cars/mclaren/mclaren-2855240__340.jpg\"> </div> <div class=\"col-md-6 body-card\"> <p class=\"txt-name inline\">MCLAREN</p> <p class=\"txt-category badge badge-secondary inline\">NOVO</p> <p class=\"txt-motor\">Motor Diesel</p> <p class=\"txt-description\">Ano 2019 - 0 km</p> <ul class=\"lst-items\"> <li class=\"txt-items\">► Central multimídia</li> <li class=\"txt-items\">► Câmera de estacionamento</li> <li class=\"txt-items\">► Câmbio automático</li> <li class=\"txt-items\">► Ar condicionado</li> <li class=\"txt-items\">...</li> </ul> <p class=\"txt-location\">São Paulo - SP</p> </div> <div class=\"col-md-3 value-card\"> <div class=\"value\"> <p class=\"txt-value\">R$ 75.000</p> </div> </div> </div> <div class=\"well card\"> <div class=\"col-md-3 image-card\"> <img width=\"220\" height=\"155\" alt=\"Foto\" src=\"https://caelum-online-public.s3.amazonaws.com/1381-scraping/01/img-cars/toyota/toyota-3245397__340.jpg\"> </div> <div class=\"col-md-6 body-card\"> <p class=\"txt-name inline\">TOYOTA</p> <p class=\"txt-category badge badge-secondary inline\">USADO</p> <p class=\"txt-opportunity badge badge-danger inline\">OPORTUNIDADE</p> <p class=\"txt-motor\">Motor 4.0 Turbo</p> <p class=\"txt-description\">Ano 1999 - 12.536 km</p> <ul class=\"lst-items\"> <li class=\"txt-items\">► Bancos de couro</li> <li class=\"txt-items\">► Freios ABS</li> <li class=\"txt-items\">► Piloto automático</li> <li class=\"txt-items\">► Controle de estabilidade</li> <li class=\"txt-items\">...</li> </ul> <p class=\"txt-location\">São Paulo - SP</p> </div> <div class=\"col-md-3 value-card\"> <div class=\"value\"> <p class=\"txt-value\">R$ 117.000</p> </div> </div> </div> </div> <div class=\"type-select\">246 veículos encontrados</div> <div class=\"container-pagination\" style=\"float: right\"> <span class=\"info-pages\">Página 1 de 25</span> </div> </div> </div> </div> </div> </div> <footer> <nav class=\"navbar navbar-inverse\"> <div class=\"container\" style=\"margin-bottom: 10px;\"> <div class=\"navbar\"> <a href=\"./index.php\" class=\"navbar-brand\" title=\"Alura Motors\"> <img src=\"img/alura-logo.svg\" class=\"d-inline-block align-top\" alt=\"Alura\">Motors </a> <p style=\"color: #fff; text-align: center; margin-top: 40px;\">Aplicação para treinamento de web scraping</p> </div> </div> </nav> </footer> </div> </body> </html>'"
      ]
     },
     "metadata": {},
     "execution_count": 15
    }
   ],
   "source": [
    "' '.join(html.split())"
   ]
  },
  {
   "cell_type": "markdown",
   "metadata": {},
   "source": [
    "### Eliminando os espaços em branco entre as TAGS"
   ]
  },
  {
   "cell_type": "code",
   "execution_count": 16,
   "metadata": {
    "scrolled": true
   },
   "outputs": [
    {
     "output_type": "execute_result",
     "data": {
      "text/plain": [
       "'<!DOCTYPE html><html lang=\"pt-br\"><head><meta charset=\"utf-8\"><meta name=\"viewport\" content=\"width=device-width, initial-scale=1, shrink-to-fit=no\"><title>Alura Motors</title><style> /*Regra para a animacao*/ @keyframes spin { 0% { transform: rotate(0deg); } 100% { transform: rotate(360deg); } } /*Mudando o tamanho do icone de resposta*/ div.glyphicon { color:#6B8E23; font-size: 38px; } /*Classe que mostra a animacao \\'spin\\'*/ .loader { border: 16px solid #f3f3f3; border-radius: 50%; border-top: 16px solid #3498db; width: 80px; height: 80px; -webkit-animation: spin 2s linear infinite; animation: spin 2s linear infinite; } </style><link rel=\"stylesheet\" href=\"https://maxcdn.bootstrapcdn.com/bootstrap/3.3.7/css/bootstrap.min.css\" integrity=\"sha384-BVYiiSIFeK1dGmJRAkycuHAHRg32OmUcww7on3RYdg4Va+PmSTsz/K68vbdEjh4u\" crossorigin=\"anonymous\"><link rel=\"stylesheet\" href=\"css/styles.css\" media=\"all\"><script src=\"https://code.jquery.com/jquery-1.12.4.js\"></script><script src=\"https://maxcdn.bootstrapcdn.com/bootstrap/3.3.7/js/bootstrap.min.js\" integrity=\"sha384-Tc5IQib027qvyjSMfHjOMaLkfuWVxZxUPnCJA7l2mCWNIpG9mGCD8wGNIcPD7Txa\" crossorigin=\"anonymous\"></script><script type=\"text/javascript\" src=\"js/index.js\"></script><script> requisitar(\"https://alura-scraping.herokuapp.com/produtos?_page=\"+1+\"&_limit=10\") </script></head><body cz-shortcut-listen=\"true\"><noscript>You need to enable JavaScript to run this app.</noscript><div class=\"modal fade\" data-backdrop=\"static\" id=\"loadingModal\" tabindex=\"-1\" role=\"dialog\" aria-labelledby=\"loadingModal_label\"><div class=\"modal-dialog\" role=\"document\"><div class=\"modal-content\"><div class=\"modal-header\"><h5 class=\"modal-title\" id=\"loadingModal_label\"><span class=\"glyphicon glyphicon-refresh\"></span>Aguarde... </h5></div><div class=\"modal-body\"><div class=\\'alert\\' role=\\'alert\\'><center><div class=\"loader\" id=\"loader\"></div><br><h4><b id=\"loadingModal_content\"></b></h4></center></div></div></div></div></div><div id=\"root\"><header><nav class=\"navbar navbar-inverse\" style=\"margin-bottom: 0;\"><div class=\"container\" style=\"margin-bottom: -20px;\"><div class=\"navbar\"><a href=\"./index.php\" class=\"navbar-brand\" title=\"Alura Motors\"><img src=\"img/alura-logo.svg\" class=\"d-inline-block align-top\" alt=\"Alura\">Motors </a><ul class=\"nav navbar-nav\" style=\"margin-top: 35px;\"><li><a href=\"./hello-world.php\">Hello World</a></li><li><a href=\"./index.php\">Anúncios</a></li></ul></div></div></nav></header><div class=\"container\"><h1 class=\"sub-header\">Veículos de Luxo Novos e Usados - Todas as Marcas</h1><div class=\"row\"><div class=\"col-md-12\"><div class=\"container\" style=\"width: 100%\"><div class=\"type-select\">246 veículos encontrados</div><div class=\"container-pagination\" style=\"float: right\"><span class=\"info-pages\">Página 1 de 25</span></div></div><div id=\"container-cards\" style=\"height: 100%\"><div class=\"well card\"><div class=\"col-md-3 image-card\"><img width=\"220\" height=\"155\" alt=\"Foto\" src=\"https://caelum-online-public.s3.amazonaws.com/1381-scraping/01/img-cars/lamborghini-aventador/lamborghini-aventador-2932196__340.jpg\"></div><div class=\"col-md-6 body-card\"><p class=\"txt-name inline\">LAMBORGHINI AVENTADOR</p><p class=\"txt-category badge badge-secondary inline\">USADO</p><p class=\"txt-motor\">Motor 1.8 16v</p><p class=\"txt-description\">Ano 1993 - 55.286 km</p><ul class=\"lst-items\"><li class=\"txt-items\">► 4 X 4</li><li class=\"txt-items\">► Câmera de estacionamento</li><li class=\"txt-items\">► Controle de tração</li><li class=\"txt-items\">► Sensor de estacionamento</li><li class=\"txt-items\">...</li></ul><p class=\"txt-location\">Belo Horizonte - MG</p></div><div class=\"col-md-3 value-card\"><div class=\"value\"><p class=\"txt-value\">R$ 338.000</p></div></div></div><div class=\"well card\"><div class=\"col-md-3 image-card\"><img width=\"220\" height=\"155\" alt=\"Foto\" src=\"https://caelum-online-public.s3.amazonaws.com/1381-scraping/01/img-cars/bmw-m2/bmw-m2-2970882__340.jpg\"></div><div class=\"col-md-6 body-card\"><p class=\"txt-name inline\">BMW M2</p><p class=\"txt-category badge badge-secondary inline\">USADO</p><p class=\"txt-motor\">Motor 3.0 32v</p><p class=\"txt-description\">Ano 2018 - 83.447 km</p><ul class=\"lst-items\"><li class=\"txt-items\">► Câmera de estacionamento</li><li class=\"txt-items\">► Controle de estabilidade</li><li class=\"txt-items\">► Travas elétricas</li><li class=\"txt-items\">► Freios ABS</li><li class=\"txt-items\">...</li></ul><p class=\"txt-location\">Belo Horizonte - MG</p></div><div class=\"col-md-3 value-card\"><div class=\"value\"><p class=\"txt-value\">R$ 346.000</p></div></div></div><div class=\"well card\"><div class=\"col-md-3 image-card\"><img width=\"220\" height=\"155\" alt=\"Foto\" src=\"https://caelum-online-public.s3.amazonaws.com/1381-scraping/01/img-cars/alfa/alfa-1823056__340.jpg\"></div><div class=\"col-md-6 body-card\"><p class=\"txt-name inline\">ALFA</p><p class=\"txt-category badge badge-secondary inline\">USADO</p><p class=\"txt-motor\">Motor 1.8 16v</p><p class=\"txt-description\">Ano 2004 - 19.722 km</p><ul class=\"lst-items\"><li class=\"txt-items\">► Central multimídia</li><li class=\"txt-items\">► Bancos de couro</li><li class=\"txt-items\">► Rodas de liga</li><li class=\"txt-items\">► Câmera de estacionamento</li><li class=\"txt-items\">...</li></ul><p class=\"txt-location\">Rio de Janeiro - RJ</p></div><div class=\"col-md-3 value-card\"><div class=\"value\"><p class=\"txt-value\">R$ 480.000</p></div></div></div><div class=\"well card\"><div class=\"col-md-3 image-card\"><img width=\"220\" height=\"155\" alt=\"Foto\" src=\"https://caelum-online-public.s3.amazonaws.com/1381-scraping/01/img-cars/puech/puech-4055386__340.jpg\"></div><div class=\"col-md-6 body-card\"><p class=\"txt-name inline\">PUECH</p><p class=\"txt-category badge badge-secondary inline\">USADO</p><p class=\"txt-motor\">Motor Diesel V8</p><p class=\"txt-description\">Ano 1992 - 34.335 km</p><ul class=\"lst-items\"><li class=\"txt-items\">► Bancos de couro</li><li class=\"txt-items\">► Freios ABS</li><li class=\"txt-items\">► Rodas de liga</li><li class=\"txt-items\">► Câmbio automático</li><li class=\"txt-items\">...</li></ul><p class=\"txt-location\">São Paulo - SP</p></div><div class=\"col-md-3 value-card\"><div class=\"value\"><p class=\"txt-value\">R$ 133.000</p></div></div></div><div class=\"well card\"><div class=\"col-md-3 image-card\"><img width=\"220\" height=\"155\" alt=\"Foto\" src=\"https://caelum-online-public.s3.amazonaws.com/1381-scraping/01/img-cars/lamborghini-murcielago/lamborghini-murcielago-2872974__340.jpg\"></div><div class=\"col-md-6 body-card\"><p class=\"txt-name inline\">LAMBORGHINI MURCIELAGO</p><p class=\"txt-category badge badge-secondary inline\">USADO</p><p class=\"txt-motor\">Motor 1.0 8v</p><p class=\"txt-description\">Ano 1991 - 464 km</p><ul class=\"lst-items\"><li class=\"txt-items\">► Central multimídia</li><li class=\"txt-items\">► Teto panorâmico</li><li class=\"txt-items\">► Sensor crepuscular</li><li class=\"txt-items\">► Piloto automático</li><li class=\"txt-items\">...</li></ul><p class=\"txt-location\">Belo Horizonte - MG</p></div><div class=\"col-md-3 value-card\"><div class=\"value\"><p class=\"txt-value\">R$ 175.000</p></div></div></div><div class=\"well card\"><div class=\"col-md-3 image-card\"><img width=\"220\" height=\"155\" alt=\"Foto\" src=\"https://caelum-online-public.s3.amazonaws.com/1381-scraping/01/img-cars/aston-martin/aston-martin-2977916__340.jpg\"></div><div class=\"col-md-6 body-card\"><p class=\"txt-name inline\">ASTON MARTIN</p><p class=\"txt-category badge badge-secondary inline\">USADO</p><p class=\"txt-opportunity badge badge-danger inline\">OPORTUNIDADE</p><p class=\"txt-motor\">Motor Diesel V6</p><p class=\"txt-description\">Ano 2004 - 50.189 km</p><ul class=\"lst-items\"><li class=\"txt-items\">► Painel digital</li><li class=\"txt-items\">► Controle de tração</li><li class=\"txt-items\">► Teto panorâmico</li><li class=\"txt-items\">► Central multimídia</li><li class=\"txt-items\">...</li></ul><p class=\"txt-location\">Belo Horizonte - MG</p></div><div class=\"col-md-3 value-card\"><div class=\"value\"><p class=\"txt-value\">R$ 239.000</p></div></div></div><div class=\"well card\"><div class=\"col-md-3 image-card\"><img width=\"220\" height=\"155\" alt=\"Foto\" src=\"https://caelum-online-public.s3.amazonaws.com/1381-scraping/01/img-cars/tvr/tvr-2943925__340.jpg\"></div><div class=\"col-md-6 body-card\"><p class=\"txt-name inline\">TVR</p><p class=\"txt-category badge badge-secondary inline\">USADO</p><p class=\"txt-motor\">Motor 4.0 Turbo</p><p class=\"txt-description\">Ano 2014 - 17.778 km</p><ul class=\"lst-items\"><li class=\"txt-items\">► 4 X 4</li><li class=\"txt-items\">► Teto panorâmico</li><li class=\"txt-items\">► Central multimídia</li><li class=\"txt-items\">► Controle de estabilidade</li><li class=\"txt-items\">...</li></ul><p class=\"txt-location\">Belo Horizonte - MG</p></div><div class=\"col-md-3 value-card\"><div class=\"value\"><p class=\"txt-value\">R$ 115.000</p></div></div></div><div class=\"well card\"><div class=\"col-md-3 image-card\"><img width=\"220\" height=\"155\" alt=\"Foto\" src=\"https://caelum-online-public.s3.amazonaws.com/1381-scraping/01/img-cars/excalibur/excalibur-2916730__340.jpg\"></div><div class=\"col-md-6 body-card\"><p class=\"txt-name inline\">EXCALIBUR</p><p class=\"txt-category badge badge-secondary inline\">USADO</p><p class=\"txt-motor\">Motor 3.0 32v</p><p class=\"txt-description\">Ano 2009 - 81.251 km</p><ul class=\"lst-items\"><li class=\"txt-items\">► Painel digital</li><li class=\"txt-items\">► Câmbio automático</li><li class=\"txt-items\">► Sensor de chuva</li><li class=\"txt-items\">► Travas elétricas</li><li class=\"txt-items\">...</li></ul><p class=\"txt-location\">Rio de Janeiro - RJ</p></div><div class=\"col-md-3 value-card\"><div class=\"value\"><p class=\"txt-value\">R$ 114.000</p></div></div></div><div class=\"well card\"><div class=\"col-md-3 image-card\"><img width=\"220\" height=\"155\" alt=\"Foto\" src=\"https://caelum-online-public.s3.amazonaws.com/1381-scraping/01/img-cars/mclaren/mclaren-2855240__340.jpg\"></div><div class=\"col-md-6 body-card\"><p class=\"txt-name inline\">MCLAREN</p><p class=\"txt-category badge badge-secondary inline\">NOVO</p><p class=\"txt-motor\">Motor Diesel</p><p class=\"txt-description\">Ano 2019 - 0 km</p><ul class=\"lst-items\"><li class=\"txt-items\">► Central multimídia</li><li class=\"txt-items\">► Câmera de estacionamento</li><li class=\"txt-items\">► Câmbio automático</li><li class=\"txt-items\">► Ar condicionado</li><li class=\"txt-items\">...</li></ul><p class=\"txt-location\">São Paulo - SP</p></div><div class=\"col-md-3 value-card\"><div class=\"value\"><p class=\"txt-value\">R$ 75.000</p></div></div></div><div class=\"well card\"><div class=\"col-md-3 image-card\"><img width=\"220\" height=\"155\" alt=\"Foto\" src=\"https://caelum-online-public.s3.amazonaws.com/1381-scraping/01/img-cars/toyota/toyota-3245397__340.jpg\"></div><div class=\"col-md-6 body-card\"><p class=\"txt-name inline\">TOYOTA</p><p class=\"txt-category badge badge-secondary inline\">USADO</p><p class=\"txt-opportunity badge badge-danger inline\">OPORTUNIDADE</p><p class=\"txt-motor\">Motor 4.0 Turbo</p><p class=\"txt-description\">Ano 1999 - 12.536 km</p><ul class=\"lst-items\"><li class=\"txt-items\">► Bancos de couro</li><li class=\"txt-items\">► Freios ABS</li><li class=\"txt-items\">► Piloto automático</li><li class=\"txt-items\">► Controle de estabilidade</li><li class=\"txt-items\">...</li></ul><p class=\"txt-location\">São Paulo - SP</p></div><div class=\"col-md-3 value-card\"><div class=\"value\"><p class=\"txt-value\">R$ 117.000</p></div></div></div></div><div class=\"type-select\">246 veículos encontrados</div><div class=\"container-pagination\" style=\"float: right\"><span class=\"info-pages\">Página 1 de 25</span></div></div></div></div></div></div><footer><nav class=\"navbar navbar-inverse\"><div class=\"container\" style=\"margin-bottom: 10px;\"><div class=\"navbar\"><a href=\"./index.php\" class=\"navbar-brand\" title=\"Alura Motors\"><img src=\"img/alura-logo.svg\" class=\"d-inline-block align-top\" alt=\"Alura\">Motors </a><p style=\"color: #fff; text-align: center; margin-top: 40px;\">Aplicação para treinamento de web scraping</p></div></div></nav></footer></div></body></html>'"
      ]
     },
     "metadata": {},
     "execution_count": 16
    }
   ],
   "source": [
    "' '.join(html.split()).replace('> <', '><')"
   ]
  },
  {
   "cell_type": "markdown",
   "metadata": {},
   "source": [
    "### Função de tratamento de strings"
   ]
  },
  {
   "cell_type": "code",
   "execution_count": 17,
   "metadata": {},
   "outputs": [],
   "source": [
    "def trata_html(input):\n",
    "    return ' '.join(input.split()).replace('> <', '><')"
   ]
  },
  {
   "cell_type": "code",
   "execution_count": 19,
   "metadata": {},
   "outputs": [
    {
     "output_type": "execute_result",
     "data": {
      "text/plain": [
       "k-to-fit=no\">\\r\\n\\r\\n    <title>Alura Motors</title>\\r\\n\\r\\n\\t<style>\\r\\n\\t\\t/*Regra para a animacao*/\\r\\n\\t\\t@keyframes spin {\\r\\n\\t\\t\\t0% { transform: rotate(0deg); }\\r\\n\\t\\t\\t100% { transform: rotate(360deg); }\\r\\n\\t\\t}\\r\\n\\t\\t/*Mudando o tamanho do icone de resposta*/\\r\\n\\t\\tdiv.glyphicon {\\r\\n\\t\\t\\tcolor:#6B8E23;\\r\\n\\t\\t\\tfont-size: 38px;\\r\\n\\t\\t}\\r\\n\\t\\t/*Classe que mostra a animacao \\'spin\\'*/\\r\\n\\t\\t.loader {\\r\\n\\t\\t\\tborder: 16px solid #f3f3f3;\\r\\n\\t\\t\\tborder-radius: 50%;\\r\\n\\t\\t\\tborder-top: 16px solid #3498db;\\r\\n\\t\\t\\twidth: 80px;\\r\\n\\t\\t\\theight: 80px;\\r\\n\\t\\t\\t-webkit-animation: spin 2s linear infinite;\\r\\n\\t\\t\\tanimation: spin 2s linear infinite;\\r\\n\\t\\t}\\r\\n\\t</style>\\r\\n\\t<link rel=\"stylesheet\" href=\"https://maxcdn.bootstrapcdn.com/bootstrap/3.3.7/css/bootstrap.min.css\" integrity=\"sha384-BVYiiSIFeK1dGmJRAkycuHAHRg32OmUcww7on3RYdg4Va+PmSTsz/K68vbdEjh4u\" crossorigin=\"anonymous\">\\r\\n\\t<link rel=\"stylesheet\" href=\"css/styles.css\" media=\"all\">\\r\\n\\r\\n\\t<script src=\"https://code.jquery.com/jquery-1.12.4.js\"></script>\\r\\n\\t<script src=\"https://maxcdn.bootstrapcdn.com/bootstrap/3.3.7/js/bootstrap.min.js\" integrity=\"sha384-Tc5IQib027qvyjSMfHjOMaLkfuWVxZxUPnCJA7l2mCWNIpG9mGCD8wGNIcPD7Txa\" crossorigin=\"anonymous\"></script>\\r\\n\\t<script type=\"text/javascript\" src=\"js/index.js\"></script>\\r\\n\\t<script>\\r\\n\\t\\trequisitar(\"https://alura-scraping.herokuapp.com/produtos?_page=\"+1+\"&_limit=10\")\\r\\n\\t</script>\\r\\n\\r\\n</head>\\r\\n<body cz-shortcut-listen=\"true\">\\r\\n    <noscript>You need to enable JavaScript to run this app.</noscript>\\r\\n\\r\\n\\t<div class=\"modal fade\" data-backdrop=\"static\" id=\"loadingModal\" tabindex=\"-1\" role=\"dialog\" aria-labelledby=\"loadingModal_label\">\\r\\n\\t\\t<div class=\"modal-dialog\" role=\"document\">\\r\\n\\t\\t\\t<div class=\"modal-content\">\\r\\n\\t\\t\\t\\t<div class=\"modal-header\">\\r\\n\\t\\t\\t\\t\\t<h5 class=\"modal-title\" id=\"loadingModal_label\">\\r\\n\\t\\t\\t\\t\\t\\t<span class=\"glyphicon glyphicon-refresh\"></span>Aguarde...\\r\\n\\t\\t\\t\\t\\t</h5>\\r\\n\\t\\t\\t\\t</div>\\r\\n\\t\\t\\t\\t<div class=\"modal-body\">\\r\\n\\t\\t\\t\\t\\t<div class=\\'alert\\' role=\\'alert\\'>\\r\\n\\t\\t\\t\\t\\t\\t<center>\\r\\n\\t\\t\\t\\t\\t\\t\\t<div class=\"loader\" id=\"loader\"></div><br>\\r\\n\\t\\t\\t\\t\\t\\t\\t<h4><b id=\"loadingModal_content\"></b></h4>\\r\\n\\t\\t\\t\\t\\t\\t</center>\\r\\n\\t\\t\\t\\t\\t</div>\\r\\n\\t\\t\\t\\t</div>\\r\\n\\t\\t\\t</div>\\r\\n\\t\\t</div>\\r\\n\\t</div>\\r\\n\\r\\n    <div id=\"root\">\\r\\n\\t\\t<header>\\r\\n\\t\\t\\t<nav class=\"navbar navbar-inverse\" style=\"margin-bottom: 0;\">\\r\\n\\t\\t\\t\\t<div class=\"container\" style=\"margin-bottom: -20px;\">\\r\\n\\t\\t\\t\\t\\t<div class=\"navbar\">\\r\\n\\t\\t\\t\\t\\t\\t<a href=\"./index.php\" class=\"navbar-brand\" title=\"Alura Motors\">\\r\\n\\t\\t\\t\\t\\t\\t\\t<img src=\"img/alura-logo.svg\" class=\"d-inline-block align-top\" alt=\"Alura\">Motors\\r\\n\\t\\t\\t\\t\\t\\t</a>\\r\\n\\t\\t\\t\\t\\t\\t<ul class=\"nav navbar-nav\" style=\"margin-top: 35px;\">\\r\\n\\t\\t\\t\\t\\t\\t\\t<li><a href=\"./hello-world.php\">Hello World</a></li>\\r\\n\\t\\t\\t\\t\\t\\t\\t<li><a href=\"./index.php\">Anúncios</a></li>\\r\\n\\t\\t\\t\\t\\t\\t</ul>\\r\\n\\t\\t\\t\\t\\t</div>\\r\\n\\t\\t\\t\\t</div>\\r\\n\\t\\t\\t</nav>\\r\\n\\t\\t</header>\\r\\n\\r\\n\\t\\t<div class=\"container\">\\r\\n\\t\\t\\t<h1 class=\"sub-header\">Veículos de Luxo Novos e Usados - Todas as Marcas</h1>\\r\\n\\t\\t\\t<div class=\"row\">\\r\\n\\t\\t\\t\\t<div class=\"col-md-12\">\\r\\n\\t\\t\\t\\t\\t<div class=\"container\" style=\"width: 100%\">\\r\\n\\t\\t\\t\\t\\t\\t<div class=\"type-select\">246 veículos encontrados</div>\\r\\n\\t\\t\\t\\t\\t\\t\\t<div class=\"container-pagination\" style=\"float: right\">\\r\\n\\t\\t\\t\\t\\t\\t\\t\\t<span class=\"info-pages\">Página 1 de 25</span>\\r\\n\\t\\t\\t\\t\\t\\t\\t</div>\\r\\n\\t\\t\\t\\t\\t\\t</div>\\r\\n\\t\\t\\t\\t\\t\\t<div id=\"container-cards\" style=\"height: 100%\">\\r\\n\\t\\t\\t\\t\\t\\t\\t\\r\\n                <div class=\"well card\">\\r\\n                    <div class=\"col-md-3 image-card\">\\r\\n                        <img width=\"220\" height=\"155\" alt=\"Foto\" src=\"https://caelum-online-public.s3.amazonaws.com/1381-scraping/01/img-cars/lamborghini-aventador/lamborghini-aventador-2932196__340.jpg\">\\r\\n                    </div>\\r\\n                    <div class=\"col-md-6 body-card\">\\r\\n                        <p class=\"txt-name inline\">LAMBORGHINI AVENTADOR</p>\\r\\n                            <p class=\"txt-category badge badge-secondary inline\">USADO</p>\\r\\n                            \\r\\n                        <p class=\"txt-motor\">Motor 1.8 16v</p>\\r\\n                        <p class=\"txt-description\">Ano 1993 - 55.286 km</p>\\r\\n                        <ul class=\"lst-items\">\\r\\n                            <li class=\"txt-items\">► 4 X 4</li>\\r\\n                            <li class=\"txt-items\">► Câmera de estacionamento</li>\\r\\n                            <li class=\"txt-items\">► Controle de tração</li>\\r\\n                            <li class=\"txt-items\">► Sensor de estacionamento</li>\\r\\n                            <li class=\"txt-items\">...</li>\\r\\n                        </ul>\\r\\n                        <p class=\"txt-location\">Belo Horizonte - MG</p>\\r\\n                    </div>\\r\\n                    <div class=\"col-md-3 value-card\">\\r\\n                        <div class=\"value\">\\r\\n                            <p class=\"txt-value\">R$ 338.000</p>\\r\\n                        </div>\\r\\n                    </div>\\r\\n                </div>\\r\\n                <div class=\"well card\">\\r\\n                    <div class=\"col-md-3 image-card\">\\r\\n                        <img width=\"220\" height=\"155\" alt=\"Foto\" src=\"https://caelum-online-public.s3.amazonaws.com/1381-scraping/01/img-cars/bmw-m2/bmw-m2-2970882__340.jpg\">\\r\\n                    </div>\\r\\n                    <div class=\"col-md-6 body-card\">\\r\\n                        <p class=\"txt-name inline\">BMW M2</p>\\r\\n                            <p class=\"txt-category badge badge-secondary inline\">USADO</p>\\r\\n                            \\r\\n                        <p class=\"txt-motor\">Motor 3.0 32v</p>\\r\\n                        <p class=\"txt-description\">Ano 2018 - 83.447 km</p>\\r\\n                        <ul class=\"lst-items\">\\r\\n                            <li class=\"txt-items\">► Câmera de estacionamento</li>\\r\\n                            <li class=\"txt-items\">► Controle de estabilidade</li>\\r\\n                            <li class=\"txt-items\">► Travas elétricas</li>\\r\\n                            <li class=\"txt-items\">► Freios ABS</li>\\r\\n                            <li class=\"txt-items\">...</li>\\r\\n                        </ul>\\r\\n                        <p class=\"txt-location\">Belo Horizonte - MG</p>\\r\\n                    </div>\\r\\n                    <div class=\"col-md-3 value-card\">\\r\\n                        <div class=\"value\">\\r\\n                            <p class=\"txt-value\">R$ 346.000</p>\\r\\n                        </div>\\r\\n                    </div>\\r\\n                </div>\\r\\n                <div class=\"well card\">\\r\\n                    <div class=\"col-md-3 image-card\">\\r\\n                        <img width=\"220\" height=\"155\" alt=\"Foto\" src=\"https://caelum-online-public.s3.amazonaws.com/1381-scraping/01/img-cars/alfa/alfa-1823056__340.jpg\">\\r\\n                    </div>\\r\\n                    <div class=\"col-md-6 body-card\">\\r\\n                        <p class=\"txt-name inline\">ALFA</p>\\r\\n                            <p class=\"txt-category badge badge-secondary inline\">USADO</p>\\r\\n                            \\r\\n                        <p class=\"txt-motor\">Motor 1.8 16v</p>\\r\\n                        <p class=\"txt-description\">Ano 2004 - 19.722 km</p>\\r\\n                        <ul class=\"lst-items\">\\r\\n                            <li class=\"txt-items\">► Central multimídia</li>\\r\\n                            <li class=\"txt-items\">► Bancos de couro</li>\\r\\n                            <li class=\"txt-items\">► Rodas de liga</li>\\r\\n                            <li class=\"txt-items\">► Câmera de estacionamento</li>\\r\\n                            <li class=\"txt-items\">...</li>\\r\\n                        </ul>\\r\\n                        <p class=\"txt-location\">Rio de Janeiro - RJ</p>\\r\\n                    </div>\\r\\n                    <div class=\"col-md-3 value-card\">\\r\\n                        <div class=\"value\">\\r\\n                            <p class=\"txt-value\">R$ 480.000</p>\\r\\n                        </div>\\r\\n                    </div>\\r\\n                </div>\\r\\n                <div class=\"well card\">\\r\\n                    <div class=\"col-md-3 image-card\">\\r\\n                        <img width=\"220\" height=\"155\" alt=\"Foto\" src=\"https://caelum-online-public.s3.amazonaws.com/1381-scraping/01/img-cars/puech/puech-4055386__340.jpg\">\\r\\n                    </div>\\r\\n                    <div class=\"col-md-6 body-card\">\\r\\n                        <p class=\"txt-name inline\">PUECH</p>\\r\\n                            <p class=\"txt-category badge badge-secondary inline\">USADO</p>\\r\\n                            \\r\\n                        <p class=\"txt-motor\">Motor Diesel V8</p>\\r\\n                        <p class=\"txt-description\">Ano 1992 - 34.335 km</p>\\r\\n                        <ul class=\"lst-items\">\\r\\n                            <li class=\"txt-items\">► Bancos de couro</li>\\r\\n                            <li class=\"txt-items\">► Freios ABS</li>\\r\\n                            <li class=\"txt-items\">► Rodas de liga</li>\\r\\n                            <li class=\"txt-items\">► Câmbio automático</li>\\r\\n                            <li class=\"txt-items\">...</li>\\r\\n                        </ul>\\r\\n                        <p class=\"txt-location\">São Paulo - SP</p>\\r\\n                    </div>\\r\\n                    <div class=\"col-md-3 value-card\">\\r\\n                        <div class=\"value\">\\r\\n                            <p class=\"txt-value\">R$ 133.000</p>\\r\\n                        </div>\\r\\n                    </div>\\r\\n                </div>\\r\\n                <div class=\"well card\">\\r\\n                    <div class=\"col-md-3 image-card\">\\r\\n                        <img width=\"220\" height=\"155\" alt=\"Foto\" src=\"https://caelum-online-public.s3.amazonaws.com/1381-scraping/01/img-cars/lamborghini-murcielago/lamborghini-murcielago-2872974__340.jpg\">\\r\\n                    </div>\\r\\n                    <div class=\"col-md-6 body-card\">\\r\\n                        <p class=\"txt-name inline\">LAMBORGHINI MURCIELAGO</p>\\r\\n                            <p class=\"txt-category badge badge-secondary inline\">USADO</p>\\r\\n                            \\r\\n                        <p class=\"txt-motor\">Motor 1.0 8v</p>\\r\\n                        <p class=\"txt-description\">Ano 1991 - 464 km</p>\\r\\n                        <ul class=\"lst-items\">\\r\\n                            <li class=\"txt-items\">► Central multimídia</li>\\r\\n                            <li class=\"txt-items\">► Teto panorâmico</li>\\r\\n                            <li class=\"txt-items\">► Sensor crepuscular</li>\\r\\n                            <li class=\"txt-items\">► Piloto automático</li>\\r\\n                            <li class=\"txt-items\">...</li>\\r\\n                        </ul>\\r\\n                        <p class=\"txt-location\">Belo Horizonte - MG</p>\\r\\n                    </div>\\r\\n                    <div class=\"col-md-3 value-card\">\\r\\n                        <div class=\"value\">\\r\\n                            <p class=\"txt-value\">R$ 175.000</p>\\r\\n                        </div>\\r\\n                    </div>\\r\\n                </div>\\r\\n                <div class=\"well card\">\\r\\n                    <div class=\"col-md-3 image-card\">\\r\\n                        <img width=\"220\" height=\"155\" alt=\"Foto\" src=\"https://caelum-online-public.s3.amazonaws.com/1381-scraping/01/img-cars/aston-martin/aston-martin-2977916__340.jpg\">\\r\\n                    </div>\\r\\n                    <div class=\"col-md-6 body-card\">\\r\\n                        <p class=\"txt-name inline\">ASTON MARTIN</p>\\r\\n                            <p class=\"txt-category badge badge-secondary inline\">USADO</p>\\r\\n                            <p class=\"txt-opportunity badge badge-danger inline\">OPORTUNIDADE</p>\\r\\n                        <p class=\"txt-motor\">Motor Diesel V6</p>\\r\\n                        <p class=\"txt-description\">Ano 2004 - 50.189 km</p>\\r\\n                        <ul class=\"lst-items\">\\r\\n                            <li class=\"txt-items\">► Painel digital</li>\\r\\n                            <li class=\"txt-items\">► Controle de tração</li>\\r\\n                            <li class=\"txt-items\">► Teto panorâmico</li>\\r\\n                            <li class=\"txt-items\">► Central multimídia</li>\\r\\n                            <li class=\"txt-items\">...</li>\\r\\n                        </ul>\\r\\n                        <p class=\"txt-location\">Belo Horizonte - MG</p>\\r\\n                    </div>\\r\\n                    <div class=\"col-md-3 value-card\">\\r\\n                        <div class=\"value\">\\r\\n                            <p class=\"txt-value\">R$ 239.000</p>\\r\\n                        </div>\\r\\n                    </div>\\r\\n                </div>\\r\\n                <div class=\"well card\">\\r\\n                    <div class=\"col-md-3 image-card\">\\r\\n                        <img width=\"220\" height=\"155\" alt=\"Foto\" src=\"https://caelum-online-public.s3.amazonaws.com/1381-scraping/01/img-cars/tvr/tvr-2943925__340.jpg\">\\r\\n                    </div>\\r\\n                    <div class=\"col-md-6 body-card\">\\r\\n                        <p class=\"txt-name inline\">TVR</p>\\r\\n                            <p class=\"txt-category badge badge-secondary inline\">USADO</p>\\r\\n                            \\r\\n                        <p class=\"txt-motor\">Motor 4.0 Turbo</p>\\r\\n                        <p class=\"txt-description\">Ano 2014 - 17.778 km</p>\\r\\n                        <ul class=\"lst-items\">\\r\\n                            <li class=\"txt-items\">► 4 X 4</li>\\r\\n                            <li class=\"txt-items\">► Teto panorâmico</li>\\r\\n                            <li class=\"txt-items\">► Central multimídia</li>\\r\\n                            <li class=\"txt-items\">► Controle de estabilidade</li>\\r\\n                            <li class=\"txt-items\">...</li>\\r\\n                        </ul>\\r\\n                        <p class=\"txt-location\">Belo Horizonte - MG</p>\\r\\n                    </div>\\r\\n                    <div class=\"col-md-3 value-card\">\\r\\n                        <div class=\"value\">\\r\\n                            <p class=\"txt-value\">R$ 115.000</p>\\r\\n                        </div>\\r\\n                    </div>\\r\\n                </div>\\r\\n                <div class=\"well card\">\\r\\n                    <div class=\"col-md-3 image-card\">\\r\\n                        <img width=\"220\" height=\"155\" alt=\"Foto\" src=\"https://caelum-online-public.s3.amazonaws.com/1381-scraping/01/img-cars/excalibur/excalibur-2916730__340.jpg\">\\r\\n                    </div>\\r\\n                    <div class=\"col-md-6 body-card\">\\r\\n                        <p class=\"txt-name inline\">EXCALIBUR</p>\\r\\n                            <p class=\"txt-category badge badge-secondary inline\">USADO</p>\\r\\n                            \\r\\n                        <p class=\"txt-motor\">Motor 3.0 32v</p>\\r\\n                        <p class=\"txt-description\">Ano 2009 - 81.251 km</p>\\r\\n                        <ul class=\"lst-items\">\\r\\n                            <li class=\"txt-items\">► Painel digital</li>\\r\\n                            <li class=\"txt-items\">► Câmbio automático</li>\\r\\n                            <li class=\"txt-items\">► Sensor de chuva</li>\\r\\n                            <li class=\"txt-items\">► Travas elétricas</li>\\r\\n                            <li class=\"txt-items\">...</li>\\r\\n                        </ul>\\r\\n                        <p class=\"txt-location\">Rio de Janeiro - RJ</p>\\r\\n                    </div>\\r\\n                    <div class=\"col-md-3 value-card\">\\r\\n                        <div class=\"value\">\\r\\n                            <p class=\"txt-value\">R$ 114.000</p>\\r\\n                        </div>\\r\\n                    </div>\\r\\n                </div>\\r\\n                <div class=\"well card\">\\r\\n                    <div class=\"col-md-3 image-card\">\\r\\n                        <img width=\"220\" height=\"155\" alt=\"Foto\" src=\"https://caelum-online-public.s3.amazonaws.com/1381-scraping/01/img-cars/mclaren/mclaren-2855240__340.jpg\">\\r\\n                    </div>\\r\\n                    <div class=\"col-md-6 body-card\">\\r\\n                        <p class=\"txt-name inline\">MCLAREN</p>\\r\\n                            <p class=\"txt-category badge badge-secondary inline\">NOVO</p>\\r\\n                            \\r\\n                        <p class=\"txt-motor\">Motor Diesel</p>\\r\\n                        <p class=\"txt-description\">Ano 2019 - 0 km</p>\\r\\n                        <ul class=\"lst-items\">\\r\\n                            <li class=\"txt-items\">► Central multimídia</li>\\r\\n                            <li class=\"txt-items\">► Câmera de estacionamento</li>\\r\\n                            <li class=\"txt-items\">► Câmbio automático</li>\\r\\n                            <li class=\"txt-items\">► Ar condicionado</li>\\r\\n                            <li class=\"txt-items\">...</li>\\r\\n                        </ul>\\r\\n                        <p class=\"txt-location\">São Paulo - SP</p>\\r\\n                    </div>\\r\\n                    <div class=\"col-md-3 value-card\">\\r\\n                        <div class=\"value\">\\r\\n                            <p class=\"txt-value\">R$ 75.000</p>\\r\\n                        </div>\\r\\n                    </div>\\r\\n                </div>\\r\\n                <div class=\"well card\">\\r\\n                    <div class=\"col-md-3 image-card\">\\r\\n                        <img width=\"220\" height=\"155\" alt=\"Foto\" src=\"https://caelum-online-public.s3.amazonaws.com/1381-scraping/01/img-cars/toyota/toyota-3245397__340.jpg\">\\r\\n                    </div>\\r\\n                    <div class=\"col-md-6 body-card\">\\r\\n                        <p class=\"txt-name inline\">TOYOTA</p>\\r\\n                            <p class=\"txt-category badge badge-secondary inline\">USADO</p>\\r\\n                            <p class=\"txt-opportunity badge badge-danger inline\">OPORTUNIDADE</p>\\r\\n                        <p class=\"txt-motor\">Motor 4.0 Turbo</p>\\r\\n                        <p class=\"txt-description\">Ano 1999 - 12.536 km</p>\\r\\n                        <ul class=\"lst-items\">\\r\\n                            <li class=\"txt-items\">► Bancos de couro</li>\\r\\n                            <li class=\"txt-items\">► Freios ABS</li>\\r\\n                            <li class=\"txt-items\">► Piloto automático</li>\\r\\n                            <li class=\"txt-items\">► Controle de estabilidade</li>\\r\\n                            <li class=\"txt-items\">...</li>\\r\\n                        </ul>\\r\\n                        <p class=\"txt-location\">São Paulo - SP</p>\\r\\n                    </div>\\r\\n                    <div class=\"col-md-3 value-card\">\\r\\n                        <div class=\"value\">\\r\\n                            <p class=\"txt-value\">R$ 117.000</p>\\r\\n                        </div>\\r\\n                    </div>\\r\\n                </div>\\t\\t\\t\\t\\t\\t</div>\\r\\n\\t\\t\\t\\t\\t\\t<div class=\"type-select\">246 veículos encontrados</div>\\r\\n\\t\\t\\t\\t\\t\\t\\t<div class=\"container-pagination\" style=\"float: right\">\\r\\n\\t\\t\\t\\t\\t\\t\\t\\t<span class=\"info-pages\">Página 1 de 25</span>\\r\\n\\t\\t\\t\\t\\t\\t\\t</div>\\r\\n\\t\\t\\t\\t\\t\\t</div>\\r\\n\\t\\t\\t\\t\\t</div>\\r\\n\\t\\t\\t\\t</div>\\r\\n\\t\\t\\t</div>\\r\\n\\t\\t</div>\\r\\n\\r\\n\\t\\t<footer>\\r\\n\\t\\t\\t<nav class=\"navbar navbar-inverse\">\\r\\n\\t\\t\\t\\t<div class=\"container\" style=\"margin-bottom: 10px;\">\\r\\n\\t\\t\\t\\t\\t<div class=\"navbar\">\\r\\n\\t\\t\\t\\t\\t\\t<a href=\"./index.php\" class=\"navbar-brand\" title=\"Alura Motors\">\\r\\n\\t\\t\\t\\t\\t\\t\\t<img src=\"img/alura-logo.svg\" class=\"d-inline-block align-top\" alt=\"Alura\">Motors\\r\\n\\t\\t\\t\\t\\t\\t</a>\\r\\n\\t\\t\\t\\t\\t\\t<p style=\"color: #fff; text-align: center; margin-top: 40px;\">Aplicação para treinamento de web scraping</p>\\r\\n\\t\\t\\t\\t\\t</div>\\r\\n\\t\\t\\t\\t</div>\\r\\n\\t\\t\\t</nav>\\r\\n\\t\\t</footer>\\r\\n\\r\\n\\t</div>\\r\\n\\r\\n</body>\\r\\n</html>\\r\\n'"
      ]
     },
     "metadata": {},
     "execution_count": 19
    }
   ],
   "source": [
    "html"
   ]
  },
  {
   "cell_type": "code",
   "execution_count": 20,
   "metadata": {
    "scrolled": true
   },
   "outputs": [
    {
     "output_type": "execute_result",
     "data": {
      "text/plain": [
       "'<!DOCTYPE html><html lang=\"pt-br\"><head><meta charset=\"utf-8\"><meta name=\"viewport\" content=\"width=device-width, initial-scale=1, shrink-to-fit=no\"><title>Alura Motors</title><style> /*Regra para a animacao*/ @keyframes spin { 0% { transform: rotate(0deg); } 100% { transform: rotate(360deg); } } /*Mudando o tamanho do icone de resposta*/ div.glyphicon { color:#6B8E23; font-size: 38px; } /*Classe que mostra a animacao \\'spin\\'*/ .loader { border: 16px solid #f3f3f3; border-radius: 50%; border-top: 16px solid #3498db; width: 80px; height: 80px; -webkit-animation: spin 2s linear infinite; animation: spin 2s linear infinite; } </style><link rel=\"stylesheet\" href=\"https://maxcdn.bootstrapcdn.com/bootstrap/3.3.7/css/bootstrap.min.css\" integrity=\"sha384-BVYiiSIFeK1dGmJRAkycuHAHRg32OmUcww7on3RYdg4Va+PmSTsz/K68vbdEjh4u\" crossorigin=\"anonymous\"><link rel=\"stylesheet\" href=\"css/styles.css\" media=\"all\"><script src=\"https://code.jquery.com/jquery-1.12.4.js\"></script><script src=\"https://maxcdn.bootstrapcdn.com/bootstrap/3.3.7/js/bootstrap.min.js\" integrity=\"sha384-Tc5IQib027qvyjSMfHjOMaLkfuWVxZxUPnCJA7l2mCWNIpG9mGCD8wGNIcPD7Txa\" crossorigin=\"anonymous\"></script><script type=\"text/javascript\" src=\"js/index.js\"></script><script> requisitar(\"https://alura-scraping.herokuapp.com/produtos?_page=\"+1+\"&_limit=10\") </script></head><body cz-shortcut-listen=\"true\"><noscript>You need to enable JavaScript to run this app.</noscript><div class=\"modal fade\" data-backdrop=\"static\" id=\"loadingModal\" tabindex=\"-1\" role=\"dialog\" aria-labelledby=\"loadingModal_label\"><div class=\"modal-dialog\" role=\"document\"><div class=\"modal-content\"><div class=\"modal-header\"><h5 class=\"modal-title\" id=\"loadingModal_label\"><span class=\"glyphicon glyphicon-refresh\"></span>Aguarde... </h5></div><div class=\"modal-body\"><div class=\\'alert\\' role=\\'alert\\'><center><div class=\"loader\" id=\"loader\"></div><br><h4><b id=\"loadingModal_content\"></b></h4></center></div></div></div></div></div><div id=\"root\"><header><nav class=\"navbar navbar-inverse\" style=\"margin-bottom: 0;\"><div class=\"container\" style=\"margin-bottom: -20px;\"><div class=\"navbar\"><a href=\"./index.php\" class=\"navbar-brand\" title=\"Alura Motors\"><img src=\"img/alura-logo.svg\" class=\"d-inline-block align-top\" alt=\"Alura\">Motors </a><ul class=\"nav navbar-nav\" style=\"margin-top: 35px;\"><li><a href=\"./hello-world.php\">Hello World</a></li><li><a href=\"./index.php\">Anúncios</a></li></ul></div></div></nav></header><div class=\"container\"><h1 class=\"sub-header\">Veículos de Luxo Novos e Usados - Todas as Marcas</h1><div class=\"row\"><div class=\"col-md-12\"><div class=\"container\" style=\"width: 100%\"><div class=\"type-select\">246 veículos encontrados</div><div class=\"container-pagination\" style=\"float: right\"><span class=\"info-pages\">Página 1 de 25</span></div></div><div id=\"container-cards\" style=\"height: 100%\"><div class=\"well card\"><div class=\"col-md-3 image-card\"><img width=\"220\" height=\"155\" alt=\"Foto\" src=\"https://caelum-online-public.s3.amazonaws.com/1381-scraping/01/img-cars/lamborghini-aventador/lamborghini-aventador-2932196__340.jpg\"></div><div class=\"col-md-6 body-card\"><p class=\"txt-name inline\">LAMBORGHINI AVENTADOR</p><p class=\"txt-category badge badge-secondary inline\">USADO</p><p class=\"txt-motor\">Motor 1.8 16v</p><p class=\"txt-description\">Ano 1993 - 55.286 km</p><ul class=\"lst-items\"><li class=\"txt-items\">► 4 X 4</li><li class=\"txt-items\">► Câmera de estacionamento</li><li class=\"txt-items\">► Controle de tração</li><li class=\"txt-items\">► Sensor de estacionamento</li><li class=\"txt-items\">...</li></ul><p class=\"txt-location\">Belo Horizonte - MG</p></div><div class=\"col-md-3 value-card\"><div class=\"value\"><p class=\"txt-value\">R$ 338.000</p></div></div></div><div class=\"well card\"><div class=\"col-md-3 image-card\"><img width=\"220\" height=\"155\" alt=\"Foto\" src=\"https://caelum-online-public.s3.amazonaws.com/1381-scraping/01/img-cars/bmw-m2/bmw-m2-2970882__340.jpg\"></div><div class=\"col-md-6 body-card\"><p class=\"txt-name inline\">BMW M2</p><p class=\"txt-category badge badge-secondary inline\">USADO</p><p class=\"txt-motor\">Motor 3.0 32v</p><p class=\"txt-description\">Ano 2018 - 83.447 km</p><ul class=\"lst-items\"><li class=\"txt-items\">► Câmera de estacionamento</li><li class=\"txt-items\">► Controle de estabilidade</li><li class=\"txt-items\">► Travas elétricas</li><li class=\"txt-items\">► Freios ABS</li><li class=\"txt-items\">...</li></ul><p class=\"txt-location\">Belo Horizonte - MG</p></div><div class=\"col-md-3 value-card\"><div class=\"value\"><p class=\"txt-value\">R$ 346.000</p></div></div></div><div class=\"well card\"><div class=\"col-md-3 image-card\"><img width=\"220\" height=\"155\" alt=\"Foto\" src=\"https://caelum-online-public.s3.amazonaws.com/1381-scraping/01/img-cars/alfa/alfa-1823056__340.jpg\"></div><div class=\"col-md-6 body-card\"><p class=\"txt-name inline\">ALFA</p><p class=\"txt-category badge badge-secondary inline\">USADO</p><p class=\"txt-motor\">Motor 1.8 16v</p><p class=\"txt-description\">Ano 2004 - 19.722 km</p><ul class=\"lst-items\"><li class=\"txt-items\">► Central multimídia</li><li class=\"txt-items\">► Bancos de couro</li><li class=\"txt-items\">► Rodas de liga</li><li class=\"txt-items\">► Câmera de estacionamento</li><li class=\"txt-items\">...</li></ul><p class=\"txt-location\">Rio de Janeiro - RJ</p></div><div class=\"col-md-3 value-card\"><div class=\"value\"><p class=\"txt-value\">R$ 480.000</p></div></div></div><div class=\"well card\"><div class=\"col-md-3 image-card\"><img width=\"220\" height=\"155\" alt=\"Foto\" src=\"https://caelum-online-public.s3.amazonaws.com/1381-scraping/01/img-cars/puech/puech-4055386__340.jpg\"></div><div class=\"col-md-6 body-card\"><p class=\"txt-name inline\">PUECH</p><p class=\"txt-category badge badge-secondary inline\">USADO</p><p class=\"txt-motor\">Motor Diesel V8</p><p class=\"txt-description\">Ano 1992 - 34.335 km</p><ul class=\"lst-items\"><li class=\"txt-items\">► Bancos de couro</li><li class=\"txt-items\">► Freios ABS</li><li class=\"txt-items\">► Rodas de liga</li><li class=\"txt-items\">► Câmbio automático</li><li class=\"txt-items\">...</li></ul><p class=\"txt-location\">São Paulo - SP</p></div><div class=\"col-md-3 value-card\"><div class=\"value\"><p class=\"txt-value\">R$ 133.000</p></div></div></div><div class=\"well card\"><div class=\"col-md-3 image-card\"><img width=\"220\" height=\"155\" alt=\"Foto\" src=\"https://caelum-online-public.s3.amazonaws.com/1381-scraping/01/img-cars/lamborghini-murcielago/lamborghini-murcielago-2872974__340.jpg\"></div><div class=\"col-md-6 body-card\"><p class=\"txt-name inline\">LAMBORGHINI MURCIELAGO</p><p class=\"txt-category badge badge-secondary inline\">USADO</p><p class=\"txt-motor\">Motor 1.0 8v</p><p class=\"txt-description\">Ano 1991 - 464 km</p><ul class=\"lst-items\"><li class=\"txt-items\">► Central multimídia</li><li class=\"txt-items\">► Teto panorâmico</li><li class=\"txt-items\">► Sensor crepuscular</li><li class=\"txt-items\">► Piloto automático</li><li class=\"txt-items\">...</li></ul><p class=\"txt-location\">Belo Horizonte - MG</p></div><div class=\"col-md-3 value-card\"><div class=\"value\"><p class=\"txt-value\">R$ 175.000</p></div></div></div><div class=\"well card\"><div class=\"col-md-3 image-card\"><img width=\"220\" height=\"155\" alt=\"Foto\" src=\"https://caelum-online-public.s3.amazonaws.com/1381-scraping/01/img-cars/aston-martin/aston-martin-2977916__340.jpg\"></div><div class=\"col-md-6 body-card\"><p class=\"txt-name inline\">ASTON MARTIN</p><p class=\"txt-category badge badge-secondary inline\">USADO</p><p class=\"txt-opportunity badge badge-danger inline\">OPORTUNIDADE</p><p class=\"txt-motor\">Motor Diesel V6</p><p class=\"txt-description\">Ano 2004 - 50.189 km</p><ul class=\"lst-items\"><li class=\"txt-items\">► Painel digital</li><li class=\"txt-items\">► Controle de tração</li><li class=\"txt-items\">► Teto panorâmico</li><li class=\"txt-items\">► Central multimídia</li><li class=\"txt-items\">...</li></ul><p class=\"txt-location\">Belo Horizonte - MG</p></div><div class=\"col-md-3 value-card\"><div class=\"value\"><p class=\"txt-value\">R$ 239.000</p></div></div></div><div class=\"well card\"><div class=\"col-md-3 image-card\"><img width=\"220\" height=\"155\" alt=\"Foto\" src=\"https://caelum-online-public.s3.amazonaws.com/1381-scraping/01/img-cars/tvr/tvr-2943925__340.jpg\"></div><div class=\"col-md-6 body-card\"><p class=\"txt-name inline\">TVR</p><p class=\"txt-category badge badge-secondary inline\">USADO</p><p class=\"txt-motor\">Motor 4.0 Turbo</p><p class=\"txt-description\">Ano 2014 - 17.778 km</p><ul class=\"lst-items\"><li class=\"txt-items\">► 4 X 4</li><li class=\"txt-items\">► Teto panorâmico</li><li class=\"txt-items\">► Central multimídia</li><li class=\"txt-items\">► Controle de estabilidade</li><li class=\"txt-items\">...</li></ul><p class=\"txt-location\">Belo Horizonte - MG</p></div><div class=\"col-md-3 value-card\"><div class=\"value\"><p class=\"txt-value\">R$ 115.000</p></div></div></div><div class=\"well card\"><div class=\"col-md-3 image-card\"><img width=\"220\" height=\"155\" alt=\"Foto\" src=\"https://caelum-online-public.s3.amazonaws.com/1381-scraping/01/img-cars/excalibur/excalibur-2916730__340.jpg\"></div><div class=\"col-md-6 body-card\"><p class=\"txt-name inline\">EXCALIBUR</p><p class=\"txt-category badge badge-secondary inline\">USADO</p><p class=\"txt-motor\">Motor 3.0 32v</p><p class=\"txt-description\">Ano 2009 - 81.251 km</p><ul class=\"lst-items\"><li class=\"txt-items\">► Painel digital</li><li class=\"txt-items\">► Câmbio automático</li><li class=\"txt-items\">► Sensor de chuva</li><li class=\"txt-items\">► Travas elétricas</li><li class=\"txt-items\">...</li></ul><p class=\"txt-location\">Rio de Janeiro - RJ</p></div><div class=\"col-md-3 value-card\"><div class=\"value\"><p class=\"txt-value\">R$ 114.000</p></div></div></div><div class=\"well card\"><div class=\"col-md-3 image-card\"><img width=\"220\" height=\"155\" alt=\"Foto\" src=\"https://caelum-online-public.s3.amazonaws.com/1381-scraping/01/img-cars/mclaren/mclaren-2855240__340.jpg\"></div><div class=\"col-md-6 body-card\"><p class=\"txt-name inline\">MCLAREN</p><p class=\"txt-category badge badge-secondary inline\">NOVO</p><p class=\"txt-motor\">Motor Diesel</p><p class=\"txt-description\">Ano 2019 - 0 km</p><ul class=\"lst-items\"><li class=\"txt-items\">► Central multimídia</li><li class=\"txt-items\">► Câmera de estacionamento</li><li class=\"txt-items\">► Câmbio automático</li><li class=\"txt-items\">► Ar condicionado</li><li class=\"txt-items\">...</li></ul><p class=\"txt-location\">São Paulo - SP</p></div><div class=\"col-md-3 value-card\"><div class=\"value\"><p class=\"txt-value\">R$ 75.000</p></div></div></div><div class=\"well card\"><div class=\"col-md-3 image-card\"><img width=\"220\" height=\"155\" alt=\"Foto\" src=\"https://caelum-online-public.s3.amazonaws.com/1381-scraping/01/img-cars/toyota/toyota-3245397__340.jpg\"></div><div class=\"col-md-6 body-card\"><p class=\"txt-name inline\">TOYOTA</p><p class=\"txt-category badge badge-secondary inline\">USADO</p><p class=\"txt-opportunity badge badge-danger inline\">OPORTUNIDADE</p><p class=\"txt-motor\">Motor 4.0 Turbo</p><p class=\"txt-description\">Ano 1999 - 12.536 km</p><ul class=\"lst-items\"><li class=\"txt-items\">► Bancos de couro</li><li class=\"txt-items\">► Freios ABS</li><li class=\"txt-items\">► Piloto automático</li><li class=\"txt-items\">► Controle de estabilidade</li><li class=\"txt-items\">...</li></ul><p class=\"txt-location\">São Paulo - SP</p></div><div class=\"col-md-3 value-card\"><div class=\"value\"><p class=\"txt-value\">R$ 117.000</p></div></div></div></div><div class=\"type-select\">246 veículos encontrados</div><div class=\"container-pagination\" style=\"float: right\"><span class=\"info-pages\">Página 1 de 25</span></div></div></div></div></div></div><footer><nav class=\"navbar navbar-inverse\"><div class=\"container\" style=\"margin-bottom: 10px;\"><div class=\"navbar\"><a href=\"./index.php\" class=\"navbar-brand\" title=\"Alura Motors\"><img src=\"img/alura-logo.svg\" class=\"d-inline-block align-top\" alt=\"Alura\">Motors </a><p style=\"color: #fff; text-align: center; margin-top: 40px;\">Aplicação para treinamento de web scraping</p></div></div></nav></footer></div></body></html>'"
      ]
     },
     "metadata": {},
     "execution_count": 20
    }
   ],
   "source": [
    "html = trata_html(html)\n",
    "html"
   ]
  },
  {
   "cell_type": "markdown",
   "metadata": {
    "colab": {},
    "colab_type": "code",
    "id": "BsfhL3sZFRZu"
   },
   "source": [
    "---\n",
    "# <font color=green>3. INTRODUÇÃO AO BEAUTIFULSOUP"
   ]
  },
  {
   "cell_type": "markdown",
   "metadata": {
    "colab": {},
    "colab_type": "code",
    "id": "BsfhL3sZFRZu"
   },
   "source": [
    "# 3.1. HTML da nossa página"
   ]
  },
  {
   "cell_type": "markdown",
   "metadata": {},
   "source": [
    "**HTML** (*HyperText Markup Language*) é uma linguagem de marcação composta por **tags** que deteminam o papel que cada parte do documento vai assumir. As **tags** são formadas pelo seu nome e atributos. Os atributos servem para configurar e também modificar as características padrões de uma **tag**.\n",
    "\n",
    "## Estrutura básica\n",
    "\n",
    "```html\n",
    "<html>\n",
    "    <head>\n",
    "        <meta charset=\"utf-8\" />\n",
    "        <title>Alura Motors</title>\n",
    "    </head>\n",
    "    <body>\n",
    "        <div id=\"container\">\n",
    "            <h1>Alura</h1>\n",
    "            <h2 class=\"formato\">Cursos de Tecnologia</h2>\n",
    "            <p>Você vai estudar, praticar, discutir e aprender.</p>\n",
    "            <a href=\"https://www.alura.com.br/\">Clique aqui</a>\n",
    "        </div>\n",
    "    </body>\n",
    "</html>\n",
    "```\n",
    "\n",
    "```<html>``` - determina o início do documento.\n",
    "\n",
    "```<head>``` - cabeçalho. Contém informações e configurações do documento.\n",
    "\n",
    "```<body>``` - é o corpo do documento, onde todo o conteúdo é colocado. Esta é a parte visível em um navegador.\n",
    "\n",
    "## Tags mais comuns\n",
    "\n",
    "```<div>``` - define uma divisão da página. Pode ser formatada de diversas maneiras.\n",
    "\n",
    "```<h1>, <h2>, <h3>, <h4>, <h5>, <h6>``` - marcadores de títulos.\n",
    "\n",
    "```<p>``` - marcador de parágrafo.\n",
    "\n",
    "```<a>``` - hiperlink.\n",
    "\n",
    "```<img>``` - exibição de imagens.\n",
    "\n",
    "```<table>``` - definição de tabelas.\n",
    "\n",
    "```<ul>, <li>``` - definição de listas.\n"
   ]
  },
  {
   "cell_type": "markdown",
   "metadata": {},
   "source": [
    "# 3.2. Criando um objeto BeautifulSoup"
   ]
  },
  {
   "cell_type": "markdown",
   "metadata": {},
   "source": [
    "## https://www.crummy.com/software/BeautifulSoup/\n",
    "\n",
    "### Sobre parser ver: https://www.crummy.com/software/BeautifulSoup/bs4/doc/#parser-installation"
   ]
  },
  {
   "cell_type": "code",
   "execution_count": 21,
   "metadata": {
    "colab": {
     "base_uri": "https://localhost:8080/",
     "height": 316
    },
    "colab_type": "code",
    "id": "5Oxx_d0BCWGa",
    "outputId": "4d2c4e2b-57fe-413d-9521-91711e0e5fdc",
    "scrolled": true
   },
   "outputs": [
    {
     "output_type": "execute_result",
     "data": {
      "text/plain": [
       "<!DOCTYPE html>\n",
       "<html lang=\"pt-br\"><head><meta charset=\"utf-8\"/><meta content=\"width=device-width, initial-scale=1, shrink-to-fit=no\" name=\"viewport\"/><title>Alura Motors</title><style> /*Regra para a animacao*/ @keyframes spin { 0% { transform: rotate(0deg); } 100% { transform: rotate(360deg); } } /*Mudando o tamanho do icone de resposta*/ div.glyphicon { color:#6B8E23; font-size: 38px; } /*Classe que mostra a animacao 'spin'*/ .loader { border: 16px solid #f3f3f3; border-radius: 50%; border-top: 16px solid #3498db; width: 80px; height: 80px; -webkit-animation: spin 2s linear infinite; animation: spin 2s linear infinite; } </style><link crossorigin=\"anonymous\" href=\"https://maxcdn.bootstrapcdn.com/bootstrap/3.3.7/css/bootstrap.min.css\" integrity=\"sha384-BVYiiSIFeK1dGmJRAkycuHAHRg32OmUcww7on3RYdg4Va+PmSTsz/K68vbdEjh4u\" rel=\"stylesheet\"/><link href=\"css/styles.css\" media=\"all\" rel=\"stylesheet\"/><script src=\"https://code.jquery.com/jquery-1.12.4.js\"></script><script crossorigin=\"anonymous\" integrity=\"sha384-Tc5IQib027qvyjSMfHjOMaLkfuWVxZxUPnCJA7l2mCWNIpG9mGCD8wGNIcPD7Txa\" src=\"https://maxcdn.bootstrapcdn.com/bootstrap/3.3.7/js/bootstrap.min.js\"></script><script src=\"js/index.js\" type=\"text/javascript\"></script><script> requisitar(\"https://alura-scraping.herokuapp.com/produtos?_page=\"+1+\"&_limit=10\") </script></head><body cz-shortcut-listen=\"true\"><noscript>You need to enable JavaScript to run this app.</noscript><div aria-labelledby=\"loadingModal_label\" class=\"modal fade\" data-backdrop=\"static\" id=\"loadingModal\" role=\"dialog\" tabindex=\"-1\"><div class=\"modal-dialog\" role=\"document\"><div class=\"modal-content\"><div class=\"modal-header\"><h5 class=\"modal-title\" id=\"loadingModal_label\"><span class=\"glyphicon glyphicon-refresh\"></span>Aguarde... </h5></div><div class=\"modal-body\"><div class=\"alert\" role=\"alert\"><center><div class=\"loader\" id=\"loader\"></div><br/><h4><b id=\"loadingModal_content\"></b></h4></center></div></div></div></div></div><div id=\"root\"><header><nav class=\"navbar navbar-inverse\" style=\"margin-bottom: 0;\"><div class=\"container\" style=\"margin-bottom: -20px;\"><div class=\"navbar\"><a class=\"navbar-brand\" href=\"./index.php\" title=\"Alura Motors\"><img alt=\"Alura\" class=\"d-inline-block align-top\" src=\"img/alura-logo.svg\"/>Motors </a><ul class=\"nav navbar-nav\" style=\"margin-top: 35px;\"><li><a href=\"./hello-world.php\">Hello World</a></li><li><a href=\"./index.php\">Anúncios</a></li></ul></div></div></nav></header><div class=\"container\"><h1 class=\"sub-header\">Veículos de Luxo Novos e Usados - Todas as Marcas</h1><div class=\"row\"><div class=\"col-md-12\"><div class=\"container\" style=\"width: 100%\"><div class=\"type-select\">246 veículos encontrados</div><div class=\"container-pagination\" style=\"float: right\"><span class=\"info-pages\">Página 1 de 25</span></div></div><div id=\"container-cards\" style=\"height: 100%\"><div class=\"well card\"><div class=\"col-md-3 image-card\"><img alt=\"Foto\" height=\"155\" src=\"https://caelum-online-public.s3.amazonaws.com/1381-scraping/01/img-cars/lamborghini-aventador/lamborghini-aventador-2932196__340.jpg\" width=\"220\"/></div><div class=\"col-md-6 body-card\"><p class=\"txt-name inline\">LAMBORGHINI AVENTADOR</p><p class=\"txt-category badge badge-secondary inline\">USADO</p><p class=\"txt-motor\">Motor 1.8 16v</p><p class=\"txt-description\">Ano 1993 - 55.286 km</p><ul class=\"lst-items\"><li class=\"txt-items\">► 4 X 4</li><li class=\"txt-items\">► Câmera de estacionamento</li><li class=\"txt-items\">► Controle de tração</li><li class=\"txt-items\">► Sensor de estacionamento</li><li class=\"txt-items\">...</li></ul><p class=\"txt-location\">Belo Horizonte - MG</p></div><div class=\"col-md-3 value-card\"><div class=\"value\"><p class=\"txt-value\">R$ 338.000</p></div></div></div><div class=\"well card\"><div class=\"col-md-3 image-card\"><img alt=\"Foto\" height=\"155\" src=\"https://caelum-online-public.s3.amazonaws.com/1381-scraping/01/img-cars/bmw-m2/bmw-m2-2970882__340.jpg\" width=\"220\"/></div><div class=\"col-md-6 body-card\"><p class=\"txt-name inline\">BMW M2</p><p class=\"txt-category badge badge-secondary inline\">USADO</p><p class=\"txt-motor\">Motor 3.0 32v</p><p class=\"txt-description\">Ano 2018 - 83.447 km</p><ul class=\"lst-items\"><li class=\"txt-items\">► Câmera de estacionamento</li><li class=\"txt-items\">► Controle de estabilidade</li><li class=\"txt-items\">► Travas elétricas</li><li class=\"txt-items\">► Freios ABS</li><li class=\"txt-items\">...</li></ul><p class=\"txt-location\">Belo Horizonte - MG</p></div><div class=\"col-md-3 value-card\"><div class=\"value\"><p class=\"txt-value\">R$ 346.000</p></div></div></div><div class=\"well card\"><div class=\"col-md-3 image-card\"><img alt=\"Foto\" height=\"155\" src=\"https://caelum-online-public.s3.amazonaws.com/1381-scraping/01/img-cars/alfa/alfa-1823056__340.jpg\" width=\"220\"/></div><div class=\"col-md-6 body-card\"><p class=\"txt-name inline\">ALFA</p><p class=\"txt-category badge badge-secondary inline\">USADO</p><p class=\"txt-motor\">Motor 1.8 16v</p><p class=\"txt-description\">Ano 2004 - 19.722 km</p><ul class=\"lst-items\"><li class=\"txt-items\">► Central multimídia</li><li class=\"txt-items\">► Bancos de couro</li><li class=\"txt-items\">► Rodas de liga</li><li class=\"txt-items\">► Câmera de estacionamento</li><li class=\"txt-items\">...</li></ul><p class=\"txt-location\">Rio de Janeiro - RJ</p></div><div class=\"col-md-3 value-card\"><div class=\"value\"><p class=\"txt-value\">R$ 480.000</p></div></div></div><div class=\"well card\"><div class=\"col-md-3 image-card\"><img alt=\"Foto\" height=\"155\" src=\"https://caelum-online-public.s3.amazonaws.com/1381-scraping/01/img-cars/puech/puech-4055386__340.jpg\" width=\"220\"/></div><div class=\"col-md-6 body-card\"><p class=\"txt-name inline\">PUECH</p><p class=\"txt-category badge badge-secondary inline\">USADO</p><p class=\"txt-motor\">Motor Diesel V8</p><p class=\"txt-description\">Ano 1992 - 34.335 km</p><ul class=\"lst-items\"><li class=\"txt-items\">► Bancos de couro</li><li class=\"txt-items\">► Freios ABS</li><li class=\"txt-items\">► Rodas de liga</li><li class=\"txt-items\">► Câmbio automático</li><li class=\"txt-items\">...</li></ul><p class=\"txt-location\">São Paulo - SP</p></div><div class=\"col-md-3 value-card\"><div class=\"value\"><p class=\"txt-value\">R$ 133.000</p></div></div></div><div class=\"well card\"><div class=\"col-md-3 image-card\"><img alt=\"Foto\" height=\"155\" src=\"https://caelum-online-public.s3.amazonaws.com/1381-scraping/01/img-cars/lamborghini-murcielago/lamborghini-murcielago-2872974__340.jpg\" width=\"220\"/></div><div class=\"col-md-6 body-card\"><p class=\"txt-name inline\">LAMBORGHINI MURCIELAGO</p><p class=\"txt-category badge badge-secondary inline\">USADO</p><p class=\"txt-motor\">Motor 1.0 8v</p><p class=\"txt-description\">Ano 1991 - 464 km</p><ul class=\"lst-items\"><li class=\"txt-items\">► Central multimídia</li><li class=\"txt-items\">► Teto panorâmico</li><li class=\"txt-items\">► Sensor crepuscular</li><li class=\"txt-items\">► Piloto automático</li><li class=\"txt-items\">...</li></ul><p class=\"txt-location\">Belo Horizonte - MG</p></div><div class=\"col-md-3 value-card\"><div class=\"value\"><p class=\"txt-value\">R$ 175.000</p></div></div></div><div class=\"well card\"><div class=\"col-md-3 image-card\"><img alt=\"Foto\" height=\"155\" src=\"https://caelum-online-public.s3.amazonaws.com/1381-scraping/01/img-cars/aston-martin/aston-martin-2977916__340.jpg\" width=\"220\"/></div><div class=\"col-md-6 body-card\"><p class=\"txt-name inline\">ASTON MARTIN</p><p class=\"txt-category badge badge-secondary inline\">USADO</p><p class=\"txt-opportunity badge badge-danger inline\">OPORTUNIDADE</p><p class=\"txt-motor\">Motor Diesel V6</p><p class=\"txt-description\">Ano 2004 - 50.189 km</p><ul class=\"lst-items\"><li class=\"txt-items\">► Painel digital</li><li class=\"txt-items\">► Controle de tração</li><li class=\"txt-items\">► Teto panorâmico</li><li class=\"txt-items\">► Central multimídia</li><li class=\"txt-items\">...</li></ul><p class=\"txt-location\">Belo Horizonte - MG</p></div><div class=\"col-md-3 value-card\"><div class=\"value\"><p class=\"txt-value\">R$ 239.000</p></div></div></div><div class=\"well card\"><div class=\"col-md-3 image-card\"><img alt=\"Foto\" height=\"155\" src=\"https://caelum-online-public.s3.amazonaws.com/1381-scraping/01/img-cars/tvr/tvr-2943925__340.jpg\" width=\"220\"/></div><div class=\"col-md-6 body-card\"><p class=\"txt-name inline\">TVR</p><p class=\"txt-category badge badge-secondary inline\">USADO</p><p class=\"txt-motor\">Motor 4.0 Turbo</p><p class=\"txt-description\">Ano 2014 - 17.778 km</p><ul class=\"lst-items\"><li class=\"txt-items\">► 4 X 4</li><li class=\"txt-items\">► Teto panorâmico</li><li class=\"txt-items\">► Central multimídia</li><li class=\"txt-items\">► Controle de estabilidade</li><li class=\"txt-items\">...</li></ul><p class=\"txt-location\">Belo Horizonte - MG</p></div><div class=\"col-md-3 value-card\"><div class=\"value\"><p class=\"txt-value\">R$ 115.000</p></div></div></div><div class=\"well card\"><div class=\"col-md-3 image-card\"><img alt=\"Foto\" height=\"155\" src=\"https://caelum-online-public.s3.amazonaws.com/1381-scraping/01/img-cars/excalibur/excalibur-2916730__340.jpg\" width=\"220\"/></div><div class=\"col-md-6 body-card\"><p class=\"txt-name inline\">EXCALIBUR</p><p class=\"txt-category badge badge-secondary inline\">USADO</p><p class=\"txt-motor\">Motor 3.0 32v</p><p class=\"txt-description\">Ano 2009 - 81.251 km</p><ul class=\"lst-items\"><li class=\"txt-items\">► Painel digital</li><li class=\"txt-items\">► Câmbio automático</li><li class=\"txt-items\">► Sensor de chuva</li><li class=\"txt-items\">► Travas elétricas</li><li class=\"txt-items\">...</li></ul><p class=\"txt-location\">Rio de Janeiro - RJ</p></div><div class=\"col-md-3 value-card\"><div class=\"value\"><p class=\"txt-value\">R$ 114.000</p></div></div></div><div class=\"well card\"><div class=\"col-md-3 image-card\"><img alt=\"Foto\" height=\"155\" src=\"https://caelum-online-public.s3.amazonaws.com/1381-scraping/01/img-cars/mclaren/mclaren-2855240__340.jpg\" width=\"220\"/></div><div class=\"col-md-6 body-card\"><p class=\"txt-name inline\">MCLAREN</p><p class=\"txt-category badge badge-secondary inline\">NOVO</p><p class=\"txt-motor\">Motor Diesel</p><p class=\"txt-description\">Ano 2019 - 0 km</p><ul class=\"lst-items\"><li class=\"txt-items\">► Central multimídia</li><li class=\"txt-items\">► Câmera de estacionamento</li><li class=\"txt-items\">► Câmbio automático</li><li class=\"txt-items\">► Ar condicionado</li><li class=\"txt-items\">...</li></ul><p class=\"txt-location\">São Paulo - SP</p></div><div class=\"col-md-3 value-card\"><div class=\"value\"><p class=\"txt-value\">R$ 75.000</p></div></div></div><div class=\"well card\"><div class=\"col-md-3 image-card\"><img alt=\"Foto\" height=\"155\" src=\"https://caelum-online-public.s3.amazonaws.com/1381-scraping/01/img-cars/toyota/toyota-3245397__340.jpg\" width=\"220\"/></div><div class=\"col-md-6 body-card\"><p class=\"txt-name inline\">TOYOTA</p><p class=\"txt-category badge badge-secondary inline\">USADO</p><p class=\"txt-opportunity badge badge-danger inline\">OPORTUNIDADE</p><p class=\"txt-motor\">Motor 4.0 Turbo</p><p class=\"txt-description\">Ano 1999 - 12.536 km</p><ul class=\"lst-items\"><li class=\"txt-items\">► Bancos de couro</li><li class=\"txt-items\">► Freios ABS</li><li class=\"txt-items\">► Piloto automático</li><li class=\"txt-items\">► Controle de estabilidade</li><li class=\"txt-items\">...</li></ul><p class=\"txt-location\">São Paulo - SP</p></div><div class=\"col-md-3 value-card\"><div class=\"value\"><p class=\"txt-value\">R$ 117.000</p></div></div></div></div><div class=\"type-select\">246 veículos encontrados</div><div class=\"container-pagination\" style=\"float: right\"><span class=\"info-pages\">Página 1 de 25</span></div></div></div></div></div><footer><nav class=\"navbar navbar-inverse\"><div class=\"container\" style=\"margin-bottom: 10px;\"><div class=\"navbar\"><a class=\"navbar-brand\" href=\"./index.php\" title=\"Alura Motors\"><img alt=\"Alura\" class=\"d-inline-block align-top\" src=\"img/alura-logo.svg\"/>Motors </a><p style=\"color: #fff; text-align: center; margin-top: 40px;\">Aplicação para treinamento de web scraping</p></div></div></nav></footer></body></html>"
      ]
     },
     "metadata": {},
     "execution_count": 21
    }
   ],
   "source": [
    "from bs4 import BeautifulSoup\n",
    "\n",
    "soup = BeautifulSoup(html, 'html.parser')\n",
    "\n",
    "soup"
   ]
  },
  {
   "cell_type": "code",
   "execution_count": 23,
   "metadata": {
    "scrolled": true
   },
   "outputs": [
    {
     "output_type": "stream",
     "name": "stdout",
     "text": [
      "<!DOCTYPE html>\n<html lang=\"pt-br\">\n <head>\n  <meta charset=\"utf-8\"/>\n  <meta content=\"width=device-width, initial-scale=1, shrink-to-fit=no\" name=\"viewport\"/>\n  <title>\n   Alura Motors\n  </title>\n  <style>\n   /*Regra para a animacao*/ @keyframes spin { 0% { transform: rotate(0deg); } 100% { transform: rotate(360deg); } } /*Mudando o tamanho do icone de resposta*/ div.glyphicon { color:#6B8E23; font-size: 38px; } /*Classe que mostra a animacao 'spin'*/ .loader { border: 16px solid #f3f3f3; border-radius: 50%; border-top: 16px solid #3498db; width: 80px; height: 80px; -webkit-animation: spin 2s linear infinite; animation: spin 2s linear infinite; }\n  </style>\n  <link crossorigin=\"anonymous\" href=\"https://maxcdn.bootstrapcdn.com/bootstrap/3.3.7/css/bootstrap.min.css\" integrity=\"sha384-BVYiiSIFeK1dGmJRAkycuHAHRg32OmUcww7on3RYdg4Va+PmSTsz/K68vbdEjh4u\" rel=\"stylesheet\"/>\n  <link href=\"css/styles.css\" media=\"all\" rel=\"stylesheet\"/>\n  <script src=\"https://code.jquery.com/jquery-1.12.4.js\">\n  </script>\n  <script crossorigin=\"anonymous\" integrity=\"sha384-Tc5IQib027qvyjSMfHjOMaLkfuWVxZxUPnCJA7l2mCWNIpG9mGCD8wGNIcPD7Txa\" src=\"https://maxcdn.bootstrapcdn.com/bootstrap/3.3.7/js/bootstrap.min.js\">\n  </script>\n  <script src=\"js/index.js\" type=\"text/javascript\">\n  </script>\n  <script>\n   requisitar(\"https://alura-scraping.herokuapp.com/produtos?_page=\"+1+\"&_limit=10\")\n  </script>\n </head>\n <body cz-shortcut-listen=\"true\">\n  <noscript>\n   You need to enable JavaScript to run this app.\n  </noscript>\n  <div aria-labelledby=\"loadingModal_label\" class=\"modal fade\" data-backdrop=\"static\" id=\"loadingModal\" role=\"dialog\" tabindex=\"-1\">\n   <div class=\"modal-dialog\" role=\"document\">\n    <div class=\"modal-content\">\n     <div class=\"modal-header\">\n      <h5 class=\"modal-title\" id=\"loadingModal_label\">\n       <span class=\"glyphicon glyphicon-refresh\">\n       </span>\n       Aguarde...\n      </h5>\n     </div>\n     <div class=\"modal-body\">\n      <div class=\"alert\" role=\"alert\">\n       <center>\n        <div class=\"loader\" id=\"loader\">\n        </div>\n        <br/>\n        <h4>\n         <b id=\"loadingModal_content\">\n         </b>\n        </h4>\n       </center>\n      </div>\n     </div>\n    </div>\n   </div>\n  </div>\n  <div id=\"root\">\n   <header>\n    <nav class=\"navbar navbar-inverse\" style=\"margin-bottom: 0;\">\n     <div class=\"container\" style=\"margin-bottom: -20px;\">\n      <div class=\"navbar\">\n       <a class=\"navbar-brand\" href=\"./index.php\" title=\"Alura Motors\">\n        <img alt=\"Alura\" class=\"d-inline-block align-top\" src=\"img/alura-logo.svg\"/>\n        Motors\n       </a>\n       <ul class=\"nav navbar-nav\" style=\"margin-top: 35px;\">\n        <li>\n         <a href=\"./hello-world.php\">\n          Hello World\n         </a>\n        </li>\n        <li>\n         <a href=\"./index.php\">\n          Anúncios\n         </a>\n        </li>\n       </ul>\n      </div>\n     </div>\n    </nav>\n   </header>\n   <div class=\"container\">\n    <h1 class=\"sub-header\">\n     Veículos de Luxo Novos e Usados - Todas as Marcas\n    </h1>\n    <div class=\"row\">\n     <div class=\"col-md-12\">\n      <div class=\"container\" style=\"width: 100%\">\n       <div class=\"type-select\">\n        246 veículos encontrados\n       </div>\n       <div class=\"container-pagination\" style=\"float: right\">\n        <span class=\"info-pages\">\n         Página 1 de 25\n        </span>\n       </div>\n      </div>\n      <div id=\"container-cards\" style=\"height: 100%\">\n       <div class=\"well card\">\n        <div class=\"col-md-3 image-card\">\n         <img alt=\"Foto\" height=\"155\" src=\"https://caelum-online-public.s3.amazonaws.com/1381-scraping/01/img-cars/lamborghini-aventador/lamborghini-aventador-2932196__340.jpg\" width=\"220\"/>\n        </div>\n        <div class=\"col-md-6 body-card\">\n         <p class=\"txt-name inline\">\n          LAMBORGHINI AVENTADOR\n         </p>\n         <p class=\"txt-category badge badge-secondary inline\">\n          USADO\n         </p>\n         <p class=\"txt-motor\">\n          Motor 1.8 16v\n         </p>\n         <p class=\"txt-description\">\n          Ano 1993 - 55.286 km\n         </p>\n         <ul class=\"lst-items\">\n          <li class=\"txt-items\">\n           ► 4 X 4\n          </li>\n          <li class=\"txt-items\">\n           ► Câmera de estacionamento\n          </li>\n          <li class=\"txt-items\">\n           ► Controle de tração\n          </li>\n          <li class=\"txt-items\">\n           ► Sensor de estacionamento\n          </li>\n          <li class=\"txt-items\">\n           ...\n          </li>\n         </ul>\n         <p class=\"txt-location\">\n          Belo Horizonte - MG\n         </p>\n        </div>\n        <div class=\"col-md-3 value-card\">\n         <div class=\"value\">\n          <p class=\"txt-value\">\n           R$ 338.000\n          </p>\n         </div>\n        </div>\n       </div>\n       <div class=\"well card\">\n        <div class=\"col-md-3 image-card\">\n         <img alt=\"Foto\" height=\"155\" src=\"https://caelum-online-public.s3.amazonaws.com/1381-scraping/01/img-cars/bmw-m2/bmw-m2-2970882__340.jpg\" width=\"220\"/>\n        </div>\n        <div class=\"col-md-6 body-card\">\n         <p class=\"txt-name inline\">\n          BMW M2\n         </p>\n         <p class=\"txt-category badge badge-secondary inline\">\n          USADO\n         </p>\n         <p class=\"txt-motor\">\n          Motor 3.0 32v\n         </p>\n         <p class=\"txt-description\">\n          Ano 2018 - 83.447 km\n         </p>\n         <ul class=\"lst-items\">\n          <li class=\"txt-items\">\n           ► Câmera de estacionamento\n          </li>\n          <li class=\"txt-items\">\n           ► Controle de estabilidade\n          </li>\n          <li class=\"txt-items\">\n           ► Travas elétricas\n          </li>\n          <li class=\"txt-items\">\n           ► Freios ABS\n          </li>\n          <li class=\"txt-items\">\n           ...\n          </li>\n         </ul>\n         <p class=\"txt-location\">\n          Belo Horizonte - MG\n         </p>\n        </div>\n        <div class=\"col-md-3 value-card\">\n         <div class=\"value\">\n          <p class=\"txt-value\">\n           R$ 346.000\n          </p>\n         </div>\n        </div>\n       </div>\n       <div class=\"well card\">\n        <div class=\"col-md-3 image-card\">\n         <img alt=\"Foto\" height=\"155\" src=\"https://caelum-online-public.s3.amazonaws.com/1381-scraping/01/img-cars/alfa/alfa-1823056__340.jpg\" width=\"220\"/>\n        </div>\n        <div class=\"col-md-6 body-card\">\n         <p class=\"txt-name inline\">\n          ALFA\n         </p>\n         <p class=\"txt-category badge badge-secondary inline\">\n          USADO\n         </p>\n         <p class=\"txt-motor\">\n          Motor 1.8 16v\n         </p>\n         <p class=\"txt-description\">\n          Ano 2004 - 19.722 km\n         </p>\n         <ul class=\"lst-items\">\n          <li class=\"txt-items\">\n           ► Central multimídia\n          </li>\n          <li class=\"txt-items\">\n           ► Bancos de couro\n          </li>\n          <li class=\"txt-items\">\n           ► Rodas de liga\n          </li>\n          <li class=\"txt-items\">\n           ► Câmera de estacionamento\n          </li>\n          <li class=\"txt-items\">\n           ...\n          </li>\n         </ul>\n         <p class=\"txt-location\">\n          Rio de Janeiro - RJ\n         </p>\n        </div>\n        <div class=\"col-md-3 value-card\">\n         <div class=\"value\">\n          <p class=\"txt-value\">\n           R$ 480.000\n          </p>\n         </div>\n        </div>\n       </div>\n       <div class=\"well card\">\n        <div class=\"col-md-3 image-card\">\n         <img alt=\"Foto\" height=\"155\" src=\"https://caelum-online-public.s3.amazonaws.com/1381-scraping/01/img-cars/puech/puech-4055386__340.jpg\" width=\"220\"/>\n        </div>\n        <div class=\"col-md-6 body-card\">\n         <p class=\"txt-name inline\">\n          PUECH\n         </p>\n         <p class=\"txt-category badge badge-secondary inline\">\n          USADO\n         </p>\n         <p class=\"txt-motor\">\n          Motor Diesel V8\n         </p>\n         <p class=\"txt-description\">\n          Ano 1992 - 34.335 km\n         </p>\n         <ul class=\"lst-items\">\n          <li class=\"txt-items\">\n           ► Bancos de couro\n          </li>\n          <li class=\"txt-items\">\n           ► Freios ABS\n          </li>\n          <li class=\"txt-items\">\n           ► Rodas de liga\n          </li>\n          <li class=\"txt-items\">\n           ► Câmbio automático\n          </li>\n          <li class=\"txt-items\">\n           ...\n          </li>\n         </ul>\n         <p class=\"txt-location\">\n          São Paulo - SP\n         </p>\n        </div>\n        <div class=\"col-md-3 value-card\">\n         <div class=\"value\">\n          <p class=\"txt-value\">\n           R$ 133.000\n          </p>\n         </div>\n        </div>\n       </div>\n       <div class=\"well card\">\n        <div class=\"col-md-3 image-card\">\n         <img alt=\"Foto\" height=\"155\" src=\"https://caelum-online-public.s3.amazonaws.com/1381-scraping/01/img-cars/lamborghini-murcielago/lamborghini-murcielago-2872974__340.jpg\" width=\"220\"/>\n        </div>\n        <div class=\"col-md-6 body-card\">\n         <p class=\"txt-name inline\">\n          LAMBORGHINI MURCIELAGO\n         </p>\n         <p class=\"txt-category badge badge-secondary inline\">\n          USADO\n         </p>\n         <p class=\"txt-motor\">\n          Motor 1.0 8v\n         </p>\n         <p class=\"txt-description\">\n          Ano 1991 - 464 km\n         </p>\n         <ul class=\"lst-items\">\n          <li class=\"txt-items\">\n           ► Central multimídia\n          </li>\n          <li class=\"txt-items\">\n           ► Teto panorâmico\n          </li>\n          <li class=\"txt-items\">\n           ► Sensor crepuscular\n          </li>\n          <li class=\"txt-items\">\n           ► Piloto automático\n          </li>\n          <li class=\"txt-items\">\n           ...\n          </li>\n         </ul>\n         <p class=\"txt-location\">\n          Belo Horizonte - MG\n         </p>\n        </div>\n        <div class=\"col-md-3 value-card\">\n         <div class=\"value\">\n          <p class=\"txt-value\">\n           R$ 175.000\n          </p>\n         </div>\n        </div>\n       </div>\n       <div class=\"well card\">\n        <div class=\"col-md-3 image-card\">\n         <img alt=\"Foto\" height=\"155\" src=\"https://caelum-online-public.s3.amazonaws.com/1381-scraping/01/img-cars/aston-martin/aston-martin-2977916__340.jpg\" width=\"220\"/>\n        </div>\n        <div class=\"col-md-6 body-card\">\n         <p class=\"txt-name inline\">\n          ASTON MARTIN\n         </p>\n         <p class=\"txt-category badge badge-secondary inline\">\n          USADO\n         </p>\n         <p class=\"txt-opportunity badge badge-danger inline\">\n          OPORTUNIDADE\n         </p>\n         <p class=\"txt-motor\">\n          Motor Diesel V6\n         </p>\n         <p class=\"txt-description\">\n          Ano 2004 - 50.189 km\n         </p>\n         <ul class=\"lst-items\">\n          <li class=\"txt-items\">\n           ► Painel digital\n          </li>\n          <li class=\"txt-items\">\n           ► Controle de tração\n          </li>\n          <li class=\"txt-items\">\n           ► Teto panorâmico\n          </li>\n          <li class=\"txt-items\">\n           ► Central multimídia\n          </li>\n          <li class=\"txt-items\">\n           ...\n          </li>\n         </ul>\n         <p class=\"txt-location\">\n          Belo Horizonte - MG\n         </p>\n        </div>\n        <div class=\"col-md-3 value-card\">\n         <div class=\"value\">\n          <p class=\"txt-value\">\n           R$ 239.000\n          </p>\n         </div>\n        </div>\n       </div>\n       <div class=\"well card\">\n        <div class=\"col-md-3 image-card\">\n         <img alt=\"Foto\" height=\"155\" src=\"https://caelum-online-public.s3.amazonaws.com/1381-scraping/01/img-cars/tvr/tvr-2943925__340.jpg\" width=\"220\"/>\n        </div>\n        <div class=\"col-md-6 body-card\">\n         <p class=\"txt-name inline\">\n          TVR\n         </p>\n         <p class=\"txt-category badge badge-secondary inline\">\n          USADO\n         </p>\n         <p class=\"txt-motor\">\n          Motor 4.0 Turbo\n         </p>\n         <p class=\"txt-description\">\n          Ano 2014 - 17.778 km\n         </p>\n         <ul class=\"lst-items\">\n          <li class=\"txt-items\">\n           ► 4 X 4\n          </li>\n          <li class=\"txt-items\">\n           ► Teto panorâmico\n          </li>\n          <li class=\"txt-items\">\n           ► Central multimídia\n          </li>\n          <li class=\"txt-items\">\n           ► Controle de estabilidade\n          </li>\n          <li class=\"txt-items\">\n           ...\n          </li>\n         </ul>\n         <p class=\"txt-location\">\n          Belo Horizonte - MG\n         </p>\n        </div>\n        <div class=\"col-md-3 value-card\">\n         <div class=\"value\">\n          <p class=\"txt-value\">\n           R$ 115.000\n          </p>\n         </div>\n        </div>\n       </div>\n       <div class=\"well card\">\n        <div class=\"col-md-3 image-card\">\n         <img alt=\"Foto\" height=\"155\" src=\"https://caelum-online-public.s3.amazonaws.com/1381-scraping/01/img-cars/excalibur/excalibur-2916730__340.jpg\" width=\"220\"/>\n        </div>\n        <div class=\"col-md-6 body-card\">\n         <p class=\"txt-name inline\">\n          EXCALIBUR\n         </p>\n         <p class=\"txt-category badge badge-secondary inline\">\n          USADO\n         </p>\n         <p class=\"txt-motor\">\n          Motor 3.0 32v\n         </p>\n         <p class=\"txt-description\">\n          Ano 2009 - 81.251 km\n         </p>\n         <ul class=\"lst-items\">\n          <li class=\"txt-items\">\n           ► Painel digital\n          </li>\n          <li class=\"txt-items\">\n           ► Câmbio automático\n          </li>\n          <li class=\"txt-items\">\n           ► Sensor de chuva\n          </li>\n          <li class=\"txt-items\">\n           ► Travas elétricas\n          </li>\n          <li class=\"txt-items\">\n           ...\n          </li>\n         </ul>\n         <p class=\"txt-location\">\n          Rio de Janeiro - RJ\n         </p>\n        </div>\n        <div class=\"col-md-3 value-card\">\n         <div class=\"value\">\n          <p class=\"txt-value\">\n           R$ 114.000\n          </p>\n         </div>\n        </div>\n       </div>\n       <div class=\"well card\">\n        <div class=\"col-md-3 image-card\">\n         <img alt=\"Foto\" height=\"155\" src=\"https://caelum-online-public.s3.amazonaws.com/1381-scraping/01/img-cars/mclaren/mclaren-2855240__340.jpg\" width=\"220\"/>\n        </div>\n        <div class=\"col-md-6 body-card\">\n         <p class=\"txt-name inline\">\n          MCLAREN\n         </p>\n         <p class=\"txt-category badge badge-secondary inline\">\n          NOVO\n         </p>\n         <p class=\"txt-motor\">\n          Motor Diesel\n         </p>\n         <p class=\"txt-description\">\n          Ano 2019 - 0 km\n         </p>\n         <ul class=\"lst-items\">\n          <li class=\"txt-items\">\n           ► Central multimídia\n          </li>\n          <li class=\"txt-items\">\n           ► Câmera de estacionamento\n          </li>\n          <li class=\"txt-items\">\n           ► Câmbio automático\n          </li>\n          <li class=\"txt-items\">\n           ► Ar condicionado\n          </li>\n          <li class=\"txt-items\">\n           ...\n          </li>\n         </ul>\n         <p class=\"txt-location\">\n          São Paulo - SP\n         </p>\n        </div>\n        <div class=\"col-md-3 value-card\">\n         <div class=\"value\">\n          <p class=\"txt-value\">\n           R$ 75.000\n          </p>\n         </div>\n        </div>\n       </div>\n       <div class=\"well card\">\n        <div class=\"col-md-3 image-card\">\n         <img alt=\"Foto\" height=\"155\" src=\"https://caelum-online-public.s3.amazonaws.com/1381-scraping/01/img-cars/toyota/toyota-3245397__340.jpg\" width=\"220\"/>\n        </div>\n        <div class=\"col-md-6 body-card\">\n         <p class=\"txt-name inline\">\n          TOYOTA\n         </p>\n         <p class=\"txt-category badge badge-secondary inline\">\n          USADO\n         </p>\n         <p class=\"txt-opportunity badge badge-danger inline\">\n          OPORTUNIDADE\n         </p>\n         <p class=\"txt-motor\">\n          Motor 4.0 Turbo\n         </p>\n         <p class=\"txt-description\">\n          Ano 1999 - 12.536 km\n         </p>\n         <ul class=\"lst-items\">\n          <li class=\"txt-items\">\n           ► Bancos de couro\n          </li>\n          <li class=\"txt-items\">\n           ► Freios ABS\n          </li>\n          <li class=\"txt-items\">\n           ► Piloto automático\n          </li>\n          <li class=\"txt-items\">\n           ► Controle de estabilidade\n          </li>\n          <li class=\"txt-items\">\n           ...\n          </li>\n         </ul>\n         <p class=\"txt-location\">\n          São Paulo - SP\n         </p>\n        </div>\n        <div class=\"col-md-3 value-card\">\n         <div class=\"value\">\n          <p class=\"txt-value\">\n           R$ 117.000\n          </p>\n         </div>\n        </div>\n       </div>\n      </div>\n      <div class=\"type-select\">\n       246 veículos encontrados\n      </div>\n      <div class=\"container-pagination\" style=\"float: right\">\n       <span class=\"info-pages\">\n        Página 1 de 25\n       </span>\n      </div>\n     </div>\n    </div>\n   </div>\n  </div>\n  <footer>\n   <nav class=\"navbar navbar-inverse\">\n    <div class=\"container\" style=\"margin-bottom: 10px;\">\n     <div class=\"navbar\">\n      <a class=\"navbar-brand\" href=\"./index.php\" title=\"Alura Motors\">\n       <img alt=\"Alura\" class=\"d-inline-block align-top\" src=\"img/alura-logo.svg\"/>\n       Motors\n      </a>\n      <p style=\"color: #fff; text-align: center; margin-top: 40px;\">\n       Aplicação para treinamento de web scraping\n      </p>\n     </div>\n    </div>\n   </nav>\n  </footer>\n </body>\n</html>\n"
     ]
    }
   ],
   "source": [
    "print(soup.prettify())"
   ]
  },
  {
   "cell_type": "markdown",
   "metadata": {},
   "source": [
    "# 3.3. Acessando tags"
   ]
  },
  {
   "cell_type": "code",
   "execution_count": 24,
   "metadata": {
    "scrolled": true
   },
   "outputs": [
    {
     "output_type": "execute_result",
     "data": {
      "text/plain": [
       "<html lang=\"pt-br\"><head><meta charset=\"utf-8\"/><meta content=\"width=device-width, initial-scale=1, shrink-to-fit=no\" name=\"viewport\"/><title>Alura Motors</title><style> /*Regra para a animacao*/ @keyframes spin { 0% { transform: rotate(0deg); } 100% { transform: rotate(360deg); } } /*Mudando o tamanho do icone de resposta*/ div.glyphicon { color:#6B8E23; font-size: 38px; } /*Classe que mostra a animacao 'spin'*/ .loader { border: 16px solid #f3f3f3; border-radius: 50%; border-top: 16px solid #3498db; width: 80px; height: 80px; -webkit-animation: spin 2s linear infinite; animation: spin 2s linear infinite; } </style><link crossorigin=\"anonymous\" href=\"https://maxcdn.bootstrapcdn.com/bootstrap/3.3.7/css/bootstrap.min.css\" integrity=\"sha384-BVYiiSIFeK1dGmJRAkycuHAHRg32OmUcww7on3RYdg4Va+PmSTsz/K68vbdEjh4u\" rel=\"stylesheet\"/><link href=\"css/styles.css\" media=\"all\" rel=\"stylesheet\"/><script src=\"https://code.jquery.com/jquery-1.12.4.js\"></script><script crossorigin=\"anonymous\" integrity=\"sha384-Tc5IQib027qvyjSMfHjOMaLkfuWVxZxUPnCJA7l2mCWNIpG9mGCD8wGNIcPD7Txa\" src=\"https://maxcdn.bootstrapcdn.com/bootstrap/3.3.7/js/bootstrap.min.js\"></script><script src=\"js/index.js\" type=\"text/javascript\"></script><script> requisitar(\"https://alura-scraping.herokuapp.com/produtos?_page=\"+1+\"&_limit=10\") </script></head><body cz-shortcut-listen=\"true\"><noscript>You need to enable JavaScript to run this app.</noscript><div aria-labelledby=\"loadingModal_label\" class=\"modal fade\" data-backdrop=\"static\" id=\"loadingModal\" role=\"dialog\" tabindex=\"-1\"><div class=\"modal-dialog\" role=\"document\"><div class=\"modal-content\"><div class=\"modal-header\"><h5 class=\"modal-title\" id=\"loadingModal_label\"><span class=\"glyphicon glyphicon-refresh\"></span>Aguarde... </h5></div><div class=\"modal-body\"><div class=\"alert\" role=\"alert\"><center><div class=\"loader\" id=\"loader\"></div><br/><h4><b id=\"loadingModal_content\"></b></h4></center></div></div></div></div></div><div id=\"root\"><header><nav class=\"navbar navbar-inverse\" style=\"margin-bottom: 0;\"><div class=\"container\" style=\"margin-bottom: -20px;\"><div class=\"navbar\"><a class=\"navbar-brand\" href=\"./index.php\" title=\"Alura Motors\"><img alt=\"Alura\" class=\"d-inline-block align-top\" src=\"img/alura-logo.svg\"/>Motors </a><ul class=\"nav navbar-nav\" style=\"margin-top: 35px;\"><li><a href=\"./hello-world.php\">Hello World</a></li><li><a href=\"./index.php\">Anúncios</a></li></ul></div></div></nav></header><div class=\"container\"><h1 class=\"sub-header\">Veículos de Luxo Novos e Usados - Todas as Marcas</h1><div class=\"row\"><div class=\"col-md-12\"><div class=\"container\" style=\"width: 100%\"><div class=\"type-select\">246 veículos encontrados</div><div class=\"container-pagination\" style=\"float: right\"><span class=\"info-pages\">Página 1 de 25</span></div></div><div id=\"container-cards\" style=\"height: 100%\"><div class=\"well card\"><div class=\"col-md-3 image-card\"><img alt=\"Foto\" height=\"155\" src=\"https://caelum-online-public.s3.amazonaws.com/1381-scraping/01/img-cars/lamborghini-aventador/lamborghini-aventador-2932196__340.jpg\" width=\"220\"/></div><div class=\"col-md-6 body-card\"><p class=\"txt-name inline\">LAMBORGHINI AVENTADOR</p><p class=\"txt-category badge badge-secondary inline\">USADO</p><p class=\"txt-motor\">Motor 1.8 16v</p><p class=\"txt-description\">Ano 1993 - 55.286 km</p><ul class=\"lst-items\"><li class=\"txt-items\">► 4 X 4</li><li class=\"txt-items\">► Câmera de estacionamento</li><li class=\"txt-items\">► Controle de tração</li><li class=\"txt-items\">► Sensor de estacionamento</li><li class=\"txt-items\">...</li></ul><p class=\"txt-location\">Belo Horizonte - MG</p></div><div class=\"col-md-3 value-card\"><div class=\"value\"><p class=\"txt-value\">R$ 338.000</p></div></div></div><div class=\"well card\"><div class=\"col-md-3 image-card\"><img alt=\"Foto\" height=\"155\" src=\"https://caelum-online-public.s3.amazonaws.com/1381-scraping/01/img-cars/bmw-m2/bmw-m2-2970882__340.jpg\" width=\"220\"/></div><div class=\"col-md-6 body-card\"><p class=\"txt-name inline\">BMW M2</p><p class=\"txt-category badge badge-secondary inline\">USADO</p><p class=\"txt-motor\">Motor 3.0 32v</p><p class=\"txt-description\">Ano 2018 - 83.447 km</p><ul class=\"lst-items\"><li class=\"txt-items\">► Câmera de estacionamento</li><li class=\"txt-items\">► Controle de estabilidade</li><li class=\"txt-items\">► Travas elétricas</li><li class=\"txt-items\">► Freios ABS</li><li class=\"txt-items\">...</li></ul><p class=\"txt-location\">Belo Horizonte - MG</p></div><div class=\"col-md-3 value-card\"><div class=\"value\"><p class=\"txt-value\">R$ 346.000</p></div></div></div><div class=\"well card\"><div class=\"col-md-3 image-card\"><img alt=\"Foto\" height=\"155\" src=\"https://caelum-online-public.s3.amazonaws.com/1381-scraping/01/img-cars/alfa/alfa-1823056__340.jpg\" width=\"220\"/></div><div class=\"col-md-6 body-card\"><p class=\"txt-name inline\">ALFA</p><p class=\"txt-category badge badge-secondary inline\">USADO</p><p class=\"txt-motor\">Motor 1.8 16v</p><p class=\"txt-description\">Ano 2004 - 19.722 km</p><ul class=\"lst-items\"><li class=\"txt-items\">► Central multimídia</li><li class=\"txt-items\">► Bancos de couro</li><li class=\"txt-items\">► Rodas de liga</li><li class=\"txt-items\">► Câmera de estacionamento</li><li class=\"txt-items\">...</li></ul><p class=\"txt-location\">Rio de Janeiro - RJ</p></div><div class=\"col-md-3 value-card\"><div class=\"value\"><p class=\"txt-value\">R$ 480.000</p></div></div></div><div class=\"well card\"><div class=\"col-md-3 image-card\"><img alt=\"Foto\" height=\"155\" src=\"https://caelum-online-public.s3.amazonaws.com/1381-scraping/01/img-cars/puech/puech-4055386__340.jpg\" width=\"220\"/></div><div class=\"col-md-6 body-card\"><p class=\"txt-name inline\">PUECH</p><p class=\"txt-category badge badge-secondary inline\">USADO</p><p class=\"txt-motor\">Motor Diesel V8</p><p class=\"txt-description\">Ano 1992 - 34.335 km</p><ul class=\"lst-items\"><li class=\"txt-items\">► Bancos de couro</li><li class=\"txt-items\">► Freios ABS</li><li class=\"txt-items\">► Rodas de liga</li><li class=\"txt-items\">► Câmbio automático</li><li class=\"txt-items\">...</li></ul><p class=\"txt-location\">São Paulo - SP</p></div><div class=\"col-md-3 value-card\"><div class=\"value\"><p class=\"txt-value\">R$ 133.000</p></div></div></div><div class=\"well card\"><div class=\"col-md-3 image-card\"><img alt=\"Foto\" height=\"155\" src=\"https://caelum-online-public.s3.amazonaws.com/1381-scraping/01/img-cars/lamborghini-murcielago/lamborghini-murcielago-2872974__340.jpg\" width=\"220\"/></div><div class=\"col-md-6 body-card\"><p class=\"txt-name inline\">LAMBORGHINI MURCIELAGO</p><p class=\"txt-category badge badge-secondary inline\">USADO</p><p class=\"txt-motor\">Motor 1.0 8v</p><p class=\"txt-description\">Ano 1991 - 464 km</p><ul class=\"lst-items\"><li class=\"txt-items\">► Central multimídia</li><li class=\"txt-items\">► Teto panorâmico</li><li class=\"txt-items\">► Sensor crepuscular</li><li class=\"txt-items\">► Piloto automático</li><li class=\"txt-items\">...</li></ul><p class=\"txt-location\">Belo Horizonte - MG</p></div><div class=\"col-md-3 value-card\"><div class=\"value\"><p class=\"txt-value\">R$ 175.000</p></div></div></div><div class=\"well card\"><div class=\"col-md-3 image-card\"><img alt=\"Foto\" height=\"155\" src=\"https://caelum-online-public.s3.amazonaws.com/1381-scraping/01/img-cars/aston-martin/aston-martin-2977916__340.jpg\" width=\"220\"/></div><div class=\"col-md-6 body-card\"><p class=\"txt-name inline\">ASTON MARTIN</p><p class=\"txt-category badge badge-secondary inline\">USADO</p><p class=\"txt-opportunity badge badge-danger inline\">OPORTUNIDADE</p><p class=\"txt-motor\">Motor Diesel V6</p><p class=\"txt-description\">Ano 2004 - 50.189 km</p><ul class=\"lst-items\"><li class=\"txt-items\">► Painel digital</li><li class=\"txt-items\">► Controle de tração</li><li class=\"txt-items\">► Teto panorâmico</li><li class=\"txt-items\">► Central multimídia</li><li class=\"txt-items\">...</li></ul><p class=\"txt-location\">Belo Horizonte - MG</p></div><div class=\"col-md-3 value-card\"><div class=\"value\"><p class=\"txt-value\">R$ 239.000</p></div></div></div><div class=\"well card\"><div class=\"col-md-3 image-card\"><img alt=\"Foto\" height=\"155\" src=\"https://caelum-online-public.s3.amazonaws.com/1381-scraping/01/img-cars/tvr/tvr-2943925__340.jpg\" width=\"220\"/></div><div class=\"col-md-6 body-card\"><p class=\"txt-name inline\">TVR</p><p class=\"txt-category badge badge-secondary inline\">USADO</p><p class=\"txt-motor\">Motor 4.0 Turbo</p><p class=\"txt-description\">Ano 2014 - 17.778 km</p><ul class=\"lst-items\"><li class=\"txt-items\">► 4 X 4</li><li class=\"txt-items\">► Teto panorâmico</li><li class=\"txt-items\">► Central multimídia</li><li class=\"txt-items\">► Controle de estabilidade</li><li class=\"txt-items\">...</li></ul><p class=\"txt-location\">Belo Horizonte - MG</p></div><div class=\"col-md-3 value-card\"><div class=\"value\"><p class=\"txt-value\">R$ 115.000</p></div></div></div><div class=\"well card\"><div class=\"col-md-3 image-card\"><img alt=\"Foto\" height=\"155\" src=\"https://caelum-online-public.s3.amazonaws.com/1381-scraping/01/img-cars/excalibur/excalibur-2916730__340.jpg\" width=\"220\"/></div><div class=\"col-md-6 body-card\"><p class=\"txt-name inline\">EXCALIBUR</p><p class=\"txt-category badge badge-secondary inline\">USADO</p><p class=\"txt-motor\">Motor 3.0 32v</p><p class=\"txt-description\">Ano 2009 - 81.251 km</p><ul class=\"lst-items\"><li class=\"txt-items\">► Painel digital</li><li class=\"txt-items\">► Câmbio automático</li><li class=\"txt-items\">► Sensor de chuva</li><li class=\"txt-items\">► Travas elétricas</li><li class=\"txt-items\">...</li></ul><p class=\"txt-location\">Rio de Janeiro - RJ</p></div><div class=\"col-md-3 value-card\"><div class=\"value\"><p class=\"txt-value\">R$ 114.000</p></div></div></div><div class=\"well card\"><div class=\"col-md-3 image-card\"><img alt=\"Foto\" height=\"155\" src=\"https://caelum-online-public.s3.amazonaws.com/1381-scraping/01/img-cars/mclaren/mclaren-2855240__340.jpg\" width=\"220\"/></div><div class=\"col-md-6 body-card\"><p class=\"txt-name inline\">MCLAREN</p><p class=\"txt-category badge badge-secondary inline\">NOVO</p><p class=\"txt-motor\">Motor Diesel</p><p class=\"txt-description\">Ano 2019 - 0 km</p><ul class=\"lst-items\"><li class=\"txt-items\">► Central multimídia</li><li class=\"txt-items\">► Câmera de estacionamento</li><li class=\"txt-items\">► Câmbio automático</li><li class=\"txt-items\">► Ar condicionado</li><li class=\"txt-items\">...</li></ul><p class=\"txt-location\">São Paulo - SP</p></div><div class=\"col-md-3 value-card\"><div class=\"value\"><p class=\"txt-value\">R$ 75.000</p></div></div></div><div class=\"well card\"><div class=\"col-md-3 image-card\"><img alt=\"Foto\" height=\"155\" src=\"https://caelum-online-public.s3.amazonaws.com/1381-scraping/01/img-cars/toyota/toyota-3245397__340.jpg\" width=\"220\"/></div><div class=\"col-md-6 body-card\"><p class=\"txt-name inline\">TOYOTA</p><p class=\"txt-category badge badge-secondary inline\">USADO</p><p class=\"txt-opportunity badge badge-danger inline\">OPORTUNIDADE</p><p class=\"txt-motor\">Motor 4.0 Turbo</p><p class=\"txt-description\">Ano 1999 - 12.536 km</p><ul class=\"lst-items\"><li class=\"txt-items\">► Bancos de couro</li><li class=\"txt-items\">► Freios ABS</li><li class=\"txt-items\">► Piloto automático</li><li class=\"txt-items\">► Controle de estabilidade</li><li class=\"txt-items\">...</li></ul><p class=\"txt-location\">São Paulo - SP</p></div><div class=\"col-md-3 value-card\"><div class=\"value\"><p class=\"txt-value\">R$ 117.000</p></div></div></div></div><div class=\"type-select\">246 veículos encontrados</div><div class=\"container-pagination\" style=\"float: right\"><span class=\"info-pages\">Página 1 de 25</span></div></div></div></div></div><footer><nav class=\"navbar navbar-inverse\"><div class=\"container\" style=\"margin-bottom: 10px;\"><div class=\"navbar\"><a class=\"navbar-brand\" href=\"./index.php\" title=\"Alura Motors\"><img alt=\"Alura\" class=\"d-inline-block align-top\" src=\"img/alura-logo.svg\"/>Motors </a><p style=\"color: #fff; text-align: center; margin-top: 40px;\">Aplicação para treinamento de web scraping</p></div></div></nav></footer></body></html>"
      ]
     },
     "metadata": {},
     "execution_count": 24
    }
   ],
   "source": [
    "soup.html"
   ]
  },
  {
   "cell_type": "code",
   "execution_count": 25,
   "metadata": {
    "scrolled": true
   },
   "outputs": [
    {
     "output_type": "execute_result",
     "data": {
      "text/plain": [
       "<title>Alura Motors</title>"
      ]
     },
     "metadata": {},
     "execution_count": 25
    }
   ],
   "source": [
    "soup.html.head.title"
   ]
  },
  {
   "cell_type": "code",
   "execution_count": 26,
   "metadata": {},
   "outputs": [
    {
     "output_type": "execute_result",
     "data": {
      "text/plain": [
       "<title>Alura Motors</title>"
      ]
     },
     "metadata": {},
     "execution_count": 26
    }
   ],
   "source": [
    "soup.title"
   ]
  },
  {
   "cell_type": "code",
   "execution_count": 27,
   "metadata": {},
   "outputs": [
    {
     "output_type": "execute_result",
     "data": {
      "text/plain": [
       "<div aria-labelledby=\"loadingModal_label\" class=\"modal fade\" data-backdrop=\"static\" id=\"loadingModal\" role=\"dialog\" tabindex=\"-1\"><div class=\"modal-dialog\" role=\"document\"><div class=\"modal-content\"><div class=\"modal-header\"><h5 class=\"modal-title\" id=\"loadingModal_label\"><span class=\"glyphicon glyphicon-refresh\"></span>Aguarde... </h5></div><div class=\"modal-body\"><div class=\"alert\" role=\"alert\"><center><div class=\"loader\" id=\"loader\"></div><br/><h4><b id=\"loadingModal_content\"></b></h4></center></div></div></div></div></div>"
      ]
     },
     "metadata": {},
     "execution_count": 27
    }
   ],
   "source": [
    "soup.div"
   ]
  },
  {
   "cell_type": "code",
   "execution_count": 28,
   "metadata": {},
   "outputs": [
    {
     "output_type": "execute_result",
     "data": {
      "text/plain": [
       "<h5 class=\"modal-title\" id=\"loadingModal_label\"><span class=\"glyphicon glyphicon-refresh\"></span>Aguarde... </h5>"
      ]
     },
     "metadata": {},
     "execution_count": 28
    }
   ],
   "source": [
    "soup.div.div.div.div.h5"
   ]
  },
  {
   "cell_type": "code",
   "execution_count": 29,
   "metadata": {},
   "outputs": [
    {
     "output_type": "execute_result",
     "data": {
      "text/plain": [
       "<h5 class=\"modal-title\" id=\"loadingModal_label\"><span class=\"glyphicon glyphicon-refresh\"></span>Aguarde... </h5>"
      ]
     },
     "metadata": {},
     "execution_count": 29
    }
   ],
   "source": [
    "soup.h5"
   ]
  },
  {
   "cell_type": "markdown",
   "metadata": {},
   "source": [
    "# 3.4. Acessando o conteúdo das tags"
   ]
  },
  {
   "cell_type": "code",
   "execution_count": 30,
   "metadata": {},
   "outputs": [
    {
     "output_type": "execute_result",
     "data": {
      "text/plain": [
       "<title>Alura Motors</title>"
      ]
     },
     "metadata": {},
     "execution_count": 30
    }
   ],
   "source": [
    "soup.html.head.title"
   ]
  },
  {
   "cell_type": "code",
   "execution_count": 31,
   "metadata": {},
   "outputs": [
    {
     "output_type": "execute_result",
     "data": {
      "text/plain": [
       "<title>Alura Motors</title>"
      ]
     },
     "metadata": {},
     "execution_count": 31
    }
   ],
   "source": [
    "soup.title"
   ]
  },
  {
   "cell_type": "code",
   "execution_count": 32,
   "metadata": {},
   "outputs": [
    {
     "output_type": "execute_result",
     "data": {
      "text/plain": [
       "'Alura Motors'"
      ]
     },
     "metadata": {},
     "execution_count": 32
    }
   ],
   "source": [
    "soup.title.get_text()"
   ]
  },
  {
   "cell_type": "code",
   "execution_count": 34,
   "metadata": {},
   "outputs": [
    {
     "output_type": "execute_result",
     "data": {
      "text/plain": [
       "'Aguarde... '"
      ]
     },
     "metadata": {},
     "execution_count": 34
    }
   ],
   "source": [
    "soup.h5.getText()"
   ]
  },
  {
   "cell_type": "code",
   "execution_count": 35,
   "metadata": {},
   "outputs": [
    {
     "output_type": "execute_result",
     "data": {
      "text/plain": [
       "'Alura MotorsYou need to enable JavaScript to run this app.Aguarde... Motors Hello WorldAnúnciosVeículos de Luxo Novos e Usados - Todas as Marcas246 veículos encontradosPágina 1 de 25LAMBORGHINI AVENTADORUSADOMotor 1.8 16vAno 1993 - 55.286 km► 4 X 4► Câmera de estacionamento► Controle de tração► Sensor de estacionamento...Belo Horizonte - MGR$ 338.000BMW M2USADOMotor 3.0 32vAno 2018 - 83.447 km► Câmera de estacionamento► Controle de estabilidade► Travas elétricas► Freios ABS...Belo Horizonte - MGR$ 346.000ALFAUSADOMotor 1.8 16vAno 2004 - 19.722 km► Central multimídia► Bancos de couro► Rodas de liga► Câmera de estacionamento...Rio de Janeiro - RJR$ 480.000PUECHUSADOMotor Diesel V8Ano 1992 - 34.335 km► Bancos de couro► Freios ABS► Rodas de liga► Câmbio automático...São Paulo - SPR$ 133.000LAMBORGHINI MURCIELAGOUSADOMotor 1.0 8vAno 1991 - 464 km► Central multimídia► Teto panorâmico► Sensor crepuscular► Piloto automático...Belo Horizonte - MGR$ 175.000ASTON MARTINUSADOOPORTUNIDADEMotor Diesel V6Ano 2004 - 50.189 km► Painel digital► Controle de tração► Teto panorâmico► Central multimídia...Belo Horizonte - MGR$ 239.000TVRUSADOMotor 4.0 TurboAno 2014 - 17.778 km► 4 X 4► Teto panorâmico► Central multimídia► Controle de estabilidade...Belo Horizonte - MGR$ 115.000EXCALIBURUSADOMotor 3.0 32vAno 2009 - 81.251 km► Painel digital► Câmbio automático► Sensor de chuva► Travas elétricas...Rio de Janeiro - RJR$ 114.000MCLARENNOVOMotor DieselAno 2019 - 0 km► Central multimídia► Câmera de estacionamento► Câmbio automático► Ar condicionado...São Paulo - SPR$ 75.000TOYOTAUSADOOPORTUNIDADEMotor 4.0 TurboAno 1999 - 12.536 km► Bancos de couro► Freios ABS► Piloto automático► Controle de estabilidade...São Paulo - SPR$ 117.000246 veículos encontradosPágina 1 de 25Motors Aplicação para treinamento de web scraping'"
      ]
     },
     "metadata": {},
     "execution_count": 35
    }
   ],
   "source": [
    "soup.get_text()"
   ]
  },
  {
   "cell_type": "markdown",
   "metadata": {},
   "source": [
    "# 3.5. Acessando os atributos de uma tag"
   ]
  },
  {
   "cell_type": "code",
   "execution_count": 36,
   "metadata": {},
   "outputs": [
    {
     "output_type": "execute_result",
     "data": {
      "text/plain": [
       "<img alt=\"Alura\" class=\"d-inline-block align-top\" src=\"img/alura-logo.svg\"/>"
      ]
     },
     "metadata": {},
     "execution_count": 36
    }
   ],
   "source": [
    "soup.img"
   ]
  },
  {
   "cell_type": "code",
   "execution_count": 42,
   "metadata": {},
   "outputs": [
    {
     "output_type": "execute_result",
     "data": {
      "text/plain": [
       "{'src': 'img/alura-logo.svg',\n",
       " 'class': ['d-inline-block', 'align-top'],\n",
       " 'alt': 'Alura'}"
      ]
     },
     "metadata": {},
     "execution_count": 42
    }
   ],
   "source": [
    "soup.img.attrs"
   ]
  },
  {
   "cell_type": "code",
   "execution_count": 43,
   "metadata": {},
   "outputs": [
    {
     "output_type": "execute_result",
     "data": {
      "text/plain": [
       "dict_keys(['src', 'class', 'alt'])"
      ]
     },
     "metadata": {},
     "execution_count": 43
    }
   ],
   "source": [
    "soup.img.attrs.keys()"
   ]
  },
  {
   "cell_type": "code",
   "execution_count": 44,
   "metadata": {},
   "outputs": [
    {
     "output_type": "execute_result",
     "data": {
      "text/plain": [
       "dict_values(['img/alura-logo.svg', ['d-inline-block', 'align-top'], 'Alura'])"
      ]
     },
     "metadata": {},
     "execution_count": 44
    }
   ],
   "source": [
    "soup.img.attrs.values()"
   ]
  },
  {
   "cell_type": "code",
   "execution_count": 45,
   "metadata": {},
   "outputs": [
    {
     "output_type": "execute_result",
     "data": {
      "text/plain": [
       "['d-inline-block', 'align-top']"
      ]
     },
     "metadata": {},
     "execution_count": 45
    }
   ],
   "source": [
    "soup.img['class']"
   ]
  },
  {
   "cell_type": "code",
   "execution_count": 46,
   "metadata": {},
   "outputs": [
    {
     "output_type": "execute_result",
     "data": {
      "text/plain": [
       "'img/alura-logo.svg'"
      ]
     },
     "metadata": {},
     "execution_count": 46
    }
   ],
   "source": [
    "soup.img.get('src')"
   ]
  },
  {
   "cell_type": "markdown",
   "metadata": {},
   "source": [
    "---\n",
    "# <font color=green>4. PESQUISANDO COM O BEAUTIFULSOUP"
   ]
  },
  {
   "cell_type": "markdown",
   "metadata": {},
   "source": [
    "# 4.1. Os métodos *find()* e *findAll()*"
   ]
  },
  {
   "cell_type": "markdown",
   "metadata": {},
   "source": [
    "- ### *find(tag, attributes, recursive, text, **kwargs)*\n",
    "\n",
    "- ### *findAll(tag, attributes, recursive, text, limit, **kwargs)*\n",
    "\n",
    "#### https://www.crummy.com/software/BeautifulSoup/bs4/doc/#find\n",
    "#### https://www.crummy.com/software/BeautifulSoup/bs4/doc/#find-all\n",
    "\n",
    "> **Observação:**\n",
    "> - *findAll()* também pode ser utilizado como *find_all()*"
   ]
  },
  {
   "cell_type": "markdown",
   "metadata": {},
   "source": [
    "### Método *find()*"
   ]
  },
  {
   "cell_type": "code",
   "execution_count": 47,
   "metadata": {},
   "outputs": [
    {
     "output_type": "execute_result",
     "data": {
      "text/plain": [
       "<img alt=\"Alura\" class=\"d-inline-block align-top\" src=\"img/alura-logo.svg\"/>"
      ]
     },
     "metadata": {},
     "execution_count": 47
    }
   ],
   "source": [
    "soup.find('img')"
   ]
  },
  {
   "cell_type": "code",
   "execution_count": 48,
   "metadata": {},
   "outputs": [
    {
     "output_type": "execute_result",
     "data": {
      "text/plain": [
       "<img alt=\"Alura\" class=\"d-inline-block align-top\" src=\"img/alura-logo.svg\"/>"
      ]
     },
     "metadata": {},
     "execution_count": 48
    }
   ],
   "source": [
    "soup.img"
   ]
  },
  {
   "cell_type": "markdown",
   "metadata": {},
   "source": [
    "### Método *findAll()*"
   ]
  },
  {
   "cell_type": "code",
   "execution_count": 49,
   "metadata": {},
   "outputs": [
    {
     "output_type": "execute_result",
     "data": {
      "text/plain": [
       "[<img alt=\"Alura\" class=\"d-inline-block align-top\" src=\"img/alura-logo.svg\"/>,\n",
       " <img alt=\"Foto\" height=\"155\" src=\"https://caelum-online-public.s3.amazonaws.com/1381-scraping/01/img-cars/lamborghini-aventador/lamborghini-aventador-2932196__340.jpg\" width=\"220\"/>,\n",
       " <img alt=\"Foto\" height=\"155\" src=\"https://caelum-online-public.s3.amazonaws.com/1381-scraping/01/img-cars/bmw-m2/bmw-m2-2970882__340.jpg\" width=\"220\"/>,\n",
       " <img alt=\"Foto\" height=\"155\" src=\"https://caelum-online-public.s3.amazonaws.com/1381-scraping/01/img-cars/alfa/alfa-1823056__340.jpg\" width=\"220\"/>,\n",
       " <img alt=\"Foto\" height=\"155\" src=\"https://caelum-online-public.s3.amazonaws.com/1381-scraping/01/img-cars/puech/puech-4055386__340.jpg\" width=\"220\"/>,\n",
       " <img alt=\"Foto\" height=\"155\" src=\"https://caelum-online-public.s3.amazonaws.com/1381-scraping/01/img-cars/lamborghini-murcielago/lamborghini-murcielago-2872974__340.jpg\" width=\"220\"/>,\n",
       " <img alt=\"Foto\" height=\"155\" src=\"https://caelum-online-public.s3.amazonaws.com/1381-scraping/01/img-cars/aston-martin/aston-martin-2977916__340.jpg\" width=\"220\"/>,\n",
       " <img alt=\"Foto\" height=\"155\" src=\"https://caelum-online-public.s3.amazonaws.com/1381-scraping/01/img-cars/tvr/tvr-2943925__340.jpg\" width=\"220\"/>,\n",
       " <img alt=\"Foto\" height=\"155\" src=\"https://caelum-online-public.s3.amazonaws.com/1381-scraping/01/img-cars/excalibur/excalibur-2916730__340.jpg\" width=\"220\"/>,\n",
       " <img alt=\"Foto\" height=\"155\" src=\"https://caelum-online-public.s3.amazonaws.com/1381-scraping/01/img-cars/mclaren/mclaren-2855240__340.jpg\" width=\"220\"/>,\n",
       " <img alt=\"Foto\" height=\"155\" src=\"https://caelum-online-public.s3.amazonaws.com/1381-scraping/01/img-cars/toyota/toyota-3245397__340.jpg\" width=\"220\"/>,\n",
       " <img alt=\"Alura\" class=\"d-inline-block align-top\" src=\"img/alura-logo.svg\"/>]"
      ]
     },
     "metadata": {},
     "execution_count": 49
    }
   ],
   "source": [
    "soup.findAll('img')"
   ]
  },
  {
   "cell_type": "markdown",
   "metadata": {},
   "source": [
    "### Comando equivalente ao método *find()*"
   ]
  },
  {
   "cell_type": "code",
   "execution_count": 51,
   "metadata": {},
   "outputs": [
    {
     "output_type": "execute_result",
     "data": {
      "text/plain": [
       "<img alt=\"Alura\" class=\"d-inline-block align-top\" src=\"img/alura-logo.svg\"/>"
      ]
     },
     "metadata": {},
     "execution_count": 51
    }
   ],
   "source": [
    "soup.findAll('img', limit=1)[0]"
   ]
  },
  {
   "cell_type": "markdown",
   "metadata": {},
   "source": [
    "### Atalho para o método *findAll()*"
   ]
  },
  {
   "cell_type": "code",
   "execution_count": 52,
   "metadata": {},
   "outputs": [
    {
     "output_type": "execute_result",
     "data": {
      "text/plain": [
       "[<img alt=\"Alura\" class=\"d-inline-block align-top\" src=\"img/alura-logo.svg\"/>,\n",
       " <img alt=\"Foto\" height=\"155\" src=\"https://caelum-online-public.s3.amazonaws.com/1381-scraping/01/img-cars/lamborghini-aventador/lamborghini-aventador-2932196__340.jpg\" width=\"220\"/>,\n",
       " <img alt=\"Foto\" height=\"155\" src=\"https://caelum-online-public.s3.amazonaws.com/1381-scraping/01/img-cars/bmw-m2/bmw-m2-2970882__340.jpg\" width=\"220\"/>,\n",
       " <img alt=\"Foto\" height=\"155\" src=\"https://caelum-online-public.s3.amazonaws.com/1381-scraping/01/img-cars/alfa/alfa-1823056__340.jpg\" width=\"220\"/>,\n",
       " <img alt=\"Foto\" height=\"155\" src=\"https://caelum-online-public.s3.amazonaws.com/1381-scraping/01/img-cars/puech/puech-4055386__340.jpg\" width=\"220\"/>,\n",
       " <img alt=\"Foto\" height=\"155\" src=\"https://caelum-online-public.s3.amazonaws.com/1381-scraping/01/img-cars/lamborghini-murcielago/lamborghini-murcielago-2872974__340.jpg\" width=\"220\"/>,\n",
       " <img alt=\"Foto\" height=\"155\" src=\"https://caelum-online-public.s3.amazonaws.com/1381-scraping/01/img-cars/aston-martin/aston-martin-2977916__340.jpg\" width=\"220\"/>,\n",
       " <img alt=\"Foto\" height=\"155\" src=\"https://caelum-online-public.s3.amazonaws.com/1381-scraping/01/img-cars/tvr/tvr-2943925__340.jpg\" width=\"220\"/>,\n",
       " <img alt=\"Foto\" height=\"155\" src=\"https://caelum-online-public.s3.amazonaws.com/1381-scraping/01/img-cars/excalibur/excalibur-2916730__340.jpg\" width=\"220\"/>,\n",
       " <img alt=\"Foto\" height=\"155\" src=\"https://caelum-online-public.s3.amazonaws.com/1381-scraping/01/img-cars/mclaren/mclaren-2855240__340.jpg\" width=\"220\"/>,\n",
       " <img alt=\"Foto\" height=\"155\" src=\"https://caelum-online-public.s3.amazonaws.com/1381-scraping/01/img-cars/toyota/toyota-3245397__340.jpg\" width=\"220\"/>,\n",
       " <img alt=\"Alura\" class=\"d-inline-block align-top\" src=\"img/alura-logo.svg\"/>]"
      ]
     },
     "metadata": {},
     "execution_count": 52
    }
   ],
   "source": [
    "soup('img')"
   ]
  },
  {
   "cell_type": "markdown",
   "metadata": {},
   "source": [
    "### Passando listas de TAGs"
   ]
  },
  {
   "cell_type": "code",
   "execution_count": 53,
   "metadata": {},
   "outputs": [
    {
     "output_type": "execute_result",
     "data": {
      "text/plain": [
       "[<h5 class=\"modal-title\" id=\"loadingModal_label\"><span class=\"glyphicon glyphicon-refresh\"></span>Aguarde... </h5>,\n",
       " <h4><b id=\"loadingModal_content\"></b></h4>,\n",
       " <h1 class=\"sub-header\">Veículos de Luxo Novos e Usados - Todas as Marcas</h1>]"
      ]
     },
     "metadata": {},
     "execution_count": 53
    }
   ],
   "source": [
    "soup.findAll(['h1', 'h2', 'h3', 'h4', 'h5', 'h6'])"
   ]
  },
  {
   "cell_type": "markdown",
   "metadata": {},
   "source": [
    "### Utilizando o argumento *attributes*"
   ]
  },
  {
   "cell_type": "code",
   "execution_count": 55,
   "metadata": {
    "scrolled": true
   },
   "outputs": [
    {
     "output_type": "execute_result",
     "data": {
      "text/plain": [
       "[<p class=\"txt-value\">R$ 338.000</p>,\n",
       " <p class=\"txt-value\">R$ 346.000</p>,\n",
       " <p class=\"txt-value\">R$ 480.000</p>,\n",
       " <p class=\"txt-value\">R$ 133.000</p>,\n",
       " <p class=\"txt-value\">R$ 175.000</p>,\n",
       " <p class=\"txt-value\">R$ 239.000</p>,\n",
       " <p class=\"txt-value\">R$ 115.000</p>,\n",
       " <p class=\"txt-value\">R$ 114.000</p>,\n",
       " <p class=\"txt-value\">R$ 75.000</p>,\n",
       " <p class=\"txt-value\">R$ 117.000</p>]"
      ]
     },
     "metadata": {},
     "execution_count": 55
    }
   ],
   "source": [
    "soup.findAll('p', {'class': 'txt-value'})"
   ]
  },
  {
   "cell_type": "markdown",
   "metadata": {},
   "source": [
    "### Buscando por conteúdo de uma TAG"
   ]
  },
  {
   "cell_type": "code",
   "execution_count": 56,
   "metadata": {},
   "outputs": [
    {
     "output_type": "execute_result",
     "data": {
      "text/plain": [
       "[<p class=\"txt-location\">Belo Horizonte - MG</p>,\n",
       " <p class=\"txt-location\">Belo Horizonte - MG</p>,\n",
       " <p class=\"txt-location\">Belo Horizonte - MG</p>,\n",
       " <p class=\"txt-location\">Belo Horizonte - MG</p>,\n",
       " <p class=\"txt-location\">Belo Horizonte - MG</p>]"
      ]
     },
     "metadata": {},
     "execution_count": 56
    }
   ],
   "source": [
    "soup.findAll('p', text='Belo Horizonte - MG')"
   ]
  },
  {
   "cell_type": "markdown",
   "metadata": {},
   "source": [
    "### Utilizando diretamente os atributos"
   ]
  },
  {
   "cell_type": "code",
   "execution_count": 57,
   "metadata": {},
   "outputs": [
    {
     "output_type": "execute_result",
     "data": {
      "text/plain": [
       "[<img alt=\"Foto\" height=\"155\" src=\"https://caelum-online-public.s3.amazonaws.com/1381-scraping/01/img-cars/lamborghini-aventador/lamborghini-aventador-2932196__340.jpg\" width=\"220\"/>,\n",
       " <img alt=\"Foto\" height=\"155\" src=\"https://caelum-online-public.s3.amazonaws.com/1381-scraping/01/img-cars/bmw-m2/bmw-m2-2970882__340.jpg\" width=\"220\"/>,\n",
       " <img alt=\"Foto\" height=\"155\" src=\"https://caelum-online-public.s3.amazonaws.com/1381-scraping/01/img-cars/alfa/alfa-1823056__340.jpg\" width=\"220\"/>,\n",
       " <img alt=\"Foto\" height=\"155\" src=\"https://caelum-online-public.s3.amazonaws.com/1381-scraping/01/img-cars/puech/puech-4055386__340.jpg\" width=\"220\"/>,\n",
       " <img alt=\"Foto\" height=\"155\" src=\"https://caelum-online-public.s3.amazonaws.com/1381-scraping/01/img-cars/lamborghini-murcielago/lamborghini-murcielago-2872974__340.jpg\" width=\"220\"/>,\n",
       " <img alt=\"Foto\" height=\"155\" src=\"https://caelum-online-public.s3.amazonaws.com/1381-scraping/01/img-cars/aston-martin/aston-martin-2977916__340.jpg\" width=\"220\"/>,\n",
       " <img alt=\"Foto\" height=\"155\" src=\"https://caelum-online-public.s3.amazonaws.com/1381-scraping/01/img-cars/tvr/tvr-2943925__340.jpg\" width=\"220\"/>,\n",
       " <img alt=\"Foto\" height=\"155\" src=\"https://caelum-online-public.s3.amazonaws.com/1381-scraping/01/img-cars/excalibur/excalibur-2916730__340.jpg\" width=\"220\"/>,\n",
       " <img alt=\"Foto\" height=\"155\" src=\"https://caelum-online-public.s3.amazonaws.com/1381-scraping/01/img-cars/mclaren/mclaren-2855240__340.jpg\" width=\"220\"/>,\n",
       " <img alt=\"Foto\" height=\"155\" src=\"https://caelum-online-public.s3.amazonaws.com/1381-scraping/01/img-cars/toyota/toyota-3245397__340.jpg\" width=\"220\"/>]"
      ]
     },
     "metadata": {},
     "execution_count": 57
    }
   ],
   "source": [
    "soup.findAll('img', alt='Foto')"
   ]
  },
  {
   "cell_type": "code",
   "execution_count": 59,
   "metadata": {},
   "outputs": [
    {
     "output_type": "stream",
     "name": "stdout",
     "text": [
      "https://caelum-online-public.s3.amazonaws.com/1381-scraping/01/img-cars/lamborghini-aventador/lamborghini-aventador-2932196__340.jpg\nhttps://caelum-online-public.s3.amazonaws.com/1381-scraping/01/img-cars/bmw-m2/bmw-m2-2970882__340.jpg\nhttps://caelum-online-public.s3.amazonaws.com/1381-scraping/01/img-cars/alfa/alfa-1823056__340.jpg\nhttps://caelum-online-public.s3.amazonaws.com/1381-scraping/01/img-cars/puech/puech-4055386__340.jpg\nhttps://caelum-online-public.s3.amazonaws.com/1381-scraping/01/img-cars/lamborghini-murcielago/lamborghini-murcielago-2872974__340.jpg\nhttps://caelum-online-public.s3.amazonaws.com/1381-scraping/01/img-cars/aston-martin/aston-martin-2977916__340.jpg\nhttps://caelum-online-public.s3.amazonaws.com/1381-scraping/01/img-cars/tvr/tvr-2943925__340.jpg\nhttps://caelum-online-public.s3.amazonaws.com/1381-scraping/01/img-cars/excalibur/excalibur-2916730__340.jpg\nhttps://caelum-online-public.s3.amazonaws.com/1381-scraping/01/img-cars/mclaren/mclaren-2855240__340.jpg\nhttps://caelum-online-public.s3.amazonaws.com/1381-scraping/01/img-cars/toyota/toyota-3245397__340.jpg\n"
     ]
    }
   ],
   "source": [
    "for item in soup.findAll('img', alt='Foto'):\n",
    "    print(item.get('src'))"
   ]
  },
  {
   "cell_type": "markdown",
   "metadata": {},
   "source": [
    "### Cuidado com o atributo \"class\""
   ]
  },
  {
   "cell_type": "code",
   "execution_count": 61,
   "metadata": {},
   "outputs": [
    {
     "output_type": "execute_result",
     "data": {
      "text/plain": [
       "[<p class=\"txt-value\">R$ 338.000</p>,\n",
       " <p class=\"txt-value\">R$ 346.000</p>,\n",
       " <p class=\"txt-value\">R$ 480.000</p>,\n",
       " <p class=\"txt-value\">R$ 133.000</p>,\n",
       " <p class=\"txt-value\">R$ 175.000</p>,\n",
       " <p class=\"txt-value\">R$ 239.000</p>,\n",
       " <p class=\"txt-value\">R$ 115.000</p>,\n",
       " <p class=\"txt-value\">R$ 114.000</p>,\n",
       " <p class=\"txt-value\">R$ 75.000</p>,\n",
       " <p class=\"txt-value\">R$ 117.000</p>]"
      ]
     },
     "metadata": {},
     "execution_count": 61
    }
   ],
   "source": [
    "soup.findAll('p', class_='txt-value')"
   ]
  },
  {
   "cell_type": "markdown",
   "metadata": {},
   "source": [
    "### Obtendo todo o conteúdo de texto de uma página"
   ]
  },
  {
   "cell_type": "code",
   "execution_count": 62,
   "metadata": {},
   "outputs": [
    {
     "output_type": "execute_result",
     "data": {
      "text/plain": [
       "['html',\n",
       " 'Alura Motors',\n",
       " \" /*Regra para a animacao*/ @keyframes spin { 0% { transform: rotate(0deg); } 100% { transform: rotate(360deg); } } /*Mudando o tamanho do icone de resposta*/ div.glyphicon { color:#6B8E23; font-size: 38px; } /*Classe que mostra a animacao 'spin'*/ .loader { border: 16px solid #f3f3f3; border-radius: 50%; border-top: 16px solid #3498db; width: 80px; height: 80px; -webkit-animation: spin 2s linear infinite; animation: spin 2s linear infinite; } \",\n",
       " ' requisitar(\"https://alura-scraping.herokuapp.com/produtos?_page=\"+1+\"&_limit=10\") ',\n",
       " 'You need to enable JavaScript to run this app.',\n",
       " 'Aguarde... ',\n",
       " 'Motors ',\n",
       " 'Hello World',\n",
       " 'Anúncios',\n",
       " 'Veículos de Luxo Novos e Usados - Todas as Marcas',\n",
       " '246 veículos encontrados',\n",
       " 'Página 1 de 25',\n",
       " 'LAMBORGHINI AVENTADOR',\n",
       " 'USADO',\n",
       " 'Motor 1.8 16v',\n",
       " 'Ano 1993 - 55.286 km',\n",
       " '► 4 X 4',\n",
       " '► Câmera de estacionamento',\n",
       " '► Controle de tração',\n",
       " '► Sensor de estacionamento',\n",
       " '...',\n",
       " 'Belo Horizonte - MG',\n",
       " 'R$ 338.000',\n",
       " 'BMW M2',\n",
       " 'USADO',\n",
       " 'Motor 3.0 32v',\n",
       " 'Ano 2018 - 83.447 km',\n",
       " '► Câmera de estacionamento',\n",
       " '► Controle de estabilidade',\n",
       " '► Travas elétricas',\n",
       " '► Freios ABS',\n",
       " '...',\n",
       " 'Belo Horizonte - MG',\n",
       " 'R$ 346.000',\n",
       " 'ALFA',\n",
       " 'USADO',\n",
       " 'Motor 1.8 16v',\n",
       " 'Ano 2004 - 19.722 km',\n",
       " '► Central multimídia',\n",
       " '► Bancos de couro',\n",
       " '► Rodas de liga',\n",
       " '► Câmera de estacionamento',\n",
       " '...',\n",
       " 'Rio de Janeiro - RJ',\n",
       " 'R$ 480.000',\n",
       " 'PUECH',\n",
       " 'USADO',\n",
       " 'Motor Diesel V8',\n",
       " 'Ano 1992 - 34.335 km',\n",
       " '► Bancos de couro',\n",
       " '► Freios ABS',\n",
       " '► Rodas de liga',\n",
       " '► Câmbio automático',\n",
       " '...',\n",
       " 'São Paulo - SP',\n",
       " 'R$ 133.000',\n",
       " 'LAMBORGHINI MURCIELAGO',\n",
       " 'USADO',\n",
       " 'Motor 1.0 8v',\n",
       " 'Ano 1991 - 464 km',\n",
       " '► Central multimídia',\n",
       " '► Teto panorâmico',\n",
       " '► Sensor crepuscular',\n",
       " '► Piloto automático',\n",
       " '...',\n",
       " 'Belo Horizonte - MG',\n",
       " 'R$ 175.000',\n",
       " 'ASTON MARTIN',\n",
       " 'USADO',\n",
       " 'OPORTUNIDADE',\n",
       " 'Motor Diesel V6',\n",
       " 'Ano 2004 - 50.189 km',\n",
       " '► Painel digital',\n",
       " '► Controle de tração',\n",
       " '► Teto panorâmico',\n",
       " '► Central multimídia',\n",
       " '...',\n",
       " 'Belo Horizonte - MG',\n",
       " 'R$ 239.000',\n",
       " 'TVR',\n",
       " 'USADO',\n",
       " 'Motor 4.0 Turbo',\n",
       " 'Ano 2014 - 17.778 km',\n",
       " '► 4 X 4',\n",
       " '► Teto panorâmico',\n",
       " '► Central multimídia',\n",
       " '► Controle de estabilidade',\n",
       " '...',\n",
       " 'Belo Horizonte - MG',\n",
       " 'R$ 115.000',\n",
       " 'EXCALIBUR',\n",
       " 'USADO',\n",
       " 'Motor 3.0 32v',\n",
       " 'Ano 2009 - 81.251 km',\n",
       " '► Painel digital',\n",
       " '► Câmbio automático',\n",
       " '► Sensor de chuva',\n",
       " '► Travas elétricas',\n",
       " '...',\n",
       " 'Rio de Janeiro - RJ',\n",
       " 'R$ 114.000',\n",
       " 'MCLAREN',\n",
       " 'NOVO',\n",
       " 'Motor Diesel',\n",
       " 'Ano 2019 - 0 km',\n",
       " '► Central multimídia',\n",
       " '► Câmera de estacionamento',\n",
       " '► Câmbio automático',\n",
       " '► Ar condicionado',\n",
       " '...',\n",
       " 'São Paulo - SP',\n",
       " 'R$ 75.000',\n",
       " 'TOYOTA',\n",
       " 'USADO',\n",
       " 'OPORTUNIDADE',\n",
       " 'Motor 4.0 Turbo',\n",
       " 'Ano 1999 - 12.536 km',\n",
       " '► Bancos de couro',\n",
       " '► Freios ABS',\n",
       " '► Piloto automático',\n",
       " '► Controle de estabilidade',\n",
       " '...',\n",
       " 'São Paulo - SP',\n",
       " 'R$ 117.000',\n",
       " '246 veículos encontrados',\n",
       " 'Página 1 de 25',\n",
       " 'Motors ',\n",
       " 'Aplicação para treinamento de web scraping']"
      ]
     },
     "metadata": {},
     "execution_count": 62
    }
   ],
   "source": [
    "soup.findAll(text=True)"
   ]
  },
  {
   "cell_type": "markdown",
   "metadata": {},
   "source": [
    "# 4.2. Outros métodos de pesquisa"
   ]
  },
  {
   "cell_type": "markdown",
   "metadata": {},
   "source": [
    "- ### *findParent(tag, attributes, text, **kwargs)*\n",
    "\n",
    "- ### *findParents(tag, attributes, text, limit, **kwargs)*\n",
    "\n",
    "#### https://www.crummy.com/software/BeautifulSoup/bs4/doc/#find-parents-and-find-parent\n",
    "\n",
    "> **Observação:**\n",
    "> - *findParent()* e *findParents()* também podem ser utilizados como *find_parent()* e *find_parents()*, respectivamente.\n",
    "---\n",
    "- ### *findNextSibling(tag, attributes, text, **kwargs)*\n",
    "\n",
    "- ### *findNextSiblings(tag, attributes, text, limit, **kwargs)*\n",
    "\n",
    "- ### *findPreviousSibling(tag, attributes, text, **kwargs)*\n",
    "\n",
    "- ### *findPreviousSiblings(tag, attributes, text, limit, **kwargs)*\n",
    "\n",
    "#### https://www.crummy.com/software/BeautifulSoup/bs4/doc/#find-next-siblings-and-find-next-sibling\n",
    "#### https://www.crummy.com/software/BeautifulSoup/bs4/doc/#find-previous-siblings-and-find-previous-sibling\n",
    "\n",
    "> **Observação:**\n",
    "> - *findNextSibling()*, *findNextSiblings()*, *findPreviousSibling()* e *findPreviousSiblings()* também podem ser utilizados como *find_next_sibling()*, *find_next_siblings()*, *find_previous_sibling()* e *find_previous_siblings()*, respectivamente.\n",
    "---\n",
    "- ### *findNext(tag, attributes, text, **kwargs)*\n",
    "\n",
    "- ### *findAllNext(tag, attributes, text, limit, **kwargs)*\n",
    "\n",
    "- ### *findPrevious(tag, attributes, text, **kwargs)*\n",
    "\n",
    "- ### *findAllPrevious(tag, attributes, text, limit, **kwargs)*\n",
    "\n",
    "#### https://www.crummy.com/software/BeautifulSoup/bs4/doc/#find-all-next-and-find-next\n",
    "#### https://www.crummy.com/software/BeautifulSoup/bs4/doc/#find-all-previous-and-find-previous\n",
    "\n",
    "> **Observação:**\n",
    "> - *findNext()*, *findAllNext()*, *findPrevious* e *findAllPrevious* também podem ser utilizados como *find_next()*, *find_all_next()*, *find_previous()* e *find_all_previous()*, respectivamente."
   ]
  },
  {
   "cell_type": "markdown",
   "metadata": {},
   "source": [
    "## HTML de exemplo para ilustrar a utilização dos métodos de pesquisa do BeautifulSoup"
   ]
  },
  {
   "cell_type": "markdown",
   "metadata": {},
   "source": [
    "<img src=\"https://caelum-online-public.s3.amazonaws.com/1381-scraping/01/BeautifulSoup-method.png\" width=80%>"
   ]
  },
  {
   "cell_type": "markdown",
   "metadata": {},
   "source": [
    "---\n",
    "## Resultado"
   ]
  },
  {
   "cell_type": "markdown",
   "metadata": {},
   "source": [
    "<html>\n",
    "    <body>\n",
    "        <div id=“container-a”>\n",
    "            <h1>Título A</h1>\n",
    "            <h2 class=\"ref-a\">Sub título A</h2>\n",
    "            <p>Texto de conteúdo A</p>\n",
    "        </div>\n",
    "        <div id=“container-b”>\n",
    "            <h1>Título B</h1>\n",
    "            <h2 class=\"ref-b\">Sub título B</h2>\n",
    "            <p>Texto de conteúdo B</p>\n",
    "        </div>\n",
    "    </body>\n",
    "</html>"
   ]
  },
  {
   "cell_type": "code",
   "execution_count": 63,
   "metadata": {},
   "outputs": [],
   "source": [
    "html_teste = \"\"\"\n",
    "<html>\n",
    "    <body>\n",
    "        <div id=“container-a”>\n",
    "            <h1>Título A</h1>\n",
    "            <h2 class=\"ref-a\">Sub título A</h2>\n",
    "            <p>Texto de conteúdo A</p>\n",
    "        </div>\n",
    "        <div id=“container-b”>\n",
    "            <h1>Título B</h1>\n",
    "            <h2 class=\"ref-b\">Sub título B</h2>\n",
    "            <p>Texto de conteúdo B</p>\n",
    "        </div>\n",
    "    </body>\n",
    "</html>\n",
    "\"\"\""
   ]
  },
  {
   "cell_type": "markdown",
   "metadata": {},
   "source": [
    "### Tratamentos para a string HTML"
   ]
  },
  {
   "cell_type": "code",
   "execution_count": 64,
   "metadata": {},
   "outputs": [
    {
     "output_type": "execute_result",
     "data": {
      "text/plain": [
       "'\"\\n<html>\\n    <body>\\n        <div id=“container-a”>\\n            <h1>Título A</h1>\\n            <h2 class=\"ref-a\">Sub título A</h2>\\n            <p>Texto de conteúdo A</p>\\n        </div>\\n        <div id=“container-b”>\\n            <h1>Título B</h1>\\n            <h2 class=\"ref-b\">Sub título B</h2>\\n            <p>Texto de conteúdo B</p>\\n        </div>\\n    </body>\\n</html>\\n'"
      ]
     },
     "metadata": {},
     "execution_count": 64
    }
   ],
   "source": [
    "html_teste"
   ]
  },
  {
   "cell_type": "code",
   "execution_count": 65,
   "metadata": {},
   "outputs": [
    {
     "output_type": "execute_result",
     "data": {
      "text/plain": [
       "'\" <html><body><div id=“container-a”><h1>Título A</h1><h2 class=\"ref-a\">Sub título A</h2><p>Texto de conteúdo A</p></div><div id=“container-b”><h1>Título B</h1><h2 class=\"ref-b\">Sub título B</h2><p>Texto de conteúdo B</p></div></body></html>'"
      ]
     },
     "metadata": {},
     "execution_count": 65
    }
   ],
   "source": [
    "html_teste = trata_html(html_teste)\n",
    "html_teste"
   ]
  },
  {
   "cell_type": "markdown",
   "metadata": {},
   "source": [
    "### Criando o objeto BeautifulSoup"
   ]
  },
  {
   "cell_type": "code",
   "execution_count": 66,
   "metadata": {
    "scrolled": true
   },
   "outputs": [
    {
     "output_type": "execute_result",
     "data": {
      "text/plain": [
       "\" <html><body><div id=\"“container-a”\"><h1>Título A</h1><h2 class=\"ref-a\">Sub título A</h2><p>Texto de conteúdo A</p></div><div id=\"“container-b”\"><h1>Título B</h1><h2 class=\"ref-b\">Sub título B</h2><p>Texto de conteúdo B</p></div></body></html>"
      ]
     },
     "metadata": {},
     "execution_count": 66
    }
   ],
   "source": [
    "soup = BeautifulSoup(html_teste, 'html.parser')\n",
    "soup"
   ]
  },
  {
   "cell_type": "markdown",
   "metadata": {},
   "source": [
    "### Parents"
   ]
  },
  {
   "cell_type": "code",
   "execution_count": 67,
   "metadata": {},
   "outputs": [
    {
     "output_type": "execute_result",
     "data": {
      "text/plain": [
       "<h2 class=\"ref-a\">Sub título A</h2>"
      ]
     },
     "metadata": {},
     "execution_count": 67
    }
   ],
   "source": [
    "soup.find('h2')"
   ]
  },
  {
   "cell_type": "code",
   "execution_count": 68,
   "metadata": {},
   "outputs": [
    {
     "output_type": "execute_result",
     "data": {
      "text/plain": [
       "<div id=\"“container-a”\"><h1>Título A</h1><h2 class=\"ref-a\">Sub título A</h2><p>Texto de conteúdo A</p></div>"
      ]
     },
     "metadata": {},
     "execution_count": 68
    }
   ],
   "source": [
    "soup.find('h2').find_parent('div')"
   ]
  },
  {
   "cell_type": "code",
   "execution_count": 69,
   "metadata": {},
   "outputs": [
    {
     "output_type": "execute_result",
     "data": {
      "text/plain": [
       "[<div id=\"“container-a”\"><h1>Título A</h1><h2 class=\"ref-a\">Sub título A</h2><p>Texto de conteúdo A</p></div>,\n",
       " <body><div id=\"“container-a”\"><h1>Título A</h1><h2 class=\"ref-a\">Sub título A</h2><p>Texto de conteúdo A</p></div><div id=\"“container-b”\"><h1>Título B</h1><h2 class=\"ref-b\">Sub título B</h2><p>Texto de conteúdo B</p></div></body>,\n",
       " <html><body><div id=\"“container-a”\"><h1>Título A</h1><h2 class=\"ref-a\">Sub título A</h2><p>Texto de conteúdo A</p></div><div id=\"“container-b”\"><h1>Título B</h1><h2 class=\"ref-b\">Sub título B</h2><p>Texto de conteúdo B</p></div></body></html>,\n",
       " \" <html><body><div id=\"“container-a”\"><h1>Título A</h1><h2 class=\"ref-a\">Sub título A</h2><p>Texto de conteúdo A</p></div><div id=\"“container-b”\"><h1>Título B</h1><h2 class=\"ref-b\">Sub título B</h2><p>Texto de conteúdo B</p></div></body></html>]"
      ]
     },
     "metadata": {},
     "execution_count": 69
    }
   ],
   "source": [
    "soup.find('h2').find_parents()"
   ]
  },
  {
   "cell_type": "code",
   "execution_count": 71,
   "metadata": {},
   "outputs": [
    {
     "output_type": "execute_result",
     "data": {
      "text/plain": [
       "[<h2 class=\"ref-a\">Sub título A</h2>, <h2 class=\"ref-b\">Sub título B</h2>]"
      ]
     },
     "metadata": {},
     "execution_count": 71
    }
   ],
   "source": [
    "soup.findAll('h2')"
   ]
  },
  {
   "cell_type": "code",
   "execution_count": 72,
   "metadata": {},
   "outputs": [
    {
     "output_type": "stream",
     "name": "stdout",
     "text": [
      "<div id=\"“container-a”\"><h1>Título A</h1><h2 class=\"ref-a\">Sub título A</h2><p>Texto de conteúdo A</p></div>\n<div id=\"“container-b”\"><h1>Título B</h1><h2 class=\"ref-b\">Sub título B</h2><p>Texto de conteúdo B</p></div>\n"
     ]
    }
   ],
   "source": [
    "for item in soup.findAll('h2'):\n",
    "    print(item.find_parent('div'))"
   ]
  },
  {
   "cell_type": "markdown",
   "metadata": {},
   "source": [
    "## Siblings"
   ]
  },
  {
   "cell_type": "code",
   "execution_count": 73,
   "metadata": {},
   "outputs": [
    {
     "output_type": "execute_result",
     "data": {
      "text/plain": [
       "<p>Texto de conteúdo A</p>"
      ]
     },
     "metadata": {},
     "execution_count": 73
    }
   ],
   "source": [
    "soup.find('h2').findNextSibling()"
   ]
  },
  {
   "cell_type": "code",
   "execution_count": 74,
   "metadata": {},
   "outputs": [
    {
     "output_type": "execute_result",
     "data": {
      "text/plain": [
       "<h1>Título A</h1>"
      ]
     },
     "metadata": {},
     "execution_count": 74
    }
   ],
   "source": [
    "soup.find('h2').findPreviousSibling()"
   ]
  },
  {
   "cell_type": "code",
   "execution_count": 75,
   "metadata": {},
   "outputs": [
    {
     "output_type": "execute_result",
     "data": {
      "text/plain": [
       "[<h2 class=\"ref-a\">Sub título A</h2>, <h1>Título A</h1>]"
      ]
     },
     "metadata": {},
     "execution_count": 75
    }
   ],
   "source": [
    "soup.find('p').findPreviousSiblings()"
   ]
  },
  {
   "cell_type": "markdown",
   "metadata": {},
   "source": [
    "## Next e Previous"
   ]
  },
  {
   "cell_type": "code",
   "execution_count": 76,
   "metadata": {},
   "outputs": [
    {
     "output_type": "execute_result",
     "data": {
      "text/plain": [
       "<p>Texto de conteúdo A</p>"
      ]
     },
     "metadata": {},
     "execution_count": 76
    }
   ],
   "source": [
    "soup.find('h2').findNext()"
   ]
  },
  {
   "cell_type": "code",
   "execution_count": 77,
   "metadata": {},
   "outputs": [
    {
     "output_type": "execute_result",
     "data": {
      "text/plain": [
       "<h1>Título A</h1>"
      ]
     },
     "metadata": {},
     "execution_count": 77
    }
   ],
   "source": [
    "soup.find('h2').findPrevious()"
   ]
  },
  {
   "cell_type": "code",
   "execution_count": 78,
   "metadata": {},
   "outputs": [
    {
     "output_type": "execute_result",
     "data": {
      "text/plain": [
       "[<p>Texto de conteúdo A</p>,\n",
       " <div id=\"“container-b”\"><h1>Título B</h1><h2 class=\"ref-b\">Sub título B</h2><p>Texto de conteúdo B</p></div>,\n",
       " <h1>Título B</h1>,\n",
       " <h2 class=\"ref-b\">Sub título B</h2>,\n",
       " <p>Texto de conteúdo B</p>]"
      ]
     },
     "metadata": {},
     "execution_count": 78
    }
   ],
   "source": [
    "soup.find('h2').findAllNext()"
   ]
  },
  {
   "cell_type": "markdown",
   "metadata": {},
   "source": [
    "# <font color=green>5. WEB SCRAPING DO SITE ALURA MOTORS - OBTENDO OS DADOS DE UM ANÚNCIO"
   ]
  },
  {
   "cell_type": "markdown",
   "metadata": {},
   "source": [
    "# 5.1. Identificando e selecionando os dados no HTML"
   ]
  },
  {
   "cell_type": "markdown",
   "metadata": {},
   "source": [
    "### Obtendo o HTML e criando o objeto BeautifulSoup"
   ]
  },
  {
   "cell_type": "code",
   "execution_count": 79,
   "metadata": {},
   "outputs": [
    {
     "output_type": "execute_result",
     "data": {
      "text/plain": [
       "<!DOCTYPE html>\n",
       "\n",
       "<html lang=\"pt-br\">\n",
       "<head>\n",
       "<meta charset=\"utf-8\"/>\n",
       "<meta content=\"width=device-width, initial-scale=1, shrink-to-fit=no\" name=\"viewport\"/>\n",
       "<title>Alura Motors</title>\n",
       "<style>\n",
       "\t\t/*Regra para a animacao*/\n",
       "\t\t@keyframes spin {\n",
       "\t\t\t0% { transform: rotate(0deg); }\n",
       "\t\t\t100% { transform: rotate(360deg); }\n",
       "\t\t}\n",
       "\t\t/*Mudando o tamanho do icone de resposta*/\n",
       "\t\tdiv.glyphicon {\n",
       "\t\t\tcolor:#6B8E23;\n",
       "\t\t\tfont-size: 38px;\n",
       "\t\t}\n",
       "\t\t/*Classe que mostra a animacao 'spin'*/\n",
       "\t\t.loader {\n",
       "\t\t\tborder: 16px solid #f3f3f3;\n",
       "\t\t\tborder-radius: 50%;\n",
       "\t\t\tborder-top: 16px solid #3498db;\n",
       "\t\t\twidth: 80px;\n",
       "\t\t\theight: 80px;\n",
       "\t\t\t-webkit-animation: spin 2s linear infinite;\n",
       "\t\t\tanimation: spin 2s linear infinite;\n",
       "\t\t}\n",
       "\t</style>\n",
       "<link crossorigin=\"anonymous\" href=\"https://maxcdn.bootstrapcdn.com/bootstrap/3.3.7/css/bootstrap.min.css\" integrity=\"sha384-BVYiiSIFeK1dGmJRAkycuHAHRg32OmUcww7on3RYdg4Va+PmSTsz/K68vbdEjh4u\" rel=\"stylesheet\"/>\n",
       "<link href=\"css/styles.css\" media=\"all\" rel=\"stylesheet\"/>\n",
       "<script src=\"https://code.jquery.com/jquery-1.12.4.js\"></script>\n",
       "<script crossorigin=\"anonymous\" integrity=\"sha384-Tc5IQib027qvyjSMfHjOMaLkfuWVxZxUPnCJA7l2mCWNIpG9mGCD8wGNIcPD7Txa\" src=\"https://maxcdn.bootstrapcdn.com/bootstrap/3.3.7/js/bootstrap.min.js\"></script>\n",
       "<script src=\"js/index.js\" type=\"text/javascript\"></script>\n",
       "<script>\n",
       "\t\trequisitar(\"https://alura-scraping.herokuapp.com/produtos?_page=\"+1+\"&_limit=10\")\n",
       "\t</script>\n",
       "</head>\n",
       "<body cz-shortcut-listen=\"true\">\n",
       "<noscript>You need to enable JavaScript to run this app.</noscript>\n",
       "<div aria-labelledby=\"loadingModal_label\" class=\"modal fade\" data-backdrop=\"static\" id=\"loadingModal\" role=\"dialog\" tabindex=\"-1\">\n",
       "<div class=\"modal-dialog\" role=\"document\">\n",
       "<div class=\"modal-content\">\n",
       "<div class=\"modal-header\">\n",
       "<h5 class=\"modal-title\" id=\"loadingModal_label\">\n",
       "<span class=\"glyphicon glyphicon-refresh\"></span>Aguarde...\n",
       "\t\t\t\t\t</h5>\n",
       "</div>\n",
       "<div class=\"modal-body\">\n",
       "<div class=\"alert\" role=\"alert\">\n",
       "<center>\n",
       "<div class=\"loader\" id=\"loader\"></div><br/>\n",
       "<h4><b id=\"loadingModal_content\"></b></h4>\n",
       "</center>\n",
       "</div>\n",
       "</div>\n",
       "</div>\n",
       "</div>\n",
       "</div>\n",
       "<div id=\"root\">\n",
       "<header>\n",
       "<nav class=\"navbar navbar-inverse\" style=\"margin-bottom: 0;\">\n",
       "<div class=\"container\" style=\"margin-bottom: -20px;\">\n",
       "<div class=\"navbar\">\n",
       "<a class=\"navbar-brand\" href=\"./index.php\" title=\"Alura Motors\">\n",
       "<img alt=\"Alura\" class=\"d-inline-block align-top\" src=\"img/alura-logo.svg\"/>Motors\n",
       "\t\t\t\t\t\t</a>\n",
       "<ul class=\"nav navbar-nav\" style=\"margin-top: 35px;\">\n",
       "<li><a href=\"./hello-world.php\">Hello World</a></li>\n",
       "<li><a href=\"./index.php\">Anúncios</a></li>\n",
       "</ul>\n",
       "</div>\n",
       "</div>\n",
       "</nav>\n",
       "</header>\n",
       "<div class=\"container\">\n",
       "<h1 class=\"sub-header\">Veículos de Luxo Novos e Usados - Todas as Marcas</h1>\n",
       "<div class=\"row\">\n",
       "<div class=\"col-md-12\">\n",
       "<div class=\"container\" style=\"width: 100%\">\n",
       "<div class=\"type-select\">246 veículos encontrados</div>\n",
       "<div class=\"container-pagination\" style=\"float: right\">\n",
       "<span class=\"info-pages\">Página 1 de 25</span>\n",
       "</div>\n",
       "</div>\n",
       "<div id=\"container-cards\" style=\"height: 100%\">\n",
       "<div class=\"well card\">\n",
       "<div class=\"col-md-3 image-card\">\n",
       "<img alt=\"Foto\" height=\"155\" src=\"https://caelum-online-public.s3.amazonaws.com/1381-scraping/01/img-cars/lamborghini-aventador/lamborghini-aventador-2932196__340.jpg\" width=\"220\"/>\n",
       "</div>\n",
       "<div class=\"col-md-6 body-card\">\n",
       "<p class=\"txt-name inline\">LAMBORGHINI AVENTADOR</p>\n",
       "<p class=\"txt-category badge badge-secondary inline\">USADO</p>\n",
       "<p class=\"txt-motor\">Motor 1.8 16v</p>\n",
       "<p class=\"txt-description\">Ano 1993 - 55.286 km</p>\n",
       "<ul class=\"lst-items\">\n",
       "<li class=\"txt-items\">► 4 X 4</li>\n",
       "<li class=\"txt-items\">► Câmera de estacionamento</li>\n",
       "<li class=\"txt-items\">► Controle de tração</li>\n",
       "<li class=\"txt-items\">► Sensor de estacionamento</li>\n",
       "<li class=\"txt-items\">...</li>\n",
       "</ul>\n",
       "<p class=\"txt-location\">Belo Horizonte - MG</p>\n",
       "</div>\n",
       "<div class=\"col-md-3 value-card\">\n",
       "<div class=\"value\">\n",
       "<p class=\"txt-value\">R$ 338.000</p>\n",
       "</div>\n",
       "</div>\n",
       "</div>\n",
       "<div class=\"well card\">\n",
       "<div class=\"col-md-3 image-card\">\n",
       "<img alt=\"Foto\" height=\"155\" src=\"https://caelum-online-public.s3.amazonaws.com/1381-scraping/01/img-cars/bmw-m2/bmw-m2-2970882__340.jpg\" width=\"220\"/>\n",
       "</div>\n",
       "<div class=\"col-md-6 body-card\">\n",
       "<p class=\"txt-name inline\">BMW M2</p>\n",
       "<p class=\"txt-category badge badge-secondary inline\">USADO</p>\n",
       "<p class=\"txt-motor\">Motor 3.0 32v</p>\n",
       "<p class=\"txt-description\">Ano 2018 - 83.447 km</p>\n",
       "<ul class=\"lst-items\">\n",
       "<li class=\"txt-items\">► Câmera de estacionamento</li>\n",
       "<li class=\"txt-items\">► Controle de estabilidade</li>\n",
       "<li class=\"txt-items\">► Travas elétricas</li>\n",
       "<li class=\"txt-items\">► Freios ABS</li>\n",
       "<li class=\"txt-items\">...</li>\n",
       "</ul>\n",
       "<p class=\"txt-location\">Belo Horizonte - MG</p>\n",
       "</div>\n",
       "<div class=\"col-md-3 value-card\">\n",
       "<div class=\"value\">\n",
       "<p class=\"txt-value\">R$ 346.000</p>\n",
       "</div>\n",
       "</div>\n",
       "</div>\n",
       "<div class=\"well card\">\n",
       "<div class=\"col-md-3 image-card\">\n",
       "<img alt=\"Foto\" height=\"155\" src=\"https://caelum-online-public.s3.amazonaws.com/1381-scraping/01/img-cars/alfa/alfa-1823056__340.jpg\" width=\"220\"/>\n",
       "</div>\n",
       "<div class=\"col-md-6 body-card\">\n",
       "<p class=\"txt-name inline\">ALFA</p>\n",
       "<p class=\"txt-category badge badge-secondary inline\">USADO</p>\n",
       "<p class=\"txt-motor\">Motor 1.8 16v</p>\n",
       "<p class=\"txt-description\">Ano 2004 - 19.722 km</p>\n",
       "<ul class=\"lst-items\">\n",
       "<li class=\"txt-items\">► Central multimídia</li>\n",
       "<li class=\"txt-items\">► Bancos de couro</li>\n",
       "<li class=\"txt-items\">► Rodas de liga</li>\n",
       "<li class=\"txt-items\">► Câmera de estacionamento</li>\n",
       "<li class=\"txt-items\">...</li>\n",
       "</ul>\n",
       "<p class=\"txt-location\">Rio de Janeiro - RJ</p>\n",
       "</div>\n",
       "<div class=\"col-md-3 value-card\">\n",
       "<div class=\"value\">\n",
       "<p class=\"txt-value\">R$ 480.000</p>\n",
       "</div>\n",
       "</div>\n",
       "</div>\n",
       "<div class=\"well card\">\n",
       "<div class=\"col-md-3 image-card\">\n",
       "<img alt=\"Foto\" height=\"155\" src=\"https://caelum-online-public.s3.amazonaws.com/1381-scraping/01/img-cars/puech/puech-4055386__340.jpg\" width=\"220\"/>\n",
       "</div>\n",
       "<div class=\"col-md-6 body-card\">\n",
       "<p class=\"txt-name inline\">PUECH</p>\n",
       "<p class=\"txt-category badge badge-secondary inline\">USADO</p>\n",
       "<p class=\"txt-motor\">Motor Diesel V8</p>\n",
       "<p class=\"txt-description\">Ano 1992 - 34.335 km</p>\n",
       "<ul class=\"lst-items\">\n",
       "<li class=\"txt-items\">► Bancos de couro</li>\n",
       "<li class=\"txt-items\">► Freios ABS</li>\n",
       "<li class=\"txt-items\">► Rodas de liga</li>\n",
       "<li class=\"txt-items\">► Câmbio automático</li>\n",
       "<li class=\"txt-items\">...</li>\n",
       "</ul>\n",
       "<p class=\"txt-location\">São Paulo - SP</p>\n",
       "</div>\n",
       "<div class=\"col-md-3 value-card\">\n",
       "<div class=\"value\">\n",
       "<p class=\"txt-value\">R$ 133.000</p>\n",
       "</div>\n",
       "</div>\n",
       "</div>\n",
       "<div class=\"well card\">\n",
       "<div class=\"col-md-3 image-card\">\n",
       "<img alt=\"Foto\" height=\"155\" src=\"https://caelum-online-public.s3.amazonaws.com/1381-scraping/01/img-cars/lamborghini-murcielago/lamborghini-murcielago-2872974__340.jpg\" width=\"220\"/>\n",
       "</div>\n",
       "<div class=\"col-md-6 body-card\">\n",
       "<p class=\"txt-name inline\">LAMBORGHINI MURCIELAGO</p>\n",
       "<p class=\"txt-category badge badge-secondary inline\">USADO</p>\n",
       "<p class=\"txt-motor\">Motor 1.0 8v</p>\n",
       "<p class=\"txt-description\">Ano 1991 - 464 km</p>\n",
       "<ul class=\"lst-items\">\n",
       "<li class=\"txt-items\">► Central multimídia</li>\n",
       "<li class=\"txt-items\">► Teto panorâmico</li>\n",
       "<li class=\"txt-items\">► Sensor crepuscular</li>\n",
       "<li class=\"txt-items\">► Piloto automático</li>\n",
       "<li class=\"txt-items\">...</li>\n",
       "</ul>\n",
       "<p class=\"txt-location\">Belo Horizonte - MG</p>\n",
       "</div>\n",
       "<div class=\"col-md-3 value-card\">\n",
       "<div class=\"value\">\n",
       "<p class=\"txt-value\">R$ 175.000</p>\n",
       "</div>\n",
       "</div>\n",
       "</div>\n",
       "<div class=\"well card\">\n",
       "<div class=\"col-md-3 image-card\">\n",
       "<img alt=\"Foto\" height=\"155\" src=\"https://caelum-online-public.s3.amazonaws.com/1381-scraping/01/img-cars/aston-martin/aston-martin-2977916__340.jpg\" width=\"220\"/>\n",
       "</div>\n",
       "<div class=\"col-md-6 body-card\">\n",
       "<p class=\"txt-name inline\">ASTON MARTIN</p>\n",
       "<p class=\"txt-category badge badge-secondary inline\">USADO</p>\n",
       "<p class=\"txt-opportunity badge badge-danger inline\">OPORTUNIDADE</p>\n",
       "<p class=\"txt-motor\">Motor Diesel V6</p>\n",
       "<p class=\"txt-description\">Ano 2004 - 50.189 km</p>\n",
       "<ul class=\"lst-items\">\n",
       "<li class=\"txt-items\">► Painel digital</li>\n",
       "<li class=\"txt-items\">► Controle de tração</li>\n",
       "<li class=\"txt-items\">► Teto panorâmico</li>\n",
       "<li class=\"txt-items\">► Central multimídia</li>\n",
       "<li class=\"txt-items\">...</li>\n",
       "</ul>\n",
       "<p class=\"txt-location\">Belo Horizonte - MG</p>\n",
       "</div>\n",
       "<div class=\"col-md-3 value-card\">\n",
       "<div class=\"value\">\n",
       "<p class=\"txt-value\">R$ 239.000</p>\n",
       "</div>\n",
       "</div>\n",
       "</div>\n",
       "<div class=\"well card\">\n",
       "<div class=\"col-md-3 image-card\">\n",
       "<img alt=\"Foto\" height=\"155\" src=\"https://caelum-online-public.s3.amazonaws.com/1381-scraping/01/img-cars/tvr/tvr-2943925__340.jpg\" width=\"220\"/>\n",
       "</div>\n",
       "<div class=\"col-md-6 body-card\">\n",
       "<p class=\"txt-name inline\">TVR</p>\n",
       "<p class=\"txt-category badge badge-secondary inline\">USADO</p>\n",
       "<p class=\"txt-motor\">Motor 4.0 Turbo</p>\n",
       "<p class=\"txt-description\">Ano 2014 - 17.778 km</p>\n",
       "<ul class=\"lst-items\">\n",
       "<li class=\"txt-items\">► 4 X 4</li>\n",
       "<li class=\"txt-items\">► Teto panorâmico</li>\n",
       "<li class=\"txt-items\">► Central multimídia</li>\n",
       "<li class=\"txt-items\">► Controle de estabilidade</li>\n",
       "<li class=\"txt-items\">...</li>\n",
       "</ul>\n",
       "<p class=\"txt-location\">Belo Horizonte - MG</p>\n",
       "</div>\n",
       "<div class=\"col-md-3 value-card\">\n",
       "<div class=\"value\">\n",
       "<p class=\"txt-value\">R$ 115.000</p>\n",
       "</div>\n",
       "</div>\n",
       "</div>\n",
       "<div class=\"well card\">\n",
       "<div class=\"col-md-3 image-card\">\n",
       "<img alt=\"Foto\" height=\"155\" src=\"https://caelum-online-public.s3.amazonaws.com/1381-scraping/01/img-cars/excalibur/excalibur-2916730__340.jpg\" width=\"220\"/>\n",
       "</div>\n",
       "<div class=\"col-md-6 body-card\">\n",
       "<p class=\"txt-name inline\">EXCALIBUR</p>\n",
       "<p class=\"txt-category badge badge-secondary inline\">USADO</p>\n",
       "<p class=\"txt-motor\">Motor 3.0 32v</p>\n",
       "<p class=\"txt-description\">Ano 2009 - 81.251 km</p>\n",
       "<ul class=\"lst-items\">\n",
       "<li class=\"txt-items\">► Painel digital</li>\n",
       "<li class=\"txt-items\">► Câmbio automático</li>\n",
       "<li class=\"txt-items\">► Sensor de chuva</li>\n",
       "<li class=\"txt-items\">► Travas elétricas</li>\n",
       "<li class=\"txt-items\">...</li>\n",
       "</ul>\n",
       "<p class=\"txt-location\">Rio de Janeiro - RJ</p>\n",
       "</div>\n",
       "<div class=\"col-md-3 value-card\">\n",
       "<div class=\"value\">\n",
       "<p class=\"txt-value\">R$ 114.000</p>\n",
       "</div>\n",
       "</div>\n",
       "</div>\n",
       "<div class=\"well card\">\n",
       "<div class=\"col-md-3 image-card\">\n",
       "<img alt=\"Foto\" height=\"155\" src=\"https://caelum-online-public.s3.amazonaws.com/1381-scraping/01/img-cars/mclaren/mclaren-2855240__340.jpg\" width=\"220\"/>\n",
       "</div>\n",
       "<div class=\"col-md-6 body-card\">\n",
       "<p class=\"txt-name inline\">MCLAREN</p>\n",
       "<p class=\"txt-category badge badge-secondary inline\">NOVO</p>\n",
       "<p class=\"txt-motor\">Motor Diesel</p>\n",
       "<p class=\"txt-description\">Ano 2019 - 0 km</p>\n",
       "<ul class=\"lst-items\">\n",
       "<li class=\"txt-items\">► Central multimídia</li>\n",
       "<li class=\"txt-items\">► Câmera de estacionamento</li>\n",
       "<li class=\"txt-items\">► Câmbio automático</li>\n",
       "<li class=\"txt-items\">► Ar condicionado</li>\n",
       "<li class=\"txt-items\">...</li>\n",
       "</ul>\n",
       "<p class=\"txt-location\">São Paulo - SP</p>\n",
       "</div>\n",
       "<div class=\"col-md-3 value-card\">\n",
       "<div class=\"value\">\n",
       "<p class=\"txt-value\">R$ 75.000</p>\n",
       "</div>\n",
       "</div>\n",
       "</div>\n",
       "<div class=\"well card\">\n",
       "<div class=\"col-md-3 image-card\">\n",
       "<img alt=\"Foto\" height=\"155\" src=\"https://caelum-online-public.s3.amazonaws.com/1381-scraping/01/img-cars/toyota/toyota-3245397__340.jpg\" width=\"220\"/>\n",
       "</div>\n",
       "<div class=\"col-md-6 body-card\">\n",
       "<p class=\"txt-name inline\">TOYOTA</p>\n",
       "<p class=\"txt-category badge badge-secondary inline\">USADO</p>\n",
       "<p class=\"txt-opportunity badge badge-danger inline\">OPORTUNIDADE</p>\n",
       "<p class=\"txt-motor\">Motor 4.0 Turbo</p>\n",
       "<p class=\"txt-description\">Ano 1999 - 12.536 km</p>\n",
       "<ul class=\"lst-items\">\n",
       "<li class=\"txt-items\">► Bancos de couro</li>\n",
       "<li class=\"txt-items\">► Freios ABS</li>\n",
       "<li class=\"txt-items\">► Piloto automático</li>\n",
       "<li class=\"txt-items\">► Controle de estabilidade</li>\n",
       "<li class=\"txt-items\">...</li>\n",
       "</ul>\n",
       "<p class=\"txt-location\">São Paulo - SP</p>\n",
       "</div>\n",
       "<div class=\"col-md-3 value-card\">\n",
       "<div class=\"value\">\n",
       "<p class=\"txt-value\">R$ 117.000</p>\n",
       "</div>\n",
       "</div>\n",
       "</div> </div>\n",
       "<div class=\"type-select\">246 veículos encontrados</div>\n",
       "<div class=\"container-pagination\" style=\"float: right\">\n",
       "<span class=\"info-pages\">Página 1 de 25</span>\n",
       "</div>\n",
       "</div>\n",
       "</div>\n",
       "</div>\n",
       "</div>\n",
       "\n",
       "<footer>\n",
       "<nav class=\"navbar navbar-inverse\">\n",
       "<div class=\"container\" style=\"margin-bottom: 10px;\">\n",
       "<div class=\"navbar\">\n",
       "<a class=\"navbar-brand\" href=\"./index.php\" title=\"Alura Motors\">\n",
       "<img alt=\"Alura\" class=\"d-inline-block align-top\" src=\"img/alura-logo.svg\"/>Motors\n",
       "\t\t\t\t\t\t</a>\n",
       "<p style=\"color: #fff; text-align: center; margin-top: 40px;\">Aplicação para treinamento de web scraping</p>\n",
       "</div>\n",
       "</div>\n",
       "</nav>\n",
       "</footer>\n",
       "\n",
       "</body>\n",
       "</html>"
      ]
     },
     "metadata": {},
     "execution_count": 79
    }
   ],
   "source": [
    "response = urlopen('https://alura-site-scraping.herokuapp.com/index.php')\n",
    "html = response.read().decode('utf-8')\n",
    "soup = BeautifulSoup(html, 'html.parser')\n",
    "soup"
   ]
  },
  {
   "cell_type": "markdown",
   "metadata": {},
   "source": [
    "### Criando variávels para armazenar informações"
   ]
  },
  {
   "cell_type": "code",
   "execution_count": 80,
   "metadata": {},
   "outputs": [],
   "source": [
    "cards = []\n",
    "card = {}"
   ]
  },
  {
   "cell_type": "markdown",
   "metadata": {},
   "source": [
    "### Obtendo os dados do primeiro CARD"
   ]
  },
  {
   "cell_type": "code",
   "execution_count": 81,
   "metadata": {
    "scrolled": false
   },
   "outputs": [
    {
     "output_type": "execute_result",
     "data": {
      "text/plain": [
       "<div class=\"well card\">\n",
       "<div class=\"col-md-3 image-card\">\n",
       "<img alt=\"Foto\" height=\"155\" src=\"https://caelum-online-public.s3.amazonaws.com/1381-scraping/01/img-cars/lamborghini-aventador/lamborghini-aventador-2932196__340.jpg\" width=\"220\"/>\n",
       "</div>\n",
       "<div class=\"col-md-6 body-card\">\n",
       "<p class=\"txt-name inline\">LAMBORGHINI AVENTADOR</p>\n",
       "<p class=\"txt-category badge badge-secondary inline\">USADO</p>\n",
       "<p class=\"txt-motor\">Motor 1.8 16v</p>\n",
       "<p class=\"txt-description\">Ano 1993 - 55.286 km</p>\n",
       "<ul class=\"lst-items\">\n",
       "<li class=\"txt-items\">► 4 X 4</li>\n",
       "<li class=\"txt-items\">► Câmera de estacionamento</li>\n",
       "<li class=\"txt-items\">► Controle de tração</li>\n",
       "<li class=\"txt-items\">► Sensor de estacionamento</li>\n",
       "<li class=\"txt-items\">...</li>\n",
       "</ul>\n",
       "<p class=\"txt-location\">Belo Horizonte - MG</p>\n",
       "</div>\n",
       "<div class=\"col-md-3 value-card\">\n",
       "<div class=\"value\">\n",
       "<p class=\"txt-value\">R$ 338.000</p>\n",
       "</div>\n",
       "</div>\n",
       "</div>"
      ]
     },
     "metadata": {},
     "execution_count": 81
    }
   ],
   "source": [
    "anuncio = soup.find('div', {'class': 'well card'})\n",
    "anuncio"
   ]
  },
  {
   "cell_type": "markdown",
   "metadata": {},
   "source": [
    "# 5.2. Obtendo o VALOR do veículo anunciado"
   ]
  },
  {
   "cell_type": "code",
   "execution_count": 82,
   "metadata": {},
   "outputs": [
    {
     "output_type": "execute_result",
     "data": {
      "text/plain": [
       "<div class=\"well card\">\n",
       "<div class=\"col-md-3 image-card\">\n",
       "<img alt=\"Foto\" height=\"155\" src=\"https://caelum-online-public.s3.amazonaws.com/1381-scraping/01/img-cars/lamborghini-aventador/lamborghini-aventador-2932196__340.jpg\" width=\"220\"/>\n",
       "</div>\n",
       "<div class=\"col-md-6 body-card\">\n",
       "<p class=\"txt-name inline\">LAMBORGHINI AVENTADOR</p>\n",
       "<p class=\"txt-category badge badge-secondary inline\">USADO</p>\n",
       "<p class=\"txt-motor\">Motor 1.8 16v</p>\n",
       "<p class=\"txt-description\">Ano 1993 - 55.286 km</p>\n",
       "<ul class=\"lst-items\">\n",
       "<li class=\"txt-items\">► 4 X 4</li>\n",
       "<li class=\"txt-items\">► Câmera de estacionamento</li>\n",
       "<li class=\"txt-items\">► Controle de tração</li>\n",
       "<li class=\"txt-items\">► Sensor de estacionamento</li>\n",
       "<li class=\"txt-items\">...</li>\n",
       "</ul>\n",
       "<p class=\"txt-location\">Belo Horizonte - MG</p>\n",
       "</div>\n",
       "<div class=\"col-md-3 value-card\">\n",
       "<div class=\"value\">\n",
       "<p class=\"txt-value\">R$ 338.000</p>\n",
       "</div>\n",
       "</div>\n",
       "</div>"
      ]
     },
     "metadata": {},
     "execution_count": 82
    }
   ],
   "source": [
    "anuncio"
   ]
  },
  {
   "cell_type": "code",
   "execution_count": 83,
   "metadata": {},
   "outputs": [
    {
     "output_type": "execute_result",
     "data": {
      "text/plain": [
       "<div class=\"col-md-3 value-card\">\n",
       "<div class=\"value\">\n",
       "<p class=\"txt-value\">R$ 338.000</p>\n",
       "</div>\n",
       "</div>"
      ]
     },
     "metadata": {},
     "execution_count": 83
    }
   ],
   "source": [
    "anuncio.find('div', {'class': 'value-card'})"
   ]
  },
  {
   "cell_type": "code",
   "execution_count": 85,
   "metadata": {},
   "outputs": [
    {
     "output_type": "execute_result",
     "data": {
      "text/plain": [
       "'R$ 338.000'"
      ]
     },
     "metadata": {},
     "execution_count": 85
    }
   ],
   "source": [
    "anuncio.find('p', {'class': 'txt-value'}).getText()"
   ]
  },
  {
   "cell_type": "code",
   "execution_count": 86,
   "metadata": {},
   "outputs": [],
   "source": [
    "card['value'] = anuncio.find('p', {'class': 'txt-value'}).getText()"
   ]
  },
  {
   "cell_type": "code",
   "execution_count": 87,
   "metadata": {},
   "outputs": [
    {
     "output_type": "execute_result",
     "data": {
      "text/plain": [
       "{'value': 'R$ 338.000'}"
      ]
     },
     "metadata": {},
     "execution_count": 87
    }
   ],
   "source": [
    "card"
   ]
  },
  {
   "cell_type": "markdown",
   "metadata": {},
   "source": [
    "### <font color=red>Resumo"
   ]
  },
  {
   "cell_type": "code",
   "execution_count": 88,
   "metadata": {},
   "outputs": [],
   "source": [
    "# Valor\n",
    "card['value'] = anuncio.find('p', {'class': 'txt-value'}).getText()"
   ]
  },
  {
   "cell_type": "markdown",
   "metadata": {},
   "source": [
    "# 5.3. Obtendo as INFORMAÇÕES sobre o veículo anunciado"
   ]
  },
  {
   "cell_type": "code",
   "execution_count": 90,
   "metadata": {},
   "outputs": [
    {
     "output_type": "execute_result",
     "data": {
      "text/plain": [
       "[<p class=\"txt-name inline\">LAMBORGHINI AVENTADOR</p>,\n",
       " <p class=\"txt-category badge badge-secondary inline\">USADO</p>,\n",
       " <p class=\"txt-motor\">Motor 1.8 16v</p>,\n",
       " <p class=\"txt-description\">Ano 1993 - 55.286 km</p>,\n",
       " <p class=\"txt-location\">Belo Horizonte - MG</p>]"
      ]
     },
     "metadata": {},
     "execution_count": 90
    }
   ],
   "source": [
    "anuncio.find('div', {'class': 'body-card'}).findAll('p')"
   ]
  },
  {
   "cell_type": "code",
   "execution_count": 91,
   "metadata": {},
   "outputs": [],
   "source": [
    "infos = anuncio.find('div', {'class': 'body-card'}).findAll('p')"
   ]
  },
  {
   "cell_type": "code",
   "execution_count": 92,
   "metadata": {},
   "outputs": [
    {
     "output_type": "stream",
     "name": "stdout",
     "text": [
      "['txt-name', 'inline']  -  LAMBORGHINI AVENTADOR\n['txt-category', 'badge', 'badge-secondary', 'inline']  -  USADO\n['txt-motor']  -  Motor 1.8 16v\n['txt-description']  -  Ano 1993 - 55.286 km\n['txt-location']  -  Belo Horizonte - MG\n"
     ]
    }
   ],
   "source": [
    "for info in infos:\n",
    "    print(info.get('class'), ' - ', info.get_text())"
   ]
  },
  {
   "cell_type": "code",
   "execution_count": 93,
   "metadata": {},
   "outputs": [
    {
     "output_type": "stream",
     "name": "stdout",
     "text": [
      "['txt', 'name']  -  LAMBORGHINI AVENTADOR\n['txt', 'category']  -  USADO\n['txt', 'motor']  -  Motor 1.8 16v\n['txt', 'description']  -  Ano 1993 - 55.286 km\n['txt', 'location']  -  Belo Horizonte - MG\n"
     ]
    }
   ],
   "source": [
    "for info in infos:\n",
    "    print(info.get('class')[0].split('-'), ' - ', info.get_text())"
   ]
  },
  {
   "cell_type": "code",
   "execution_count": 94,
   "metadata": {},
   "outputs": [
    {
     "output_type": "stream",
     "name": "stdout",
     "text": [
      "name  -  LAMBORGHINI AVENTADOR\ncategory  -  USADO\nmotor  -  Motor 1.8 16v\ndescription  -  Ano 1993 - 55.286 km\nlocation  -  Belo Horizonte - MG\n"
     ]
    }
   ],
   "source": [
    "for info in infos:\n",
    "    print(info.get('class')[0].split('-')[-1], ' - ', info.get_text())"
   ]
  },
  {
   "cell_type": "code",
   "execution_count": 95,
   "metadata": {},
   "outputs": [],
   "source": [
    "for info in infos:\n",
    "    card[info.get('class')[0].split('-')[-1]] = info.get_text()"
   ]
  },
  {
   "cell_type": "code",
   "execution_count": 96,
   "metadata": {},
   "outputs": [
    {
     "output_type": "execute_result",
     "data": {
      "text/plain": [
       "{'value': 'R$ 338.000',\n",
       " 'name': 'LAMBORGHINI AVENTADOR',\n",
       " 'category': 'USADO',\n",
       " 'motor': 'Motor 1.8 16v',\n",
       " 'description': 'Ano 1993 - 55.286 km',\n",
       " 'location': 'Belo Horizonte - MG'}"
      ]
     },
     "metadata": {},
     "execution_count": 96
    }
   ],
   "source": [
    "card"
   ]
  },
  {
   "cell_type": "markdown",
   "metadata": {},
   "source": [
    "### <font color=red>Resumo"
   ]
  },
  {
   "cell_type": "code",
   "execution_count": 97,
   "metadata": {},
   "outputs": [],
   "source": [
    "# Informações\n",
    "infos = anuncio.find('div', {'class': 'body-card'}).findAll('p')\n",
    "for info in infos:\n",
    "    card[info.get('class')[0].split('-')[-1]] = info.get_text()"
   ]
  },
  {
   "cell_type": "markdown",
   "metadata": {},
   "source": [
    "# 5.4. Obtendo os ACESSÓRIOS do veículo anunciado"
   ]
  },
  {
   "cell_type": "code",
   "execution_count": 100,
   "metadata": {},
   "outputs": [
    {
     "output_type": "execute_result",
     "data": {
      "text/plain": [
       "[<li class=\"txt-items\">► 4 X 4</li>,\n",
       " <li class=\"txt-items\">► Câmera de estacionamento</li>,\n",
       " <li class=\"txt-items\">► Controle de tração</li>,\n",
       " <li class=\"txt-items\">► Sensor de estacionamento</li>,\n",
       " <li class=\"txt-items\">...</li>]"
      ]
     },
     "metadata": {},
     "execution_count": 100
    }
   ],
   "source": [
    "anuncio.find('div', {'class': 'body-card'}).ul.findAll('li')"
   ]
  },
  {
   "cell_type": "code",
   "execution_count": 101,
   "metadata": {},
   "outputs": [
    {
     "output_type": "execute_result",
     "data": {
      "text/plain": [
       "[<li class=\"txt-items\">► 4 X 4</li>,\n",
       " <li class=\"txt-items\">► Câmera de estacionamento</li>,\n",
       " <li class=\"txt-items\">► Controle de tração</li>,\n",
       " <li class=\"txt-items\">► Sensor de estacionamento</li>,\n",
       " <li class=\"txt-items\">...</li>]"
      ]
     },
     "metadata": {},
     "execution_count": 101
    }
   ],
   "source": [
    "items = anuncio.find('div', {'class': 'body-card'}).ul.findAll('li')\n",
    "items"
   ]
  },
  {
   "cell_type": "code",
   "execution_count": 102,
   "metadata": {},
   "outputs": [
    {
     "output_type": "execute_result",
     "data": {
      "text/plain": [
       "<li class=\"txt-items\">...</li>"
      ]
     },
     "metadata": {},
     "execution_count": 102
    }
   ],
   "source": [
    "items.pop()"
   ]
  },
  {
   "cell_type": "code",
   "execution_count": 103,
   "metadata": {},
   "outputs": [
    {
     "output_type": "execute_result",
     "data": {
      "text/plain": [
       "[<li class=\"txt-items\">► 4 X 4</li>,\n",
       " <li class=\"txt-items\">► Câmera de estacionamento</li>,\n",
       " <li class=\"txt-items\">► Controle de tração</li>,\n",
       " <li class=\"txt-items\">► Sensor de estacionamento</li>]"
      ]
     },
     "metadata": {},
     "execution_count": 103
    }
   ],
   "source": [
    "items"
   ]
  },
  {
   "cell_type": "code",
   "execution_count": 105,
   "metadata": {},
   "outputs": [
    {
     "output_type": "stream",
     "name": "stdout",
     "text": [
      "4 X 4\nCâmera de estacionamento\nControle de tração\nSensor de estacionamento\n"
     ]
    }
   ],
   "source": [
    "for item in items:\n",
    "    print(item.getText().replace('► ', ''))"
   ]
  },
  {
   "cell_type": "code",
   "execution_count": 106,
   "metadata": {},
   "outputs": [
    {
     "output_type": "execute_result",
     "data": {
      "text/plain": [
       "['4 X 4',\n",
       " 'Câmera de estacionamento',\n",
       " 'Controle de tração',\n",
       " 'Sensor de estacionamento']"
      ]
     },
     "metadata": {},
     "execution_count": 106
    }
   ],
   "source": [
    "acessorios = []\n",
    "for item in items:\n",
    "    acessorios.append(item.getText().replace('► ', ''))\n",
    "\n",
    "acessorios"
   ]
  },
  {
   "cell_type": "code",
   "execution_count": 107,
   "metadata": {},
   "outputs": [],
   "source": [
    "card['items'] = acessorios"
   ]
  },
  {
   "cell_type": "code",
   "execution_count": 108,
   "metadata": {},
   "outputs": [
    {
     "output_type": "execute_result",
     "data": {
      "text/plain": [
       "{'value': 'R$ 338.000',\n",
       " 'name': 'LAMBORGHINI AVENTADOR',\n",
       " 'category': 'USADO',\n",
       " 'motor': 'Motor 1.8 16v',\n",
       " 'description': 'Ano 1993 - 55.286 km',\n",
       " 'location': 'Belo Horizonte - MG',\n",
       " 'items': ['4 X 4',\n",
       "  'Câmera de estacionamento',\n",
       "  'Controle de tração',\n",
       "  'Sensor de estacionamento']}"
      ]
     },
     "metadata": {},
     "execution_count": 108
    }
   ],
   "source": [
    "card"
   ]
  },
  {
   "cell_type": "markdown",
   "metadata": {},
   "source": [
    "### <font color=red>Resumo"
   ]
  },
  {
   "cell_type": "code",
   "execution_count": 109,
   "metadata": {},
   "outputs": [],
   "source": [
    "# Acessórios\n",
    "items = anuncio.find('div', {'class': 'body-card'}).ul.findAll('li')\n",
    "items.pop()\n",
    "acessorios = []\n",
    "for item in items:\n",
    "    acessorios.append(item.getText().replace('► ', ''))\n",
    "card['items'] = acessorios"
   ]
  },
  {
   "cell_type": "markdown",
   "metadata": {},
   "source": [
    "# 5.5 Criando um DataFrame com os dados coletados do Alura Motors"
   ]
  },
  {
   "cell_type": "code",
   "execution_count": 110,
   "metadata": {},
   "outputs": [
    {
     "output_type": "execute_result",
     "data": {
      "text/plain": [
       "{'value': 'R$ 338.000',\n",
       " 'name': 'LAMBORGHINI AVENTADOR',\n",
       " 'category': 'USADO',\n",
       " 'motor': 'Motor 1.8 16v',\n",
       " 'description': 'Ano 1993 - 55.286 km',\n",
       " 'location': 'Belo Horizonte - MG',\n",
       " 'items': ['4 X 4',\n",
       "  'Câmera de estacionamento',\n",
       "  'Controle de tração',\n",
       "  'Sensor de estacionamento']}"
      ]
     },
     "metadata": {},
     "execution_count": 110
    }
   ],
   "source": [
    "card"
   ]
  },
  {
   "cell_type": "code",
   "execution_count": 111,
   "metadata": {},
   "outputs": [],
   "source": [
    "import pandas as pd"
   ]
  },
  {
   "cell_type": "code",
   "execution_count": 113,
   "metadata": {},
   "outputs": [],
   "source": [
    "dataset = pd.DataFrame(card)"
   ]
  },
  {
   "cell_type": "code",
   "execution_count": 114,
   "metadata": {},
   "outputs": [
    {
     "output_type": "execute_result",
     "data": {
      "text/plain": [
       "        value                   name category          motor  \\\n",
       "0  R$ 338.000  LAMBORGHINI AVENTADOR    USADO  Motor 1.8 16v   \n",
       "1  R$ 338.000  LAMBORGHINI AVENTADOR    USADO  Motor 1.8 16v   \n",
       "2  R$ 338.000  LAMBORGHINI AVENTADOR    USADO  Motor 1.8 16v   \n",
       "3  R$ 338.000  LAMBORGHINI AVENTADOR    USADO  Motor 1.8 16v   \n",
       "\n",
       "            description             location                     items  \n",
       "0  Ano 1993 - 55.286 km  Belo Horizonte - MG                     4 X 4  \n",
       "1  Ano 1993 - 55.286 km  Belo Horizonte - MG  Câmera de estacionamento  \n",
       "2  Ano 1993 - 55.286 km  Belo Horizonte - MG        Controle de tração  \n",
       "3  Ano 1993 - 55.286 km  Belo Horizonte - MG  Sensor de estacionamento  "
      ],
      "text/html": "<div>\n<style scoped>\n    .dataframe tbody tr th:only-of-type {\n        vertical-align: middle;\n    }\n\n    .dataframe tbody tr th {\n        vertical-align: top;\n    }\n\n    .dataframe thead th {\n        text-align: right;\n    }\n</style>\n<table border=\"1\" class=\"dataframe\">\n  <thead>\n    <tr style=\"text-align: right;\">\n      <th></th>\n      <th>value</th>\n      <th>name</th>\n      <th>category</th>\n      <th>motor</th>\n      <th>description</th>\n      <th>location</th>\n      <th>items</th>\n    </tr>\n  </thead>\n  <tbody>\n    <tr>\n      <th>0</th>\n      <td>R$ 338.000</td>\n      <td>LAMBORGHINI AVENTADOR</td>\n      <td>USADO</td>\n      <td>Motor 1.8 16v</td>\n      <td>Ano 1993 - 55.286 km</td>\n      <td>Belo Horizonte - MG</td>\n      <td>4 X 4</td>\n    </tr>\n    <tr>\n      <th>1</th>\n      <td>R$ 338.000</td>\n      <td>LAMBORGHINI AVENTADOR</td>\n      <td>USADO</td>\n      <td>Motor 1.8 16v</td>\n      <td>Ano 1993 - 55.286 km</td>\n      <td>Belo Horizonte - MG</td>\n      <td>Câmera de estacionamento</td>\n    </tr>\n    <tr>\n      <th>2</th>\n      <td>R$ 338.000</td>\n      <td>LAMBORGHINI AVENTADOR</td>\n      <td>USADO</td>\n      <td>Motor 1.8 16v</td>\n      <td>Ano 1993 - 55.286 km</td>\n      <td>Belo Horizonte - MG</td>\n      <td>Controle de tração</td>\n    </tr>\n    <tr>\n      <th>3</th>\n      <td>R$ 338.000</td>\n      <td>LAMBORGHINI AVENTADOR</td>\n      <td>USADO</td>\n      <td>Motor 1.8 16v</td>\n      <td>Ano 1993 - 55.286 km</td>\n      <td>Belo Horizonte - MG</td>\n      <td>Sensor de estacionamento</td>\n    </tr>\n  </tbody>\n</table>\n</div>"
     },
     "metadata": {},
     "execution_count": 114
    }
   ],
   "source": [
    "dataset"
   ]
  },
  {
   "cell_type": "code",
   "execution_count": 115,
   "metadata": {},
   "outputs": [
    {
     "output_type": "execute_result",
     "data": {
      "text/plain": [
       "                                                             0\n",
       "value                                               R$ 338.000\n",
       "name                                     LAMBORGHINI AVENTADOR\n",
       "category                                                 USADO\n",
       "motor                                            Motor 1.8 16v\n",
       "description                               Ano 1993 - 55.286 km\n",
       "location                                   Belo Horizonte - MG\n",
       "items        [4 X 4, Câmera de estacionamento, Controle de ..."
      ],
      "text/html": "<div>\n<style scoped>\n    .dataframe tbody tr th:only-of-type {\n        vertical-align: middle;\n    }\n\n    .dataframe tbody tr th {\n        vertical-align: top;\n    }\n\n    .dataframe thead th {\n        text-align: right;\n    }\n</style>\n<table border=\"1\" class=\"dataframe\">\n  <thead>\n    <tr style=\"text-align: right;\">\n      <th></th>\n      <th>0</th>\n    </tr>\n  </thead>\n  <tbody>\n    <tr>\n      <th>value</th>\n      <td>R$ 338.000</td>\n    </tr>\n    <tr>\n      <th>name</th>\n      <td>LAMBORGHINI AVENTADOR</td>\n    </tr>\n    <tr>\n      <th>category</th>\n      <td>USADO</td>\n    </tr>\n    <tr>\n      <th>motor</th>\n      <td>Motor 1.8 16v</td>\n    </tr>\n    <tr>\n      <th>description</th>\n      <td>Ano 1993 - 55.286 km</td>\n    </tr>\n    <tr>\n      <th>location</th>\n      <td>Belo Horizonte - MG</td>\n    </tr>\n    <tr>\n      <th>items</th>\n      <td>[4 X 4, Câmera de estacionamento, Controle de ...</td>\n    </tr>\n  </tbody>\n</table>\n</div>"
     },
     "metadata": {},
     "execution_count": 115
    }
   ],
   "source": [
    "dataset = pd.DataFrame.from_dict(card, orient = 'index')\n",
    "dataset"
   ]
  },
  {
   "cell_type": "code",
   "execution_count": 116,
   "metadata": {},
   "outputs": [
    {
     "output_type": "execute_result",
     "data": {
      "text/plain": [
       "        value                   name category          motor  \\\n",
       "0  R$ 338.000  LAMBORGHINI AVENTADOR    USADO  Motor 1.8 16v   \n",
       "\n",
       "            description             location  \\\n",
       "0  Ano 1993 - 55.286 km  Belo Horizonte - MG   \n",
       "\n",
       "                                               items  \n",
       "0  [4 X 4, Câmera de estacionamento, Controle de ...  "
      ],
      "text/html": "<div>\n<style scoped>\n    .dataframe tbody tr th:only-of-type {\n        vertical-align: middle;\n    }\n\n    .dataframe tbody tr th {\n        vertical-align: top;\n    }\n\n    .dataframe thead th {\n        text-align: right;\n    }\n</style>\n<table border=\"1\" class=\"dataframe\">\n  <thead>\n    <tr style=\"text-align: right;\">\n      <th></th>\n      <th>value</th>\n      <th>name</th>\n      <th>category</th>\n      <th>motor</th>\n      <th>description</th>\n      <th>location</th>\n      <th>items</th>\n    </tr>\n  </thead>\n  <tbody>\n    <tr>\n      <th>0</th>\n      <td>R$ 338.000</td>\n      <td>LAMBORGHINI AVENTADOR</td>\n      <td>USADO</td>\n      <td>Motor 1.8 16v</td>\n      <td>Ano 1993 - 55.286 km</td>\n      <td>Belo Horizonte - MG</td>\n      <td>[4 X 4, Câmera de estacionamento, Controle de ...</td>\n    </tr>\n  </tbody>\n</table>\n</div>"
     },
     "metadata": {},
     "execution_count": 116
    }
   ],
   "source": [
    "dataset = pd.DataFrame.from_dict(card, orient = 'index').T\n",
    "dataset"
   ]
  },
  {
   "cell_type": "code",
   "execution_count": 117,
   "metadata": {},
   "outputs": [],
   "source": [
    "dataset.to_csv('./output/data/dataset.csv', sep=';', index=False, encoding='utf-8-sig')"
   ]
  },
  {
   "cell_type": "markdown",
   "metadata": {},
   "source": [
    "# 5.6. Obtendo a FOTO do anúncio"
   ]
  },
  {
   "cell_type": "code",
   "execution_count": 118,
   "metadata": {},
   "outputs": [
    {
     "output_type": "execute_result",
     "data": {
      "text/plain": [
       "<img alt=\"Foto\" height=\"155\" src=\"https://caelum-online-public.s3.amazonaws.com/1381-scraping/01/img-cars/lamborghini-aventador/lamborghini-aventador-2932196__340.jpg\" width=\"220\"/>"
      ]
     },
     "metadata": {},
     "execution_count": 118
    }
   ],
   "source": [
    "image = anuncio.find('div', {'class': 'image-card'}).img\n",
    "image"
   ]
  },
  {
   "cell_type": "code",
   "execution_count": 119,
   "metadata": {},
   "outputs": [
    {
     "output_type": "execute_result",
     "data": {
      "text/plain": [
       "'https://caelum-online-public.s3.amazonaws.com/1381-scraping/01/img-cars/lamborghini-aventador/lamborghini-aventador-2932196__340.jpg'"
      ]
     },
     "metadata": {},
     "execution_count": 119
    }
   ],
   "source": [
    "image.get('src')"
   ]
  },
  {
   "cell_type": "code",
   "execution_count": 120,
   "metadata": {},
   "outputs": [
    {
     "output_type": "stream",
     "name": "stdout",
     "text": [
      "https://caelum-online-public.s3.amazonaws.com/1381-scraping/01/img-cars/lamborghini-aventador/lamborghini-aventador-2932196__340.jpg\n"
     ]
    }
   ],
   "source": [
    "print(image.get('src'))"
   ]
  },
  {
   "cell_type": "markdown",
   "metadata": {},
   "source": [
    "### Visualizando a FOTO no notebook (extra)"
   ]
  },
  {
   "cell_type": "code",
   "execution_count": 121,
   "metadata": {},
   "outputs": [
    {
     "output_type": "display_data",
     "data": {
      "text/plain": "<IPython.core.display.HTML object>",
      "text/html": "<img alt=\"Foto\" height=\"155\" src=\"https://caelum-online-public.s3.amazonaws.com/1381-scraping/01/img-cars/lamborghini-aventador/lamborghini-aventador-2932196__340.jpg\" width=\"220\"/>"
     },
     "metadata": {}
    }
   ],
   "source": [
    "from IPython.core.display import display, HTML\n",
    "\n",
    "display(HTML(str(image)))"
   ]
  },
  {
   "cell_type": "code",
   "execution_count": 122,
   "metadata": {},
   "outputs": [
    {
     "output_type": "display_data",
     "data": {
      "text/plain": "<IPython.core.display.HTML object>",
      "text/html": "<img src=https://caelum-online-public.s3.amazonaws.com/1381-scraping/01/img-cars/lamborghini-aventador/lamborghini-aventador-2932196__340.jpg>"
     },
     "metadata": {}
    }
   ],
   "source": [
    "display(HTML('<img src=' + image.get('src') + '>'))"
   ]
  },
  {
   "cell_type": "markdown",
   "metadata": {},
   "source": [
    "### Rotina para acessar e salvar a FOTO do anúncio"
   ]
  },
  {
   "cell_type": "markdown",
   "metadata": {},
   "source": [
    "## https://docs.python.org/3/library/urllib.request.html#urllib.request.urlretrieve"
   ]
  },
  {
   "cell_type": "code",
   "execution_count": 123,
   "metadata": {},
   "outputs": [
    {
     "output_type": "execute_result",
     "data": {
      "text/plain": [
       "'lamborghini-aventador-2932196__340.jpg'"
      ]
     },
     "metadata": {},
     "execution_count": 123
    }
   ],
   "source": [
    "image.get('src').split('/')[-1]"
   ]
  },
  {
   "cell_type": "code",
   "execution_count": 124,
   "metadata": {},
   "outputs": [
    {
     "output_type": "execute_result",
     "data": {
      "text/plain": [
       "('./output/img/lamborghini-aventador-2932196__340.jpg',\n",
       " <http.client.HTTPMessage at 0x1660d91ce50>)"
      ]
     },
     "metadata": {},
     "execution_count": 124
    }
   ],
   "source": [
    "from urllib.request import urlretrieve\n",
    "\n",
    "urlretrieve(image.get('src'), './output/img/' + image.get('src').split('/')[-1])"
   ]
  },
  {
   "cell_type": "markdown",
   "metadata": {},
   "source": [
    "### <font color=red>Resumo"
   ]
  },
  {
   "cell_type": "code",
   "execution_count": 125,
   "metadata": {},
   "outputs": [
    {
     "output_type": "execute_result",
     "data": {
      "text/plain": [
       "('./output/img/lamborghini-aventador-2932196__340.jpg',\n",
       " <http.client.HTTPMessage at 0x1660d91c040>)"
      ]
     },
     "metadata": {},
     "execution_count": 125
    }
   ],
   "source": [
    "image = anuncio.find('div', {'class': 'image-card'}).img\n",
    "urlretrieve(image.get('src'), './output/img/' + image.get('src').split('/')[-1])"
   ]
  },
  {
   "cell_type": "markdown",
   "metadata": {},
   "source": [
    "# <font color=green>6. WEB SCRAPING DO SITE ALURA MOTORS - OBTENDO OS DADOS DE TODOS OS ANÚNCIOS DE UMA PÁGINA"
   ]
  },
  {
   "cell_type": "markdown",
   "metadata": {},
   "source": [
    "# 6.1. Identificando as informações no HTML"
   ]
  },
  {
   "cell_type": "code",
   "execution_count": null,
   "metadata": {
    "scrolled": true
   },
   "outputs": [],
   "source": []
  },
  {
   "cell_type": "code",
   "execution_count": null,
   "metadata": {
    "scrolled": true
   },
   "outputs": [],
   "source": []
  },
  {
   "cell_type": "code",
   "execution_count": null,
   "metadata": {
    "scrolled": true
   },
   "outputs": [],
   "source": []
  },
  {
   "cell_type": "markdown",
   "metadata": {},
   "source": [
    "# 6.2. Criando uma rotina de scraping"
   ]
  },
  {
   "cell_type": "code",
   "execution_count": null,
   "metadata": {},
   "outputs": [],
   "source": []
  },
  {
   "cell_type": "code",
   "execution_count": null,
   "metadata": {},
   "outputs": [],
   "source": []
  },
  {
   "cell_type": "markdown",
   "metadata": {},
   "source": [
    "# <font color=green>7. WEB SCRAPING DO SITE ALURA MOTORS - OBTENDO OS DADOS DE TODOS OS ANÚNCIOS DO SITE"
   ]
  },
  {
   "cell_type": "markdown",
   "metadata": {},
   "source": [
    "# 7.1. Identificando as informações no HTML"
   ]
  },
  {
   "cell_type": "code",
   "execution_count": null,
   "metadata": {},
   "outputs": [],
   "source": []
  },
  {
   "cell_type": "code",
   "execution_count": null,
   "metadata": {
    "scrolled": true
   },
   "outputs": [],
   "source": []
  },
  {
   "cell_type": "code",
   "execution_count": null,
   "metadata": {},
   "outputs": [],
   "source": []
  },
  {
   "cell_type": "code",
   "execution_count": null,
   "metadata": {},
   "outputs": [],
   "source": []
  },
  {
   "cell_type": "code",
   "execution_count": null,
   "metadata": {},
   "outputs": [],
   "source": []
  },
  {
   "cell_type": "markdown",
   "metadata": {},
   "source": [
    "# 7.2. Criando uma rotina de scraping"
   ]
  },
  {
   "cell_type": "code",
   "execution_count": null,
   "metadata": {
    "scrolled": true
   },
   "outputs": [],
   "source": []
  },
  {
   "cell_type": "code",
   "execution_count": null,
   "metadata": {},
   "outputs": [],
   "source": []
  },
  {
   "cell_type": "code",
   "execution_count": null,
   "metadata": {},
   "outputs": [],
   "source": []
  },
  {
   "cell_type": "code",
   "execution_count": null,
   "metadata": {},
   "outputs": [],
   "source": []
  }
 ],
 "metadata": {
  "colab": {
   "name": "Untitled12.ipynb",
   "provenance": [],
   "version": "0.3.2"
  },
  "kernelspec": {
   "name": "python3",
   "display_name": "Python 3.8.6 64-bit",
   "metadata": {
    "interpreter": {
     "hash": "e1d508e48e31af759b57436b38919e33190b73d389dc6af8edca6da70d9423aa"
    }
   }
  },
  "language_info": {
   "codemirror_mode": {
    "name": "ipython",
    "version": 3
   },
   "file_extension": ".py",
   "mimetype": "text/x-python",
   "name": "python",
   "nbconvert_exporter": "python",
   "pygments_lexer": "ipython3",
   "version": "3.8.6"
  }
 },
 "nbformat": 4,
 "nbformat_minor": 1
}